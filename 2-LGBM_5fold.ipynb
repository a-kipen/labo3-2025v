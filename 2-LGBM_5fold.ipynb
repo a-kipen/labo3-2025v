{
 "cells": [
  {
   "cell_type": "code",
   "execution_count": 1,
   "metadata": {},
   "outputs": [
    {
     "name": "stderr",
     "output_type": "stream",
     "text": [
      "c:\\Users\\agust\\anaconda3\\envs\\FAA\\Lib\\site-packages\\tqdm\\auto.py:21: TqdmWarning: IProgress not found. Please update jupyter and ipywidgets. See https://ipywidgets.readthedocs.io/en/stable/user_install.html\n",
      "  from .autonotebook import tqdm as notebook_tqdm\n"
     ]
    }
   ],
   "source": [
    "import numpy as np \n",
    "import pandas as pd \n",
    "import lightgbm as lgb\n",
    "\n",
    "from sklearn.model_selection import train_test_split, StratifiedKFold\n",
    "#from sklearn.metrics import cohen_kappa_score, accuracy_score,balanced_accuracy_score\n",
    "from sklearn.utils import shuffle\n",
    "from sklearn.model_selection import KFold # Use KFold for regression\n",
    "from sklearn.metrics import mean_squared_error\n",
    "\n",
    "\n",
    "#from plotly import express as px\n",
    "\n",
    "#from utils import plot_confusion_matrix\n",
    "\n",
    "import os\n",
    "\n",
    "import optuna\n",
    "from optuna.artifacts import FileSystemArtifactStore, upload_artifact\n",
    "\n",
    "from joblib import load, dump\n",
    "import pyarrow.parquet as pq\n",
    "\n",
    "\n",
    "import gc\n"
   ]
  },
  {
   "cell_type": "markdown",
   "metadata": {},
   "source": [
    "## Armado Dataset"
   ]
  },
  {
   "cell_type": "code",
   "execution_count": 2,
   "metadata": {},
   "outputs": [
    {
     "data": {
      "text/plain": [
       "'C:/Users/agust/Documents/MaestriaCD/LAB3/final/train_producto.parquet'"
      ]
     },
     "execution_count": 2,
     "metadata": {},
     "output_type": "execute_result"
    }
   ],
   "source": [
    "# Paths\n",
    "BASE_DIR = 'C:/Users/agust/Documents/MaestriaCD/LAB3/final/'\n",
    "\n",
    "#PATH_TO_TRAIN = os.path.join(BASE_DIR, \"Dataset/train.parquet\")\n",
    "PATH_TO_TRAIN = os.path.join(BASE_DIR, \"train_producto.parquet\")\n",
    "PATH_TO_MODELS = os.path.join(BASE_DIR, \"LGBM2/models\")\n",
    "PATH_TO_TEMP_FILES = os.path.join(BASE_DIR, \"LGBM2/optuna_/optuna_temp_artifacts\")\n",
    "PATH_TO_OPTUNA_ARTIFACTS = os.path.join(BASE_DIR, \"LGBM2/optuna_/optuna_artifacts\")\n",
    "PATH_TO_MODELS_OLD=PATH_TO_MODELS_OLD = os.path.join(BASE_DIR, \"LGBM2/models/old\")\n",
    "\n",
    "SEED = 42\n",
    "BATCH_SIZE = 50\n",
    "TEST_SIZE = 0.2\n",
    "PATH_TO_TRAIN"
   ]
  },
  {
   "cell_type": "code",
   "execution_count": 3,
   "metadata": {},
   "outputs": [],
   "source": [
    "dataset = pd.read_parquet(PATH_TO_TRAIN)"
   ]
  },
  {
   "cell_type": "code",
   "execution_count": 4,
   "metadata": {},
   "outputs": [
    {
     "data": {
      "text/plain": [
       "(29652, 280)"
      ]
     },
     "execution_count": 4,
     "metadata": {},
     "output_type": "execute_result"
    }
   ],
   "source": [
    "dataset.shape"
   ]
  },
  {
   "cell_type": "code",
   "execution_count": 5,
   "metadata": {},
   "outputs": [
    {
     "name": "stdout",
     "output_type": "stream",
     "text": [
      "['cat1', 'cat2', 'cat3', 'brand', 'estado_producto']\n"
     ]
    }
   ],
   "source": [
    "char_feats = dataset.select_dtypes(include=['object', 'category']).columns.tolist()\n",
    "print(char_feats)\n",
    "#numeric_feats = [f for f in dataset.columns if dataset[f].dtype!='O']"
   ]
  },
  {
   "cell_type": "code",
   "execution_count": 6,
   "metadata": {},
   "outputs": [
    {
     "name": "stdout",
     "output_type": "stream",
     "text": [
      "['periodo', 'product_id', 'tn', 'avg_tn', 'std_tn', 'clientes_distintos', 'plan_precios_cuidados', 'cust_request_qty', 'cust_request_tn', 'inicio_vida_p', 'fin_vida_p', 'sku_size', 'stock_final', 'dias_mes_4', 'anio', 'mes', 'trimestre', 'outlier', 'outlier-2', 'tn_lag_1', 'tn_lag_2', 'tn_lag_3', 'tn_lag_4', 'tn_lag_5', 'tn_lag_6', 'tn_lag_7', 'tn_lag_8', 'tn_lag_9', 'tn_lag_10', 'tn_lag_11', 'tn_lag_12', 'tn_lag_13', 'tn_lag_14', 'tn_lag_15', 'tn_lag_16', 'tn_lag_17', 'tn_lag_18', 'tn_lag_19', 'tn_lag_20', 'tn_lag_21', 'tn_lag_22', 'tn_lag_23', 'tn_lag_24', 'tn_lag_25', 'tn_lag_26', 'tn_lag_27', 'tn_lag_28', 'tn_lag_29', 'tn_lag_30', 'tn_lag_31', 'tn_lag_32', 'tn_lag_33', 'tn_lag_34', 'tn_lag_35', 'tn_lag_36', 'tn_media_movil_3', 'tn_media_movil_6', 'tn_media_movil_12', 'tn_std_movil_3', 'tn_std_movil_6', 'tn_std_movil_12', 'tn_min_movil_3', 'tn_min_movil_6', 'tn_min_movil_12', 'delta1_media_movil_12', 'delta1_media_movil_3', 'delta1_media_movil_6', 'delta_tn_1', 'delta_tn_2', 'delta_tn_3', 'delta_tn_4', 'delta_tn_5', 'delta_tn_6', 'delta_tn_7', 'delta_tn_8', 'delta_tn_9', 'delta_tn_10', 'delta_tn_11', 'delta_tn_12', 'delta_tn_13', 'delta_tn_14', 'delta_tn_15', 'delta_tn_16', 'delta_tn_17', 'delta_tn_18', 'delta_tn_19', 'delta_tn_20', 'delta_tn_21', 'delta_tn_22', 'delta_tn_23', 'delta_tn_24', 'delta_tn_25', 'delta_tn_26', 'delta_tn_27', 'delta_tn_28', 'delta_tn_29', 'delta_tn_30', 'delta_tn_31', 'delta_tn_32', 'delta_tn_33', 'delta_tn_34', 'delta_tn_35', 'delta_tn_36', 'total_total_tn', 'total_avg_tn', 'total_std_tn', 'total_min_tn', 'total_max_tn', 'total_productos_distintos', 'total_clientes_distintos', 'total_total_tn_lag_1', 'total_total_tn_diff_1', 'total_total_tn_lag_2', 'total_total_tn_diff_2', 'total_total_tn_lag_3', 'total_total_tn_diff_3', 'total_total_tn_lag_4', 'total_total_tn_diff_4', 'total_total_tn_lag_5', 'total_total_tn_diff_5', 'total_total_tn_lag_6', 'total_total_tn_diff_6', 'total_total_tn_lag_7', 'total_total_tn_diff_7', 'total_total_tn_lag_8', 'total_total_tn_diff_8', 'total_total_tn_lag_9', 'total_total_tn_diff_9', 'total_total_tn_lag_10', 'total_total_tn_diff_10', 'total_total_tn_lag_11', 'total_total_tn_diff_11', 'total_total_tn_lag_12', 'total_total_tn_diff_12', 'total_total_tn_lag_13', 'total_total_tn_diff_13', 'total_total_tn_ma_3', 'total_total_tn_ma_6', 'total_total_tn_ma_12', 'total_total_tn_min_3', 'total_total_tn_min_6', 'total_total_tn_min_12', 'total_total_tn_std_3', 'total_total_tn_std_6', 'total_total_tn_std_12', 'total_total_tn_mean_movil_3', 'total_total_tn_mean_movil_6', 'total_total_tn_mean_movil_12', 'total_total_tn_min_movil_3', 'total_total_tn_min_movil_6', 'total_total_tn_min_movil_12', 'total_total_tn_std_movil_3', 'total_total_tn_std_movil_6', 'total_total_tn_std_movil_12', 'clase', 'producto_avg_tn', 'producto_std_tn', 'producto_min_tn', 'producto_max_tn', 'producto_clientes_distintos', 'producto_tn_media_movil_3(con_mes_en_curso)', 'producto_tn_media_movil_3anteriores', 'producto_crecimiento_ventas_suavizado', 'producto_clientes_distintos_lag_1', 'producto_clientes_distintos_growth_1', 'cat_total_tn', 'cat_avg_tn', 'cat_std_tn', 'cat_min_tn', 'cat_max_tn', 'cat_productos_distintos', 'cat_total_tn_lag_1', 'cat_delta_tn_lag_1', 'cat_total_tn_lag_2', 'cat_delta_tn_lag_2', 'cat_total_tn_lag_3', 'cat_delta_tn_lag_3', 'cat_total_tn_lag_4', 'cat_delta_tn_lag_4', 'cat_total_tn_lag_5', 'cat_delta_tn_lag_5', 'cat_total_tn_lag_6', 'cat_delta_tn_lag_6', 'cat_total_tn_lag_7', 'cat_delta_tn_lag_7', 'cat_total_tn_lag_8', 'cat_delta_tn_lag_8', 'cat_total_tn_lag_9', 'cat_delta_tn_lag_9', 'cat_total_tn_lag_10', 'cat_delta_tn_lag_10', 'cat_total_tn_lag_11', 'cat_delta_tn_lag_11', 'cat_total_tn_lag_12', 'cat_delta_tn_lag_12', 'cat_total_tn_lag_13', 'cat_delta_tn_lag_13', 'cat_total_tn_ma_3', 'cat_total_tn_ma_6', 'cat_total_tn_ma_12', 'cat_total_tn_min_3', 'cat_total_tn_min_6', 'cat_total_tn_min_12', 'cat_total_tn_std_3', 'cat_total_tn_std_6', 'cat_total_tn_std_12', 'cat_total_tn_mean_movil_3', 'cat_total_tn_mean_movil_6', 'cat_total_tn_mean_movil_12', 'cat_total_tn_min_movil_3', 'cat_total_tn_min_movil_6', 'cat_total_tn_min_movil_12', 'cat_total_tn_std_movil_3', 'cat_total_tn_std_movil_6', 'cat_total_tn_std_movil_12', 'share_producto_en_categoria', 'share_producto_en_categoria_lag_1', 'share_producto_en_categoria_lag_2', 'share_producto_en_categoria_lag_3', 'share_producto_en_categoria_lag_4', 'share_producto_en_categoria_lag_5', 'share_producto_en_categoria_lag_6', 'share_producto_en_categoria_lag_7', 'share_producto_en_categoria_lag_8', 'share_producto_en_categoria_lag_9', 'share_producto_en_categoria_lag_10', 'share_producto_en_categoria_lag_11', 'share_producto_en_categoria_lag_12', 'share_producto_en_categoria_lag_13', 'tasa_crecimiento_share_producto_en_categoria', 'tasa_crecimiento_share_producto_en_categoria_lag_1', 'tasa_crecimiento_share_producto_en_categoria_lag_2', 'tasa_crecimiento_share_producto_en_categoria_lag_3', 'tasa_crecimiento_share_producto_en_categoria_lag_4', 'tasa_crecimiento_share_producto_en_categoria_lag_5', 'tasa_crecimiento_share_producto_en_categoria_lag_6', 'tasa_crecimiento_share_producto_en_categoria_lag_7', 'tasa_crecimiento_share_producto_en_categoria_lag_8', 'tasa_crecimiento_share_producto_en_categoria_lag_9', 'tasa_crecimiento_share_producto_en_categoria_lag_10', 'tasa_crecimiento_share_producto_en_categoria_lag_11', 'tasa_crecimiento_share_producto_en_categoria_lag_12', 'tasa_crecimiento_share_producto_en_categoria_lag_13', 'share_producto_en_categoria_movil_3(con_mes_en_curso)', 'share_producto_en_categoria_3anteriores', 'share_producto_en_categoria_suavizado', 'meses_vida_producto', 'otros_total_tn_', 'otros_total_tn_lag1', 'otros_total_tn_lag2', 'otros_total_tn_lag3', 'otros_total_tn_lag4', 'otros_total_tn_lag5', 'otros_total_tn_lag6', 'otros_total_tn_lag7', 'otros_total_tn_lag8', 'otros_total_tn_lag9', 'otros_total_tn_lag10', 'otros_total_tn_lag11', 'otros_total_tn_lag12', 'otros_total_tn_lag13', 'otros_avg', 'otros_avg_lag1', 'otros_avg_lag2', 'otros_avg_lag3', 'otros_avg_lag4', 'otros_avg_lag5', 'otros_avg_lag6', 'otros_avg_lag7', 'otros_avg_lag8', 'otros_avg_lag9', 'otros_avg_lag10', 'otros_avg_lag11', 'otros_avg_lag12', 'otros_avg_lag13']\n"
     ]
    }
   ],
   "source": [
    "numeric_feats = dataset.select_dtypes(include=['number']).columns.tolist()\n",
    "print(numeric_feats)"
   ]
  },
  {
   "cell_type": "code",
   "execution_count": 7,
   "metadata": {},
   "outputs": [
    {
     "data": {
      "text/plain": [
       "(29652, 280)"
      ]
     },
     "execution_count": 7,
     "metadata": {},
     "output_type": "execute_result"
    }
   ],
   "source": [
    "dataset.shape"
   ]
  },
  {
   "cell_type": "code",
   "execution_count": 8,
   "metadata": {},
   "outputs": [
    {
     "data": {
      "text/plain": [
       "20"
      ]
     },
     "execution_count": 8,
     "metadata": {},
     "output_type": "execute_result"
    }
   ],
   "source": [
    "gc.collect()"
   ]
  },
  {
   "cell_type": "code",
   "execution_count": 9,
   "metadata": {},
   "outputs": [],
   "source": [
    "def reduce_mem_usage(df, verbose=True):\n",
    "    start_mem = df.memory_usage(deep=True).sum() / 1024**2\n",
    "\n",
    "    for col in df.columns:\n",
    "        col_type = df[col].dtype\n",
    "\n",
    "        # Solo nos ocupamos de numéricos\n",
    "        if not pd.api.types.is_numeric_dtype(col_type):\n",
    "            if not pd.api.types.is_categorical_dtype(col_type):\n",
    "                df[col] = df[col].astype('category')\n",
    "            continue\n",
    "\n",
    "        c_min, c_max = df[col].min(), df[col].max()\n",
    "        has_na = df[col].isnull().any()\n",
    "\n",
    "        # --- ENTEROS ---\n",
    "        if pd.api.types.is_integer_dtype(col_type):\n",
    "            # 1) Sin nulos → numpy ints\n",
    "            if not has_na:\n",
    "                if c_min >= np.iinfo(np.int8).min  and c_max <= np.iinfo(np.int8).max:\n",
    "                    df[col] = df[col].astype(np.int8)\n",
    "                elif c_min >= np.iinfo(np.int16).min and c_max <= np.iinfo(np.int16).max:\n",
    "                    df[col] = df[col].astype(np.int16)\n",
    "                elif c_min >= np.iinfo(np.int32).min and c_max <= np.iinfo(np.int32).max:\n",
    "                    df[col] = df[col].astype(np.int32)\n",
    "                else:\n",
    "                    df[col] = df[col].astype(np.int64)\n",
    "\n",
    "\n",
    "        # --- FLOTANTES ---\n",
    "        else:\n",
    "            df[col] = df[col].astype(np.float32)\n",
    "\n",
    "    end_mem = df.memory_usage(deep=True).sum() / 1024**2\n",
    "    if verbose:\n",
    "        print(f'Uso de memoria inicial del DataFrame: {start_mem:.2f} MB')\n",
    "        print(f'Uso de memoria final del DataFrame:   {end_mem:.2f} MB')\n",
    "        print(f'Memoria reducida en un {(100*(start_mem-end_mem)/start_mem):.2f}%')\n",
    "    return df"
   ]
  },
  {
   "cell_type": "code",
   "execution_count": 10,
   "metadata": {},
   "outputs": [
    {
     "name": "stderr",
     "output_type": "stream",
     "text": [
      "C:\\Users\\agust\\AppData\\Local\\Temp\\ipykernel_11468\\290016523.py:9: DeprecationWarning: is_categorical_dtype is deprecated and will be removed in a future version. Use isinstance(dtype, pd.CategoricalDtype) instead\n",
      "  if not pd.api.types.is_categorical_dtype(col_type):\n"
     ]
    },
    {
     "name": "stdout",
     "output_type": "stream",
     "text": [
      "Uso de memoria inicial del DataFrame: 17.24 MB\n",
      "Uso de memoria final del DataFrame:   30.27 MB\n",
      "Memoria reducida en un -75.64%\n"
     ]
    },
    {
     "name": "stderr",
     "output_type": "stream",
     "text": [
      "C:\\Users\\agust\\AppData\\Local\\Temp\\ipykernel_11468\\290016523.py:9: DeprecationWarning: is_categorical_dtype is deprecated and will be removed in a future version. Use isinstance(dtype, pd.CategoricalDtype) instead\n",
      "  if not pd.api.types.is_categorical_dtype(col_type):\n"
     ]
    }
   ],
   "source": [
    "dataset = reduce_mem_usage(dataset)"
   ]
  },
  {
   "cell_type": "code",
   "execution_count": 11,
   "metadata": {},
   "outputs": [
    {
     "data": {
      "text/plain": [
       "0"
      ]
     },
     "execution_count": 11,
     "metadata": {},
     "output_type": "execute_result"
    }
   ],
   "source": [
    "gc.collect()"
   ]
  },
  {
   "cell_type": "code",
   "execution_count": 12,
   "metadata": {},
   "outputs": [
    {
     "data": {
      "text/plain": [
       "(29652, 280)"
      ]
     },
     "execution_count": 12,
     "metadata": {},
     "output_type": "execute_result"
    }
   ],
   "source": [
    "dataset.shape"
   ]
  },
  {
   "cell_type": "code",
   "execution_count": 13,
   "metadata": {},
   "outputs": [],
   "source": [
    "train, test = train_test_split(dataset,\n",
    "                               test_size = TEST_SIZE,\n",
    "                               random_state = SEED,\n",
    "                               ) #stratify = dataset.clase saco esto porque no es un problema de clasificacion"
   ]
  },
  {
   "cell_type": "code",
   "execution_count": 14,
   "metadata": {},
   "outputs": [
    {
     "data": {
      "text/plain": [
       "(23721, 280)"
      ]
     },
     "execution_count": 14,
     "metadata": {},
     "output_type": "execute_result"
    }
   ],
   "source": [
    "train.shape"
   ]
  },
  {
   "cell_type": "code",
   "execution_count": 15,
   "metadata": {},
   "outputs": [
    {
     "data": {
      "text/plain": [
       "0"
      ]
     },
     "execution_count": 15,
     "metadata": {},
     "output_type": "execute_result"
    }
   ],
   "source": [
    "# Eliminar el DataFrame\n",
    "del dataset\n",
    "\n",
    "gc.collect()"
   ]
  },
  {
   "cell_type": "code",
   "execution_count": 16,
   "metadata": {},
   "outputs": [],
   "source": [
    "#train = reduce_mem_usage(train)\n",
    "#gc.collect()"
   ]
  },
  {
   "cell_type": "code",
   "execution_count": 17,
   "metadata": {},
   "outputs": [],
   "source": [
    "#test = reduce_mem_usage(test)\n",
    "#gc.collect()"
   ]
  },
  {
   "cell_type": "code",
   "execution_count": 18,
   "metadata": {},
   "outputs": [],
   "source": [
    "label = 'clase'\n",
    "features = [col for col in train.columns if col != label]"
   ]
  },
  {
   "cell_type": "code",
   "execution_count": 19,
   "metadata": {},
   "outputs": [],
   "source": [
    "train.to_parquet(\"train_tmp.parquet\", index=False)\n",
    "del train\n",
    "gc.collect()\n",
    "\n",
    "train = pd.read_parquet(\"train_tmp.parquet\")\n"
   ]
  },
  {
   "cell_type": "code",
   "execution_count": 20,
   "metadata": {},
   "outputs": [],
   "source": [
    "test.to_parquet(\"test_tmp.parquet\", index=False)\n",
    "del test\n",
    "gc.collect()\n",
    "\n",
    "test = pd.read_parquet(\"test_tmp.parquet\")"
   ]
  },
  {
   "cell_type": "code",
   "execution_count": 21,
   "metadata": {},
   "outputs": [
    {
     "data": {
      "text/plain": [
       "(23721, 280)"
      ]
     },
     "execution_count": 21,
     "metadata": {},
     "output_type": "execute_result"
    }
   ],
   "source": [
    "train.shape"
   ]
  },
  {
   "cell_type": "code",
   "execution_count": 22,
   "metadata": {},
   "outputs": [
    {
     "data": {
      "text/plain": [
       "(5931, 280)"
      ]
     },
     "execution_count": 22,
     "metadata": {},
     "output_type": "execute_result"
    }
   ],
   "source": [
    "test.shape"
   ]
  },
  {
   "cell_type": "code",
   "execution_count": 23,
   "metadata": {},
   "outputs": [],
   "source": [
    "X_train = train[features]\n",
    "y_train = train[label]\n",
    "\n",
    "X_test = test[features]\n",
    "y_test = test[label]"
   ]
  },
  {
   "cell_type": "code",
   "execution_count": 24,
   "metadata": {},
   "outputs": [
    {
     "data": {
      "text/plain": [
       "(23721, 279)"
      ]
     },
     "execution_count": 24,
     "metadata": {},
     "output_type": "execute_result"
    }
   ],
   "source": [
    "X_train.shape"
   ]
  },
  {
   "cell_type": "code",
   "execution_count": 25,
   "metadata": {},
   "outputs": [
    {
     "data": {
      "text/plain": [
       "0"
      ]
     },
     "execution_count": 25,
     "metadata": {},
     "output_type": "execute_result"
    }
   ],
   "source": [
    "del train\n",
    "#del test\n",
    "\n",
    "gc.collect()"
   ]
  },
  {
   "cell_type": "code",
   "execution_count": 26,
   "metadata": {},
   "outputs": [
    {
     "name": "stdout",
     "output_type": "stream",
     "text": [
      "X_train shape: (23721, 279)\n"
     ]
    }
   ],
   "source": [
    "print(\"X_train shape:\", X_train.shape)"
   ]
  },
  {
   "cell_type": "code",
   "execution_count": 27,
   "metadata": {},
   "outputs": [],
   "source": [
    "#X_train = reduce_mem_usage(X_train)\n",
    "#gc.collect()\n"
   ]
  },
  {
   "cell_type": "code",
   "execution_count": 28,
   "metadata": {},
   "outputs": [],
   "source": [
    "#y_train = reduce_mem_usage(y_train)\n",
    "#gc.collect()"
   ]
  },
  {
   "cell_type": "code",
   "execution_count": 29,
   "metadata": {},
   "outputs": [],
   "source": [
    "#X_test = reduce_mem_usage(X_test)\n",
    "#gc.collect()"
   ]
  },
  {
   "cell_type": "code",
   "execution_count": 30,
   "metadata": {},
   "outputs": [],
   "source": [
    "#y_test = reduce_mem_usage(y_test)\n",
    "#gc.collect()"
   ]
  },
  {
   "cell_type": "markdown",
   "metadata": {},
   "source": [
    "## Entrenamiento"
   ]
  },
  {
   "cell_type": "code",
   "execution_count": 31,
   "metadata": {},
   "outputs": [],
   "source": [
    "def lgb_objective(trial):\n",
    "\n",
    "    # Parámetros para LightGBM\n",
    "    lgb_params = {\n",
    "        'objective': 'regression',\n",
    "        'metric': 'mse', # Cambiado a Mean Squared Error\n",
    "        'verbosity': -1,\n",
    "        # 'num_class': len(y_train.unique()), # Eliminar, esto es para clasificación\n",
    "        'lambda_l1': trial.suggest_float('lambda_l1', 1e-8, 10.0, log=True),\n",
    "        'lambda_l2': trial.suggest_float('lambda_l2', 1e-8, 10.0, log=True),\n",
    "        'num_leaves': trial.suggest_int('num_leaves', 2, 256),\n",
    "        'feature_fraction': trial.suggest_float('feature_fraction', 0.4, 1.0),\n",
    "        'bagging_fraction': trial.suggest_float('bagging_fraction', 0.6, 1.0),\n",
    "        'bagging_freq': trial.suggest_int('bagging_freq', 1, 7),\n",
    "        'min_child_samples': trial.suggest_int('min_child_samples', 5, 100),\n",
    "    }\n",
    "\n",
    "    # Voy a generar estimaciones de los 5 modelos del CV sobre los datos test y los acumulo en la matriz scores_ensemble\n",
    "    # Para regresión, scores_ensemble será un array 1D\n",
    "    scores_ensemble = np.zeros(len(y_test),dtype=np.float32)\n",
    "\n",
    "    # Score del 5 fold CV inicializado en 0\n",
    "    score_folds = 0\n",
    "\n",
    "    # Numero de splits del CV\n",
    "    n_splits = 5\n",
    "\n",
    "    # Objeto para hacer el split de CV (usar KFold para regresión, ya que StratifiedKFold es para clasificación)\n",
    "    kf = KFold(n_splits=n_splits, shuffle=True, random_state=SEED) # Added shuffle and random_state for reproducibility\n",
    "\n",
    "    for i, (if_index, oof_index) in enumerate(kf.split(X_train, y_train)): # Usar kf.split\n",
    "\n",
    "        # Dataset in fold (donde entreno)\n",
    "        lgb_if_dataset = lgb.Dataset(data=X_train.iloc[if_index],\n",
    "                                     label=y_train.iloc[if_index],\n",
    "                                     free_raw_data=True, categorical_feature=char_feats) #cambie free raw data a true\n",
    "\n",
    "        # Dataset Out of fold (donde mido la performance del CV)\n",
    "        lgb_oof_dataset = lgb.Dataset(data=X_train.iloc[oof_index],\n",
    "                                      label=y_train.iloc[oof_index],\n",
    "                                      free_raw_data=True, categorical_feature=char_feats) #cambie free raw data a true\n",
    "\n",
    "        # Entreno el modelo\n",
    "        lgb_model = lgb.train(lgb_params,\n",
    "                              lgb_if_dataset,\n",
    "                              valid_sets=lgb_oof_dataset,\n",
    "                              callbacks=[lgb.early_stopping(50, verbose=False)],\n",
    "                              # feval = mean_squared_error(y_test, preds, squared=False) # Eliminar o definir correctamente para custom metric\n",
    "                             )\n",
    "\n",
    "        # Acumulo las predicciones continuas para el conjunto de test\n",
    "        scores_ensemble = scores_ensemble + lgb_model.predict(X_test)\n",
    "\n",
    "        # Score del fold (registros de dataset train que en este fold quedan out of fold)\n",
    "        # Calcular MSE para el fold OOF\n",
    "        oof_preds = lgb_model.predict(X_train.iloc[oof_index])\n",
    "        score_folds += mean_squared_error(y_train.iloc[oof_index], oof_preds) / n_splits\n",
    "        \n",
    "        # ⬇️ Liberar memoria de objetos pesados del fold\n",
    "        del lgb_model, lgb_if_dataset, lgb_oof_dataset, oof_preds\n",
    "        gc.collect()\n",
    "        print(f\"fin split {i}\")\n",
    "\n",
    "    # Promedio las predicciones del ensemble para el conjunto de test\n",
    "    scores_ensemble = scores_ensemble / n_splits\n",
    "\n",
    "    # Guardo prediccion del trial sobre el conjunto de test\n",
    "    # Genero nombre de archivo\n",
    "    #predicted_filename = os.path.join(PATH_TO_TEMP_FILES,f'test_{trial.study.study_name}_{trial.number}.joblib')\n",
    "    # Copia del dataset para guardar la prediccion\n",
    "    #predicted_df = test.copy()\n",
    "    #predicted_df= pd.DataFrame({\n",
    "    #'periodo': test['periodo'],\n",
    "    #'customer_id': test['customer_id'],  # o el ID que necesites\n",
    "    #'product_id' : test['product_id'],\n",
    "    #'pred': scores_ensemble\n",
    "    #})\n",
    "    \n",
    "    # Genero columna pred con predicciones promediadas de los 5 folds\n",
    "    #predicted_df['pred'] = scores_ensemble\n",
    "    # Grabo dataframe en temp_artifacts\n",
    "    #dump(predicted_df, predicted_filename)\n",
    "    # Indico a optuna que asocie el archivo generado al trial\n",
    "    #upload_artifact(trial, predicted_filename, artifact_store)\n",
    "    #del predicted_df\n",
    "    gc.collect()\n",
    "    \n",
    "    # Grabo métricas de regresión en lugar de matriz de confusión\n",
    "    # Puedes guardar métricas como MSE, RMSE, MAE, R2, etc. en un archivo de texto o log\n",
    "    # Por ejemplo, calcular el MSE en el conjunto de test\n",
    "    test_mse = mean_squared_error(y_test, scores_ensemble)\n",
    "    trial.set_user_attr(\"test_mse\", test_mse) # Almacenar MSE del test como atributo de usuario\n",
    "\n",
    "    del scores_ensemble\n",
    "    gc.collect()\n",
    "\n",
    "    # Si quieres una visualización, podrías generar un scatter plot de predicciones vs valores reales\n",
    "    # O un histograma de residuos. Aquí un placeholder para un \"regression_metrics.txt\"\n",
    "    #regression_metrics_filename = os.path.join(PATH_TO_TEMP_FILES, f'regression_metrics_{trial.study.study_name}_{trial.number}.txt')\n",
    "    #with open(regression_metrics_filename, 'w') as f:\n",
    "    #    f.write(f\"Test Mean Squared Error: {test_mse}\\n\")\n",
    "    #    # Add other regression metrics if desired\n",
    "    #upload_artifact(trial, regression_metrics_filename, artifact_store)\n",
    "    \n",
    "    gc.collect()\n",
    "\n",
    "    # Devuelvo el score promedio de MSE del 5-fold CV a Optuna para que optimice en base a eso\n",
    "    # Optuna minimiza por defecto, por lo que devolver MSE es apropiado.\n",
    "    return score_folds"
   ]
  },
  {
   "cell_type": "code",
   "execution_count": 32,
   "metadata": {},
   "outputs": [
    {
     "name": "stderr",
     "output_type": "stream",
     "text": [
      "[I 2025-07-18 23:48:40,457] A new study created in RDB with name: Producto_base\n"
     ]
    },
    {
     "name": "stdout",
     "output_type": "stream",
     "text": [
      "fin split 0\n",
      "fin split 1\n",
      "fin split 2\n",
      "fin split 3\n",
      "fin split 4\n"
     ]
    },
    {
     "name": "stderr",
     "output_type": "stream",
     "text": [
      "[I 2025-07-18 23:49:06,387] Trial 0 finished with value: 1006.8424965183314 and parameters: {'lambda_l1': 6.806000143792703e-06, 'lambda_l2': 0.34981272690062015, 'num_leaves': 84, 'feature_fraction': 0.4042366493175729, 'bagging_fraction': 0.6514142861366973, 'bagging_freq': 4, 'min_child_samples': 78}. Best is trial 0 with value: 1006.8424965183314.\n"
     ]
    },
    {
     "name": "stdout",
     "output_type": "stream",
     "text": [
      "fin split 0\n",
      "fin split 1\n",
      "fin split 2\n",
      "fin split 3\n",
      "fin split 4\n"
     ]
    },
    {
     "name": "stderr",
     "output_type": "stream",
     "text": [
      "[I 2025-07-18 23:49:18,215] Trial 1 finished with value: 995.389801595706 and parameters: {'lambda_l1': 4.2053691520507865e-08, 'lambda_l2': 0.010093542520468502, 'num_leaves': 14, 'feature_fraction': 0.8019814964856453, 'bagging_fraction': 0.9279469076135621, 'bagging_freq': 6, 'min_child_samples': 84}. Best is trial 1 with value: 995.389801595706.\n"
     ]
    },
    {
     "name": "stdout",
     "output_type": "stream",
     "text": [
      "fin split 0\n",
      "fin split 1\n",
      "fin split 2\n",
      "fin split 3\n",
      "fin split 4\n"
     ]
    },
    {
     "name": "stderr",
     "output_type": "stream",
     "text": [
      "[I 2025-07-18 23:49:41,950] Trial 2 finished with value: 994.9475487778568 and parameters: {'lambda_l1': 7.583673654620481e-06, 'lambda_l2': 0.0009339972009767245, 'num_leaves': 45, 'feature_fraction': 0.840106290081345, 'bagging_fraction': 0.8898069652920345, 'bagging_freq': 7, 'min_child_samples': 99}. Best is trial 2 with value: 994.9475487778568.\n"
     ]
    },
    {
     "name": "stdout",
     "output_type": "stream",
     "text": [
      "fin split 0\n",
      "fin split 1\n",
      "fin split 2\n",
      "fin split 3\n",
      "fin split 4\n"
     ]
    },
    {
     "name": "stderr",
     "output_type": "stream",
     "text": [
      "[I 2025-07-18 23:49:56,717] Trial 3 finished with value: 993.4775825742304 and parameters: {'lambda_l1': 0.8499601200525827, 'lambda_l2': 0.1728119137937449, 'num_leaves': 25, 'feature_fraction': 0.809051455129492, 'bagging_fraction': 0.9024765721741345, 'bagging_freq': 4, 'min_child_samples': 77}. Best is trial 3 with value: 993.4775825742304.\n"
     ]
    },
    {
     "name": "stdout",
     "output_type": "stream",
     "text": [
      "fin split 0\n",
      "fin split 1\n",
      "fin split 2\n",
      "fin split 3\n",
      "fin split 4\n"
     ]
    },
    {
     "name": "stderr",
     "output_type": "stream",
     "text": [
      "[I 2025-07-18 23:50:59,503] Trial 4 finished with value: 960.5524015837483 and parameters: {'lambda_l1': 5.6025091078745525e-05, 'lambda_l2': 0.003396810673209454, 'num_leaves': 206, 'feature_fraction': 0.7703637826826841, 'bagging_fraction': 0.6905477462967686, 'bagging_freq': 6, 'min_child_samples': 28}. Best is trial 4 with value: 960.5524015837483.\n"
     ]
    },
    {
     "name": "stdout",
     "output_type": "stream",
     "text": [
      "fin split 0\n",
      "fin split 1\n",
      "fin split 2\n",
      "fin split 3\n",
      "fin split 4\n"
     ]
    },
    {
     "name": "stderr",
     "output_type": "stream",
     "text": [
      "[I 2025-07-18 23:51:21,216] Trial 5 finished with value: 1008.241366224145 and parameters: {'lambda_l1': 0.00019727159330601196, 'lambda_l2': 6.76012199791867e-07, 'num_leaves': 46, 'feature_fraction': 0.6767197877028386, 'bagging_fraction': 0.8735057930222303, 'bagging_freq': 3, 'min_child_samples': 92}. Best is trial 4 with value: 960.5524015837483.\n"
     ]
    },
    {
     "name": "stdout",
     "output_type": "stream",
     "text": [
      "fin split 0\n",
      "fin split 1\n",
      "fin split 2\n",
      "fin split 3\n",
      "fin split 4\n"
     ]
    },
    {
     "name": "stderr",
     "output_type": "stream",
     "text": [
      "[I 2025-07-18 23:52:02,082] Trial 6 finished with value: 975.4087519214221 and parameters: {'lambda_l1': 3.2181959078216484e-07, 'lambda_l2': 0.2656139303006495, 'num_leaves': 146, 'feature_fraction': 0.5330898295526889, 'bagging_fraction': 0.9895776129174289, 'bagging_freq': 6, 'min_child_samples': 72}. Best is trial 4 with value: 960.5524015837483.\n"
     ]
    },
    {
     "name": "stdout",
     "output_type": "stream",
     "text": [
      "fin split 0\n",
      "fin split 1\n",
      "fin split 2\n",
      "fin split 3\n",
      "fin split 4\n"
     ]
    },
    {
     "name": "stderr",
     "output_type": "stream",
     "text": [
      "[I 2025-07-18 23:52:25,436] Trial 7 finished with value: 909.3007071393024 and parameters: {'lambda_l1': 4.735087893063567e-08, 'lambda_l2': 0.00016545621016688208, 'num_leaves': 46, 'feature_fraction': 0.6406606642230024, 'bagging_fraction': 0.9631778091361041, 'bagging_freq': 6, 'min_child_samples': 22}. Best is trial 7 with value: 909.3007071393024.\n"
     ]
    },
    {
     "name": "stdout",
     "output_type": "stream",
     "text": [
      "fin split 0\n",
      "fin split 1\n",
      "fin split 2\n",
      "fin split 3\n",
      "fin split 4\n"
     ]
    },
    {
     "name": "stderr",
     "output_type": "stream",
     "text": [
      "[I 2025-07-18 23:53:28,771] Trial 8 finished with value: 953.1416878002879 and parameters: {'lambda_l1': 0.05248425132568995, 'lambda_l2': 2.8524164295220293, 'num_leaves': 152, 'feature_fraction': 0.8033066912920652, 'bagging_fraction': 0.8523851105905115, 'bagging_freq': 5, 'min_child_samples': 54}. Best is trial 7 with value: 909.3007071393024.\n"
     ]
    },
    {
     "name": "stdout",
     "output_type": "stream",
     "text": [
      "fin split 0\n",
      "fin split 1\n",
      "fin split 2\n",
      "fin split 3\n",
      "fin split 4\n"
     ]
    },
    {
     "name": "stderr",
     "output_type": "stream",
     "text": [
      "[I 2025-07-18 23:54:06,940] Trial 9 finished with value: 1001.0761313256494 and parameters: {'lambda_l1': 0.00034912343278723445, 'lambda_l2': 6.867304530647784, 'num_leaves': 95, 'feature_fraction': 0.9108340847358735, 'bagging_fraction': 0.7103673582853123, 'bagging_freq': 1, 'min_child_samples': 75}. Best is trial 7 with value: 909.3007071393024.\n"
     ]
    },
    {
     "name": "stdout",
     "output_type": "stream",
     "text": [
      "fin split 0\n",
      "fin split 1\n",
      "fin split 2\n",
      "fin split 3\n",
      "fin split 4\n"
     ]
    },
    {
     "name": "stderr",
     "output_type": "stream",
     "text": [
      "[I 2025-07-18 23:55:03,972] Trial 10 finished with value: 909.820264497204 and parameters: {'lambda_l1': 1.3084119199709143e-08, 'lambda_l2': 5.067536451147249e-06, 'num_leaves': 253, 'feature_fraction': 0.6166918363995072, 'bagging_fraction': 0.7755117187744778, 'bagging_freq': 2, 'min_child_samples': 10}. Best is trial 7 with value: 909.3007071393024.\n"
     ]
    },
    {
     "name": "stdout",
     "output_type": "stream",
     "text": [
      "fin split 0\n",
      "fin split 1\n",
      "fin split 2\n",
      "fin split 3\n",
      "fin split 4\n"
     ]
    },
    {
     "name": "stderr",
     "output_type": "stream",
     "text": [
      "[I 2025-07-18 23:56:08,563] Trial 11 finished with value: 932.9844900611799 and parameters: {'lambda_l1': 1.0027232537989346e-08, 'lambda_l2': 3.208508514317541e-06, 'num_leaves': 249, 'feature_fraction': 0.6310971401885792, 'bagging_fraction': 0.7974446207430241, 'bagging_freq': 1, 'min_child_samples': 8}. Best is trial 7 with value: 909.3007071393024.\n"
     ]
    },
    {
     "name": "stdout",
     "output_type": "stream",
     "text": [
      "fin split 0\n",
      "fin split 1\n",
      "fin split 2\n",
      "fin split 3\n",
      "fin split 4\n"
     ]
    },
    {
     "name": "stderr",
     "output_type": "stream",
     "text": [
      "[I 2025-07-18 23:57:10,593] Trial 12 finished with value: 924.5689204891108 and parameters: {'lambda_l1': 2.6384239659969877e-07, 'lambda_l2': 1.2686343161834425e-05, 'num_leaves': 196, 'feature_fraction': 0.5765397767200257, 'bagging_fraction': 0.7593726638134513, 'bagging_freq': 2, 'min_child_samples': 7}. Best is trial 7 with value: 909.3007071393024.\n"
     ]
    },
    {
     "name": "stdout",
     "output_type": "stream",
     "text": [
      "fin split 0\n",
      "fin split 1\n",
      "fin split 2\n",
      "fin split 3\n",
      "fin split 4\n"
     ]
    },
    {
     "name": "stderr",
     "output_type": "stream",
     "text": [
      "[I 2025-07-18 23:57:35,226] Trial 13 finished with value: 920.4267912050278 and parameters: {'lambda_l1': 3.95447601285036e-07, 'lambda_l2': 1.0400700719331585e-08, 'num_leaves': 97, 'feature_fraction': 0.4963840743080401, 'bagging_fraction': 0.9898109773722026, 'bagging_freq': 3, 'min_child_samples': 24}. Best is trial 7 with value: 909.3007071393024.\n"
     ]
    },
    {
     "name": "stdout",
     "output_type": "stream",
     "text": [
      "fin split 0\n",
      "fin split 1\n",
      "fin split 2\n",
      "fin split 3\n",
      "fin split 4\n"
     ]
    },
    {
     "name": "stderr",
     "output_type": "stream",
     "text": [
      "[I 2025-07-18 23:59:03,464] Trial 14 finished with value: 960.0563254572473 and parameters: {'lambda_l1': 0.0026228207800724234, 'lambda_l2': 5.3556030511757624e-05, 'num_leaves': 252, 'feature_fraction': 0.9997434076093257, 'bagging_fraction': 0.6019590224669786, 'bagging_freq': 2, 'min_child_samples': 28}. Best is trial 7 with value: 909.3007071393024.\n"
     ]
    },
    {
     "name": "stdout",
     "output_type": "stream",
     "text": [
      "fin split 0\n",
      "fin split 1\n",
      "fin split 2\n",
      "fin split 3\n",
      "fin split 4\n"
     ]
    },
    {
     "name": "stderr",
     "output_type": "stream",
     "text": [
      "[I 2025-07-18 23:59:51,467] Trial 15 finished with value: 961.9838836519864 and parameters: {'lambda_l1': 1.1417787918560888e-08, 'lambda_l2': 7.910523786210696e-08, 'num_leaves': 186, 'feature_fraction': 0.7133691647299528, 'bagging_fraction': 0.8163010443530119, 'bagging_freq': 7, 'min_child_samples': 44}. Best is trial 7 with value: 909.3007071393024.\n"
     ]
    },
    {
     "name": "stdout",
     "output_type": "stream",
     "text": [
      "fin split 0\n",
      "fin split 1\n",
      "fin split 2\n",
      "fin split 3\n",
      "fin split 4\n"
     ]
    },
    {
     "name": "stderr",
     "output_type": "stream",
     "text": [
      "[I 2025-07-19 00:00:32,633] Trial 16 finished with value: 953.2364249785654 and parameters: {'lambda_l1': 5.500699243894491e-06, 'lambda_l2': 0.00017677634421555457, 'num_leaves': 115, 'feature_fraction': 0.623192216948226, 'bagging_fraction': 0.7581033856540684, 'bagging_freq': 5, 'min_child_samples': 18}. Best is trial 7 with value: 909.3007071393024.\n"
     ]
    },
    {
     "name": "stdout",
     "output_type": "stream",
     "text": [
      "fin split 0\n",
      "fin split 1\n",
      "fin split 2\n",
      "fin split 3\n",
      "fin split 4\n"
     ]
    },
    {
     "name": "stderr",
     "output_type": "stream",
     "text": [
      "[I 2025-07-19 00:00:50,516] Trial 17 finished with value: 965.385322950418 and parameters: {'lambda_l1': 1.2177908296640885e-07, 'lambda_l2': 1.0004298470930315e-06, 'num_leaves': 57, 'feature_fraction': 0.4528287748942342, 'bagging_fraction': 0.8120901512911404, 'bagging_freq': 3, 'min_child_samples': 41}. Best is trial 7 with value: 909.3007071393024.\n"
     ]
    },
    {
     "name": "stdout",
     "output_type": "stream",
     "text": [
      "fin split 0\n",
      "fin split 1\n",
      "fin split 2\n",
      "fin split 3\n",
      "fin split 4\n"
     ]
    },
    {
     "name": "stderr",
     "output_type": "stream",
     "text": [
      "[I 2025-07-19 00:00:57,118] Trial 18 finished with value: 1110.5069394907464 and parameters: {'lambda_l1': 2.2672549532339122e-06, 'lambda_l2': 1.4916075896731936e-05, 'num_leaves': 3, 'feature_fraction': 0.7162503511420222, 'bagging_fraction': 0.7434157018636433, 'bagging_freq': 5, 'min_child_samples': 59}. Best is trial 7 with value: 909.3007071393024.\n"
     ]
    },
    {
     "name": "stdout",
     "output_type": "stream",
     "text": [
      "fin split 0\n",
      "fin split 1\n",
      "fin split 2\n",
      "fin split 3\n",
      "fin split 4\n"
     ]
    },
    {
     "name": "stderr",
     "output_type": "stream",
     "text": [
      "[I 2025-07-19 00:01:54,965] Trial 19 finished with value: 916.326765005954 and parameters: {'lambda_l1': 0.006274841223236254, 'lambda_l2': 0.00022176675215916032, 'num_leaves': 226, 'feature_fraction': 0.5757410226528945, 'bagging_fraction': 0.9529134030659162, 'bagging_freq': 2, 'min_child_samples': 16}. Best is trial 7 with value: 909.3007071393024.\n"
     ]
    },
    {
     "name": "stdout",
     "output_type": "stream",
     "text": [
      "fin split 0\n",
      "fin split 1\n",
      "fin split 2\n",
      "fin split 3\n",
      "fin split 4\n"
     ]
    },
    {
     "name": "stderr",
     "output_type": "stream",
     "text": [
      "[I 2025-07-19 00:02:36,311] Trial 20 finished with value: 963.8740018514769 and parameters: {'lambda_l1': 1.0467301828233602e-06, 'lambda_l2': 0.01384191946951809, 'num_leaves': 161, 'feature_fraction': 0.6417115827851757, 'bagging_fraction': 0.8354411623959952, 'bagging_freq': 4, 'min_child_samples': 38}. Best is trial 7 with value: 909.3007071393024.\n"
     ]
    },
    {
     "name": "stdout",
     "output_type": "stream",
     "text": [
      "fin split 0\n",
      "fin split 1\n",
      "fin split 2\n",
      "fin split 3\n",
      "fin split 4\n"
     ]
    },
    {
     "name": "stderr",
     "output_type": "stream",
     "text": [
      "[I 2025-07-19 00:03:27,082] Trial 21 finished with value: 906.6079154142764 and parameters: {'lambda_l1': 0.016553091745441843, 'lambda_l2': 0.00012086285239313716, 'num_leaves': 235, 'feature_fraction': 0.5675079492861289, 'bagging_fraction': 0.940355121721478, 'bagging_freq': 2, 'min_child_samples': 17}. Best is trial 21 with value: 906.6079154142764.\n"
     ]
    },
    {
     "name": "stdout",
     "output_type": "stream",
     "text": [
      "fin split 0\n",
      "fin split 1\n",
      "fin split 2\n",
      "fin split 3\n",
      "fin split 4\n"
     ]
    },
    {
     "name": "stderr",
     "output_type": "stream",
     "text": [
      "[I 2025-07-19 00:04:24,896] Trial 22 finished with value: 919.2737617536782 and parameters: {'lambda_l1': 0.10742817675382654, 'lambda_l2': 1.4305415268331e-05, 'num_leaves': 225, 'feature_fraction': 0.5640270260911495, 'bagging_fraction': 0.9496291609195404, 'bagging_freq': 1, 'min_child_samples': 5}. Best is trial 21 with value: 906.6079154142764.\n"
     ]
    },
    {
     "name": "stdout",
     "output_type": "stream",
     "text": [
      "fin split 0\n",
      "fin split 1\n",
      "fin split 2\n",
      "fin split 3\n",
      "fin split 4\n"
     ]
    },
    {
     "name": "stderr",
     "output_type": "stream",
     "text": [
      "[I 2025-07-19 00:05:10,205] Trial 23 finished with value: 901.5976848463749 and parameters: {'lambda_l1': 6.596425852981602, 'lambda_l2': 0.0012849342006221664, 'num_leaves': 227, 'feature_fraction': 0.4912994572672994, 'bagging_fraction': 0.934889883390596, 'bagging_freq': 2, 'min_child_samples': 17}. Best is trial 23 with value: 901.5976848463749.\n"
     ]
    },
    {
     "name": "stdout",
     "output_type": "stream",
     "text": [
      "fin split 0\n",
      "fin split 1\n",
      "fin split 2\n",
      "fin split 3\n",
      "fin split 4\n"
     ]
    },
    {
     "name": "stderr",
     "output_type": "stream",
     "text": [
      "[I 2025-07-19 00:05:51,871] Trial 24 finished with value: 937.2436369498048 and parameters: {'lambda_l1': 8.04689198953377, 'lambda_l2': 0.0027180116277628692, 'num_leaves': 182, 'feature_fraction': 0.4880947577260447, 'bagging_fraction': 0.9257841991930675, 'bagging_freq': 3, 'min_child_samples': 34}. Best is trial 23 with value: 901.5976848463749.\n"
     ]
    },
    {
     "name": "stdout",
     "output_type": "stream",
     "text": [
      "fin split 0\n",
      "fin split 1\n",
      "fin split 2\n",
      "fin split 3\n",
      "fin split 4\n"
     ]
    },
    {
     "name": "stderr",
     "output_type": "stream",
     "text": [
      "[I 2025-07-19 00:06:31,395] Trial 25 finished with value: 910.8623442585946 and parameters: {'lambda_l1': 5.444093278974865, 'lambda_l2': 0.0005612652358252101, 'num_leaves': 224, 'feature_fraction': 0.42753498493385655, 'bagging_fraction': 0.9675831209563976, 'bagging_freq': 2, 'min_child_samples': 18}. Best is trial 23 with value: 901.5976848463749.\n"
     ]
    },
    {
     "name": "stdout",
     "output_type": "stream",
     "text": [
      "fin split 0\n",
      "fin split 1\n",
      "fin split 2\n",
      "fin split 3\n",
      "fin split 4\n"
     ]
    },
    {
     "name": "stderr",
     "output_type": "stream",
     "text": [
      "[I 2025-07-19 00:07:00,053] Trial 26 finished with value: 937.5360854535701 and parameters: {'lambda_l1': 0.16945749432321164, 'lambda_l2': 0.031942102246784544, 'num_leaves': 129, 'feature_fraction': 0.5105858270719114, 'bagging_fraction': 0.9366087133840415, 'bagging_freq': 1, 'min_child_samples': 23}. Best is trial 23 with value: 901.5976848463749.\n"
     ]
    },
    {
     "name": "stdout",
     "output_type": "stream",
     "text": [
      "fin split 0\n",
      "fin split 1\n",
      "fin split 2\n",
      "fin split 3\n",
      "fin split 4\n"
     ]
    },
    {
     "name": "stderr",
     "output_type": "stream",
     "text": [
      "[I 2025-07-19 00:07:42,871] Trial 27 finished with value: 945.7291604894732 and parameters: {'lambda_l1': 0.8322048403941077, 'lambda_l2': 9.420431597004008e-05, 'num_leaves': 212, 'feature_fraction': 0.46268712285383984, 'bagging_fraction': 0.9073585364048145, 'bagging_freq': 3, 'min_child_samples': 33}. Best is trial 23 with value: 901.5976848463749.\n"
     ]
    },
    {
     "name": "stdout",
     "output_type": "stream",
     "text": [
      "fin split 0\n",
      "fin split 1\n",
      "fin split 2\n",
      "fin split 3\n",
      "fin split 4\n"
     ]
    },
    {
     "name": "stderr",
     "output_type": "stream",
     "text": [
      "[I 2025-07-19 00:08:22,839] Trial 28 finished with value: 970.5669221500619 and parameters: {'lambda_l1': 0.012756655744998274, 'lambda_l2': 0.0007271195388263874, 'num_leaves': 170, 'feature_fraction': 0.5433210224672298, 'bagging_fraction': 0.863923514941274, 'bagging_freq': 5, 'min_child_samples': 49}. Best is trial 23 with value: 901.5976848463749.\n"
     ]
    },
    {
     "name": "stdout",
     "output_type": "stream",
     "text": [
      "fin split 0\n",
      "fin split 1\n",
      "fin split 2\n",
      "fin split 3\n",
      "fin split 4\n"
     ]
    },
    {
     "name": "stderr",
     "output_type": "stream",
     "text": [
      "[I 2025-07-19 00:08:48,979] Trial 29 finished with value: 952.43192770754 and parameters: {'lambda_l1': 1.06636622399011, 'lambda_l2': 0.04737850581781828, 'num_leaves': 72, 'feature_fraction': 0.6756893389691709, 'bagging_fraction': 0.9754009916675858, 'bagging_freq': 4, 'min_child_samples': 64}. Best is trial 23 with value: 901.5976848463749.\n"
     ]
    },
    {
     "name": "stdout",
     "output_type": "stream",
     "text": [
      "fin split 0\n",
      "fin split 1\n",
      "fin split 2\n",
      "fin split 3\n",
      "fin split 4\n"
     ]
    },
    {
     "name": "stderr",
     "output_type": "stream",
     "text": [
      "[I 2025-07-19 00:09:28,009] Trial 30 finished with value: 921.3819675442228 and parameters: {'lambda_l1': 0.0011868863512802786, 'lambda_l2': 5.663413126724147e-05, 'num_leaves': 237, 'feature_fraction': 0.4260931251799904, 'bagging_fraction': 0.9132755536474032, 'bagging_freq': 7, 'min_child_samples': 14}. Best is trial 23 with value: 901.5976848463749.\n"
     ]
    },
    {
     "name": "stdout",
     "output_type": "stream",
     "text": [
      "fin split 0\n",
      "fin split 1\n",
      "fin split 2\n",
      "fin split 3\n",
      "fin split 4\n"
     ]
    },
    {
     "name": "stderr",
     "output_type": "stream",
     "text": [
      "[I 2025-07-19 00:10:29,000] Trial 31 finished with value: 914.1397763004962 and parameters: {'lambda_l1': 2.6031909747264574e-05, 'lambda_l2': 2.506677237335592e-06, 'num_leaves': 255, 'feature_fraction': 0.5968108316181631, 'bagging_fraction': 0.9966904409901843, 'bagging_freq': 2, 'min_child_samples': 11}. Best is trial 23 with value: 901.5976848463749.\n"
     ]
    },
    {
     "name": "stdout",
     "output_type": "stream",
     "text": [
      "fin split 0\n",
      "fin split 1\n",
      "fin split 2\n",
      "fin split 3\n",
      "fin split 4\n"
     ]
    },
    {
     "name": "stderr",
     "output_type": "stream",
     "text": [
      "[I 2025-07-19 00:11:24,413] Trial 32 finished with value: 949.6440989320406 and parameters: {'lambda_l1': 4.6881684616865105e-08, 'lambda_l2': 0.003001493812516219, 'num_leaves': 240, 'feature_fraction': 0.604524637183037, 'bagging_fraction': 0.7879190172181573, 'bagging_freq': 2, 'min_child_samples': 22}. Best is trial 23 with value: 901.5976848463749.\n"
     ]
    },
    {
     "name": "stdout",
     "output_type": "stream",
     "text": [
      "fin split 0\n",
      "fin split 1\n",
      "fin split 2\n",
      "fin split 3\n",
      "fin split 4\n"
     ]
    },
    {
     "name": "stderr",
     "output_type": "stream",
     "text": [
      "[I 2025-07-19 00:12:20,322] Trial 33 finished with value: 917.1048312663936 and parameters: {'lambda_l1': 3.9284747351417644e-08, 'lambda_l2': 2.8466806476609132e-05, 'num_leaves': 213, 'feature_fraction': 0.6599530799279368, 'bagging_fraction': 0.8875635718893049, 'bagging_freq': 1, 'min_child_samples': 12}. Best is trial 23 with value: 901.5976848463749.\n"
     ]
    },
    {
     "name": "stdout",
     "output_type": "stream",
     "text": [
      "fin split 0\n",
      "fin split 1\n",
      "fin split 2\n",
      "fin split 3\n",
      "fin split 4\n"
     ]
    },
    {
     "name": "stderr",
     "output_type": "stream",
     "text": [
      "[I 2025-07-19 00:12:32,284] Trial 34 finished with value: 931.6924963185497 and parameters: {'lambda_l1': 0.020655409786105094, 'lambda_l2': 2.422992721972715e-07, 'num_leaves': 25, 'feature_fraction': 0.5320025928331173, 'bagging_fraction': 0.9395338560830678, 'bagging_freq': 3, 'min_child_samples': 28}. Best is trial 23 with value: 901.5976848463749.\n"
     ]
    },
    {
     "name": "stdout",
     "output_type": "stream",
     "text": [
      "fin split 0\n",
      "fin split 1\n",
      "fin split 2\n",
      "fin split 3\n",
      "fin split 4\n"
     ]
    },
    {
     "name": "stderr",
     "output_type": "stream",
     "text": [
      "[I 2025-07-19 00:13:45,018] Trial 35 finished with value: 933.459094222043 and parameters: {'lambda_l1': 0.3314702618996337, 'lambda_l2': 6.19123148275951e-06, 'num_leaves': 237, 'feature_fraction': 0.7546106120963756, 'bagging_fraction': 0.7074226139759425, 'bagging_freq': 2, 'min_child_samples': 20}. Best is trial 23 with value: 901.5976848463749.\n"
     ]
    },
    {
     "name": "stdout",
     "output_type": "stream",
     "text": [
      "fin split 0\n",
      "fin split 1\n",
      "fin split 2\n",
      "fin split 3\n",
      "fin split 4\n"
     ]
    },
    {
     "name": "stderr",
     "output_type": "stream",
     "text": [
      "[I 2025-07-19 00:14:13,876] Trial 36 finished with value: 939.7398358734185 and parameters: {'lambda_l1': 6.406635621587766e-05, 'lambda_l2': 0.0021722223252333543, 'num_leaves': 123, 'feature_fraction': 0.402421822897914, 'bagging_fraction': 0.8393432610300173, 'bagging_freq': 4, 'min_child_samples': 34}. Best is trial 23 with value: 901.5976848463749.\n"
     ]
    },
    {
     "name": "stdout",
     "output_type": "stream",
     "text": [
      "fin split 0\n",
      "fin split 1\n",
      "fin split 2\n",
      "fin split 3\n",
      "fin split 4\n"
     ]
    },
    {
     "name": "stderr",
     "output_type": "stream",
     "text": [
      "[I 2025-07-19 00:15:08,091] Trial 37 finished with value: 922.5581217296117 and parameters: {'lambda_l1': 0.0005206725279384718, 'lambda_l2': 0.0003604627339937696, 'num_leaves': 200, 'feature_fraction': 0.7355421571207849, 'bagging_fraction': 0.885231857835021, 'bagging_freq': 6, 'min_child_samples': 10}. Best is trial 23 with value: 901.5976848463749.\n"
     ]
    },
    {
     "name": "stdout",
     "output_type": "stream",
     "text": [
      "fin split 0\n",
      "fin split 1\n",
      "fin split 2\n",
      "fin split 3\n",
      "fin split 4\n"
     ]
    },
    {
     "name": "stderr",
     "output_type": "stream",
     "text": [
      "[I 2025-07-19 00:15:22,396] Trial 38 finished with value: 942.4849888871174 and parameters: {'lambda_l1': 2.43435979302255, 'lambda_l2': 0.008278495909674893, 'num_leaves': 27, 'feature_fraction': 0.6920350977419801, 'bagging_fraction': 0.6379875261399953, 'bagging_freq': 2, 'min_child_samples': 27}. Best is trial 23 with value: 901.5976848463749.\n"
     ]
    },
    {
     "name": "stdout",
     "output_type": "stream",
     "text": [
      "fin split 0\n",
      "fin split 1\n",
      "fin split 2\n",
      "fin split 3\n",
      "fin split 4\n"
     ]
    },
    {
     "name": "stderr",
     "output_type": "stream",
     "text": [
      "[I 2025-07-19 00:16:09,013] Trial 39 finished with value: 979.2718602390124 and parameters: {'lambda_l1': 1.475325729648337e-05, 'lambda_l2': 0.0010199401822683861, 'num_leaves': 216, 'feature_fraction': 0.6002850030244122, 'bagging_fraction': 0.9587973484238557, 'bagging_freq': 6, 'min_child_samples': 83}. Best is trial 23 with value: 901.5976848463749.\n"
     ]
    },
    {
     "name": "stdout",
     "output_type": "stream",
     "text": [
      "fin split 0\n",
      "fin split 1\n",
      "fin split 2\n",
      "fin split 3\n",
      "fin split 4\n"
     ]
    },
    {
     "name": "stderr",
     "output_type": "stream",
     "text": [
      "[I 2025-07-19 00:16:57,792] Trial 40 finished with value: 942.4939909663806 and parameters: {'lambda_l1': 3.727820050219171e-08, 'lambda_l2': 7.85959729549208e-05, 'num_leaves': 189, 'feature_fraction': 0.54338420970746, 'bagging_fraction': 0.779383140070223, 'bagging_freq': 3, 'min_child_samples': 5}. Best is trial 23 with value: 901.5976848463749.\n"
     ]
    },
    {
     "name": "stdout",
     "output_type": "stream",
     "text": [
      "fin split 0\n",
      "fin split 1\n",
      "fin split 2\n",
      "fin split 3\n",
      "fin split 4\n"
     ]
    },
    {
     "name": "stderr",
     "output_type": "stream",
     "text": [
      "[I 2025-07-19 00:17:41,361] Trial 41 finished with value: 911.1546655790481 and parameters: {'lambda_l1': 8.20241849961192, 'lambda_l2': 0.0004830556897977698, 'num_leaves': 227, 'feature_fraction': 0.45809535278417657, 'bagging_fraction': 0.9707196119110372, 'bagging_freq': 2, 'min_child_samples': 15}. Best is trial 23 with value: 901.5976848463749.\n"
     ]
    },
    {
     "name": "stdout",
     "output_type": "stream",
     "text": [
      "fin split 0\n",
      "fin split 1\n",
      "fin split 2\n",
      "fin split 3\n",
      "fin split 4\n"
     ]
    },
    {
     "name": "stderr",
     "output_type": "stream",
     "text": [
      "[I 2025-07-19 00:18:22,504] Trial 42 finished with value: 920.5851383611935 and parameters: {'lambda_l1': 1.9116367597356776, 'lambda_l2': 0.001335126429711604, 'num_leaves': 240, 'feature_fraction': 0.44118690916071934, 'bagging_fraction': 0.9203060058255922, 'bagging_freq': 1, 'min_child_samples': 18}. Best is trial 23 with value: 901.5976848463749.\n"
     ]
    },
    {
     "name": "stdout",
     "output_type": "stream",
     "text": [
      "fin split 0\n",
      "fin split 1\n",
      "fin split 2\n",
      "fin split 3\n",
      "fin split 4\n"
     ]
    },
    {
     "name": "stderr",
     "output_type": "stream",
     "text": [
      "[I 2025-07-19 00:19:09,792] Trial 43 finished with value: 934.3201638837761 and parameters: {'lambda_l1': 5.572914611447734, 'lambda_l2': 0.007089647709361229, 'num_leaves': 256, 'feature_fraction': 0.4897765201694264, 'bagging_fraction': 0.9725073683876633, 'bagging_freq': 2, 'min_child_samples': 23}. Best is trial 23 with value: 901.5976848463749.\n"
     ]
    },
    {
     "name": "stdout",
     "output_type": "stream",
     "text": [
      "fin split 0\n",
      "fin split 1\n",
      "fin split 2\n",
      "fin split 3\n",
      "fin split 4\n"
     ]
    },
    {
     "name": "stderr",
     "output_type": "stream",
     "text": [
      "[I 2025-07-19 00:19:41,801] Trial 44 finished with value: 913.2707467586667 and parameters: {'lambda_l1': 0.3969160027981072, 'lambda_l2': 0.7536502971696412, 'num_leaves': 147, 'feature_fraction': 0.5189769749172854, 'bagging_fraction': 0.8948488851605862, 'bagging_freq': 1, 'min_child_samples': 12}. Best is trial 23 with value: 901.5976848463749.\n"
     ]
    },
    {
     "name": "stdout",
     "output_type": "stream",
     "text": [
      "fin split 0\n",
      "fin split 1\n",
      "fin split 2\n",
      "fin split 3\n",
      "fin split 4\n"
     ]
    },
    {
     "name": "stderr",
     "output_type": "stream",
     "text": [
      "[I 2025-07-19 00:20:43,098] Trial 45 finished with value: 907.411665876728 and parameters: {'lambda_l1': 0.02902892934486664, 'lambda_l2': 0.0001912271476949926, 'num_leaves': 174, 'feature_fraction': 0.8412910411841912, 'bagging_fraction': 0.9835739393044182, 'bagging_freq': 3, 'min_child_samples': 19}. Best is trial 23 with value: 901.5976848463749.\n"
     ]
    },
    {
     "name": "stdout",
     "output_type": "stream",
     "text": [
      "fin split 0\n",
      "fin split 1\n",
      "fin split 2\n",
      "fin split 3\n",
      "fin split 4\n"
     ]
    },
    {
     "name": "stderr",
     "output_type": "stream",
     "text": [
      "[I 2025-07-19 00:21:41,399] Trial 46 finished with value: 967.1186589605472 and parameters: {'lambda_l1': 0.0517022633029889, 'lambda_l2': 0.00014521349673466693, 'num_leaves': 165, 'feature_fraction': 0.8810787942897371, 'bagging_fraction': 0.9981934123272744, 'bagging_freq': 3, 'min_child_samples': 31}. Best is trial 23 with value: 901.5976848463749.\n"
     ]
    },
    {
     "name": "stdout",
     "output_type": "stream",
     "text": [
      "fin split 0\n",
      "fin split 1\n",
      "fin split 2\n",
      "fin split 3\n",
      "fin split 4\n"
     ]
    },
    {
     "name": "stderr",
     "output_type": "stream",
     "text": [
      "[I 2025-07-19 00:22:46,610] Trial 47 finished with value: 952.5021375434715 and parameters: {'lambda_l1': 0.0001244510380275022, 'lambda_l2': 2.7934688284656494e-05, 'num_leaves': 176, 'feature_fraction': 0.967544285158775, 'bagging_fraction': 0.9423603450415516, 'bagging_freq': 4, 'min_child_samples': 26}. Best is trial 23 with value: 901.5976848463749.\n"
     ]
    },
    {
     "name": "stdout",
     "output_type": "stream",
     "text": [
      "fin split 0\n",
      "fin split 1\n",
      "fin split 2\n",
      "fin split 3\n",
      "fin split 4\n"
     ]
    },
    {
     "name": "stderr",
     "output_type": "stream",
     "text": [
      "[I 2025-07-19 00:23:27,012] Trial 48 finished with value: 979.1706667080277 and parameters: {'lambda_l1': 0.001812852091276137, 'lambda_l2': 2.3606438808541267e-06, 'num_leaves': 104, 'feature_fraction': 0.8833161394520987, 'bagging_fraction': 0.7445757970481999, 'bagging_freq': 3, 'min_child_samples': 38}. Best is trial 23 with value: 901.5976848463749.\n"
     ]
    },
    {
     "name": "stdout",
     "output_type": "stream",
     "text": [
      "fin split 0\n",
      "fin split 1\n",
      "fin split 2\n",
      "fin split 3\n",
      "fin split 4\n"
     ]
    },
    {
     "name": "stderr",
     "output_type": "stream",
     "text": [
      "[I 2025-07-19 00:24:32,849] Trial 49 finished with value: 910.6570479974143 and parameters: {'lambda_l1': 0.03742483335394585, 'lambda_l2': 6.174877806060941e-06, 'num_leaves': 202, 'feature_fraction': 0.8467558154706433, 'bagging_fraction': 0.6777469969174792, 'bagging_freq': 2, 'min_child_samples': 8}. Best is trial 23 with value: 901.5976848463749.\n"
     ]
    },
    {
     "name": "stdout",
     "output_type": "stream",
     "text": [
      "fin split 0\n",
      "fin split 1\n",
      "fin split 2\n",
      "fin split 3\n",
      "fin split 4\n"
     ]
    },
    {
     "name": "stderr",
     "output_type": "stream",
     "text": [
      "[I 2025-07-19 00:25:21,894] Trial 50 finished with value: 981.2004089872578 and parameters: {'lambda_l1': 0.005721799124859605, 'lambda_l2': 6.589760931828737e-07, 'num_leaves': 245, 'feature_fraction': 0.7847201561777076, 'bagging_fraction': 0.9775973739002888, 'bagging_freq': 3, 'min_child_samples': 96}. Best is trial 23 with value: 901.5976848463749.\n"
     ]
    },
    {
     "name": "stdout",
     "output_type": "stream",
     "text": [
      "fin split 0\n",
      "fin split 1\n",
      "fin split 2\n",
      "fin split 3\n",
      "fin split 4\n"
     ]
    },
    {
     "name": "stderr",
     "output_type": "stream",
     "text": [
      "[I 2025-07-19 00:26:31,459] Trial 51 finished with value: 944.0084652131355 and parameters: {'lambda_l1': 0.03702831490221126, 'lambda_l2': 3.113401976895816e-05, 'num_leaves': 204, 'feature_fraction': 0.8337266361950284, 'bagging_fraction': 0.6896664773424175, 'bagging_freq': 2, 'min_child_samples': 9}. Best is trial 23 with value: 901.5976848463749.\n"
     ]
    },
    {
     "name": "stdout",
     "output_type": "stream",
     "text": [
      "fin split 0\n",
      "fin split 1\n",
      "fin split 2\n",
      "fin split 3\n",
      "fin split 4\n"
     ]
    },
    {
     "name": "stderr",
     "output_type": "stream",
     "text": [
      "[I 2025-07-19 00:27:33,770] Trial 52 finished with value: 925.0764412169453 and parameters: {'lambda_l1': 0.13130940141136097, 'lambda_l2': 5.493265536288252e-06, 'num_leaves': 195, 'feature_fraction': 0.9324303023675664, 'bagging_fraction': 0.6208894724705701, 'bagging_freq': 2, 'min_child_samples': 15}. Best is trial 23 with value: 901.5976848463749.\n"
     ]
    },
    {
     "name": "stdout",
     "output_type": "stream",
     "text": [
      "fin split 0\n",
      "fin split 1\n",
      "fin split 2\n",
      "fin split 3\n",
      "fin split 4\n"
     ]
    },
    {
     "name": "stderr",
     "output_type": "stream",
     "text": [
      "[I 2025-07-19 00:28:29,697] Trial 53 finished with value: 960.5088222231102 and parameters: {'lambda_l1': 0.00557425455274317, 'lambda_l2': 7.14412036109342e-06, 'num_leaves': 233, 'feature_fraction': 0.64619914235399, 'bagging_fraction': 0.6600207055568466, 'bagging_freq': 2, 'min_child_samples': 8}. Best is trial 23 with value: 901.5976848463749.\n"
     ]
    },
    {
     "name": "stdout",
     "output_type": "stream",
     "text": [
      "fin split 0\n",
      "fin split 1\n",
      "fin split 2\n",
      "fin split 3\n",
      "fin split 4\n"
     ]
    },
    {
     "name": "stderr",
     "output_type": "stream",
     "text": [
      "[I 2025-07-19 00:28:59,502] Trial 54 finished with value: 951.9131524868019 and parameters: {'lambda_l1': 0.0006105917962541128, 'lambda_l2': 0.00022012347867886097, 'num_leaves': 77, 'feature_fraction': 0.8308454798552359, 'bagging_fraction': 0.6573366692649998, 'bagging_freq': 1, 'min_child_samples': 21}. Best is trial 23 with value: 901.5976848463749.\n"
     ]
    },
    {
     "name": "stdout",
     "output_type": "stream",
     "text": [
      "fin split 0\n",
      "fin split 1\n",
      "fin split 2\n",
      "fin split 3\n",
      "fin split 4\n"
     ]
    },
    {
     "name": "stderr",
     "output_type": "stream",
     "text": [
      "[I 2025-07-19 00:30:09,907] Trial 55 finished with value: 930.4132109289442 and parameters: {'lambda_l1': 1.5176990569363723e-08, 'lambda_l2': 1.5281949994523444e-08, 'num_leaves': 220, 'feature_fraction': 0.8668432777035363, 'bagging_fraction': 0.7177224768162885, 'bagging_freq': 3, 'min_child_samples': 5}. Best is trial 23 with value: 901.5976848463749.\n"
     ]
    },
    {
     "name": "stdout",
     "output_type": "stream",
     "text": [
      "fin split 0\n",
      "fin split 1\n",
      "fin split 2\n",
      "fin split 3\n",
      "fin split 4\n"
     ]
    },
    {
     "name": "stderr",
     "output_type": "stream",
     "text": [
      "[I 2025-07-19 00:31:00,088] Trial 56 finished with value: 895.6937542666029 and parameters: {'lambda_l1': 8.592257747201532e-07, 'lambda_l2': 1.2535113560656659e-06, 'num_leaves': 207, 'feature_fraction': 0.6265003973816667, 'bagging_fraction': 0.8681118191161917, 'bagging_freq': 2, 'min_child_samples': 18}. Best is trial 56 with value: 895.6937542666029.\n"
     ]
    },
    {
     "name": "stdout",
     "output_type": "stream",
     "text": [
      "fin split 0\n",
      "fin split 1\n",
      "fin split 2\n",
      "fin split 3\n",
      "fin split 4\n"
     ]
    },
    {
     "name": "stderr",
     "output_type": "stream",
     "text": [
      "[I 2025-07-19 00:31:17,067] Trial 57 finished with value: 901.0093377790615 and parameters: {'lambda_l1': 7.343719305498885e-07, 'lambda_l2': 3.7346982452873e-07, 'num_leaves': 43, 'feature_fraction': 0.6211877355634381, 'bagging_fraction': 0.8655570391159468, 'bagging_freq': 7, 'min_child_samples': 18}. Best is trial 56 with value: 895.6937542666029.\n"
     ]
    },
    {
     "name": "stdout",
     "output_type": "stream",
     "text": [
      "fin split 0\n",
      "fin split 1\n",
      "fin split 2\n",
      "fin split 3\n",
      "fin split 4\n"
     ]
    },
    {
     "name": "stderr",
     "output_type": "stream",
     "text": [
      "[I 2025-07-19 00:31:34,034] Trial 58 finished with value: 942.4023680887219 and parameters: {'lambda_l1': 9.238925643425068e-07, 'lambda_l2': 5.3332608415753284e-08, 'num_leaves': 40, 'feature_fraction': 0.572129524467604, 'bagging_fraction': 0.8402626248337907, 'bagging_freq': 7, 'min_child_samples': 31}. Best is trial 56 with value: 895.6937542666029.\n"
     ]
    },
    {
     "name": "stdout",
     "output_type": "stream",
     "text": [
      "fin split 0\n",
      "fin split 1\n",
      "fin split 2\n",
      "fin split 3\n",
      "fin split 4\n"
     ]
    },
    {
     "name": "stderr",
     "output_type": "stream",
     "text": [
      "[I 2025-07-19 00:31:53,690] Trial 59 finished with value: 889.213360343606 and parameters: {'lambda_l1': 1.743672864066195e-06, 'lambda_l2': 1.8483077342615362e-07, 'num_leaves': 54, 'feature_fraction': 0.624035040483977, 'bagging_fraction': 0.9305359733053178, 'bagging_freq': 7, 'min_child_samples': 19}. Best is trial 59 with value: 889.213360343606.\n"
     ]
    },
    {
     "name": "stdout",
     "output_type": "stream",
     "text": [
      "fin split 0\n",
      "fin split 1\n",
      "fin split 2\n",
      "fin split 3\n",
      "fin split 4\n"
     ]
    },
    {
     "name": "stderr",
     "output_type": "stream",
     "text": [
      "[I 2025-07-19 00:32:15,548] Trial 60 finished with value: 918.3987129073721 and parameters: {'lambda_l1': 1.7324431000053662e-07, 'lambda_l2': 1.988924041888213e-07, 'num_leaves': 60, 'feature_fraction': 0.6217818939258913, 'bagging_fraction': 0.8757348641925948, 'bagging_freq': 7, 'min_child_samples': 19}. Best is trial 59 with value: 889.213360343606.\n"
     ]
    },
    {
     "name": "stdout",
     "output_type": "stream",
     "text": [
      "fin split 0\n",
      "fin split 1\n",
      "fin split 2\n",
      "fin split 3\n",
      "fin split 4\n"
     ]
    },
    {
     "name": "stderr",
     "output_type": "stream",
     "text": [
      "[I 2025-07-19 00:32:32,707] Trial 61 finished with value: 924.2693344549145 and parameters: {'lambda_l1': 3.3470615140859383e-06, 'lambda_l2': 1.0571784551110089e-06, 'num_leaves': 42, 'feature_fraction': 0.6663521289982618, 'bagging_fraction': 0.9316640389255019, 'bagging_freq': 7, 'min_child_samples': 25}. Best is trial 59 with value: 889.213360343606.\n"
     ]
    },
    {
     "name": "stdout",
     "output_type": "stream",
     "text": [
      "fin split 0\n",
      "fin split 1\n",
      "fin split 2\n",
      "fin split 3\n",
      "fin split 4\n"
     ]
    },
    {
     "name": "stderr",
     "output_type": "stream",
     "text": [
      "[I 2025-07-19 00:32:51,404] Trial 62 finished with value: 887.0311063946094 and parameters: {'lambda_l1': 6.841923299364319e-07, 'lambda_l2': 8.071207203807519e-08, 'num_leaves': 50, 'feature_fraction': 0.558394604656589, 'bagging_fraction': 0.96121800386895, 'bagging_freq': 6, 'min_child_samples': 17}. Best is trial 62 with value: 887.0311063946094.\n"
     ]
    },
    {
     "name": "stdout",
     "output_type": "stream",
     "text": [
      "fin split 0\n",
      "fin split 1\n",
      "fin split 2\n",
      "fin split 3\n",
      "fin split 4\n"
     ]
    },
    {
     "name": "stderr",
     "output_type": "stream",
     "text": [
      "[I 2025-07-19 00:33:00,361] Trial 63 finished with value: 875.6560510554848 and parameters: {'lambda_l1': 7.87426516169691e-07, 'lambda_l2': 4.822654675632081e-08, 'num_leaves': 13, 'feature_fraction': 0.5591412428683616, 'bagging_fraction': 0.9018531823115665, 'bagging_freq': 6, 'min_child_samples': 16}. Best is trial 63 with value: 875.6560510554848.\n"
     ]
    },
    {
     "name": "stdout",
     "output_type": "stream",
     "text": [
      "fin split 0\n",
      "fin split 1\n",
      "fin split 2\n",
      "fin split 3\n",
      "fin split 4\n"
     ]
    },
    {
     "name": "stderr",
     "output_type": "stream",
     "text": [
      "[I 2025-07-19 00:33:10,699] Trial 64 finished with value: 893.1818187269928 and parameters: {'lambda_l1': 7.16011320523338e-07, 'lambda_l2': 6.331146106334489e-08, 'num_leaves': 15, 'feature_fraction': 0.5607876141625843, 'bagging_fraction': 0.8641896900156778, 'bagging_freq': 6, 'min_child_samples': 15}. Best is trial 63 with value: 875.6560510554848.\n"
     ]
    },
    {
     "name": "stdout",
     "output_type": "stream",
     "text": [
      "fin split 0\n",
      "fin split 1\n",
      "fin split 2\n",
      "fin split 3\n",
      "fin split 4\n"
     ]
    },
    {
     "name": "stderr",
     "output_type": "stream",
     "text": [
      "[I 2025-07-19 00:33:18,534] Trial 65 finished with value: 909.7614437189328 and parameters: {'lambda_l1': 7.166831399763307e-07, 'lambda_l2': 2.926437270668107e-08, 'num_leaves': 11, 'feature_fraction': 0.5554856179479932, 'bagging_fraction': 0.858661314251259, 'bagging_freq': 6, 'min_child_samples': 13}. Best is trial 63 with value: 875.6560510554848.\n"
     ]
    },
    {
     "name": "stdout",
     "output_type": "stream",
     "text": [
      "fin split 0\n",
      "fin split 1\n",
      "fin split 2\n",
      "fin split 3\n",
      "fin split 4\n"
     ]
    },
    {
     "name": "stderr",
     "output_type": "stream",
     "text": [
      "[I 2025-07-19 00:33:36,618] Trial 66 finished with value: 904.5434534527576 and parameters: {'lambda_l1': 4.2504569563674893e-07, 'lambda_l2': 1.5117062101106847e-07, 'num_leaves': 53, 'feature_fraction': 0.5894638619624211, 'bagging_fraction': 0.901102191371897, 'bagging_freq': 6, 'min_child_samples': 16}. Best is trial 63 with value: 875.6560510554848.\n"
     ]
    },
    {
     "name": "stdout",
     "output_type": "stream",
     "text": [
      "fin split 0\n",
      "fin split 1\n",
      "fin split 2\n",
      "fin split 3\n",
      "fin split 4\n"
     ]
    },
    {
     "name": "stderr",
     "output_type": "stream",
     "text": [
      "[I 2025-07-19 00:33:50,493] Trial 67 finished with value: 963.325246589841 and parameters: {'lambda_l1': 1.946710796879201e-06, 'lambda_l2': 4.021512663174475e-07, 'num_leaves': 33, 'feature_fraction': 0.5190451562287732, 'bagging_fraction': 0.8179152997022375, 'bagging_freq': 5, 'min_child_samples': 23}. Best is trial 63 with value: 875.6560510554848.\n"
     ]
    },
    {
     "name": "stdout",
     "output_type": "stream",
     "text": [
      "fin split 0\n",
      "fin split 1\n",
      "fin split 2\n",
      "fin split 3\n",
      "fin split 4\n"
     ]
    },
    {
     "name": "stderr",
     "output_type": "stream",
     "text": [
      "[I 2025-07-19 00:33:59,843] Trial 68 finished with value: 910.5856520310831 and parameters: {'lambda_l1': 1.0977019869920075e-07, 'lambda_l2': 5.6034478054983844e-08, 'num_leaves': 11, 'feature_fraction': 0.4734623806755173, 'bagging_fraction': 0.872750357793321, 'bagging_freq': 6, 'min_child_samples': 29}. Best is trial 63 with value: 875.6560510554848.\n"
     ]
    },
    {
     "name": "stdout",
     "output_type": "stream",
     "text": [
      "fin split 0\n",
      "fin split 1\n",
      "fin split 2\n",
      "fin split 3\n",
      "fin split 4\n"
     ]
    },
    {
     "name": "stderr",
     "output_type": "stream",
     "text": [
      "[I 2025-07-19 00:34:10,999] Trial 69 finished with value: 876.3342875912158 and parameters: {'lambda_l1': 8.473939401707835e-06, 'lambda_l2': 1.2249619177953844e-07, 'num_leaves': 18, 'feature_fraction': 0.6339882129606166, 'bagging_fraction': 0.9151345927475819, 'bagging_freq': 7, 'min_child_samples': 13}. Best is trial 63 with value: 875.6560510554848.\n"
     ]
    },
    {
     "name": "stdout",
     "output_type": "stream",
     "text": [
      "fin split 0\n",
      "fin split 1\n",
      "fin split 2\n",
      "fin split 3\n",
      "fin split 4\n"
     ]
    },
    {
     "name": "stderr",
     "output_type": "stream",
     "text": [
      "[I 2025-07-19 00:34:17,755] Trial 70 finished with value: 1093.2757215123866 and parameters: {'lambda_l1': 6.002849499026962e-06, 'lambda_l2': 1.056555362030128e-07, 'num_leaves': 3, 'feature_fraction': 0.691534601161643, 'bagging_fraction': 0.9179244230757914, 'bagging_freq': 7, 'min_child_samples': 13}. Best is trial 63 with value: 875.6560510554848.\n"
     ]
    },
    {
     "name": "stdout",
     "output_type": "stream",
     "text": [
      "fin split 0\n",
      "fin split 1\n",
      "fin split 2\n",
      "fin split 3\n",
      "fin split 4\n"
     ]
    },
    {
     "name": "stderr",
     "output_type": "stream",
     "text": [
      "[I 2025-07-19 00:34:33,732] Trial 71 finished with value: 897.0298465964842 and parameters: {'lambda_l1': 1.6058154594150334e-06, 'lambda_l2': 3.638550530949825e-08, 'num_leaves': 34, 'feature_fraction': 0.6170777325634818, 'bagging_fraction': 0.9025972167754284, 'bagging_freq': 7, 'min_child_samples': 21}. Best is trial 63 with value: 875.6560510554848.\n"
     ]
    },
    {
     "name": "stdout",
     "output_type": "stream",
     "text": [
      "fin split 0\n",
      "fin split 1\n",
      "fin split 2\n",
      "fin split 3\n",
      "fin split 4\n"
     ]
    },
    {
     "name": "stderr",
     "output_type": "stream",
     "text": [
      "[I 2025-07-19 00:34:45,330] Trial 72 finished with value: 895.1822405545208 and parameters: {'lambda_l1': 1.7634226975911784e-06, 'lambda_l2': 2.7526438697234626e-08, 'num_leaves': 18, 'feature_fraction': 0.636465763937515, 'bagging_fraction': 0.8492688085117155, 'bagging_freq': 7, 'min_child_samples': 20}. Best is trial 63 with value: 875.6560510554848.\n"
     ]
    },
    {
     "name": "stdout",
     "output_type": "stream",
     "text": [
      "fin split 0\n",
      "fin split 1\n",
      "fin split 2\n",
      "fin split 3\n",
      "fin split 4\n"
     ]
    },
    {
     "name": "stderr",
     "output_type": "stream",
     "text": [
      "[I 2025-07-19 00:35:01,071] Trial 73 finished with value: 915.8605253046455 and parameters: {'lambda_l1': 1.7210991303715105e-06, 'lambda_l2': 2.9939565801549606e-08, 'num_leaves': 33, 'feature_fraction': 0.6474180640578272, 'bagging_fraction': 0.8466992475993962, 'bagging_freq': 7, 'min_child_samples': 22}. Best is trial 63 with value: 875.6560510554848.\n"
     ]
    },
    {
     "name": "stdout",
     "output_type": "stream",
     "text": [
      "fin split 0\n",
      "fin split 1\n",
      "fin split 2\n",
      "fin split 3\n",
      "fin split 4\n"
     ]
    },
    {
     "name": "stderr",
     "output_type": "stream",
     "text": [
      "[I 2025-07-19 00:35:11,180] Trial 74 finished with value: 868.42666953909 and parameters: {'lambda_l1': 1.0243644517438589e-05, 'lambda_l2': 1.1929268589855245e-08, 'num_leaves': 18, 'feature_fraction': 0.5848171688948023, 'bagging_fraction': 0.8800517597968338, 'bagging_freq': 6, 'min_child_samples': 11}. Best is trial 74 with value: 868.42666953909.\n"
     ]
    },
    {
     "name": "stdout",
     "output_type": "stream",
     "text": [
      "fin split 0\n",
      "fin split 1\n",
      "fin split 2\n",
      "fin split 3\n",
      "fin split 4\n"
     ]
    },
    {
     "name": "stderr",
     "output_type": "stream",
     "text": [
      "[I 2025-07-19 00:35:23,484] Trial 75 finished with value: 983.6806663269026 and parameters: {'lambda_l1': 1.2934515440919874e-05, 'lambda_l2': 1.070059347902466e-08, 'num_leaves': 19, 'feature_fraction': 0.5874353810090039, 'bagging_fraction': 0.8297038782371342, 'bagging_freq': 6, 'min_child_samples': 68}. Best is trial 74 with value: 868.42666953909.\n"
     ]
    },
    {
     "name": "stdout",
     "output_type": "stream",
     "text": [
      "fin split 0\n",
      "fin split 1\n",
      "fin split 2\n",
      "fin split 3\n",
      "fin split 4\n"
     ]
    },
    {
     "name": "stderr",
     "output_type": "stream",
     "text": [
      "[I 2025-07-19 00:35:35,758] Trial 76 finished with value: 885.6514448739349 and parameters: {'lambda_l1': 3.91064488437207e-06, 'lambda_l2': 2.123880201919299e-08, 'num_leaves': 19, 'feature_fraction': 0.5521182484700763, 'bagging_fraction': 0.8838377569157893, 'bagging_freq': 6, 'min_child_samples': 11}. Best is trial 74 with value: 868.42666953909.\n"
     ]
    },
    {
     "name": "stdout",
     "output_type": "stream",
     "text": [
      "fin split 0\n",
      "fin split 1\n",
      "fin split 2\n",
      "fin split 3\n",
      "fin split 4\n"
     ]
    },
    {
     "name": "stderr",
     "output_type": "stream",
     "text": [
      "[I 2025-07-19 00:35:45,312] Trial 77 finished with value: 864.912615148984 and parameters: {'lambda_l1': 3.715940902830883e-06, 'lambda_l2': 2.023362571647966e-08, 'num_leaves': 17, 'feature_fraction': 0.5467083452885843, 'bagging_fraction': 0.8554490103416361, 'bagging_freq': 6, 'min_child_samples': 11}. Best is trial 77 with value: 864.912615148984.\n"
     ]
    },
    {
     "name": "stdout",
     "output_type": "stream",
     "text": [
      "fin split 0\n",
      "fin split 1\n",
      "fin split 2\n",
      "fin split 3\n",
      "fin split 4\n"
     ]
    },
    {
     "name": "stderr",
     "output_type": "stream",
     "text": [
      "[I 2025-07-19 00:35:54,111] Trial 78 finished with value: 920.5774131390797 and parameters: {'lambda_l1': 4.114729038040264e-06, 'lambda_l2': 1.7248684049730207e-08, 'num_leaves': 10, 'feature_fraction': 0.5476795723714949, 'bagging_fraction': 0.8811206559646412, 'bagging_freq': 5, 'min_child_samples': 9}. Best is trial 77 with value: 864.912615148984.\n"
     ]
    },
    {
     "name": "stdout",
     "output_type": "stream",
     "text": [
      "fin split 0\n",
      "fin split 1\n",
      "fin split 2\n",
      "fin split 3\n",
      "fin split 4\n"
     ]
    },
    {
     "name": "stderr",
     "output_type": "stream",
     "text": [
      "[I 2025-07-19 00:36:11,952] Trial 79 finished with value: 863.4974917130813 and parameters: {'lambda_l1': 2.978462593957004e-05, 'lambda_l2': 9.615839092457446e-08, 'num_leaves': 52, 'feature_fraction': 0.5304374482485689, 'bagging_fraction': 0.89420034344542, 'bagging_freq': 6, 'min_child_samples': 12}. Best is trial 79 with value: 863.4974917130813.\n"
     ]
    },
    {
     "name": "stdout",
     "output_type": "stream",
     "text": [
      "fin split 0\n",
      "fin split 1\n",
      "fin split 2\n",
      "fin split 3\n",
      "fin split 4\n"
     ]
    },
    {
     "name": "stderr",
     "output_type": "stream",
     "text": [
      "[I 2025-07-19 00:36:33,618] Trial 80 finished with value: 871.4044279687866 and parameters: {'lambda_l1': 2.649878365992357e-05, 'lambda_l2': 1.1613240235440308e-07, 'num_leaves': 66, 'feature_fraction': 0.5262275870190529, 'bagging_fraction': 0.908508440208768, 'bagging_freq': 5, 'min_child_samples': 11}. Best is trial 79 with value: 863.4974917130813.\n"
     ]
    },
    {
     "name": "stdout",
     "output_type": "stream",
     "text": [
      "fin split 0\n",
      "fin split 1\n",
      "fin split 2\n",
      "fin split 3\n",
      "fin split 4\n"
     ]
    },
    {
     "name": "stderr",
     "output_type": "stream",
     "text": [
      "[I 2025-07-19 00:36:54,994] Trial 81 finished with value: 886.5529144176802 and parameters: {'lambda_l1': 3.217708917414072e-05, 'lambda_l2': 1.0568072728473201e-07, 'num_leaves': 65, 'feature_fraction': 0.5254547256358744, 'bagging_fraction': 0.9118124051412945, 'bagging_freq': 5, 'min_child_samples': 6}. Best is trial 79 with value: 863.4974917130813.\n"
     ]
    },
    {
     "name": "stdout",
     "output_type": "stream",
     "text": [
      "fin split 0\n",
      "fin split 1\n",
      "fin split 2\n",
      "fin split 3\n",
      "fin split 4\n"
     ]
    },
    {
     "name": "stderr",
     "output_type": "stream",
     "text": [
      "[I 2025-07-19 00:37:14,795] Trial 82 finished with value: 887.238653575494 and parameters: {'lambda_l1': 3.9394225425010936e-05, 'lambda_l2': 9.583320767151584e-08, 'num_leaves': 63, 'feature_fraction': 0.5354271631177784, 'bagging_fraction': 0.894911299407016, 'bagging_freq': 5, 'min_child_samples': 7}. Best is trial 79 with value: 863.4974917130813.\n"
     ]
    },
    {
     "name": "stdout",
     "output_type": "stream",
     "text": [
      "fin split 0\n",
      "fin split 1\n",
      "fin split 2\n",
      "fin split 3\n",
      "fin split 4\n"
     ]
    },
    {
     "name": "stderr",
     "output_type": "stream",
     "text": [
      "[I 2025-07-19 00:37:37,627] Trial 83 finished with value: 910.7708252294656 and parameters: {'lambda_l1': 1.0866629887096255e-05, 'lambda_l2': 1.8847664984793913e-08, 'num_leaves': 85, 'feature_fraction': 0.5131827325764274, 'bagging_fraction': 0.9085540825596847, 'bagging_freq': 6, 'min_child_samples': 11}. Best is trial 79 with value: 863.4974917130813.\n"
     ]
    },
    {
     "name": "stdout",
     "output_type": "stream",
     "text": [
      "fin split 0\n",
      "fin split 1\n",
      "fin split 2\n",
      "fin split 3\n",
      "fin split 4\n"
     ]
    },
    {
     "name": "stderr",
     "output_type": "stream",
     "text": [
      "[I 2025-07-19 00:37:48,917] Trial 84 finished with value: 870.6631742202217 and parameters: {'lambda_l1': 2.31263529800107e-05, 'lambda_l2': 3.634447139415713e-07, 'num_leaves': 23, 'feature_fraction': 0.5067398879538934, 'bagging_fraction': 0.9516721843108531, 'bagging_freq': 5, 'min_child_samples': 7}. Best is trial 79 with value: 863.4974917130813.\n"
     ]
    },
    {
     "name": "stdout",
     "output_type": "stream",
     "text": [
      "fin split 0\n",
      "fin split 1\n",
      "fin split 2\n",
      "fin split 3\n",
      "fin split 4\n"
     ]
    },
    {
     "name": "stderr",
     "output_type": "stream",
     "text": [
      "[I 2025-07-19 00:38:01,254] Trial 85 finished with value: 883.6537668286621 and parameters: {'lambda_l1': 9.793775338886365e-05, 'lambda_l2': 3.392125241163212e-07, 'num_leaves': 23, 'feature_fraction': 0.496741564863139, 'bagging_fraction': 0.9205315741529757, 'bagging_freq': 5, 'min_child_samples': 5}. Best is trial 79 with value: 863.4974917130813.\n"
     ]
    },
    {
     "name": "stdout",
     "output_type": "stream",
     "text": [
      "fin split 0\n",
      "fin split 1\n",
      "fin split 2\n",
      "fin split 3\n",
      "fin split 4\n"
     ]
    },
    {
     "name": "stderr",
     "output_type": "stream",
     "text": [
      "[I 2025-07-19 00:38:14,053] Trial 86 finished with value: 849.6125113881753 and parameters: {'lambda_l1': 0.00010143748565471506, 'lambda_l2': 3.2226309762319934e-07, 'num_leaves': 25, 'feature_fraction': 0.4970593224155153, 'bagging_fraction': 0.9247352995341063, 'bagging_freq': 5, 'min_child_samples': 11}. Best is trial 86 with value: 849.6125113881753.\n"
     ]
    },
    {
     "name": "stdout",
     "output_type": "stream",
     "text": [
      "fin split 0\n",
      "fin split 1\n",
      "fin split 2\n",
      "fin split 3\n",
      "fin split 4\n"
     ]
    },
    {
     "name": "stderr",
     "output_type": "stream",
     "text": [
      "[I 2025-07-19 00:38:27,111] Trial 87 finished with value: 850.0763735974429 and parameters: {'lambda_l1': 0.00011042898662068467, 'lambda_l2': 6.252971056294299e-07, 'num_leaves': 28, 'feature_fraction': 0.5040446614419553, 'bagging_fraction': 0.9490832663141835, 'bagging_freq': 5, 'min_child_samples': 7}. Best is trial 86 with value: 849.6125113881753.\n"
     ]
    },
    {
     "name": "stdout",
     "output_type": "stream",
     "text": [
      "fin split 0\n",
      "fin split 1\n",
      "fin split 2\n",
      "fin split 3\n",
      "fin split 4\n"
     ]
    },
    {
     "name": "stderr",
     "output_type": "stream",
     "text": [
      "[I 2025-07-19 00:38:39,925] Trial 88 finished with value: 875.2219608830005 and parameters: {'lambda_l1': 0.00022352783355012362, 'lambda_l2': 6.342204793223566e-07, 'num_leaves': 29, 'feature_fraction': 0.4744606953475206, 'bagging_fraction': 0.9523205618009842, 'bagging_freq': 5, 'min_child_samples': 13}. Best is trial 86 with value: 849.6125113881753.\n"
     ]
    },
    {
     "name": "stdout",
     "output_type": "stream",
     "text": [
      "fin split 0\n",
      "fin split 1\n",
      "fin split 2\n",
      "fin split 3\n",
      "fin split 4\n"
     ]
    },
    {
     "name": "stderr",
     "output_type": "stream",
     "text": [
      "[I 2025-07-19 00:38:52,911] Trial 89 finished with value: 861.6253872467287 and parameters: {'lambda_l1': 0.00023984868912833155, 'lambda_l2': 6.062097023450219e-07, 'num_leaves': 29, 'feature_fraction': 0.4710385054572238, 'bagging_fraction': 0.9492019683803333, 'bagging_freq': 5, 'min_child_samples': 8}. Best is trial 86 with value: 849.6125113881753.\n"
     ]
    },
    {
     "name": "stdout",
     "output_type": "stream",
     "text": [
      "fin split 0\n",
      "fin split 1\n",
      "fin split 2\n",
      "fin split 3\n",
      "fin split 4\n"
     ]
    },
    {
     "name": "stderr",
     "output_type": "stream",
     "text": [
      "[I 2025-07-19 00:39:06,820] Trial 90 finished with value: 853.5651633389522 and parameters: {'lambda_l1': 0.0003765977637663638, 'lambda_l2': 1.8735386285889936e-06, 'num_leaves': 30, 'feature_fraction': 0.4708293618804959, 'bagging_fraction': 0.9485310899426995, 'bagging_freq': 5, 'min_child_samples': 10}. Best is trial 86 with value: 849.6125113881753.\n"
     ]
    },
    {
     "name": "stdout",
     "output_type": "stream",
     "text": [
      "fin split 0\n",
      "fin split 1\n",
      "fin split 2\n",
      "fin split 3\n",
      "fin split 4\n"
     ]
    },
    {
     "name": "stderr",
     "output_type": "stream",
     "text": [
      "[I 2025-07-19 00:39:19,243] Trial 91 finished with value: 865.8326982587512 and parameters: {'lambda_l1': 0.00024551130985768743, 'lambda_l2': 1.604514518125118e-06, 'num_leaves': 27, 'feature_fraction': 0.47842423405133944, 'bagging_fraction': 0.9401174212847805, 'bagging_freq': 5, 'min_child_samples': 9}. Best is trial 86 with value: 849.6125113881753.\n"
     ]
    },
    {
     "name": "stdout",
     "output_type": "stream",
     "text": [
      "fin split 0\n",
      "fin split 1\n",
      "fin split 2\n",
      "fin split 3\n",
      "fin split 4\n"
     ]
    },
    {
     "name": "stderr",
     "output_type": "stream",
     "text": [
      "[I 2025-07-19 00:39:31,439] Trial 92 finished with value: 849.0757504858492 and parameters: {'lambda_l1': 8.087985537447311e-05, 'lambda_l2': 1.831984924129657e-06, 'num_leaves': 37, 'feature_fraction': 0.41864259832648815, 'bagging_fraction': 0.9506332658562687, 'bagging_freq': 5, 'min_child_samples': 9}. Best is trial 92 with value: 849.0757504858492.\n"
     ]
    },
    {
     "name": "stdout",
     "output_type": "stream",
     "text": [
      "fin split 0\n",
      "fin split 1\n",
      "fin split 2\n",
      "fin split 3\n",
      "fin split 4\n"
     ]
    },
    {
     "name": "stderr",
     "output_type": "stream",
     "text": [
      "[I 2025-07-19 00:39:44,225] Trial 93 finished with value: 848.190308255793 and parameters: {'lambda_l1': 0.0003708620218111596, 'lambda_l2': 2.163746499956645e-06, 'num_leaves': 37, 'feature_fraction': 0.42952803919287663, 'bagging_fraction': 0.9494058901821757, 'bagging_freq': 4, 'min_child_samples': 8}. Best is trial 93 with value: 848.190308255793.\n"
     ]
    },
    {
     "name": "stdout",
     "output_type": "stream",
     "text": [
      "fin split 0\n",
      "fin split 1\n",
      "fin split 2\n",
      "fin split 3\n",
      "fin split 4\n"
     ]
    },
    {
     "name": "stderr",
     "output_type": "stream",
     "text": [
      "[I 2025-07-19 00:39:57,559] Trial 94 finished with value: 865.7241001606383 and parameters: {'lambda_l1': 0.0004134164336414613, 'lambda_l2': 1.5150534884241877e-06, 'num_leaves': 38, 'feature_fraction': 0.4220336128720936, 'bagging_fraction': 0.9432960578015394, 'bagging_freq': 4, 'min_child_samples': 9}. Best is trial 93 with value: 848.190308255793.\n"
     ]
    },
    {
     "name": "stdout",
     "output_type": "stream",
     "text": [
      "fin split 0\n",
      "fin split 1\n",
      "fin split 2\n",
      "fin split 3\n",
      "fin split 4\n"
     ]
    },
    {
     "name": "stderr",
     "output_type": "stream",
     "text": [
      "[I 2025-07-19 00:40:11,022] Trial 95 finished with value: 867.7417362318802 and parameters: {'lambda_l1': 0.0003698555744593222, 'lambda_l2': 1.8000747061092322e-06, 'num_leaves': 38, 'feature_fraction': 0.4136116062992907, 'bagging_fraction': 0.9471819853752494, 'bagging_freq': 4, 'min_child_samples': 9}. Best is trial 93 with value: 848.190308255793.\n"
     ]
    },
    {
     "name": "stdout",
     "output_type": "stream",
     "text": [
      "fin split 0\n",
      "fin split 1\n",
      "fin split 2\n",
      "fin split 3\n",
      "fin split 4\n"
     ]
    },
    {
     "name": "stderr",
     "output_type": "stream",
     "text": [
      "[I 2025-07-19 00:40:17,628] Trial 96 finished with value: 1094.1099777356594 and parameters: {'lambda_l1': 0.0007340974295804028, 'lambda_l2': 3.8497091669307174e-06, 'num_leaves': 3, 'feature_fraction': 0.44056341526370674, 'bagging_fraction': 0.9616497536818409, 'bagging_freq': 4, 'min_child_samples': 8}. Best is trial 93 with value: 848.190308255793.\n"
     ]
    },
    {
     "name": "stdout",
     "output_type": "stream",
     "text": [
      "fin split 0\n",
      "fin split 1\n",
      "fin split 2\n",
      "fin split 3\n",
      "fin split 4\n"
     ]
    },
    {
     "name": "stderr",
     "output_type": "stream",
     "text": [
      "[I 2025-07-19 00:40:31,703] Trial 97 finished with value: 869.6514463590665 and parameters: {'lambda_l1': 0.0001478284591666744, 'lambda_l2': 1.667459893971591e-06, 'num_leaves': 31, 'feature_fraction': 0.4431311920592008, 'bagging_fraction': 0.9414905256937183, 'bagging_freq': 4, 'min_child_samples': 5}. Best is trial 93 with value: 848.190308255793.\n"
     ]
    },
    {
     "name": "stdout",
     "output_type": "stream",
     "text": [
      "fin split 0\n",
      "fin split 1\n",
      "fin split 2\n",
      "fin split 3\n",
      "fin split 4\n"
     ]
    },
    {
     "name": "stderr",
     "output_type": "stream",
     "text": [
      "[I 2025-07-19 00:40:48,056] Trial 98 finished with value: 965.4829360641568 and parameters: {'lambda_l1': 0.00025264924224038663, 'lambda_l2': 7.323594277405923e-07, 'num_leaves': 49, 'feature_fraction': 0.4148977236865054, 'bagging_fraction': 0.9843169247094908, 'bagging_freq': 5, 'min_child_samples': 55}. Best is trial 93 with value: 848.190308255793.\n"
     ]
    },
    {
     "name": "stdout",
     "output_type": "stream",
     "text": [
      "fin split 0\n",
      "fin split 1\n",
      "fin split 2\n",
      "fin split 3\n",
      "fin split 4\n"
     ]
    },
    {
     "name": "stderr",
     "output_type": "stream",
     "text": [
      "[I 2025-07-19 00:41:01,933] Trial 99 finished with value: 860.953241761596 and parameters: {'lambda_l1': 7.177115740237975e-05, 'lambda_l2': 1.0168701644991941e-05, 'num_leaves': 38, 'feature_fraction': 0.47132964994841764, 'bagging_fraction': 0.9245846242186988, 'bagging_freq': 4, 'min_child_samples': 9}. Best is trial 93 with value: 848.190308255793.\n"
     ]
    },
    {
     "name": "stdout",
     "output_type": "stream",
     "text": [
      "fin split 0\n",
      "fin split 1\n",
      "fin split 2\n",
      "fin split 3\n",
      "fin split 4\n"
     ]
    },
    {
     "name": "stderr",
     "output_type": "stream",
     "text": [
      "[I 2025-07-19 00:41:15,223] Trial 100 finished with value: 858.411932534566 and parameters: {'lambda_l1': 6.998899978225791e-05, 'lambda_l2': 9.509737552079537e-06, 'num_leaves': 37, 'feature_fraction': 0.4600862862821913, 'bagging_fraction': 0.9248735863758243, 'bagging_freq': 4, 'min_child_samples': 14}. Best is trial 93 with value: 848.190308255793.\n"
     ]
    },
    {
     "name": "stdout",
     "output_type": "stream",
     "text": [
      "fin split 0\n",
      "fin split 1\n",
      "fin split 2\n",
      "fin split 3\n",
      "fin split 4\n"
     ]
    },
    {
     "name": "stderr",
     "output_type": "stream",
     "text": [
      "[I 2025-07-19 00:41:33,323] Trial 101 finished with value: 858.3221872991198 and parameters: {'lambda_l1': 5.865754061838067e-05, 'lambda_l2': 1.0098598357798684e-05, 'num_leaves': 38, 'feature_fraction': 0.4579061805527608, 'bagging_fraction': 0.9272237920813067, 'bagging_freq': 4, 'min_child_samples': 14}. Best is trial 93 with value: 848.190308255793.\n"
     ]
    },
    {
     "name": "stdout",
     "output_type": "stream",
     "text": [
      "fin split 0\n",
      "fin split 1\n",
      "fin split 2\n",
      "fin split 3\n",
      "fin split 4\n"
     ]
    },
    {
     "name": "stderr",
     "output_type": "stream",
     "text": [
      "[I 2025-07-19 00:41:52,070] Trial 102 finished with value: 870.3580263805696 and parameters: {'lambda_l1': 8.899170882078794e-05, 'lambda_l2': 9.6459476939338e-06, 'num_leaves': 46, 'feature_fraction': 0.46524679919101614, 'bagging_fraction': 0.9254832284155867, 'bagging_freq': 4, 'min_child_samples': 15}. Best is trial 93 with value: 848.190308255793.\n"
     ]
    },
    {
     "name": "stdout",
     "output_type": "stream",
     "text": [
      "fin split 0\n",
      "fin split 1\n",
      "fin split 2\n",
      "fin split 3\n",
      "fin split 4\n"
     ]
    },
    {
     "name": "stderr",
     "output_type": "stream",
     "text": [
      "[I 2025-07-19 00:42:06,793] Trial 103 finished with value: 833.0337454106916 and parameters: {'lambda_l1': 4.609506502044442e-05, 'lambda_l2': 3.352930339811294e-06, 'num_leaves': 38, 'feature_fraction': 0.44301509753698676, 'bagging_fraction': 0.9571895850609828, 'bagging_freq': 4, 'min_child_samples': 7}. Best is trial 103 with value: 833.0337454106916.\n"
     ]
    },
    {
     "name": "stdout",
     "output_type": "stream",
     "text": [
      "fin split 0\n",
      "fin split 1\n",
      "fin split 2\n",
      "fin split 3\n",
      "fin split 4\n"
     ]
    },
    {
     "name": "stderr",
     "output_type": "stream",
     "text": [
      "[I 2025-07-19 00:42:20,419] Trial 104 finished with value: 850.6352743943041 and parameters: {'lambda_l1': 5.5131003551228496e-05, 'lambda_l2': 8.277713529783532e-06, 'num_leaves': 38, 'feature_fraction': 0.4544015156669475, 'bagging_fraction': 0.9560079182265607, 'bagging_freq': 4, 'min_child_samples': 7}. Best is trial 103 with value: 833.0337454106916.\n"
     ]
    },
    {
     "name": "stdout",
     "output_type": "stream",
     "text": [
      "fin split 0\n",
      "fin split 1\n",
      "fin split 2\n",
      "fin split 3\n",
      "fin split 4\n"
     ]
    },
    {
     "name": "stderr",
     "output_type": "stream",
     "text": [
      "[I 2025-07-19 00:42:34,137] Trial 105 finished with value: 840.0705270358861 and parameters: {'lambda_l1': 6.81695858981523e-05, 'lambda_l2': 1.9814517407322313e-05, 'num_leaves': 36, 'feature_fraction': 0.44658588115652853, 'bagging_fraction': 0.9676707903875106, 'bagging_freq': 4, 'min_child_samples': 7}. Best is trial 103 with value: 833.0337454106916.\n"
     ]
    },
    {
     "name": "stdout",
     "output_type": "stream",
     "text": [
      "fin split 0\n",
      "fin split 1\n",
      "fin split 2\n",
      "fin split 3\n",
      "fin split 4\n"
     ]
    },
    {
     "name": "stderr",
     "output_type": "stream",
     "text": [
      "[I 2025-07-19 00:42:47,101] Trial 106 finished with value: 843.5509917056963 and parameters: {'lambda_l1': 6.878548071545034e-05, 'lambda_l2': 2.0942000826507974e-05, 'num_leaves': 38, 'feature_fraction': 0.44999432289048885, 'bagging_fraction': 0.9711820644507554, 'bagging_freq': 4, 'min_child_samples': 7}. Best is trial 103 with value: 833.0337454106916.\n"
     ]
    },
    {
     "name": "stdout",
     "output_type": "stream",
     "text": [
      "fin split 0\n",
      "fin split 1\n",
      "fin split 2\n",
      "fin split 3\n",
      "fin split 4\n"
     ]
    },
    {
     "name": "stderr",
     "output_type": "stream",
     "text": [
      "[I 2025-07-19 00:43:01,753] Trial 107 finished with value: 863.6771685995161 and parameters: {'lambda_l1': 4.262158693329763e-05, 'lambda_l2': 2.212939343509895e-05, 'num_leaves': 42, 'feature_fraction': 0.4517835746226225, 'bagging_fraction': 0.9904977438743825, 'bagging_freq': 4, 'min_child_samples': 6}. Best is trial 103 with value: 833.0337454106916.\n"
     ]
    },
    {
     "name": "stdout",
     "output_type": "stream",
     "text": [
      "fin split 0\n",
      "fin split 1\n",
      "fin split 2\n",
      "fin split 3\n",
      "fin split 4\n"
     ]
    },
    {
     "name": "stderr",
     "output_type": "stream",
     "text": [
      "[I 2025-07-19 00:43:18,091] Trial 108 finished with value: 883.2439419120618 and parameters: {'lambda_l1': 0.00013548733773566043, 'lambda_l2': 3.48910052249291e-06, 'num_leaves': 57, 'feature_fraction': 0.4361536046095627, 'bagging_fraction': 0.9708201658314799, 'bagging_freq': 4, 'min_child_samples': 14}. Best is trial 103 with value: 833.0337454106916.\n"
     ]
    },
    {
     "name": "stdout",
     "output_type": "stream",
     "text": [
      "fin split 0\n",
      "fin split 1\n",
      "fin split 2\n",
      "fin split 3\n",
      "fin split 4\n"
     ]
    },
    {
     "name": "stderr",
     "output_type": "stream",
     "text": [
      "[I 2025-07-19 00:43:34,544] Trial 109 finished with value: 852.3107237913946 and parameters: {'lambda_l1': 0.0010067746636037668, 'lambda_l2': 4.697409545851398e-05, 'num_leaves': 47, 'feature_fraction': 0.45431256009704957, 'bagging_fraction': 0.9630653034165642, 'bagging_freq': 4, 'min_child_samples': 7}. Best is trial 103 with value: 833.0337454106916.\n"
     ]
    },
    {
     "name": "stdout",
     "output_type": "stream",
     "text": [
      "fin split 0\n",
      "fin split 1\n",
      "fin split 2\n",
      "fin split 3\n",
      "fin split 4\n"
     ]
    },
    {
     "name": "stderr",
     "output_type": "stream",
     "text": [
      "[I 2025-07-19 00:43:49,535] Trial 110 finished with value: 862.3389793288462 and parameters: {'lambda_l1': 0.0011978030576947649, 'lambda_l2': 4.274272376462855e-05, 'num_leaves': 46, 'feature_fraction': 0.4008696800167406, 'bagging_fraction': 0.9779086685834162, 'bagging_freq': 4, 'min_child_samples': 7}. Best is trial 103 with value: 833.0337454106916.\n"
     ]
    },
    {
     "name": "stdout",
     "output_type": "stream",
     "text": [
      "fin split 0\n",
      "fin split 1\n",
      "fin split 2\n",
      "fin split 3\n",
      "fin split 4\n"
     ]
    },
    {
     "name": "stderr",
     "output_type": "stream",
     "text": [
      "[I 2025-07-19 00:44:03,245] Trial 111 finished with value: 860.4469871163299 and parameters: {'lambda_l1': 4.88819956717479e-05, 'lambda_l2': 1.2683676158318077e-05, 'num_leaves': 36, 'feature_fraction': 0.4537383863637494, 'bagging_fraction': 0.9643904072034374, 'bagging_freq': 4, 'min_child_samples': 5}. Best is trial 103 with value: 833.0337454106916.\n"
     ]
    },
    {
     "name": "stdout",
     "output_type": "stream",
     "text": [
      "fin split 0\n",
      "fin split 1\n",
      "fin split 2\n",
      "fin split 3\n",
      "fin split 4\n"
     ]
    },
    {
     "name": "stderr",
     "output_type": "stream",
     "text": [
      "[I 2025-07-19 00:44:13,731] Trial 112 finished with value: 856.2428285790182 and parameters: {'lambda_l1': 0.0008675079697593953, 'lambda_l2': 3.0799055822679755e-06, 'num_leaves': 23, 'feature_fraction': 0.4281959875781949, 'bagging_fraction': 0.9595103569902131, 'bagging_freq': 4, 'min_child_samples': 7}. Best is trial 103 with value: 833.0337454106916.\n"
     ]
    },
    {
     "name": "stdout",
     "output_type": "stream",
     "text": [
      "fin split 0\n",
      "fin split 1\n",
      "fin split 2\n",
      "fin split 3\n",
      "fin split 4\n"
     ]
    },
    {
     "name": "stderr",
     "output_type": "stream",
     "text": [
      "[I 2025-07-19 00:44:25,610] Trial 113 finished with value: 876.460200530921 and parameters: {'lambda_l1': 0.0008925069817016449, 'lambda_l2': 2.643478927697597e-06, 'num_leaves': 25, 'feature_fraction': 0.4269525868606259, 'bagging_fraction': 0.958126161483537, 'bagging_freq': 4, 'min_child_samples': 7}. Best is trial 103 with value: 833.0337454106916.\n"
     ]
    },
    {
     "name": "stdout",
     "output_type": "stream",
     "text": [
      "fin split 0\n",
      "fin split 1\n",
      "fin split 2\n",
      "fin split 3\n",
      "fin split 4\n"
     ]
    },
    {
     "name": "stderr",
     "output_type": "stream",
     "text": [
      "[I 2025-07-19 00:44:33,346] Trial 114 finished with value: 920.6405839773644 and parameters: {'lambda_l1': 0.002189816196320098, 'lambda_l2': 4.021014808354932e-06, 'num_leaves': 7, 'feature_fraction': 0.48834423882973527, 'bagging_fraction': 0.9825947818172054, 'bagging_freq': 4, 'min_child_samples': 10}. Best is trial 103 with value: 833.0337454106916.\n"
     ]
    },
    {
     "name": "stdout",
     "output_type": "stream",
     "text": [
      "fin split 0\n",
      "fin split 1\n",
      "fin split 2\n",
      "fin split 3\n",
      "fin split 4\n"
     ]
    },
    {
     "name": "stderr",
     "output_type": "stream",
     "text": [
      "[I 2025-07-19 00:44:47,876] Trial 115 finished with value: 843.0384707462924 and parameters: {'lambda_l1': 1.9862632597755345e-05, 'lambda_l2': 1.7337079419790087e-05, 'num_leaves': 46, 'feature_fraction': 0.41319112762975346, 'bagging_fraction': 0.9674264037665482, 'bagging_freq': 4, 'min_child_samples': 7}. Best is trial 103 with value: 833.0337454106916.\n"
     ]
    },
    {
     "name": "stdout",
     "output_type": "stream",
     "text": [
      "fin split 0\n",
      "fin split 1\n",
      "fin split 2\n",
      "fin split 3\n",
      "fin split 4\n"
     ]
    },
    {
     "name": "stderr",
     "output_type": "stream",
     "text": [
      "[I 2025-07-19 00:45:02,403] Trial 116 finished with value: 857.459996097775 and parameters: {'lambda_l1': 1.8073852505850704e-05, 'lambda_l2': 5.501288223443011e-05, 'num_leaves': 45, 'feature_fraction': 0.4128366553495182, 'bagging_fraction': 0.9568902683102106, 'bagging_freq': 4, 'min_child_samples': 5}. Best is trial 103 with value: 833.0337454106916.\n"
     ]
    },
    {
     "name": "stdout",
     "output_type": "stream",
     "text": [
      "fin split 0\n",
      "fin split 1\n",
      "fin split 2\n",
      "fin split 3\n",
      "fin split 4\n"
     ]
    },
    {
     "name": "stderr",
     "output_type": "stream",
     "text": [
      "[I 2025-07-19 00:45:23,491] Trial 117 finished with value: 949.2187427538063 and parameters: {'lambda_l1': 0.0015694255830238466, 'lambda_l2': 2.2952223649108778e-05, 'num_leaves': 71, 'feature_fraction': 0.4322935646949567, 'bagging_fraction': 0.9902334962899091, 'bagging_freq': 4, 'min_child_samples': 49}. Best is trial 103 with value: 833.0337454106916.\n"
     ]
    },
    {
     "name": "stdout",
     "output_type": "stream",
     "text": [
      "fin split 0\n",
      "fin split 1\n",
      "fin split 2\n",
      "fin split 3\n",
      "fin split 4\n"
     ]
    },
    {
     "name": "stderr",
     "output_type": "stream",
     "text": [
      "[I 2025-07-19 00:45:43,328] Trial 118 finished with value: 855.3697917872759 and parameters: {'lambda_l1': 0.00016319166077506292, 'lambda_l2': 1.710300237788053e-05, 'num_leaves': 57, 'feature_fraction': 0.4471423964641858, 'bagging_fraction': 0.9684040089716038, 'bagging_freq': 4, 'min_child_samples': 7}. Best is trial 103 with value: 833.0337454106916.\n"
     ]
    },
    {
     "name": "stdout",
     "output_type": "stream",
     "text": [
      "fin split 0\n",
      "fin split 1\n",
      "fin split 2\n",
      "fin split 3\n",
      "fin split 4\n"
     ]
    },
    {
     "name": "stderr",
     "output_type": "stream",
     "text": [
      "[I 2025-07-19 00:46:00,532] Trial 119 finished with value: 871.6412185293161 and parameters: {'lambda_l1': 0.003359380152738706, 'lambda_l2': 1.7155615652711324e-05, 'num_leaves': 56, 'feature_fraction': 0.4410029535830396, 'bagging_fraction': 0.9737489455086591, 'bagging_freq': 5, 'min_child_samples': 10}. Best is trial 103 with value: 833.0337454106916.\n"
     ]
    },
    {
     "name": "stdout",
     "output_type": "stream",
     "text": [
      "fin split 0\n",
      "fin split 1\n",
      "fin split 2\n",
      "fin split 3\n",
      "fin split 4\n"
     ]
    },
    {
     "name": "stderr",
     "output_type": "stream",
     "text": [
      "[I 2025-07-19 00:46:17,644] Trial 120 finished with value: 874.6883851422134 and parameters: {'lambda_l1': 0.00015008962327764388, 'lambda_l2': 1.940582848034144e-05, 'num_leaves': 50, 'feature_fraction': 0.5003187381784132, 'bagging_fraction': 0.9665519299752147, 'bagging_freq': 4, 'min_child_samples': 12}. Best is trial 103 with value: 833.0337454106916.\n"
     ]
    },
    {
     "name": "stdout",
     "output_type": "stream",
     "text": [
      "fin split 0\n",
      "fin split 1\n",
      "fin split 2\n",
      "fin split 3\n",
      "fin split 4\n"
     ]
    },
    {
     "name": "stderr",
     "output_type": "stream",
     "text": [
      "[I 2025-07-19 00:46:30,189] Trial 121 finished with value: 864.0705915342583 and parameters: {'lambda_l1': 0.000457723147421113, 'lambda_l2': 3.301278299186445e-05, 'num_leaves': 25, 'feature_fraction': 0.42179796312627693, 'bagging_fraction': 0.9649479637803602, 'bagging_freq': 4, 'min_child_samples': 6}. Best is trial 103 with value: 833.0337454106916.\n"
     ]
    },
    {
     "name": "stdout",
     "output_type": "stream",
     "text": [
      "fin split 0\n",
      "fin split 1\n",
      "fin split 2\n",
      "fin split 3\n",
      "fin split 4\n"
     ]
    },
    {
     "name": "stderr",
     "output_type": "stream",
     "text": [
      "[I 2025-07-19 00:46:43,220] Trial 122 finished with value: 867.6010068832827 and parameters: {'lambda_l1': 0.000107626007271008, 'lambda_l2': 8.736474109078748e-05, 'num_leaves': 33, 'feature_fraction': 0.44716105272183126, 'bagging_fraction': 0.9333975339296657, 'bagging_freq': 4, 'min_child_samples': 7}. Best is trial 103 with value: 833.0337454106916.\n"
     ]
    },
    {
     "name": "stdout",
     "output_type": "stream",
     "text": [
      "fin split 0\n",
      "fin split 1\n",
      "fin split 2\n",
      "fin split 3\n",
      "fin split 4\n"
     ]
    },
    {
     "name": "stderr",
     "output_type": "stream",
     "text": [
      "[I 2025-07-19 00:46:58,947] Trial 123 finished with value: 851.9329147228987 and parameters: {'lambda_l1': 0.00038861542120881406, 'lambda_l2': 5.760918783306832e-06, 'num_leaves': 42, 'feature_fraction': 0.4847220791769148, 'bagging_fraction': 0.9990736066687304, 'bagging_freq': 4, 'min_child_samples': 10}. Best is trial 103 with value: 833.0337454106916.\n"
     ]
    },
    {
     "name": "stdout",
     "output_type": "stream",
     "text": [
      "fin split 0\n",
      "fin split 1\n",
      "fin split 2\n",
      "fin split 3\n",
      "fin split 4\n"
     ]
    },
    {
     "name": "stderr",
     "output_type": "stream",
     "text": [
      "[I 2025-07-19 00:47:19,226] Trial 124 finished with value: 853.6848592394109 and parameters: {'lambda_l1': 0.00017396508787149902, 'lambda_l2': 6.1472329722731605e-06, 'num_leaves': 60, 'feature_fraction': 0.48004941802531426, 'bagging_fraction': 0.9934677263248657, 'bagging_freq': 4, 'min_child_samples': 10}. Best is trial 103 with value: 833.0337454106916.\n"
     ]
    },
    {
     "name": "stdout",
     "output_type": "stream",
     "text": [
      "fin split 0\n",
      "fin split 1\n",
      "fin split 2\n",
      "fin split 3\n",
      "fin split 4\n"
     ]
    },
    {
     "name": "stderr",
     "output_type": "stream",
     "text": [
      "[I 2025-07-19 00:47:34,430] Trial 125 finished with value: 848.252145527003 and parameters: {'lambda_l1': 0.00032683964220904863, 'lambda_l2': 6.106855947863799e-06, 'num_leaves': 43, 'feature_fraction': 0.48046716557587843, 'bagging_fraction': 0.9899097633612962, 'bagging_freq': 4, 'min_child_samples': 10}. Best is trial 103 with value: 833.0337454106916.\n"
     ]
    },
    {
     "name": "stdout",
     "output_type": "stream",
     "text": [
      "fin split 0\n",
      "fin split 1\n",
      "fin split 2\n",
      "fin split 3\n",
      "fin split 4\n"
     ]
    },
    {
     "name": "stderr",
     "output_type": "stream",
     "text": [
      "[I 2025-07-19 00:47:50,030] Trial 126 finished with value: 891.6907691817391 and parameters: {'lambda_l1': 0.0005283360789036282, 'lambda_l2': 1.0628774695688613e-06, 'num_leaves': 44, 'feature_fraction': 0.48238953270454527, 'bagging_fraction': 0.99960149296513, 'bagging_freq': 5, 'min_child_samples': 16}. Best is trial 103 with value: 833.0337454106916.\n"
     ]
    },
    {
     "name": "stdout",
     "output_type": "stream",
     "text": [
      "fin split 0\n",
      "fin split 1\n",
      "fin split 2\n",
      "fin split 3\n",
      "fin split 4\n"
     ]
    },
    {
     "name": "stderr",
     "output_type": "stream",
     "text": [
      "[I 2025-07-19 00:48:02,185] Trial 127 finished with value: 854.0583532552869 and parameters: {'lambda_l1': 0.00031104564564721736, 'lambda_l2': 4.252655735458071e-06, 'num_leaves': 31, 'feature_fraction': 0.4031192043179596, 'bagging_fraction': 0.9825157805093685, 'bagging_freq': 5, 'min_child_samples': 12}. Best is trial 103 with value: 833.0337454106916.\n"
     ]
    },
    {
     "name": "stdout",
     "output_type": "stream",
     "text": [
      "fin split 0\n",
      "fin split 1\n",
      "fin split 2\n",
      "fin split 3\n",
      "fin split 4\n"
     ]
    },
    {
     "name": "stderr",
     "output_type": "stream",
     "text": [
      "[I 2025-07-19 00:48:18,704] Trial 128 finished with value: 852.3004461430139 and parameters: {'lambda_l1': 8.692575831513336e-05, 'lambda_l2': 7.668711173965726e-06, 'num_leaves': 47, 'feature_fraction': 0.5044415362253818, 'bagging_fraction': 0.9848489868885155, 'bagging_freq': 3, 'min_child_samples': 9}. Best is trial 103 with value: 833.0337454106916.\n"
     ]
    },
    {
     "name": "stdout",
     "output_type": "stream",
     "text": [
      "fin split 0\n",
      "fin split 1\n",
      "fin split 2\n",
      "fin split 3\n",
      "fin split 4\n"
     ]
    },
    {
     "name": "stderr",
     "output_type": "stream",
     "text": [
      "[I 2025-07-19 00:48:35,873] Trial 129 finished with value: 850.5810300781338 and parameters: {'lambda_l1': 1.822583894144831e-05, 'lambda_l2': 7.22897295276926e-06, 'num_leaves': 47, 'feature_fraction': 0.4934393819980071, 'bagging_fraction': 0.9769494900954079, 'bagging_freq': 3, 'min_child_samples': 5}. Best is trial 103 with value: 833.0337454106916.\n"
     ]
    },
    {
     "name": "stdout",
     "output_type": "stream",
     "text": [
      "fin split 0\n",
      "fin split 1\n",
      "fin split 2\n",
      "fin split 3\n",
      "fin split 4\n"
     ]
    },
    {
     "name": "stderr",
     "output_type": "stream",
     "text": [
      "[I 2025-07-19 00:48:58,252] Trial 130 finished with value: 852.5457646971993 and parameters: {'lambda_l1': 1.9352746649533037e-05, 'lambda_l2': 6.894565148220252e-06, 'num_leaves': 73, 'feature_fraction': 0.5021307101760887, 'bagging_fraction': 0.9808225073523733, 'bagging_freq': 3, 'min_child_samples': 5}. Best is trial 103 with value: 833.0337454106916.\n"
     ]
    },
    {
     "name": "stdout",
     "output_type": "stream",
     "text": [
      "fin split 0\n",
      "fin split 1\n",
      "fin split 2\n",
      "fin split 3\n",
      "fin split 4\n"
     ]
    },
    {
     "name": "stderr",
     "output_type": "stream",
     "text": [
      "[I 2025-07-19 00:49:15,962] Trial 131 finished with value: 977.7612437211747 and parameters: {'lambda_l1': 5.600576662425431e-05, 'lambda_l2': 7.259961427715251e-06, 'num_leaves': 49, 'feature_fraction': 0.4854461695655975, 'bagging_fraction': 0.9734189228516954, 'bagging_freq': 3, 'min_child_samples': 90}. Best is trial 103 with value: 833.0337454106916.\n"
     ]
    },
    {
     "name": "stdout",
     "output_type": "stream",
     "text": [
      "fin split 0\n",
      "fin split 1\n",
      "fin split 2\n",
      "fin split 3\n",
      "fin split 4\n"
     ]
    },
    {
     "name": "stderr",
     "output_type": "stream",
     "text": [
      "[I 2025-07-19 00:49:30,572] Trial 132 finished with value: 855.2459569959912 and parameters: {'lambda_l1': 3.606622933033776e-05, 'lambda_l2': 3.7116406193457926e-05, 'num_leaves': 42, 'feature_fraction': 0.4566642854341868, 'bagging_fraction': 0.9845549077707737, 'bagging_freq': 3, 'min_child_samples': 8}. Best is trial 103 with value: 833.0337454106916.\n"
     ]
    },
    {
     "name": "stdout",
     "output_type": "stream",
     "text": [
      "fin split 0\n",
      "fin split 1\n",
      "fin split 2\n",
      "fin split 3\n",
      "fin split 4\n"
     ]
    },
    {
     "name": "stderr",
     "output_type": "stream",
     "text": [
      "[I 2025-07-19 00:49:47,192] Trial 133 finished with value: 860.8126274905462 and parameters: {'lambda_l1': 9.007821356885469e-05, 'lambda_l2': 2.437563269024746e-06, 'num_leaves': 51, 'feature_fraction': 0.49160703360329244, 'bagging_fraction': 0.9926773806497318, 'bagging_freq': 3, 'min_child_samples': 9}. Best is trial 103 with value: 833.0337454106916.\n"
     ]
    },
    {
     "name": "stdout",
     "output_type": "stream",
     "text": [
      "fin split 0\n",
      "fin split 1\n",
      "fin split 2\n",
      "fin split 3\n",
      "fin split 4\n"
     ]
    },
    {
     "name": "stderr",
     "output_type": "stream",
     "text": [
      "[I 2025-07-19 00:50:01,774] Trial 134 finished with value: 861.5375128373287 and parameters: {'lambda_l1': 1.519807241348775e-05, 'lambda_l2': 4.69025482580438e-06, 'num_leaves': 41, 'feature_fraction': 0.5114361086142913, 'bagging_fraction': 0.9777966638096771, 'bagging_freq': 3, 'min_child_samples': 12}. Best is trial 103 with value: 833.0337454106916.\n"
     ]
    },
    {
     "name": "stdout",
     "output_type": "stream",
     "text": [
      "fin split 0\n",
      "fin split 1\n",
      "fin split 2\n",
      "fin split 3\n",
      "fin split 4\n"
     ]
    },
    {
     "name": "stderr",
     "output_type": "stream",
     "text": [
      "[I 2025-07-19 00:50:14,653] Trial 135 finished with value: 840.9775946208649 and parameters: {'lambda_l1': 0.00010697640220471863, 'lambda_l2': 1.0932281949349011e-06, 'num_leaves': 34, 'feature_fraction': 0.41627785549295326, 'bagging_fraction': 0.9560020296416866, 'bagging_freq': 4, 'min_child_samples': 5}. Best is trial 103 with value: 833.0337454106916.\n"
     ]
    },
    {
     "name": "stdout",
     "output_type": "stream",
     "text": [
      "fin split 0\n",
      "fin split 1\n",
      "fin split 2\n",
      "fin split 3\n",
      "fin split 4\n"
     ]
    },
    {
     "name": "stderr",
     "output_type": "stream",
     "text": [
      "[I 2025-07-19 00:50:29,436] Trial 136 finished with value: 846.8925530972534 and parameters: {'lambda_l1': 7.759084274118542e-05, 'lambda_l2': 1.1261056691303023e-06, 'num_leaves': 34, 'feature_fraction': 0.4123386051708896, 'bagging_fraction': 0.9536192401912265, 'bagging_freq': 4, 'min_child_samples': 5}. Best is trial 103 with value: 833.0337454106916.\n"
     ]
    },
    {
     "name": "stdout",
     "output_type": "stream",
     "text": [
      "fin split 0\n",
      "fin split 1\n",
      "fin split 2\n",
      "fin split 3\n",
      "fin split 4\n"
     ]
    },
    {
     "name": "stderr",
     "output_type": "stream",
     "text": [
      "[I 2025-07-19 00:50:41,810] Trial 137 finished with value: 848.0307394258291 and parameters: {'lambda_l1': 4.099430822283234e-05, 'lambda_l2': 1.3174637764157614e-06, 'num_leaves': 32, 'feature_fraction': 0.4197833156337215, 'bagging_fraction': 0.9564083483028736, 'bagging_freq': 4, 'min_child_samples': 5}. Best is trial 103 with value: 833.0337454106916.\n"
     ]
    },
    {
     "name": "stdout",
     "output_type": "stream",
     "text": [
      "fin split 0\n",
      "fin split 1\n",
      "fin split 2\n",
      "fin split 3\n",
      "fin split 4\n"
     ]
    },
    {
     "name": "stderr",
     "output_type": "stream",
     "text": [
      "[I 2025-07-19 00:50:51,757] Trial 138 finished with value: 866.461123192325 and parameters: {'lambda_l1': 2.301012746707736e-05, 'lambda_l2': 7.788111469744188e-07, 'num_leaves': 22, 'feature_fraction': 0.4108451990203302, 'bagging_fraction': 0.953241369545735, 'bagging_freq': 4, 'min_child_samples': 5}. Best is trial 103 with value: 833.0337454106916.\n"
     ]
    },
    {
     "name": "stdout",
     "output_type": "stream",
     "text": [
      "fin split 0\n",
      "fin split 1\n",
      "fin split 2\n",
      "fin split 3\n",
      "fin split 4\n"
     ]
    },
    {
     "name": "stderr",
     "output_type": "stream",
     "text": [
      "[I 2025-07-19 00:51:04,549] Trial 139 finished with value: 861.5359123320328 and parameters: {'lambda_l1': 7.682787513366191e-06, 'lambda_l2': 4.730736110713337e-07, 'num_leaves': 33, 'feature_fraction': 0.42925946520703157, 'bagging_fraction': 0.9357512970125668, 'bagging_freq': 4, 'min_child_samples': 7}. Best is trial 103 with value: 833.0337454106916.\n"
     ]
    },
    {
     "name": "stdout",
     "output_type": "stream",
     "text": [
      "fin split 0\n",
      "fin split 1\n",
      "fin split 2\n",
      "fin split 3\n",
      "fin split 4\n"
     ]
    },
    {
     "name": "stderr",
     "output_type": "stream",
     "text": [
      "[I 2025-07-19 00:51:15,232] Trial 140 finished with value: 857.5817670194874 and parameters: {'lambda_l1': 4.08583522364448e-05, 'lambda_l2': 2.3247170467934282e-07, 'num_leaves': 28, 'feature_fraction': 0.41668144038351645, 'bagging_fraction': 0.9437150400601516, 'bagging_freq': 4, 'min_child_samples': 5}. Best is trial 103 with value: 833.0337454106916.\n"
     ]
    },
    {
     "name": "stdout",
     "output_type": "stream",
     "text": [
      "fin split 0\n",
      "fin split 1\n",
      "fin split 2\n",
      "fin split 3\n",
      "fin split 4\n"
     ]
    },
    {
     "name": "stderr",
     "output_type": "stream",
     "text": [
      "[I 2025-07-19 00:51:28,737] Trial 141 finished with value: 845.2792891356341 and parameters: {'lambda_l1': 6.077203983893057e-05, 'lambda_l2': 1.452242672534475e-06, 'num_leaves': 36, 'feature_fraction': 0.4353441930594055, 'bagging_fraction': 0.9569508953561743, 'bagging_freq': 4, 'min_child_samples': 11}. Best is trial 103 with value: 833.0337454106916.\n"
     ]
    },
    {
     "name": "stdout",
     "output_type": "stream",
     "text": [
      "fin split 0\n",
      "fin split 1\n",
      "fin split 2\n",
      "fin split 3\n",
      "fin split 4\n"
     ]
    },
    {
     "name": "stderr",
     "output_type": "stream",
     "text": [
      "[I 2025-07-19 00:51:41,522] Trial 142 finished with value: 975.9854480087482 and parameters: {'lambda_l1': 5.916966919648452e-05, 'lambda_l2': 1.1200632184597122e-06, 'num_leaves': 36, 'feature_fraction': 0.4352218742836945, 'bagging_fraction': 0.953685151128089, 'bagging_freq': 4, 'min_child_samples': 77}. Best is trial 103 with value: 833.0337454106916.\n"
     ]
    },
    {
     "name": "stdout",
     "output_type": "stream",
     "text": [
      "fin split 0\n",
      "fin split 1\n",
      "fin split 2\n",
      "fin split 3\n",
      "fin split 4\n"
     ]
    },
    {
     "name": "stderr",
     "output_type": "stream",
     "text": [
      "[I 2025-07-19 00:51:54,303] Trial 143 finished with value: 865.8852828964409 and parameters: {'lambda_l1': 0.00010782170080799174, 'lambda_l2': 8.421267090956338e-07, 'num_leaves': 34, 'feature_fraction': 0.41947932377927477, 'bagging_fraction': 0.9548080565082478, 'bagging_freq': 4, 'min_child_samples': 11}. Best is trial 103 with value: 833.0337454106916.\n"
     ]
    },
    {
     "name": "stdout",
     "output_type": "stream",
     "text": [
      "fin split 0\n",
      "fin split 1\n",
      "fin split 2\n",
      "fin split 3\n",
      "fin split 4\n"
     ]
    },
    {
     "name": "stderr",
     "output_type": "stream",
     "text": [
      "[I 2025-07-19 00:52:06,438] Trial 144 finished with value: 824.0477023453025 and parameters: {'lambda_l1': 0.00019703613408234306, 'lambda_l2': 1.4188953914712557e-06, 'num_leaves': 28, 'feature_fraction': 0.40320467586034336, 'bagging_fraction': 0.9678899606894342, 'bagging_freq': 4, 'min_child_samples': 8}. Best is trial 144 with value: 824.0477023453025.\n"
     ]
    },
    {
     "name": "stdout",
     "output_type": "stream",
     "text": [
      "fin split 0\n",
      "fin split 1\n",
      "fin split 2\n",
      "fin split 3\n",
      "fin split 4\n"
     ]
    },
    {
     "name": "stderr",
     "output_type": "stream",
     "text": [
      "[I 2025-07-19 00:52:16,454] Trial 145 finished with value: 845.5389344042521 and parameters: {'lambda_l1': 0.00019168680148485631, 'lambda_l2': 2.3358036863047334e-06, 'num_leaves': 26, 'feature_fraction': 0.4045758595246964, 'bagging_fraction': 0.9704626116714652, 'bagging_freq': 4, 'min_child_samples': 13}. Best is trial 144 with value: 824.0477023453025.\n"
     ]
    },
    {
     "name": "stdout",
     "output_type": "stream",
     "text": [
      "fin split 0\n",
      "fin split 1\n",
      "fin split 2\n",
      "fin split 3\n",
      "fin split 4\n"
     ]
    },
    {
     "name": "stderr",
     "output_type": "stream",
     "text": [
      "[I 2025-07-19 00:52:43,783] Trial 146 finished with value: 910.6257418407112 and parameters: {'lambda_l1': 0.00019346131828344753, 'lambda_l2': 5.13967960540049e-07, 'num_leaves': 137, 'feature_fraction': 0.40111722345189343, 'bagging_fraction': 0.9692297627722953, 'bagging_freq': 4, 'min_child_samples': 13}. Best is trial 144 with value: 824.0477023453025.\n"
     ]
    },
    {
     "name": "stdout",
     "output_type": "stream",
     "text": [
      "fin split 0\n",
      "fin split 1\n",
      "fin split 2\n",
      "fin split 3\n",
      "fin split 4\n"
     ]
    },
    {
     "name": "stderr",
     "output_type": "stream",
     "text": [
      "[I 2025-07-19 00:52:55,083] Trial 147 finished with value: 859.668434438557 and parameters: {'lambda_l1': 0.00013035645805624477, 'lambda_l2': 1.9228036537877932e-06, 'num_leaves': 27, 'feature_fraction': 0.4067927764571659, 'bagging_fraction': 0.9399291460122663, 'bagging_freq': 4, 'min_child_samples': 15}. Best is trial 144 with value: 824.0477023453025.\n"
     ]
    },
    {
     "name": "stdout",
     "output_type": "stream",
     "text": [
      "fin split 0\n",
      "fin split 1\n",
      "fin split 2\n",
      "fin split 3\n",
      "fin split 4\n"
     ]
    },
    {
     "name": "stderr",
     "output_type": "stream",
     "text": [
      "[I 2025-07-19 00:53:03,054] Trial 148 finished with value: 893.2691284236731 and parameters: {'lambda_l1': 0.0002534491481782881, 'lambda_l2': 1.1366349033218568e-06, 'num_leaves': 14, 'feature_fraction': 0.43139804453533426, 'bagging_fraction': 0.9672769551404736, 'bagging_freq': 4, 'min_child_samples': 9}. Best is trial 144 with value: 824.0477023453025.\n"
     ]
    },
    {
     "name": "stdout",
     "output_type": "stream",
     "text": [
      "fin split 0\n",
      "fin split 1\n",
      "fin split 2\n",
      "fin split 3\n",
      "fin split 4\n"
     ]
    },
    {
     "name": "stderr",
     "output_type": "stream",
     "text": [
      "[I 2025-07-19 00:53:13,569] Trial 149 finished with value: 870.8490850867298 and parameters: {'lambda_l1': 3.090193579448968e-05, 'lambda_l2': 2.647046680980989e-06, 'num_leaves': 23, 'feature_fraction': 0.4229552992511589, 'bagging_fraction': 0.9465559606049515, 'bagging_freq': 4, 'min_child_samples': 12}. Best is trial 144 with value: 824.0477023453025.\n"
     ]
    },
    {
     "name": "stdout",
     "output_type": "stream",
     "text": [
      "fin split 0\n",
      "fin split 1\n",
      "fin split 2\n",
      "fin split 3\n",
      "fin split 4\n"
     ]
    },
    {
     "name": "stderr",
     "output_type": "stream",
     "text": [
      "[I 2025-07-19 00:53:23,955] Trial 150 finished with value: 868.5732458447229 and parameters: {'lambda_l1': 6.860445713325467e-05, 'lambda_l2': 2.989680056975802e-07, 'num_leaves': 20, 'feature_fraction': 0.4418247165690492, 'bagging_fraction': 0.9605462510499845, 'bagging_freq': 4, 'min_child_samples': 17}. Best is trial 144 with value: 824.0477023453025.\n"
     ]
    },
    {
     "name": "stdout",
     "output_type": "stream",
     "text": [
      "fin split 0\n",
      "fin split 1\n",
      "fin split 2\n",
      "fin split 3\n",
      "fin split 4\n"
     ]
    },
    {
     "name": "stderr",
     "output_type": "stream",
     "text": [
      "[I 2025-07-19 00:53:37,068] Trial 151 finished with value: 840.2187333849346 and parameters: {'lambda_l1': 9.410862188767433e-05, 'lambda_l2': 1.433308639228956e-06, 'num_leaves': 33, 'feature_fraction': 0.41157439650697514, 'bagging_fraction': 0.975084325855817, 'bagging_freq': 5, 'min_child_samples': 5}. Best is trial 144 with value: 824.0477023453025.\n"
     ]
    },
    {
     "name": "stdout",
     "output_type": "stream",
     "text": [
      "fin split 0\n",
      "fin split 1\n",
      "fin split 2\n",
      "fin split 3\n",
      "fin split 4\n"
     ]
    },
    {
     "name": "stderr",
     "output_type": "stream",
     "text": [
      "[I 2025-07-19 00:53:49,049] Trial 152 finished with value: 827.1634030918963 and parameters: {'lambda_l1': 0.00010295719080190896, 'lambda_l2': 1.3405603201214952e-06, 'num_leaves': 30, 'feature_fraction': 0.400754576168915, 'bagging_fraction': 0.9742312316993232, 'bagging_freq': 5, 'min_child_samples': 8}. Best is trial 144 with value: 824.0477023453025.\n"
     ]
    },
    {
     "name": "stdout",
     "output_type": "stream",
     "text": [
      "fin split 0\n",
      "fin split 1\n",
      "fin split 2\n",
      "fin split 3\n",
      "fin split 4\n"
     ]
    },
    {
     "name": "stderr",
     "output_type": "stream",
     "text": [
      "[I 2025-07-19 00:54:01,729] Trial 153 finished with value: 847.4162376613228 and parameters: {'lambda_l1': 4.216923935067138e-05, 'lambda_l2': 1.3407682941403014e-06, 'num_leaves': 32, 'feature_fraction': 0.40019870318785505, 'bagging_fraction': 0.9740624032403223, 'bagging_freq': 5, 'min_child_samples': 9}. Best is trial 144 with value: 824.0477023453025.\n"
     ]
    },
    {
     "name": "stdout",
     "output_type": "stream",
     "text": [
      "fin split 0\n",
      "fin split 1\n",
      "fin split 2\n",
      "fin split 3\n",
      "fin split 4\n"
     ]
    },
    {
     "name": "stderr",
     "output_type": "stream",
     "text": [
      "[I 2025-07-19 00:54:14,041] Trial 154 finished with value: 845.7837115972384 and parameters: {'lambda_l1': 4.197918588596319e-05, 'lambda_l2': 1.6083676856463252e-06, 'num_leaves': 30, 'feature_fraction': 0.41109069329023606, 'bagging_fraction': 0.9756435534374691, 'bagging_freq': 5, 'min_child_samples': 9}. Best is trial 144 with value: 824.0477023453025.\n"
     ]
    },
    {
     "name": "stdout",
     "output_type": "stream",
     "text": [
      "fin split 0\n",
      "fin split 1\n",
      "fin split 2\n",
      "fin split 3\n",
      "fin split 4\n"
     ]
    },
    {
     "name": "stderr",
     "output_type": "stream",
     "text": [
      "[I 2025-07-19 00:54:25,872] Trial 155 finished with value: 844.4760167285588 and parameters: {'lambda_l1': 3.431051754204015e-05, 'lambda_l2': 1.0689956624620014e-06, 'num_leaves': 32, 'feature_fraction': 0.40433457311720217, 'bagging_fraction': 0.974172842214821, 'bagging_freq': 4, 'min_child_samples': 8}. Best is trial 144 with value: 824.0477023453025.\n"
     ]
    },
    {
     "name": "stdout",
     "output_type": "stream",
     "text": [
      "fin split 0\n",
      "fin split 1\n",
      "fin split 2\n",
      "fin split 3\n",
      "fin split 4\n"
     ]
    },
    {
     "name": "stderr",
     "output_type": "stream",
     "text": [
      "[I 2025-07-19 00:54:37,607] Trial 156 finished with value: 832.6272353059218 and parameters: {'lambda_l1': 3.949347815632375e-05, 'lambda_l2': 1.2179367716448499e-06, 'num_leaves': 31, 'feature_fraction': 0.40588972884307756, 'bagging_fraction': 0.9742207292584476, 'bagging_freq': 4, 'min_child_samples': 8}. Best is trial 144 with value: 824.0477023453025.\n"
     ]
    },
    {
     "name": "stdout",
     "output_type": "stream",
     "text": [
      "fin split 0\n",
      "fin split 1\n",
      "fin split 2\n",
      "fin split 3\n",
      "fin split 4\n"
     ]
    },
    {
     "name": "stderr",
     "output_type": "stream",
     "text": [
      "[I 2025-07-19 00:54:45,833] Trial 157 finished with value: 914.6716193840058 and parameters: {'lambda_l1': 5.053467756449156e-05, 'lambda_l2': 1.3345206416246899e-06, 'num_leaves': 9, 'feature_fraction': 0.40376780093582815, 'bagging_fraction': 0.9740982391797373, 'bagging_freq': 4, 'min_child_samples': 5}. Best is trial 144 with value: 824.0477023453025.\n"
     ]
    },
    {
     "name": "stdout",
     "output_type": "stream",
     "text": [
      "fin split 0\n",
      "fin split 1\n",
      "fin split 2\n",
      "fin split 3\n",
      "fin split 4\n"
     ]
    },
    {
     "name": "stderr",
     "output_type": "stream",
     "text": [
      "[I 2025-07-19 00:54:57,798] Trial 158 finished with value: 844.1639339700101 and parameters: {'lambda_l1': 2.9166168354930425e-05, 'lambda_l2': 9.019056930739773e-07, 'num_leaves': 32, 'feature_fraction': 0.41196047664598767, 'bagging_fraction': 0.9717077848539444, 'bagging_freq': 5, 'min_child_samples': 8}. Best is trial 144 with value: 824.0477023453025.\n"
     ]
    },
    {
     "name": "stdout",
     "output_type": "stream",
     "text": [
      "fin split 0\n",
      "fin split 1\n",
      "fin split 2\n",
      "fin split 3\n",
      "fin split 4\n"
     ]
    },
    {
     "name": "stderr",
     "output_type": "stream",
     "text": [
      "[I 2025-07-19 00:55:07,007] Trial 159 finished with value: 869.5022054847282 and parameters: {'lambda_l1': 2.6336838933518574e-05, 'lambda_l2': 8.28591630175442e-07, 'num_leaves': 17, 'feature_fraction': 0.40913112481920133, 'bagging_fraction': 0.9716110546833083, 'bagging_freq': 5, 'min_child_samples': 13}. Best is trial 144 with value: 824.0477023453025.\n"
     ]
    },
    {
     "name": "stdout",
     "output_type": "stream",
     "text": [
      "fin split 0\n",
      "fin split 1\n",
      "fin split 2\n",
      "fin split 3\n",
      "fin split 4\n"
     ]
    },
    {
     "name": "stderr",
     "output_type": "stream",
     "text": [
      "[I 2025-07-19 00:55:19,291] Trial 160 finished with value: 853.5709534604978 and parameters: {'lambda_l1': 9.922984133417914e-06, 'lambda_l2': 4.79922667412626e-07, 'num_leaves': 29, 'feature_fraction': 0.4022938923965164, 'bagging_fraction': 0.9848079334159153, 'bagging_freq': 5, 'min_child_samples': 8}. Best is trial 144 with value: 824.0477023453025.\n"
     ]
    },
    {
     "name": "stdout",
     "output_type": "stream",
     "text": [
      "fin split 0\n",
      "fin split 1\n",
      "fin split 2\n",
      "fin split 3\n",
      "fin split 4\n"
     ]
    },
    {
     "name": "stderr",
     "output_type": "stream",
     "text": [
      "[I 2025-07-19 00:55:33,839] Trial 161 finished with value: 867.4648528802703 and parameters: {'lambda_l1': 1.4003581489114546e-05, 'lambda_l2': 1.1970948902563594e-06, 'num_leaves': 33, 'feature_fraction': 0.41736954321220365, 'bagging_fraction': 0.9643143906269621, 'bagging_freq': 5, 'min_child_samples': 7}. Best is trial 144 with value: 824.0477023453025.\n"
     ]
    },
    {
     "name": "stdout",
     "output_type": "stream",
     "text": [
      "fin split 0\n",
      "fin split 1\n",
      "fin split 2\n",
      "fin split 3\n",
      "fin split 4\n"
     ]
    },
    {
     "name": "stderr",
     "output_type": "stream",
     "text": [
      "[I 2025-07-19 00:55:45,784] Trial 162 finished with value: 852.5342108836614 and parameters: {'lambda_l1': 3.87735676101469e-05, 'lambda_l2': 2.5522709233142837e-06, 'num_leaves': 30, 'feature_fraction': 0.40013691305498844, 'bagging_fraction': 0.9750104511915453, 'bagging_freq': 4, 'min_child_samples': 5}. Best is trial 144 with value: 824.0477023453025.\n"
     ]
    },
    {
     "name": "stdout",
     "output_type": "stream",
     "text": [
      "fin split 0\n",
      "fin split 1\n",
      "fin split 2\n",
      "fin split 3\n",
      "fin split 4\n"
     ]
    },
    {
     "name": "stderr",
     "output_type": "stream",
     "text": [
      "[I 2025-07-19 00:55:55,687] Trial 163 finished with value: 852.2829342585813 and parameters: {'lambda_l1': 3.152113135963027e-05, 'lambda_l2': 1.4071445827909352e-06, 'num_leaves': 21, 'feature_fraction': 0.4148164270612971, 'bagging_fraction': 0.9605676697990236, 'bagging_freq': 4, 'min_child_samples': 11}. Best is trial 144 with value: 824.0477023453025.\n"
     ]
    },
    {
     "name": "stdout",
     "output_type": "stream",
     "text": [
      "fin split 0\n",
      "fin split 1\n",
      "fin split 2\n",
      "fin split 3\n",
      "fin split 4\n"
     ]
    },
    {
     "name": "stderr",
     "output_type": "stream",
     "text": [
      "[I 2025-07-19 00:56:08,446] Trial 164 finished with value: 872.1785891852834 and parameters: {'lambda_l1': 5.207521583023403e-05, 'lambda_l2': 8.504372003711552e-07, 'num_leaves': 33, 'feature_fraction': 0.43575882762861784, 'bagging_fraction': 0.9682422959808831, 'bagging_freq': 5, 'min_child_samples': 8}. Best is trial 144 with value: 824.0477023453025.\n"
     ]
    },
    {
     "name": "stdout",
     "output_type": "stream",
     "text": [
      "fin split 0\n",
      "fin split 1\n",
      "fin split 2\n",
      "fin split 3\n",
      "fin split 4\n"
     ]
    },
    {
     "name": "stderr",
     "output_type": "stream",
     "text": [
      "[I 2025-07-19 00:56:18,379] Trial 165 finished with value: 845.4152496634638 and parameters: {'lambda_l1': 2.3324937465795028e-05, 'lambda_l2': 3.3456418054491707e-06, 'num_leaves': 27, 'feature_fraction': 0.4246554402756652, 'bagging_fraction': 0.9796243643478391, 'bagging_freq': 4, 'min_child_samples': 10}. Best is trial 144 with value: 824.0477023453025.\n"
     ]
    },
    {
     "name": "stdout",
     "output_type": "stream",
     "text": [
      "fin split 0\n",
      "fin split 1\n",
      "fin split 2\n",
      "fin split 3\n",
      "fin split 4\n"
     ]
    },
    {
     "name": "stderr",
     "output_type": "stream",
     "text": [
      "[I 2025-07-19 00:56:27,540] Trial 166 finished with value: 946.031390910679 and parameters: {'lambda_l1': 2.5772214062758577e-05, 'lambda_l2': 3.386262855551931e-06, 'num_leaves': 14, 'feature_fraction': 0.42669634705782095, 'bagging_fraction': 0.9872230930051887, 'bagging_freq': 5, 'min_child_samples': 41}. Best is trial 144 with value: 824.0477023453025.\n"
     ]
    },
    {
     "name": "stdout",
     "output_type": "stream",
     "text": [
      "fin split 0\n",
      "fin split 1\n",
      "fin split 2\n",
      "fin split 3\n",
      "fin split 4\n"
     ]
    },
    {
     "name": "stderr",
     "output_type": "stream",
     "text": [
      "[I 2025-07-19 00:56:37,692] Trial 167 finished with value: 853.4254199432639 and parameters: {'lambda_l1': 6.311829064235101e-06, 'lambda_l2': 2.2750403441709262e-06, 'num_leaves': 23, 'feature_fraction': 0.4003261789620957, 'bagging_fraction': 0.9778487736216986, 'bagging_freq': 4, 'min_child_samples': 14}. Best is trial 144 with value: 824.0477023453025.\n"
     ]
    },
    {
     "name": "stdout",
     "output_type": "stream",
     "text": [
      "fin split 0\n",
      "fin split 1\n",
      "fin split 2\n",
      "fin split 3\n",
      "fin split 4\n"
     ]
    },
    {
     "name": "stderr",
     "output_type": "stream",
     "text": [
      "[I 2025-07-19 00:57:04,182] Trial 168 finished with value: 869.2694066994914 and parameters: {'lambda_l1': 8.21713002288072e-05, 'lambda_l2': 5.092297663127398e-07, 'num_leaves': 107, 'feature_fraction': 0.4399094885636947, 'bagging_fraction': 0.9947502330099126, 'bagging_freq': 4, 'min_child_samples': 10}. Best is trial 144 with value: 824.0477023453025.\n"
     ]
    },
    {
     "name": "stdout",
     "output_type": "stream",
     "text": [
      "fin split 0\n",
      "fin split 1\n",
      "fin split 2\n",
      "fin split 3\n",
      "fin split 4\n"
     ]
    },
    {
     "name": "stderr",
     "output_type": "stream",
     "text": [
      "[I 2025-07-19 00:57:17,001] Trial 169 finished with value: 845.503651728305 and parameters: {'lambda_l1': 1.857950173136709e-05, 'lambda_l2': 9.23809020277882e-07, 'num_leaves': 40, 'feature_fraction': 0.4178249212315911, 'bagging_fraction': 0.9796845581790182, 'bagging_freq': 5, 'min_child_samples': 8}. Best is trial 144 with value: 824.0477023453025.\n"
     ]
    },
    {
     "name": "stdout",
     "output_type": "stream",
     "text": [
      "fin split 0\n",
      "fin split 1\n",
      "fin split 2\n",
      "fin split 3\n",
      "fin split 4\n"
     ]
    },
    {
     "name": "stderr",
     "output_type": "stream",
     "text": [
      "[I 2025-07-19 00:57:30,352] Trial 170 finished with value: 856.342667876389 and parameters: {'lambda_l1': 1.1971444410663315e-05, 'lambda_l2': 7.964997328571798e-07, 'num_leaves': 40, 'feature_fraction': 0.41290976897454607, 'bagging_fraction': 0.9834727931890088, 'bagging_freq': 4, 'min_child_samples': 7}. Best is trial 144 with value: 824.0477023453025.\n"
     ]
    },
    {
     "name": "stdout",
     "output_type": "stream",
     "text": [
      "fin split 0\n",
      "fin split 1\n",
      "fin split 2\n",
      "fin split 3\n",
      "fin split 4\n"
     ]
    },
    {
     "name": "stderr",
     "output_type": "stream",
     "text": [
      "[I 2025-07-19 00:57:41,994] Trial 171 finished with value: 846.0531985638037 and parameters: {'lambda_l1': 2.0449650874907157e-05, 'lambda_l2': 3.5919786318538805e-06, 'num_leaves': 26, 'feature_fraction': 0.42718712476522835, 'bagging_fraction': 0.9709762543286475, 'bagging_freq': 5, 'min_child_samples': 9}. Best is trial 144 with value: 824.0477023453025.\n"
     ]
    },
    {
     "name": "stdout",
     "output_type": "stream",
     "text": [
      "fin split 0\n",
      "fin split 1\n",
      "fin split 2\n",
      "fin split 3\n",
      "fin split 4\n"
     ]
    },
    {
     "name": "stderr",
     "output_type": "stream",
     "text": [
      "[I 2025-07-19 00:57:53,841] Trial 172 finished with value: 847.561499634668 and parameters: {'lambda_l1': 1.7780203198003466e-05, 'lambda_l2': 3.729960994169385e-06, 'num_leaves': 27, 'feature_fraction': 0.4293241295032788, 'bagging_fraction': 0.96645000322666, 'bagging_freq': 5, 'min_child_samples': 11}. Best is trial 144 with value: 824.0477023453025.\n"
     ]
    },
    {
     "name": "stdout",
     "output_type": "stream",
     "text": [
      "fin split 0\n",
      "fin split 1\n",
      "fin split 2\n",
      "fin split 3\n",
      "fin split 4\n"
     ]
    },
    {
     "name": "stderr",
     "output_type": "stream",
     "text": [
      "[I 2025-07-19 00:58:07,817] Trial 173 finished with value: 948.8751085032818 and parameters: {'lambda_l1': 0.0001573565400982125, 'lambda_l2': 9.91775663096736e-07, 'num_leaves': 38, 'feature_fraction': 0.4455599017416984, 'bagging_fraction': 0.9787130998397278, 'bagging_freq': 5, 'min_child_samples': 60}. Best is trial 144 with value: 824.0477023453025.\n"
     ]
    },
    {
     "name": "stdout",
     "output_type": "stream",
     "text": [
      "fin split 0\n",
      "fin split 1\n",
      "fin split 2\n",
      "fin split 3\n",
      "fin split 4\n"
     ]
    },
    {
     "name": "stderr",
     "output_type": "stream",
     "text": [
      "[I 2025-07-19 00:58:19,078] Trial 174 finished with value: 888.7070329151638 and parameters: {'lambda_l1': 2.1736922578854465e-05, 'lambda_l2': 1.9844291210377943e-06, 'num_leaves': 27, 'feature_fraction': 0.4190566946565514, 'bagging_fraction': 0.9899719042387226, 'bagging_freq': 5, 'min_child_samples': 8}. Best is trial 144 with value: 824.0477023453025.\n"
     ]
    },
    {
     "name": "stdout",
     "output_type": "stream",
     "text": [
      "fin split 0\n",
      "fin split 1\n",
      "fin split 2\n",
      "fin split 3\n",
      "fin split 4\n"
     ]
    },
    {
     "name": "stderr",
     "output_type": "stream",
     "text": [
      "[I 2025-07-19 00:58:30,108] Trial 175 finished with value: 847.8274203016542 and parameters: {'lambda_l1': 5.937763469991875e-05, 'lambda_l2': 3.2008870688799726e-06, 'num_leaves': 20, 'feature_fraction': 0.4326665211424619, 'bagging_fraction': 0.969135397976103, 'bagging_freq': 5, 'min_child_samples': 12}. Best is trial 144 with value: 824.0477023453025.\n"
     ]
    },
    {
     "name": "stdout",
     "output_type": "stream",
     "text": [
      "fin split 0\n",
      "fin split 1\n",
      "fin split 2\n",
      "fin split 3\n",
      "fin split 4\n"
     ]
    },
    {
     "name": "stderr",
     "output_type": "stream",
     "text": [
      "[I 2025-07-19 00:58:44,285] Trial 176 finished with value: 848.7205338703895 and parameters: {'lambda_l1': 1.3454366345173718e-05, 'lambda_l2': 1.741716792380313e-06, 'num_leaves': 40, 'feature_fraction': 0.41522144567937713, 'bagging_fraction': 0.9608989523909649, 'bagging_freq': 4, 'min_child_samples': 7}. Best is trial 144 with value: 824.0477023453025.\n"
     ]
    },
    {
     "name": "stdout",
     "output_type": "stream",
     "text": [
      "fin split 0\n",
      "fin split 1\n",
      "fin split 2\n",
      "fin split 3\n",
      "fin split 4\n"
     ]
    },
    {
     "name": "stderr",
     "output_type": "stream",
     "text": [
      "[I 2025-07-19 00:58:56,581] Trial 177 finished with value: 854.2379554799055 and parameters: {'lambda_l1': 3.034230138027159e-05, 'lambda_l2': 9.745744230856861, 'num_leaves': 34, 'feature_fraction': 0.44543178696501334, 'bagging_fraction': 0.9997588859147188, 'bagging_freq': 5, 'min_child_samples': 10}. Best is trial 144 with value: 824.0477023453025.\n"
     ]
    },
    {
     "name": "stdout",
     "output_type": "stream",
     "text": [
      "fin split 0\n",
      "fin split 1\n",
      "fin split 2\n",
      "fin split 3\n",
      "fin split 4\n"
     ]
    },
    {
     "name": "stderr",
     "output_type": "stream",
     "text": [
      "[I 2025-07-19 00:59:05,889] Trial 178 finished with value: 887.208190848922 and parameters: {'lambda_l1': 7.807282491032983e-05, 'lambda_l2': 4.231967846211204e-06, 'num_leaves': 14, 'feature_fraction': 0.4120457767118207, 'bagging_fraction': 0.9798277285257505, 'bagging_freq': 4, 'min_child_samples': 5}. Best is trial 144 with value: 824.0477023453025.\n"
     ]
    },
    {
     "name": "stdout",
     "output_type": "stream",
     "text": [
      "fin split 0\n",
      "fin split 1\n",
      "fin split 2\n",
      "fin split 3\n",
      "fin split 4\n"
     ]
    },
    {
     "name": "stderr",
     "output_type": "stream",
     "text": [
      "[I 2025-07-19 00:59:17,526] Trial 179 finished with value: 861.1097132828982 and parameters: {'lambda_l1': 0.00013867959907548207, 'lambda_l2': 6.067625933001423e-07, 'num_leaves': 27, 'feature_fraction': 0.42938355607997264, 'bagging_fraction': 0.9708231131083532, 'bagging_freq': 4, 'min_child_samples': 14}. Best is trial 144 with value: 824.0477023453025.\n"
     ]
    },
    {
     "name": "stdout",
     "output_type": "stream",
     "text": [
      "fin split 0\n",
      "fin split 1\n",
      "fin split 2\n",
      "fin split 3\n",
      "fin split 4\n"
     ]
    },
    {
     "name": "stderr",
     "output_type": "stream",
     "text": [
      "[I 2025-07-19 00:59:30,789] Trial 180 finished with value: 864.7320506139201 and parameters: {'lambda_l1': 2.353629770292242e-05, 'lambda_l2': 1.319568902543497e-05, 'num_leaves': 41, 'feature_fraction': 0.4239861236077482, 'bagging_fraction': 0.9605960738152717, 'bagging_freq': 4, 'min_child_samples': 9}. Best is trial 144 with value: 824.0477023453025.\n"
     ]
    },
    {
     "name": "stdout",
     "output_type": "stream",
     "text": [
      "fin split 0\n",
      "fin split 1\n",
      "fin split 2\n",
      "fin split 3\n",
      "fin split 4\n"
     ]
    },
    {
     "name": "stderr",
     "output_type": "stream",
     "text": [
      "[I 2025-07-19 00:59:42,394] Trial 181 finished with value: 823.6201020592307 and parameters: {'lambda_l1': 4.6957006278593e-05, 'lambda_l2': 1.5105839166434228e-06, 'num_leaves': 33, 'feature_fraction': 0.4071438426064265, 'bagging_fraction': 0.9743659184387073, 'bagging_freq': 5, 'min_child_samples': 10}. Best is trial 181 with value: 823.6201020592307.\n"
     ]
    },
    {
     "name": "stdout",
     "output_type": "stream",
     "text": [
      "fin split 0\n",
      "fin split 1\n",
      "fin split 2\n",
      "fin split 3\n",
      "fin split 4\n"
     ]
    },
    {
     "name": "stderr",
     "output_type": "stream",
     "text": [
      "[I 2025-07-19 00:59:55,432] Trial 182 finished with value: 850.4202453901875 and parameters: {'lambda_l1': 6.645891818376684e-05, 'lambda_l2': 2.126472170971728e-06, 'num_leaves': 35, 'feature_fraction': 0.4098772643572445, 'bagging_fraction': 0.9779639658086005, 'bagging_freq': 5, 'min_child_samples': 7}. Best is trial 181 with value: 823.6201020592307.\n"
     ]
    },
    {
     "name": "stdout",
     "output_type": "stream",
     "text": [
      "fin split 0\n",
      "fin split 1\n",
      "fin split 2\n",
      "fin split 3\n",
      "fin split 4\n"
     ]
    },
    {
     "name": "stderr",
     "output_type": "stream",
     "text": [
      "[I 2025-07-19 01:00:06,893] Trial 183 finished with value: 875.9444339281268 and parameters: {'lambda_l1': 0.00010795655977568913, 'lambda_l2': 8.427873791819821e-07, 'num_leaves': 23, 'feature_fraction': 0.4382574518020734, 'bagging_fraction': 0.988528642726529, 'bagging_freq': 5, 'min_child_samples': 11}. Best is trial 181 with value: 823.6201020592307.\n"
     ]
    },
    {
     "name": "stdout",
     "output_type": "stream",
     "text": [
      "fin split 0\n",
      "fin split 1\n",
      "fin split 2\n",
      "fin split 3\n",
      "fin split 4\n"
     ]
    },
    {
     "name": "stderr",
     "output_type": "stream",
     "text": [
      "[I 2025-07-19 01:00:17,796] Trial 184 finished with value: 857.5003695275475 and parameters: {'lambda_l1': 4.277854406253533e-05, 'lambda_l2': 1.4801927321347222e-06, 'num_leaves': 30, 'feature_fraction': 0.42269913245350665, 'bagging_fraction': 0.965748630360416, 'bagging_freq': 5, 'min_child_samples': 9}. Best is trial 181 with value: 823.6201020592307.\n"
     ]
    },
    {
     "name": "stdout",
     "output_type": "stream",
     "text": [
      "fin split 0\n",
      "fin split 1\n",
      "fin split 2\n",
      "fin split 3\n",
      "fin split 4\n"
     ]
    },
    {
     "name": "stderr",
     "output_type": "stream",
     "text": [
      "[I 2025-07-19 01:00:33,518] Trial 185 finished with value: 861.8321298700591 and parameters: {'lambda_l1': 7.900478419101894e-06, 'lambda_l2': 4.0245393089858467e-07, 'num_leaves': 45, 'feature_fraction': 0.41157149425941747, 'bagging_fraction': 0.9555703121599797, 'bagging_freq': 5, 'min_child_samples': 7}. Best is trial 181 with value: 823.6201020592307.\n"
     ]
    },
    {
     "name": "stdout",
     "output_type": "stream",
     "text": [
      "fin split 0\n",
      "fin split 1\n",
      "fin split 2\n",
      "fin split 3\n",
      "fin split 4\n"
     ]
    },
    {
     "name": "stderr",
     "output_type": "stream",
     "text": [
      "[I 2025-07-19 01:00:46,274] Trial 186 finished with value: 849.3390990465577 and parameters: {'lambda_l1': 0.0001934587209624357, 'lambda_l2': 3.151579971160946e-06, 'num_leaves': 36, 'feature_fraction': 0.450185764012623, 'bagging_fraction': 0.9739268142590771, 'bagging_freq': 4, 'min_child_samples': 13}. Best is trial 181 with value: 823.6201020592307.\n"
     ]
    },
    {
     "name": "stdout",
     "output_type": "stream",
     "text": [
      "fin split 0\n",
      "fin split 1\n",
      "fin split 2\n",
      "fin split 3\n",
      "fin split 4\n"
     ]
    },
    {
     "name": "stderr",
     "output_type": "stream",
     "text": [
      "[I 2025-07-19 01:00:57,473] Trial 187 finished with value: 966.0707093615633 and parameters: {'lambda_l1': 1.711596310667435e-05, 'lambda_l2': 1.0774082321672977e-06, 'num_leaves': 25, 'feature_fraction': 0.40102919720594615, 'bagging_fraction': 0.9842370754997601, 'bagging_freq': 5, 'min_child_samples': 74}. Best is trial 181 with value: 823.6201020592307.\n"
     ]
    },
    {
     "name": "stdout",
     "output_type": "stream",
     "text": [
      "fin split 0\n",
      "fin split 1\n",
      "fin split 2\n",
      "fin split 3\n",
      "fin split 4\n"
     ]
    },
    {
     "name": "stderr",
     "output_type": "stream",
     "text": [
      "[I 2025-07-19 01:01:15,390] Trial 188 finished with value: 870.1725174441096 and parameters: {'lambda_l1': 3.418589949565124e-05, 'lambda_l2': 6.527503966736651e-07, 'num_leaves': 53, 'feature_fraction': 0.46037466225695983, 'bagging_fraction': 0.9623020432954142, 'bagging_freq': 4, 'min_child_samples': 5}. Best is trial 181 with value: 823.6201020592307.\n"
     ]
    },
    {
     "name": "stdout",
     "output_type": "stream",
     "text": [
      "fin split 0\n",
      "fin split 1\n",
      "fin split 2\n",
      "fin split 3\n",
      "fin split 4\n"
     ]
    },
    {
     "name": "stderr",
     "output_type": "stream",
     "text": [
      "[I 2025-07-19 01:01:26,802] Trial 189 finished with value: 882.6422350316166 and parameters: {'lambda_l1': 8.315565900363108e-05, 'lambda_l2': 2.3770704377228294e-06, 'num_leaves': 19, 'feature_fraction': 0.43297062295335503, 'bagging_fraction': 0.97103994259655, 'bagging_freq': 4, 'min_child_samples': 9}. Best is trial 181 with value: 823.6201020592307.\n"
     ]
    },
    {
     "name": "stdout",
     "output_type": "stream",
     "text": [
      "fin split 0\n",
      "fin split 1\n",
      "fin split 2\n",
      "fin split 3\n",
      "fin split 4\n"
     ]
    },
    {
     "name": "stderr",
     "output_type": "stream",
     "text": [
      "[I 2025-07-19 01:01:40,442] Trial 190 finished with value: 861.4918368169313 and parameters: {'lambda_l1': 5.339871154040919e-05, 'lambda_l2': 4.416800868945664e-06, 'num_leaves': 42, 'feature_fraction': 0.42113508230082836, 'bagging_fraction': 0.946193616923811, 'bagging_freq': 5, 'min_child_samples': 11}. Best is trial 181 with value: 823.6201020592307.\n"
     ]
    },
    {
     "name": "stdout",
     "output_type": "stream",
     "text": [
      "fin split 0\n",
      "fin split 1\n",
      "fin split 2\n",
      "fin split 3\n",
      "fin split 4\n"
     ]
    },
    {
     "name": "stderr",
     "output_type": "stream",
     "text": [
      "[I 2025-07-19 01:01:50,918] Trial 191 finished with value: 842.0305442888425 and parameters: {'lambda_l1': 3.813351006535694e-05, 'lambda_l2': 1.4879937184601884e-06, 'num_leaves': 31, 'feature_fraction': 0.4092138623538562, 'bagging_fraction': 0.977141115858613, 'bagging_freq': 5, 'min_child_samples': 9}. Best is trial 181 with value: 823.6201020592307.\n"
     ]
    },
    {
     "name": "stdout",
     "output_type": "stream",
     "text": [
      "fin split 0\n",
      "fin split 1\n",
      "fin split 2\n",
      "fin split 3\n",
      "fin split 4\n"
     ]
    },
    {
     "name": "stderr",
     "output_type": "stream",
     "text": [
      "[I 2025-07-19 01:02:02,061] Trial 192 finished with value: 852.8305286072881 and parameters: {'lambda_l1': 2.6726283684386523e-05, 'lambda_l2': 1.624682735889767e-06, 'num_leaves': 29, 'feature_fraction': 0.4141609045072735, 'bagging_fraction': 0.9798749550452764, 'bagging_freq': 5, 'min_child_samples': 7}. Best is trial 181 with value: 823.6201020592307.\n"
     ]
    },
    {
     "name": "stdout",
     "output_type": "stream",
     "text": [
      "fin split 0\n",
      "fin split 1\n",
      "fin split 2\n",
      "fin split 3\n",
      "fin split 4\n"
     ]
    },
    {
     "name": "stderr",
     "output_type": "stream",
     "text": [
      "[I 2025-07-19 01:02:14,488] Trial 193 finished with value: 844.8727903596543 and parameters: {'lambda_l1': 4.084277532343605e-05, 'lambda_l2': 1.0168988104433865e-06, 'num_leaves': 35, 'feature_fraction': 0.41034334537341083, 'bagging_fraction': 0.9896714491897695, 'bagging_freq': 5, 'min_child_samples': 9}. Best is trial 181 with value: 823.6201020592307.\n"
     ]
    },
    {
     "name": "stdout",
     "output_type": "stream",
     "text": [
      "fin split 0\n",
      "fin split 1\n",
      "fin split 2\n",
      "fin split 3\n",
      "fin split 4\n"
     ]
    },
    {
     "name": "stderr",
     "output_type": "stream",
     "text": [
      "[I 2025-07-19 01:02:26,113] Trial 194 finished with value: 837.377970660265 and parameters: {'lambda_l1': 2.030343892185834e-05, 'lambda_l2': 2.536291644017327e-07, 'num_leaves': 39, 'feature_fraction': 0.40025729612166505, 'bagging_fraction': 0.9923357176274124, 'bagging_freq': 5, 'min_child_samples': 10}. Best is trial 181 with value: 823.6201020592307.\n"
     ]
    },
    {
     "name": "stdout",
     "output_type": "stream",
     "text": [
      "fin split 0\n",
      "fin split 1\n",
      "fin split 2\n",
      "fin split 3\n",
      "fin split 4\n"
     ]
    },
    {
     "name": "stderr",
     "output_type": "stream",
     "text": [
      "[I 2025-07-19 01:02:37,408] Trial 195 finished with value: 849.736317190393 and parameters: {'lambda_l1': 1.0691937674615198e-05, 'lambda_l2': 5.824648590579223e-07, 'num_leaves': 38, 'feature_fraction': 0.4010981656221462, 'bagging_fraction': 0.9932439152839326, 'bagging_freq': 5, 'min_child_samples': 12}. Best is trial 181 with value: 823.6201020592307.\n"
     ]
    },
    {
     "name": "stdout",
     "output_type": "stream",
     "text": [
      "fin split 0\n",
      "fin split 1\n",
      "fin split 2\n",
      "fin split 3\n",
      "fin split 4\n"
     ]
    },
    {
     "name": "stderr",
     "output_type": "stream",
     "text": [
      "[I 2025-07-19 01:02:50,519] Trial 196 finished with value: 880.4031915962025 and parameters: {'lambda_l1': 4.083863867016926e-05, 'lambda_l2': 1.8696973477166732e-07, 'num_leaves': 44, 'feature_fraction': 0.4122752861722333, 'bagging_fraction': 0.989673584262877, 'bagging_freq': 5, 'min_child_samples': 15}. Best is trial 181 with value: 823.6201020592307.\n"
     ]
    },
    {
     "name": "stdout",
     "output_type": "stream",
     "text": [
      "fin split 0\n",
      "fin split 1\n",
      "fin split 2\n",
      "fin split 3\n",
      "fin split 4\n"
     ]
    },
    {
     "name": "stderr",
     "output_type": "stream",
     "text": [
      "[I 2025-07-19 01:03:02,885] Trial 197 finished with value: 843.691427382415 and parameters: {'lambda_l1': 0.00012221230394948644, 'lambda_l2': 0.15416632711817566, 'num_leaves': 32, 'feature_fraction': 0.4418646985107376, 'bagging_fraction': 0.9821341145466344, 'bagging_freq': 5, 'min_child_samples': 11}. Best is trial 181 with value: 823.6201020592307.\n"
     ]
    },
    {
     "name": "stdout",
     "output_type": "stream",
     "text": [
      "fin split 0\n",
      "fin split 1\n",
      "fin split 2\n",
      "fin split 3\n",
      "fin split 4\n"
     ]
    },
    {
     "name": "stderr",
     "output_type": "stream",
     "text": [
      "[I 2025-07-19 01:03:16,634] Trial 198 finished with value: 853.9775209623995 and parameters: {'lambda_l1': 0.0001276096127879756, 'lambda_l2': 0.5147943978381235, 'num_leaves': 37, 'feature_fraction': 0.4419847758507353, 'bagging_fraction': 0.998376284903454, 'bagging_freq': 5, 'min_child_samples': 12}. Best is trial 181 with value: 823.6201020592307.\n"
     ]
    },
    {
     "name": "stdout",
     "output_type": "stream",
     "text": [
      "fin split 0\n",
      "fin split 1\n",
      "fin split 2\n",
      "fin split 3\n",
      "fin split 4\n"
     ]
    },
    {
     "name": "stderr",
     "output_type": "stream",
     "text": [
      "[I 2025-07-19 01:03:32,352] Trial 199 finished with value: 857.1093726419094 and parameters: {'lambda_l1': 0.00020015965387266724, 'lambda_l2': 3.5468526834382916, 'num_leaves': 49, 'feature_fraction': 0.4000275574168287, 'bagging_fraction': 0.9854308152394259, 'bagging_freq': 5, 'min_child_samples': 10}. Best is trial 181 with value: 823.6201020592307.\n"
     ]
    },
    {
     "name": "stdout",
     "output_type": "stream",
     "text": [
      "fin split 0\n",
      "fin split 1\n",
      "fin split 2\n",
      "fin split 3\n",
      "fin split 4\n"
     ]
    },
    {
     "name": "stderr",
     "output_type": "stream",
     "text": [
      "[I 2025-07-19 01:03:44,391] Trial 200 finished with value: 863.7874685689426 and parameters: {'lambda_l1': 9.68737624404131e-05, 'lambda_l2': 2.8804199954196315e-07, 'num_leaves': 33, 'feature_fraction': 0.4259035902312816, 'bagging_fraction': 0.9921733892953511, 'bagging_freq': 4, 'min_child_samples': 7}. Best is trial 181 with value: 823.6201020592307.\n"
     ]
    },
    {
     "name": "stdout",
     "output_type": "stream",
     "text": [
      "fin split 0\n",
      "fin split 1\n",
      "fin split 2\n",
      "fin split 3\n",
      "fin split 4\n"
     ]
    },
    {
     "name": "stderr",
     "output_type": "stream",
     "text": [
      "[I 2025-07-19 01:03:56,309] Trial 201 finished with value: 863.5761273846089 and parameters: {'lambda_l1': 5.840803198684972e-05, 'lambda_l2': 9.460264408307531e-07, 'num_leaves': 31, 'feature_fraction': 0.41323652563422236, 'bagging_fraction': 0.9788683445384786, 'bagging_freq': 5, 'min_child_samples': 9}. Best is trial 181 with value: 823.6201020592307.\n"
     ]
    },
    {
     "name": "stdout",
     "output_type": "stream",
     "text": [
      "fin split 0\n",
      "fin split 1\n",
      "fin split 2\n",
      "fin split 3\n",
      "fin split 4\n"
     ]
    },
    {
     "name": "stderr",
     "output_type": "stream",
     "text": [
      "[I 2025-07-19 01:04:11,321] Trial 202 finished with value: 875.1959044571829 and parameters: {'lambda_l1': 3.20743390480826e-05, 'lambda_l2': 0.0002835620479461811, 'num_leaves': 40, 'feature_fraction': 0.4342309972822741, 'bagging_fraction': 0.9817619647272675, 'bagging_freq': 5, 'min_child_samples': 8}. Best is trial 181 with value: 823.6201020592307.\n"
     ]
    },
    {
     "name": "stdout",
     "output_type": "stream",
     "text": [
      "fin split 0\n",
      "fin split 1\n",
      "fin split 2\n",
      "fin split 3\n",
      "fin split 4\n"
     ]
    },
    {
     "name": "stderr",
     "output_type": "stream",
     "text": [
      "[I 2025-07-19 01:04:23,680] Trial 203 finished with value: 855.0270270854703 and parameters: {'lambda_l1': 4.795586036225788e-05, 'lambda_l2': 1.743893675002459e-06, 'num_leaves': 29, 'feature_fraction': 0.4228939619672621, 'bagging_fraction': 0.973759100066862, 'bagging_freq': 5, 'min_child_samples': 10}. Best is trial 181 with value: 823.6201020592307.\n"
     ]
    },
    {
     "name": "stdout",
     "output_type": "stream",
     "text": [
      "fin split 0\n",
      "fin split 1\n",
      "fin split 2\n",
      "fin split 3\n",
      "fin split 4\n"
     ]
    },
    {
     "name": "stderr",
     "output_type": "stream",
     "text": [
      "[I 2025-07-19 01:04:36,907] Trial 204 finished with value: 851.5274412416657 and parameters: {'lambda_l1': 1.9312102498602122e-05, 'lambda_l2': 0.004066073706786463, 'num_leaves': 36, 'feature_fraction': 0.400418034256639, 'bagging_fraction': 0.9660851334117331, 'bagging_freq': 5, 'min_child_samples': 14}. Best is trial 181 with value: 823.6201020592307.\n"
     ]
    },
    {
     "name": "stdout",
     "output_type": "stream",
     "text": [
      "fin split 0\n",
      "fin split 1\n",
      "fin split 2\n",
      "fin split 3\n",
      "fin split 4\n"
     ]
    },
    {
     "name": "stderr",
     "output_type": "stream",
     "text": [
      "[I 2025-07-19 01:04:47,436] Trial 205 finished with value: 882.6068433476137 and parameters: {'lambda_l1': 0.00012616334586649714, 'lambda_l2': 4.5136806586449635e-07, 'num_leaves': 24, 'feature_fraction': 0.4435057029875109, 'bagging_fraction': 0.9876472154787509, 'bagging_freq': 5, 'min_child_samples': 6}. Best is trial 181 with value: 823.6201020592307.\n"
     ]
    },
    {
     "name": "stdout",
     "output_type": "stream",
     "text": [
      "fin split 0\n",
      "fin split 1\n",
      "fin split 2\n",
      "fin split 3\n",
      "fin split 4\n"
     ]
    },
    {
     "name": "stderr",
     "output_type": "stream",
     "text": [
      "[I 2025-07-19 01:05:01,111] Trial 206 finished with value: 974.0170440016936 and parameters: {'lambda_l1': 3.200389291256725e-05, 'lambda_l2': 1.3087493817729639e-06, 'num_leaves': 42, 'feature_fraction': 0.41729079996202284, 'bagging_fraction': 0.9768809297111857, 'bagging_freq': 5, 'min_child_samples': 81}. Best is trial 181 with value: 823.6201020592307.\n"
     ]
    },
    {
     "name": "stdout",
     "output_type": "stream",
     "text": [
      "fin split 0\n",
      "fin split 1\n",
      "fin split 2\n",
      "fin split 3\n",
      "fin split 4\n"
     ]
    },
    {
     "name": "stderr",
     "output_type": "stream",
     "text": [
      "[I 2025-07-19 01:05:13,782] Trial 207 finished with value: 861.438033453215 and parameters: {'lambda_l1': 7.734279555531893e-05, 'lambda_l2': 1.0096229154099066, 'num_leaves': 32, 'feature_fraction': 0.4651214956003098, 'bagging_fraction': 0.8033136922950367, 'bagging_freq': 5, 'min_child_samples': 11}. Best is trial 181 with value: 823.6201020592307.\n"
     ]
    },
    {
     "name": "stdout",
     "output_type": "stream",
     "text": [
      "fin split 0\n",
      "fin split 1\n",
      "fin split 2\n",
      "fin split 3\n",
      "fin split 4\n"
     ]
    },
    {
     "name": "stderr",
     "output_type": "stream",
     "text": [
      "[I 2025-07-19 01:05:29,473] Trial 208 finished with value: 862.9835467075654 and parameters: {'lambda_l1': 1.3659202848495592e-05, 'lambda_l2': 2.5842241326203263e-06, 'num_leaves': 45, 'feature_fraction': 0.43431327180186197, 'bagging_fraction': 0.9636374348872384, 'bagging_freq': 4, 'min_child_samples': 8}. Best is trial 181 with value: 823.6201020592307.\n"
     ]
    },
    {
     "name": "stdout",
     "output_type": "stream",
     "text": [
      "fin split 0\n",
      "fin split 1\n",
      "fin split 2\n",
      "fin split 3\n",
      "fin split 4\n"
     ]
    },
    {
     "name": "stderr",
     "output_type": "stream",
     "text": [
      "[I 2025-07-19 01:05:39,613] Trial 209 finished with value: 844.3759309248869 and parameters: {'lambda_l1': 5.420784301413173e-05, 'lambda_l2': 8.808632946682399e-07, 'num_leaves': 21, 'feature_fraction': 0.41138151888259694, 'bagging_fraction': 0.9996933006998324, 'bagging_freq': 5, 'min_child_samples': 13}. Best is trial 181 with value: 823.6201020592307.\n"
     ]
    },
    {
     "name": "stdout",
     "output_type": "stream",
     "text": [
      "fin split 0\n",
      "fin split 1\n",
      "fin split 2\n",
      "fin split 3\n",
      "fin split 4\n"
     ]
    },
    {
     "name": "stderr",
     "output_type": "stream",
     "text": [
      "[I 2025-07-19 01:06:10,809] Trial 210 finished with value: 911.1565886184221 and parameters: {'lambda_l1': 0.0002008907640057366, 'lambda_l2': 6.073576376713209e-07, 'num_leaves': 157, 'feature_fraction': 0.4230792340357782, 'bagging_fraction': 0.9976431066221453, 'bagging_freq': 4, 'min_child_samples': 14}. Best is trial 181 with value: 823.6201020592307.\n"
     ]
    },
    {
     "name": "stdout",
     "output_type": "stream",
     "text": [
      "fin split 0\n",
      "fin split 1\n",
      "fin split 2\n",
      "fin split 3\n",
      "fin split 4\n"
     ]
    },
    {
     "name": "stderr",
     "output_type": "stream",
     "text": [
      "[I 2025-07-19 01:06:20,526] Trial 211 finished with value: 881.9489506692778 and parameters: {'lambda_l1': 5.21051283529424e-05, 'lambda_l2': 9.97672322818917e-07, 'num_leaves': 17, 'feature_fraction': 0.40961026822581315, 'bagging_fraction': 0.9861718237030848, 'bagging_freq': 5, 'min_child_samples': 12}. Best is trial 181 with value: 823.6201020592307.\n"
     ]
    },
    {
     "name": "stdout",
     "output_type": "stream",
     "text": [
      "fin split 0\n",
      "fin split 1\n",
      "fin split 2\n",
      "fin split 3\n",
      "fin split 4\n"
     ]
    },
    {
     "name": "stderr",
     "output_type": "stream",
     "text": [
      "[I 2025-07-19 01:06:43,206] Trial 212 finished with value: 870.8905032278743 and parameters: {'lambda_l1': 3.5410517158058566e-05, 'lambda_l2': 1.686144092216153e-06, 'num_leaves': 90, 'feature_fraction': 0.4103105725613989, 'bagging_fraction': 0.9930790926043103, 'bagging_freq': 5, 'min_child_samples': 10}. Best is trial 181 with value: 823.6201020592307.\n"
     ]
    },
    {
     "name": "stdout",
     "output_type": "stream",
     "text": [
      "fin split 0\n",
      "fin split 1\n",
      "fin split 2\n",
      "fin split 3\n",
      "fin split 4\n"
     ]
    },
    {
     "name": "stderr",
     "output_type": "stream",
     "text": [
      "[I 2025-07-19 01:06:53,468] Trial 213 finished with value: 873.6997331427933 and parameters: {'lambda_l1': 7.217582394901147e-05, 'lambda_l2': 7.010061015607369e-07, 'num_leaves': 22, 'feature_fraction': 0.42365205349146345, 'bagging_fraction': 0.9793904929889165, 'bagging_freq': 4, 'min_child_samples': 7}. Best is trial 181 with value: 823.6201020592307.\n"
     ]
    },
    {
     "name": "stdout",
     "output_type": "stream",
     "text": [
      "fin split 0\n",
      "fin split 1\n",
      "fin split 2\n",
      "fin split 3\n",
      "fin split 4\n"
     ]
    },
    {
     "name": "stderr",
     "output_type": "stream",
     "text": [
      "[I 2025-07-19 01:07:05,709] Trial 214 finished with value: 849.9627330382231 and parameters: {'lambda_l1': 2.3071338552192574e-05, 'lambda_l2': 1.2963946136001667e-06, 'num_leaves': 29, 'feature_fraction': 0.40021976735585973, 'bagging_fraction': 0.9702045293516552, 'bagging_freq': 5, 'min_child_samples': 16}. Best is trial 181 with value: 823.6201020592307.\n"
     ]
    },
    {
     "name": "stdout",
     "output_type": "stream",
     "text": [
      "fin split 0\n",
      "fin split 1\n",
      "fin split 2\n",
      "fin split 3\n",
      "fin split 4\n"
     ]
    },
    {
     "name": "stderr",
     "output_type": "stream",
     "text": [
      "[I 2025-07-19 01:07:19,566] Trial 215 finished with value: 847.0139481603794 and parameters: {'lambda_l1': 0.0001285626593034416, 'lambda_l2': 3.1755477637729986e-07, 'num_leaves': 36, 'feature_fraction': 0.44713756871473104, 'bagging_fraction': 0.9845464630821663, 'bagging_freq': 4, 'min_child_samples': 9}. Best is trial 181 with value: 823.6201020592307.\n"
     ]
    },
    {
     "name": "stdout",
     "output_type": "stream",
     "text": [
      "fin split 0\n",
      "fin split 1\n",
      "fin split 2\n",
      "fin split 3\n",
      "fin split 4\n"
     ]
    },
    {
     "name": "stderr",
     "output_type": "stream",
     "text": [
      "[I 2025-07-19 01:07:34,806] Trial 216 finished with value: 856.3137904417051 and parameters: {'lambda_l1': 5.073660383950615e-05, 'lambda_l2': 0.017541594973312574, 'num_leaves': 28, 'feature_fraction': 0.7362065542025397, 'bagging_fraction': 0.9731717339888775, 'bagging_freq': 4, 'min_child_samples': 6}. Best is trial 181 with value: 823.6201020592307.\n"
     ]
    },
    {
     "name": "stdout",
     "output_type": "stream",
     "text": [
      "fin split 0\n",
      "fin split 1\n",
      "fin split 2\n",
      "fin split 3\n",
      "fin split 4\n"
     ]
    },
    {
     "name": "stderr",
     "output_type": "stream",
     "text": [
      "[I 2025-07-19 01:07:47,032] Trial 217 finished with value: 860.0119733310968 and parameters: {'lambda_l1': 8.923694087985425e-05, 'lambda_l2': 2.4352283518725537e-06, 'num_leaves': 34, 'feature_fraction': 0.43464838141448203, 'bagging_fraction': 0.9618041077056103, 'bagging_freq': 5, 'min_child_samples': 13}. Best is trial 181 with value: 823.6201020592307.\n"
     ]
    },
    {
     "name": "stdout",
     "output_type": "stream",
     "text": [
      "fin split 0\n",
      "fin split 1\n",
      "fin split 2\n",
      "fin split 3\n",
      "fin split 4\n"
     ]
    },
    {
     "name": "stderr",
     "output_type": "stream",
     "text": [
      "[I 2025-07-19 01:07:57,303] Trial 218 finished with value: 859.6423908546124 and parameters: {'lambda_l1': 2.968005653302882e-05, 'lambda_l2': 9.009478796693663e-07, 'num_leaves': 24, 'feature_fraction': 0.4106455807791909, 'bagging_fraction': 0.9804167317887805, 'bagging_freq': 4, 'min_child_samples': 8}. Best is trial 181 with value: 823.6201020592307.\n"
     ]
    },
    {
     "name": "stdout",
     "output_type": "stream",
     "text": [
      "fin split 0\n",
      "fin split 1\n",
      "fin split 2\n",
      "fin split 3\n",
      "fin split 4\n"
     ]
    },
    {
     "name": "stderr",
     "output_type": "stream",
     "text": [
      "[I 2025-07-19 01:08:12,063] Trial 219 finished with value: 856.9557974057639 and parameters: {'lambda_l1': 1.5906600276379937e-05, 'lambda_l2': 0.04195783774171612, 'num_leaves': 39, 'feature_fraction': 0.4206861220996916, 'bagging_fraction': 0.9930282299519932, 'bagging_freq': 5, 'min_child_samples': 11}. Best is trial 181 with value: 823.6201020592307.\n"
     ]
    },
    {
     "name": "stdout",
     "output_type": "stream",
     "text": [
      "fin split 0\n",
      "fin split 1\n",
      "fin split 2\n",
      "fin split 3\n",
      "fin split 4\n"
     ]
    },
    {
     "name": "stderr",
     "output_type": "stream",
     "text": [
      "[I 2025-07-19 01:08:22,280] Trial 220 finished with value: 855.9864878767579 and parameters: {'lambda_l1': 4.3380482317094095e-05, 'lambda_l2': 1.976571100931085e-06, 'num_leaves': 19, 'feature_fraction': 0.4003254644171536, 'bagging_fraction': 0.9676913059285833, 'bagging_freq': 4, 'min_child_samples': 5}. Best is trial 181 with value: 823.6201020592307.\n"
     ]
    },
    {
     "name": "stdout",
     "output_type": "stream",
     "text": [
      "fin split 0\n",
      "fin split 1\n",
      "fin split 2\n",
      "fin split 3\n",
      "fin split 4\n"
     ]
    },
    {
     "name": "stderr",
     "output_type": "stream",
     "text": [
      "[I 2025-07-19 01:08:32,773] Trial 221 finished with value: 846.037882509044 and parameters: {'lambda_l1': 1.9416295766802473e-05, 'lambda_l2': 0.17689972458803802, 'num_leaves': 25, 'feature_fraction': 0.4313284155064121, 'bagging_fraction': 0.9755386927779572, 'bagging_freq': 5, 'min_child_samples': 9}. Best is trial 181 with value: 823.6201020592307.\n"
     ]
    },
    {
     "name": "stdout",
     "output_type": "stream",
     "text": [
      "fin split 0\n",
      "fin split 1\n",
      "fin split 2\n",
      "fin split 3\n",
      "fin split 4\n"
     ]
    },
    {
     "name": "stderr",
     "output_type": "stream",
     "text": [
      "[I 2025-07-19 01:08:44,282] Trial 222 finished with value: 844.3095723943921 and parameters: {'lambda_l1': 2.291653647205506e-05, 'lambda_l2': 0.11997943083299967, 'num_leaves': 29, 'feature_fraction': 0.43151942460753984, 'bagging_fraction': 0.956627370585564, 'bagging_freq': 5, 'min_child_samples': 9}. Best is trial 181 with value: 823.6201020592307.\n"
     ]
    },
    {
     "name": "stdout",
     "output_type": "stream",
     "text": [
      "fin split 0\n",
      "fin split 1\n",
      "fin split 2\n",
      "fin split 3\n",
      "fin split 4\n"
     ]
    },
    {
     "name": "stderr",
     "output_type": "stream",
     "text": [
      "[I 2025-07-19 01:08:57,098] Trial 223 finished with value: 861.8274978032218 and parameters: {'lambda_l1': 3.199072157117634e-05, 'lambda_l2': 0.10236962023504045, 'num_leaves': 31, 'feature_fraction': 0.4126408679986859, 'bagging_fraction': 0.7582434784002113, 'bagging_freq': 5, 'min_child_samples': 7}. Best is trial 181 with value: 823.6201020592307.\n"
     ]
    },
    {
     "name": "stdout",
     "output_type": "stream",
     "text": [
      "fin split 0\n",
      "fin split 1\n",
      "fin split 2\n",
      "fin split 3\n",
      "fin split 4\n"
     ]
    },
    {
     "name": "stderr",
     "output_type": "stream",
     "text": [
      "[I 2025-07-19 01:09:09,246] Trial 224 finished with value: 858.7099243538687 and parameters: {'lambda_l1': 6.399119045019173e-05, 'lambda_l2': 0.09516610093414855, 'num_leaves': 35, 'feature_fraction': 0.4533981174850561, 'bagging_fraction': 0.9559247901936252, 'bagging_freq': 5, 'min_child_samples': 11}. Best is trial 181 with value: 823.6201020592307.\n"
     ]
    },
    {
     "name": "stdout",
     "output_type": "stream",
     "text": [
      "fin split 0\n",
      "fin split 1\n",
      "fin split 2\n",
      "fin split 3\n",
      "fin split 4\n"
     ]
    },
    {
     "name": "stderr",
     "output_type": "stream",
     "text": [
      "[I 2025-07-19 01:09:20,140] Trial 225 finished with value: 858.6393919589882 and parameters: {'lambda_l1': 8.650543586963784e-06, 'lambda_l2': 0.09764185600198581, 'num_leaves': 30, 'feature_fraction': 0.4209389747144841, 'bagging_fraction': 0.9590372756653623, 'bagging_freq': 5, 'min_child_samples': 9}. Best is trial 181 with value: 823.6201020592307.\n"
     ]
    },
    {
     "name": "stdout",
     "output_type": "stream",
     "text": [
      "fin split 0\n",
      "fin split 1\n",
      "fin split 2\n",
      "fin split 3\n",
      "fin split 4\n"
     ]
    },
    {
     "name": "stderr",
     "output_type": "stream",
     "text": [
      "[I 2025-07-19 01:09:33,479] Trial 226 finished with value: 844.098306058753 and parameters: {'lambda_l1': 0.00010230202781910565, 'lambda_l2': 1.2933546047145052e-06, 'num_leaves': 40, 'feature_fraction': 0.4383663146483266, 'bagging_fraction': 0.968617968667636, 'bagging_freq': 5, 'min_child_samples': 7}. Best is trial 181 with value: 823.6201020592307.\n"
     ]
    },
    {
     "name": "stdout",
     "output_type": "stream",
     "text": [
      "fin split 0\n",
      "fin split 1\n",
      "fin split 2\n",
      "fin split 3\n",
      "fin split 4\n"
     ]
    },
    {
     "name": "stderr",
     "output_type": "stream",
     "text": [
      "[I 2025-07-19 01:09:48,183] Trial 227 finished with value: 844.4207606124871 and parameters: {'lambda_l1': 0.0002718476852863414, 'lambda_l2': 1.014707197779023e-06, 'num_leaves': 41, 'feature_fraction': 0.4435073814598767, 'bagging_fraction': 0.9664802533310834, 'bagging_freq': 5, 'min_child_samples': 5}. Best is trial 181 with value: 823.6201020592307.\n"
     ]
    },
    {
     "name": "stdout",
     "output_type": "stream",
     "text": [
      "fin split 0\n",
      "fin split 1\n",
      "fin split 2\n",
      "fin split 3\n",
      "fin split 4\n"
     ]
    },
    {
     "name": "stderr",
     "output_type": "stream",
     "text": [
      "[I 2025-07-19 01:10:05,049] Trial 228 finished with value: 900.0161039040827 and parameters: {'lambda_l1': 0.00028572881946715956, 'lambda_l2': 8.216148020201508e-07, 'num_leaves': 46, 'feature_fraction': 0.45238784704273816, 'bagging_fraction': 0.7296208396858791, 'bagging_freq': 5, 'min_child_samples': 5}. Best is trial 181 with value: 823.6201020592307.\n"
     ]
    },
    {
     "name": "stdout",
     "output_type": "stream",
     "text": [
      "fin split 0\n",
      "fin split 1\n",
      "fin split 2\n",
      "fin split 3\n",
      "fin split 4\n"
     ]
    },
    {
     "name": "stderr",
     "output_type": "stream",
     "text": [
      "[I 2025-07-19 01:10:19,677] Trial 229 finished with value: 865.3423430412993 and parameters: {'lambda_l1': 0.0001085898468777616, 'lambda_l2': 4.652850451058736e-07, 'num_leaves': 41, 'feature_fraction': 0.43921882624037556, 'bagging_fraction': 0.9505479508410579, 'bagging_freq': 5, 'min_child_samples': 7}. Best is trial 181 with value: 823.6201020592307.\n"
     ]
    },
    {
     "name": "stdout",
     "output_type": "stream",
     "text": [
      "fin split 0\n",
      "fin split 1\n",
      "fin split 2\n",
      "fin split 3\n",
      "fin split 4\n"
     ]
    },
    {
     "name": "stderr",
     "output_type": "stream",
     "text": [
      "[I 2025-07-19 01:10:38,386] Trial 230 finished with value: 869.971839701569 and parameters: {'lambda_l1': 6.88591400139292e-05, 'lambda_l2': 0.27637219052467543, 'num_leaves': 50, 'feature_fraction': 0.46548642026251086, 'bagging_fraction': 0.9998107007438427, 'bagging_freq': 5, 'min_child_samples': 5}. Best is trial 181 with value: 823.6201020592307.\n"
     ]
    },
    {
     "name": "stdout",
     "output_type": "stream",
     "text": [
      "fin split 0\n",
      "fin split 1\n",
      "fin split 2\n",
      "fin split 3\n",
      "fin split 4\n"
     ]
    },
    {
     "name": "stderr",
     "output_type": "stream",
     "text": [
      "[I 2025-07-19 01:10:52,572] Trial 231 finished with value: 838.7142585681731 and parameters: {'lambda_l1': 0.00018165437931844225, 'lambda_l2': 1.3463595689233203e-06, 'num_leaves': 39, 'feature_fraction': 0.4335068282406582, 'bagging_fraction': 0.96790097388655, 'bagging_freq': 5, 'min_child_samples': 7}. Best is trial 181 with value: 823.6201020592307.\n"
     ]
    },
    {
     "name": "stdout",
     "output_type": "stream",
     "text": [
      "fin split 0\n",
      "fin split 1\n",
      "fin split 2\n",
      "fin split 3\n",
      "fin split 4\n"
     ]
    },
    {
     "name": "stderr",
     "output_type": "stream",
     "text": [
      "[I 2025-07-19 01:11:07,606] Trial 232 finished with value: 859.666837190876 and parameters: {'lambda_l1': 0.0001722660069954239, 'lambda_l2': 0.00013487253889621085, 'num_leaves': 39, 'feature_fraction': 0.4321577313954992, 'bagging_fraction': 0.9656125983096259, 'bagging_freq': 5, 'min_child_samples': 7}. Best is trial 181 with value: 823.6201020592307.\n"
     ]
    },
    {
     "name": "stdout",
     "output_type": "stream",
     "text": [
      "fin split 0\n",
      "fin split 1\n",
      "fin split 2\n",
      "fin split 3\n",
      "fin split 4\n"
     ]
    },
    {
     "name": "stderr",
     "output_type": "stream",
     "text": [
      "[I 2025-07-19 01:11:24,152] Trial 233 finished with value: 869.8219719024783 and parameters: {'lambda_l1': 0.0001312365049368955, 'lambda_l2': 1.1806355472777595e-06, 'num_leaves': 43, 'feature_fraction': 0.44512221747966385, 'bagging_fraction': 0.9589805864770258, 'bagging_freq': 5, 'min_child_samples': 7}. Best is trial 181 with value: 823.6201020592307.\n"
     ]
    },
    {
     "name": "stdout",
     "output_type": "stream",
     "text": [
      "fin split 0\n",
      "fin split 1\n",
      "fin split 2\n",
      "fin split 3\n",
      "fin split 4\n"
     ]
    },
    {
     "name": "stderr",
     "output_type": "stream",
     "text": [
      "[I 2025-07-19 01:11:39,381] Trial 234 finished with value: 870.7114798825298 and parameters: {'lambda_l1': 0.0002599592508304677, 'lambda_l2': 7.548178745049019e-07, 'num_leaves': 38, 'feature_fraction': 0.4268488888221426, 'bagging_fraction': 0.9848010031475704, 'bagging_freq': 5, 'min_child_samples': 8}. Best is trial 181 with value: 823.6201020592307.\n"
     ]
    },
    {
     "name": "stdout",
     "output_type": "stream",
     "text": [
      "fin split 0\n",
      "fin split 1\n",
      "fin split 2\n",
      "fin split 3\n",
      "fin split 4\n"
     ]
    },
    {
     "name": "stderr",
     "output_type": "stream",
     "text": [
      "[I 2025-07-19 01:11:52,991] Trial 235 finished with value: 844.8188668626412 and parameters: {'lambda_l1': 9.220315520730545e-05, 'lambda_l2': 1.2415479419690064e-06, 'num_leaves': 36, 'feature_fraction': 0.44222178071185636, 'bagging_fraction': 0.9670923343287156, 'bagging_freq': 5, 'min_child_samples': 5}. Best is trial 181 with value: 823.6201020592307.\n"
     ]
    },
    {
     "name": "stdout",
     "output_type": "stream",
     "text": [
      "fin split 0\n",
      "fin split 1\n",
      "fin split 2\n",
      "fin split 3\n",
      "fin split 4\n"
     ]
    },
    {
     "name": "stderr",
     "output_type": "stream",
     "text": [
      "[I 2025-07-19 01:12:06,016] Trial 236 finished with value: 853.0966241677833 and parameters: {'lambda_l1': 9.757564283832544e-05, 'lambda_l2': 1.4184549565268182e-06, 'num_leaves': 33, 'feature_fraction': 0.4611546062335868, 'bagging_fraction': 0.9675597411331466, 'bagging_freq': 5, 'min_child_samples': 5}. Best is trial 181 with value: 823.6201020592307.\n"
     ]
    },
    {
     "name": "stdout",
     "output_type": "stream",
     "text": [
      "fin split 0\n",
      "fin split 1\n",
      "fin split 2\n",
      "fin split 3\n",
      "fin split 4\n"
     ]
    },
    {
     "name": "stderr",
     "output_type": "stream",
     "text": [
      "[I 2025-07-19 01:12:19,146] Trial 237 finished with value: 851.0338277228751 and parameters: {'lambda_l1': 0.00015761098878320934, 'lambda_l2': 1.3308020100524158e-06, 'num_leaves': 35, 'feature_fraction': 0.44446311775277186, 'bagging_fraction': 0.9525258588872609, 'bagging_freq': 5, 'min_child_samples': 5}. Best is trial 181 with value: 823.6201020592307.\n"
     ]
    },
    {
     "name": "stdout",
     "output_type": "stream",
     "text": [
      "fin split 0\n",
      "fin split 1\n",
      "fin split 2\n",
      "fin split 3\n",
      "fin split 4\n"
     ]
    },
    {
     "name": "stderr",
     "output_type": "stream",
     "text": [
      "[I 2025-07-19 01:12:34,622] Trial 238 finished with value: 852.3680003960544 and parameters: {'lambda_l1': 6.386477715086517e-05, 'lambda_l2': 0.18563180838807877, 'num_leaves': 45, 'feature_fraction': 0.45409936111413063, 'bagging_fraction': 0.9633067923830011, 'bagging_freq': 5, 'min_child_samples': 7}. Best is trial 181 with value: 823.6201020592307.\n"
     ]
    },
    {
     "name": "stdout",
     "output_type": "stream",
     "text": [
      "fin split 0\n",
      "fin split 1\n",
      "fin split 2\n",
      "fin split 3\n",
      "fin split 4\n"
     ]
    },
    {
     "name": "stderr",
     "output_type": "stream",
     "text": [
      "[I 2025-07-19 01:12:47,504] Trial 239 finished with value: 841.5926200520184 and parameters: {'lambda_l1': 9.197300804848848e-05, 'lambda_l2': 1.942879812061734e-06, 'num_leaves': 36, 'feature_fraction': 0.43668472814421755, 'bagging_fraction': 0.9753558523192162, 'bagging_freq': 5, 'min_child_samples': 10}. Best is trial 181 with value: 823.6201020592307.\n"
     ]
    },
    {
     "name": "stdout",
     "output_type": "stream",
     "text": [
      "fin split 0\n",
      "fin split 1\n",
      "fin split 2\n",
      "fin split 3\n",
      "fin split 4\n"
     ]
    },
    {
     "name": "stderr",
     "output_type": "stream",
     "text": [
      "[I 2025-07-19 01:13:00,236] Trial 240 finished with value: 835.1686851386517 and parameters: {'lambda_l1': 0.00010241640683342363, 'lambda_l2': 7.28551464452229e-05, 'num_leaves': 36, 'feature_fraction': 0.4383101990177681, 'bagging_fraction': 0.9715445086412129, 'bagging_freq': 5, 'min_child_samples': 10}. Best is trial 181 with value: 823.6201020592307.\n"
     ]
    },
    {
     "name": "stdout",
     "output_type": "stream",
     "text": [
      "fin split 0\n",
      "fin split 1\n",
      "fin split 2\n",
      "fin split 3\n",
      "fin split 4\n"
     ]
    },
    {
     "name": "stderr",
     "output_type": "stream",
     "text": [
      "[I 2025-07-19 01:13:13,656] Trial 241 finished with value: 830.2667040565036 and parameters: {'lambda_l1': 9.705142817702414e-05, 'lambda_l2': 0.00010948245877417114, 'num_leaves': 36, 'feature_fraction': 0.43616516152271306, 'bagging_fraction': 0.9700950965033319, 'bagging_freq': 5, 'min_child_samples': 10}. Best is trial 181 with value: 823.6201020592307.\n"
     ]
    },
    {
     "name": "stdout",
     "output_type": "stream",
     "text": [
      "fin split 0\n",
      "fin split 1\n",
      "fin split 2\n",
      "fin split 3\n",
      "fin split 4\n"
     ]
    },
    {
     "name": "stderr",
     "output_type": "stream",
     "text": [
      "[I 2025-07-19 01:13:27,832] Trial 242 finished with value: 869.202872541609 and parameters: {'lambda_l1': 0.00010317383891977793, 'lambda_l2': 0.00042942221205627764, 'num_leaves': 39, 'feature_fraction': 0.4402783357750954, 'bagging_fraction': 0.9693537124210951, 'bagging_freq': 5, 'min_child_samples': 9}. Best is trial 181 with value: 823.6201020592307.\n"
     ]
    },
    {
     "name": "stdout",
     "output_type": "stream",
     "text": [
      "fin split 0\n",
      "fin split 1\n",
      "fin split 2\n",
      "fin split 3\n",
      "fin split 4\n"
     ]
    },
    {
     "name": "stderr",
     "output_type": "stream",
     "text": [
      "[I 2025-07-19 01:13:41,181] Trial 243 finished with value: 994.8860593223004 and parameters: {'lambda_l1': 0.00021860852592066202, 'lambda_l2': 5.982943806386385e-05, 'num_leaves': 33, 'feature_fraction': 0.4498532049130008, 'bagging_fraction': 0.9717557481824652, 'bagging_freq': 5, 'min_child_samples': 100}. Best is trial 181 with value: 823.6201020592307.\n"
     ]
    },
    {
     "name": "stdout",
     "output_type": "stream",
     "text": [
      "fin split 0\n",
      "fin split 1\n",
      "fin split 2\n",
      "fin split 3\n",
      "fin split 4\n"
     ]
    },
    {
     "name": "stderr",
     "output_type": "stream",
     "text": [
      "[I 2025-07-19 01:14:05,576] Trial 244 finished with value: 851.611518467789 and parameters: {'lambda_l1': 0.00010595620519083782, 'lambda_l2': 7.109075966116512e-05, 'num_leaves': 44, 'feature_fraction': 0.9992289425937433, 'bagging_fraction': 0.9756304298198786, 'bagging_freq': 5, 'min_child_samples': 6}. Best is trial 181 with value: 823.6201020592307.\n"
     ]
    },
    {
     "name": "stdout",
     "output_type": "stream",
     "text": [
      "fin split 0\n",
      "fin split 1\n",
      "fin split 2\n",
      "fin split 3\n",
      "fin split 4\n"
     ]
    },
    {
     "name": "stderr",
     "output_type": "stream",
     "text": [
      "[I 2025-07-19 01:14:19,594] Trial 245 finished with value: 853.8721741333056 and parameters: {'lambda_l1': 0.0005640425463941007, 'lambda_l2': 2.086367031951149e-05, 'num_leaves': 36, 'feature_fraction': 0.432537890382377, 'bagging_fraction': 0.9885653769089457, 'bagging_freq': 5, 'min_child_samples': 10}. Best is trial 181 with value: 823.6201020592307.\n"
     ]
    },
    {
     "name": "stdout",
     "output_type": "stream",
     "text": [
      "fin split 0\n",
      "fin split 1\n",
      "fin split 2\n",
      "fin split 3\n",
      "fin split 4\n"
     ]
    },
    {
     "name": "stderr",
     "output_type": "stream",
     "text": [
      "[I 2025-07-19 01:14:32,317] Trial 246 finished with value: 870.6867625314574 and parameters: {'lambda_l1': 0.00013408286634576894, 'lambda_l2': 0.00022855321031673283, 'num_leaves': 31, 'feature_fraction': 0.41944127786673835, 'bagging_fraction': 0.9628983885997342, 'bagging_freq': 5, 'min_child_samples': 7}. Best is trial 181 with value: 823.6201020592307.\n"
     ]
    },
    {
     "name": "stdout",
     "output_type": "stream",
     "text": [
      "fin split 0\n",
      "fin split 1\n",
      "fin split 2\n",
      "fin split 3\n",
      "fin split 4\n"
     ]
    },
    {
     "name": "stderr",
     "output_type": "stream",
     "text": [
      "[I 2025-07-19 01:14:49,478] Trial 247 finished with value: 856.3337857084542 and parameters: {'lambda_l1': 8.124383198909129e-05, 'lambda_l2': 3.970318915966816e-05, 'num_leaves': 52, 'feature_fraction': 0.4663799661862673, 'bagging_fraction': 0.9722615769028936, 'bagging_freq': 5, 'min_child_samples': 8}. Best is trial 181 with value: 823.6201020592307.\n"
     ]
    },
    {
     "name": "stdout",
     "output_type": "stream",
     "text": [
      "fin split 0\n",
      "fin split 1\n",
      "fin split 2\n",
      "fin split 3\n",
      "fin split 4\n"
     ]
    },
    {
     "name": "stderr",
     "output_type": "stream",
     "text": [
      "[I 2025-07-19 01:15:02,469] Trial 248 finished with value: 849.9530721484398 and parameters: {'lambda_l1': 0.0002911304037392229, 'lambda_l2': 3.320782687592705e-05, 'num_leaves': 41, 'feature_fraction': 0.43867129150024387, 'bagging_fraction': 0.964742728546872, 'bagging_freq': 5, 'min_child_samples': 5}. Best is trial 181 with value: 823.6201020592307.\n"
     ]
    },
    {
     "name": "stdout",
     "output_type": "stream",
     "text": [
      "fin split 0\n",
      "fin split 1\n",
      "fin split 2\n",
      "fin split 3\n",
      "fin split 4\n"
     ]
    },
    {
     "name": "stderr",
     "output_type": "stream",
     "text": [
      "[I 2025-07-19 01:15:15,418] Trial 249 finished with value: 901.5584991047305 and parameters: {'lambda_l1': 0.00016817092598009028, 'lambda_l2': 0.00010652211609049324, 'num_leaves': 47, 'feature_fraction': 0.41065772104605447, 'bagging_fraction': 0.7721592970356141, 'bagging_freq': 5, 'min_child_samples': 11}. Best is trial 181 with value: 823.6201020592307.\n"
     ]
    },
    {
     "name": "stdout",
     "output_type": "stream",
     "text": [
      "fin split 0\n",
      "fin split 1\n",
      "fin split 2\n",
      "fin split 3\n",
      "fin split 4\n"
     ]
    },
    {
     "name": "stderr",
     "output_type": "stream",
     "text": [
      "[I 2025-07-19 01:15:30,369] Trial 250 finished with value: 865.5878667093325 and parameters: {'lambda_l1': 5.148928047140775e-05, 'lambda_l2': 6.250753377626478e-07, 'num_leaves': 35, 'feature_fraction': 0.4235805670324059, 'bagging_fraction': 0.983813592382051, 'bagging_freq': 5, 'min_child_samples': 9}. Best is trial 181 with value: 823.6201020592307.\n"
     ]
    },
    {
     "name": "stdout",
     "output_type": "stream",
     "text": [
      "fin split 0\n",
      "fin split 1\n",
      "fin split 2\n",
      "fin split 3\n",
      "fin split 4\n"
     ]
    },
    {
     "name": "stderr",
     "output_type": "stream",
     "text": [
      "[I 2025-07-19 01:15:41,399] Trial 251 finished with value: 835.5281038621968 and parameters: {'lambda_l1': 8.449846893048846e-05, 'lambda_l2': 1.9166262815655846e-06, 'num_leaves': 29, 'feature_fraction': 0.40991655897969886, 'bagging_fraction': 0.9554919311608666, 'bagging_freq': 5, 'min_child_samples': 7}. Best is trial 181 with value: 823.6201020592307.\n"
     ]
    },
    {
     "name": "stdout",
     "output_type": "stream",
     "text": [
      "fin split 0\n",
      "fin split 1\n",
      "fin split 2\n",
      "fin split 3\n",
      "fin split 4\n"
     ]
    },
    {
     "name": "stderr",
     "output_type": "stream",
     "text": [
      "[I 2025-07-19 01:15:53,500] Trial 252 finished with value: 868.9523352728199 and parameters: {'lambda_l1': 8.433869626959153e-05, 'lambda_l2': 1.7065869379604695e-06, 'num_leaves': 28, 'feature_fraction': 0.45521418616708215, 'bagging_fraction': 0.9473640982434939, 'bagging_freq': 5, 'min_child_samples': 6}. Best is trial 181 with value: 823.6201020592307.\n"
     ]
    },
    {
     "name": "stdout",
     "output_type": "stream",
     "text": [
      "fin split 0\n",
      "fin split 1\n",
      "fin split 2\n",
      "fin split 3\n",
      "fin split 4\n"
     ]
    },
    {
     "name": "stderr",
     "output_type": "stream",
     "text": [
      "[I 2025-07-19 01:16:03,111] Trial 253 finished with value: 939.6341534041378 and parameters: {'lambda_l1': 0.0001460107518549763, 'lambda_l2': 1.7981915570726237e-06, 'num_leaves': 22, 'feature_fraction': 0.4311437456228081, 'bagging_fraction': 0.9562911794523552, 'bagging_freq': 5, 'min_child_samples': 49}. Best is trial 181 with value: 823.6201020592307.\n"
     ]
    },
    {
     "name": "stdout",
     "output_type": "stream",
     "text": [
      "fin split 0\n",
      "fin split 1\n",
      "fin split 2\n",
      "fin split 3\n",
      "fin split 4\n"
     ]
    },
    {
     "name": "stderr",
     "output_type": "stream",
     "text": [
      "[I 2025-07-19 01:16:14,076] Trial 254 finished with value: 899.1385735875299 and parameters: {'lambda_l1': 9.936032647726347e-05, 'lambda_l2': 8.516936434133909e-05, 'num_leaves': 30, 'feature_fraction': 0.4002517451353739, 'bagging_fraction': 0.9405382465637763, 'bagging_freq': 5, 'min_child_samples': 7}. Best is trial 181 with value: 823.6201020592307.\n"
     ]
    },
    {
     "name": "stdout",
     "output_type": "stream",
     "text": [
      "fin split 0\n",
      "fin split 1\n",
      "fin split 2\n",
      "fin split 3\n",
      "fin split 4\n"
     ]
    },
    {
     "name": "stderr",
     "output_type": "stream",
     "text": [
      "[I 2025-07-19 01:16:29,524] Trial 255 finished with value: 870.0346930944015 and parameters: {'lambda_l1': 0.00023142918785746622, 'lambda_l2': 2.437033540464041e-06, 'num_leaves': 39, 'feature_fraction': 0.41914598579944007, 'bagging_fraction': 0.9574794247685867, 'bagging_freq': 5, 'min_child_samples': 10}. Best is trial 181 with value: 823.6201020592307.\n"
     ]
    },
    {
     "name": "stdout",
     "output_type": "stream",
     "text": [
      "fin split 0\n",
      "fin split 1\n",
      "fin split 2\n",
      "fin split 3\n",
      "fin split 4\n"
     ]
    },
    {
     "name": "stderr",
     "output_type": "stream",
     "text": [
      "[I 2025-07-19 01:16:41,774] Trial 256 finished with value: 851.2481390122423 and parameters: {'lambda_l1': 6.291016354750245e-05, 'lambda_l2': 0.0001751137335399919, 'num_leaves': 27, 'feature_fraction': 0.43935683673434395, 'bagging_fraction': 0.9710409879754748, 'bagging_freq': 5, 'min_child_samples': 7}. Best is trial 181 with value: 823.6201020592307.\n"
     ]
    },
    {
     "name": "stdout",
     "output_type": "stream",
     "text": [
      "fin split 0\n",
      "fin split 1\n",
      "fin split 2\n",
      "fin split 3\n",
      "fin split 4\n"
     ]
    },
    {
     "name": "stderr",
     "output_type": "stream",
     "text": [
      "[I 2025-07-19 01:16:56,536] Trial 257 finished with value: 870.5636732487209 and parameters: {'lambda_l1': 0.00010686254283405752, 'lambda_l2': 1.0249204791872339e-06, 'num_leaves': 43, 'feature_fraction': 0.413300772527689, 'bagging_fraction': 0.9628463085790104, 'bagging_freq': 5, 'min_child_samples': 5}. Best is trial 181 with value: 823.6201020592307.\n"
     ]
    },
    {
     "name": "stdout",
     "output_type": "stream",
     "text": [
      "fin split 0\n",
      "fin split 1\n",
      "fin split 2\n",
      "fin split 3\n",
      "fin split 4\n"
     ]
    },
    {
     "name": "stderr",
     "output_type": "stream",
     "text": [
      "[I 2025-07-19 01:17:07,785] Trial 258 finished with value: 851.5476451961973 and parameters: {'lambda_l1': 0.00040828601071244525, 'lambda_l2': 2.644724054716603e-06, 'num_leaves': 31, 'feature_fraction': 0.42732960068529624, 'bagging_fraction': 0.9505823541387344, 'bagging_freq': 5, 'min_child_samples': 12}. Best is trial 181 with value: 823.6201020592307.\n"
     ]
    },
    {
     "name": "stdout",
     "output_type": "stream",
     "text": [
      "fin split 0\n",
      "fin split 1\n",
      "fin split 2\n",
      "fin split 3\n",
      "fin split 4\n"
     ]
    },
    {
     "name": "stderr",
     "output_type": "stream",
     "text": [
      "[I 2025-07-19 01:17:36,566] Trial 259 finished with value: 909.9553129693869 and parameters: {'lambda_l1': 4.423985481732137e-05, 'lambda_l2': 1.0651685917270936e-05, 'num_leaves': 122, 'feature_fraction': 0.44560121840410793, 'bagging_fraction': 0.9793983949004976, 'bagging_freq': 5, 'min_child_samples': 9}. Best is trial 181 with value: 823.6201020592307.\n"
     ]
    },
    {
     "name": "stdout",
     "output_type": "stream",
     "text": [
      "fin split 0\n",
      "fin split 1\n",
      "fin split 2\n",
      "fin split 3\n",
      "fin split 4\n"
     ]
    },
    {
     "name": "stderr",
     "output_type": "stream",
     "text": [
      "[I 2025-07-19 01:17:51,162] Trial 260 finished with value: 839.5943656316863 and parameters: {'lambda_l1': 0.00017119380796390722, 'lambda_l2': 0.0016189618208988798, 'num_leaves': 22, 'feature_fraction': 0.7922061718423163, 'bagging_fraction': 0.9687131986820406, 'bagging_freq': 5, 'min_child_samples': 5}. Best is trial 181 with value: 823.6201020592307.\n"
     ]
    },
    {
     "name": "stdout",
     "output_type": "stream",
     "text": [
      "fin split 0\n",
      "fin split 1\n",
      "fin split 2\n",
      "fin split 3\n",
      "fin split 4\n"
     ]
    },
    {
     "name": "stderr",
     "output_type": "stream",
     "text": [
      "[I 2025-07-19 01:18:03,345] Trial 261 finished with value: 870.6261306224924 and parameters: {'lambda_l1': 0.00017433930214459355, 'lambda_l2': 0.0012091126041135938, 'num_leaves': 15, 'feature_fraction': 0.7910888267221674, 'bagging_fraction': 0.9750246427314405, 'bagging_freq': 5, 'min_child_samples': 8}. Best is trial 181 with value: 823.6201020592307.\n"
     ]
    },
    {
     "name": "stdout",
     "output_type": "stream",
     "text": [
      "fin split 0\n",
      "fin split 1\n",
      "fin split 2\n",
      "fin split 3\n",
      "fin split 4\n"
     ]
    },
    {
     "name": "stderr",
     "output_type": "stream",
     "text": [
      "[I 2025-07-19 01:18:16,093] Trial 262 finished with value: 837.208694863956 and parameters: {'lambda_l1': 0.0002823248811109491, 'lambda_l2': 4.758323000653145e-06, 'num_leaves': 21, 'feature_fraction': 0.704696068966207, 'bagging_fraction': 0.9567860202208497, 'bagging_freq': 5, 'min_child_samples': 11}. Best is trial 181 with value: 823.6201020592307.\n"
     ]
    },
    {
     "name": "stdout",
     "output_type": "stream",
     "text": [
      "fin split 0\n",
      "fin split 1\n",
      "fin split 2\n",
      "fin split 3\n",
      "fin split 4\n"
     ]
    },
    {
     "name": "stderr",
     "output_type": "stream",
     "text": [
      "[I 2025-07-19 01:18:28,114] Trial 263 finished with value: 869.2801062374724 and parameters: {'lambda_l1': 0.00025665564950084607, 'lambda_l2': 1.551722127027448e-05, 'num_leaves': 19, 'feature_fraction': 0.7072670740964073, 'bagging_fraction': 0.9440898158963771, 'bagging_freq': 5, 'min_child_samples': 12}. Best is trial 181 with value: 823.6201020592307.\n"
     ]
    },
    {
     "name": "stdout",
     "output_type": "stream",
     "text": [
      "fin split 0\n",
      "fin split 1\n",
      "fin split 2\n",
      "fin split 3\n",
      "fin split 4\n"
     ]
    },
    {
     "name": "stderr",
     "output_type": "stream",
     "text": [
      "[I 2025-07-19 01:18:38,670] Trial 264 finished with value: 904.7663515797151 and parameters: {'lambda_l1': 0.00035501141731144947, 'lambda_l2': 5.053077137275264e-06, 'num_leaves': 11, 'feature_fraction': 0.8062634720040607, 'bagging_fraction': 0.9554800304736955, 'bagging_freq': 5, 'min_child_samples': 10}. Best is trial 181 with value: 823.6201020592307.\n"
     ]
    },
    {
     "name": "stdout",
     "output_type": "stream",
     "text": [
      "fin split 0\n",
      "fin split 1\n",
      "fin split 2\n",
      "fin split 3\n",
      "fin split 4\n"
     ]
    },
    {
     "name": "stderr",
     "output_type": "stream",
     "text": [
      "[I 2025-07-19 01:18:51,487] Trial 265 finished with value: 863.1512320561604 and parameters: {'lambda_l1': 0.0006613124821248912, 'lambda_l2': 4.450808317027678e-06, 'num_leaves': 22, 'feature_fraction': 0.6542794950372555, 'bagging_fraction': 0.9597267106637459, 'bagging_freq': 5, 'min_child_samples': 13}. Best is trial 181 with value: 823.6201020592307.\n"
     ]
    },
    {
     "name": "stdout",
     "output_type": "stream",
     "text": [
      "fin split 0\n",
      "fin split 1\n",
      "fin split 2\n",
      "fin split 3\n",
      "fin split 4\n"
     ]
    },
    {
     "name": "stderr",
     "output_type": "stream",
     "text": [
      "[I 2025-07-19 01:19:02,501] Trial 266 finished with value: 940.4665243754521 and parameters: {'lambda_l1': 0.0002113419723487785, 'lambda_l2': 1.896094576660739e-05, 'num_leaves': 25, 'feature_fraction': 0.42452679815460675, 'bagging_fraction': 0.9652375184401075, 'bagging_freq': 5, 'min_child_samples': 36}. Best is trial 181 with value: 823.6201020592307.\n"
     ]
    },
    {
     "name": "stdout",
     "output_type": "stream",
     "text": [
      "fin split 0\n",
      "fin split 1\n",
      "fin split 2\n",
      "fin split 3\n",
      "fin split 4\n"
     ]
    },
    {
     "name": "stderr",
     "output_type": "stream",
     "text": [
      "[I 2025-07-19 01:19:11,551] Trial 267 finished with value: 850.7750052492515 and parameters: {'lambda_l1': 0.00015153065890418562, 'lambda_l2': 5.114242867088077e-05, 'num_leaves': 19, 'feature_fraction': 0.41349816188364036, 'bagging_fraction': 0.9476886289623788, 'bagging_freq': 5, 'min_child_samples': 11}. Best is trial 181 with value: 823.6201020592307.\n"
     ]
    },
    {
     "name": "stdout",
     "output_type": "stream",
     "text": [
      "fin split 0\n",
      "fin split 1\n",
      "fin split 2\n",
      "fin split 3\n",
      "fin split 4\n"
     ]
    },
    {
     "name": "stderr",
     "output_type": "stream",
     "text": [
      "[I 2025-07-19 01:19:25,396] Trial 268 finished with value: 831.21274314128 and parameters: {'lambda_l1': 0.0003335698301088658, 'lambda_l2': 3.175958943057621e-06, 'num_leaves': 25, 'feature_fraction': 0.7313323095504562, 'bagging_fraction': 0.981374857293293, 'bagging_freq': 5, 'min_child_samples': 7}. Best is trial 181 with value: 823.6201020592307.\n"
     ]
    },
    {
     "name": "stdout",
     "output_type": "stream",
     "text": [
      "fin split 0\n",
      "fin split 1\n",
      "fin split 2\n",
      "fin split 3\n",
      "fin split 4\n"
     ]
    },
    {
     "name": "stderr",
     "output_type": "stream",
     "text": [
      "[I 2025-07-19 01:19:38,763] Trial 269 finished with value: 838.1654962344659 and parameters: {'lambda_l1': 6.563029900418217e-05, 'lambda_l2': 0.0006368020725356993, 'num_leaves': 22, 'feature_fraction': 0.758069936287618, 'bagging_fraction': 0.9820850338089637, 'bagging_freq': 5, 'min_child_samples': 10}. Best is trial 181 with value: 823.6201020592307.\n"
     ]
    },
    {
     "name": "stdout",
     "output_type": "stream",
     "text": [
      "fin split 0\n",
      "fin split 1\n",
      "fin split 2\n",
      "fin split 3\n",
      "fin split 4\n"
     ]
    },
    {
     "name": "stderr",
     "output_type": "stream",
     "text": [
      "[I 2025-07-19 01:19:52,901] Trial 270 finished with value: 971.7747594900552 and parameters: {'lambda_l1': 0.0001360410947654039, 'lambda_l2': 0.000525595082770604, 'num_leaves': 25, 'feature_fraction': 0.7617795431256753, 'bagging_fraction': 0.9807316054228019, 'bagging_freq': 5, 'min_child_samples': 68}. Best is trial 181 with value: 823.6201020592307.\n"
     ]
    },
    {
     "name": "stdout",
     "output_type": "stream",
     "text": [
      "fin split 0\n",
      "fin split 1\n",
      "fin split 2\n",
      "fin split 3\n",
      "fin split 4\n"
     ]
    },
    {
     "name": "stderr",
     "output_type": "stream",
     "text": [
      "[I 2025-07-19 01:20:01,506] Trial 271 finished with value: 893.6111034089095 and parameters: {'lambda_l1': 0.00044780369103410996, 'lambda_l2': 0.0014306211817917227, 'num_leaves': 13, 'feature_fraction': 0.6781865248666752, 'bagging_fraction': 0.9748763664994582, 'bagging_freq': 5, 'min_child_samples': 8}. Best is trial 181 with value: 823.6201020592307.\n"
     ]
    },
    {
     "name": "stdout",
     "output_type": "stream",
     "text": [
      "fin split 0\n",
      "fin split 1\n",
      "fin split 2\n",
      "fin split 3\n",
      "fin split 4\n"
     ]
    },
    {
     "name": "stderr",
     "output_type": "stream",
     "text": [
      "[I 2025-07-19 01:20:13,841] Trial 272 finished with value: 932.063767853848 and parameters: {'lambda_l1': 6.899755256909862e-05, 'lambda_l2': 3.5860855038842362e-06, 'num_leaves': 26, 'feature_fraction': 0.7305583028532462, 'bagging_fraction': 0.6057084246741047, 'bagging_freq': 5, 'min_child_samples': 10}. Best is trial 181 with value: 823.6201020592307.\n"
     ]
    },
    {
     "name": "stdout",
     "output_type": "stream",
     "text": [
      "fin split 0\n",
      "fin split 1\n",
      "fin split 2\n",
      "fin split 3\n",
      "fin split 4\n"
     ]
    },
    {
     "name": "stderr",
     "output_type": "stream",
     "text": [
      "[I 2025-07-19 01:20:31,573] Trial 273 finished with value: 958.5316796166729 and parameters: {'lambda_l1': 0.00010702851029549205, 'lambda_l2': 0.0007031261670245347, 'num_leaves': 29, 'feature_fraction': 0.7744785097324874, 'bagging_fraction': 0.9839901545939019, 'bagging_freq': 5, 'min_child_samples': 46}. Best is trial 181 with value: 823.6201020592307.\n"
     ]
    },
    {
     "name": "stdout",
     "output_type": "stream",
     "text": [
      "fin split 0\n",
      "fin split 1\n",
      "fin split 2\n",
      "fin split 3\n",
      "fin split 4\n"
     ]
    },
    {
     "name": "stderr",
     "output_type": "stream",
     "text": [
      "[I 2025-07-19 01:20:43,999] Trial 274 finished with value: 862.130717657536 and parameters: {'lambda_l1': 0.00019177818600777372, 'lambda_l2': 0.07138389293261733, 'num_leaves': 18, 'feature_fraction': 0.746552121821928, 'bagging_fraction': 0.9718962730379163, 'bagging_freq': 5, 'min_child_samples': 7}. Best is trial 181 with value: 823.6201020592307.\n"
     ]
    },
    {
     "name": "stdout",
     "output_type": "stream",
     "text": [
      "fin split 0\n",
      "fin split 1\n",
      "fin split 2\n",
      "fin split 3\n",
      "fin split 4\n"
     ]
    },
    {
     "name": "stderr",
     "output_type": "stream",
     "text": [
      "[I 2025-07-19 01:20:53,734] Trial 275 finished with value: 1002.9301707559513 and parameters: {'lambda_l1': 8.490334017309782e-05, 'lambda_l2': 0.002500889460588792, 'num_leaves': 7, 'feature_fraction': 0.7261384018060055, 'bagging_fraction': 0.9556165754596072, 'bagging_freq': 5, 'min_child_samples': 88}. Best is trial 181 with value: 823.6201020592307.\n"
     ]
    },
    {
     "name": "stdout",
     "output_type": "stream",
     "text": [
      "fin split 0\n",
      "fin split 1\n",
      "fin split 2\n",
      "fin split 3\n",
      "fin split 4\n"
     ]
    },
    {
     "name": "stderr",
     "output_type": "stream",
     "text": [
      "[I 2025-07-19 01:21:09,329] Trial 276 finished with value: 828.683697448746 and parameters: {'lambda_l1': 6.149433572130695e-05, 'lambda_l2': 0.000864850174097763, 'num_leaves': 31, 'feature_fraction': 0.7009034076857061, 'bagging_fraction': 0.9805400082922552, 'bagging_freq': 5, 'min_child_samples': 10}. Best is trial 181 with value: 823.6201020592307.\n"
     ]
    },
    {
     "name": "stdout",
     "output_type": "stream",
     "text": [
      "fin split 0\n",
      "fin split 1\n",
      "fin split 2\n",
      "fin split 3\n",
      "fin split 4\n"
     ]
    },
    {
     "name": "stderr",
     "output_type": "stream",
     "text": [
      "[I 2025-07-19 01:21:26,355] Trial 277 finished with value: 847.7074869205792 and parameters: {'lambda_l1': 6.535620982028063e-05, 'lambda_l2': 0.0008015535468914526, 'num_leaves': 33, 'feature_fraction': 0.694500575460354, 'bagging_fraction': 0.9829394544031931, 'bagging_freq': 5, 'min_child_samples': 11}. Best is trial 181 with value: 823.6201020592307.\n"
     ]
    },
    {
     "name": "stdout",
     "output_type": "stream",
     "text": [
      "fin split 0\n",
      "fin split 1\n",
      "fin split 2\n",
      "fin split 3\n",
      "fin split 4\n"
     ]
    },
    {
     "name": "stderr",
     "output_type": "stream",
     "text": [
      "[I 2025-07-19 01:21:39,294] Trial 278 finished with value: 841.8337653993246 and parameters: {'lambda_l1': 0.00013410341991242428, 'lambda_l2': 0.0010559822542907929, 'num_leaves': 24, 'feature_fraction': 0.7777662813943533, 'bagging_fraction': 0.9897088813904805, 'bagging_freq': 5, 'min_child_samples': 7}. Best is trial 181 with value: 823.6201020592307.\n"
     ]
    },
    {
     "name": "stdout",
     "output_type": "stream",
     "text": [
      "fin split 0\n",
      "fin split 1\n",
      "fin split 2\n",
      "fin split 3\n",
      "fin split 4\n"
     ]
    },
    {
     "name": "stderr",
     "output_type": "stream",
     "text": [
      "[I 2025-07-19 01:21:53,408] Trial 279 finished with value: 827.21807776895 and parameters: {'lambda_l1': 0.00031661067089258453, 'lambda_l2': 0.0019124026303630932, 'num_leaves': 24, 'feature_fraction': 0.796886352122696, 'bagging_fraction': 0.9911763292071168, 'bagging_freq': 5, 'min_child_samples': 7}. Best is trial 181 with value: 823.6201020592307.\n"
     ]
    },
    {
     "name": "stdout",
     "output_type": "stream",
     "text": [
      "fin split 0\n",
      "fin split 1\n",
      "fin split 2\n",
      "fin split 3\n",
      "fin split 4\n"
     ]
    },
    {
     "name": "stderr",
     "output_type": "stream",
     "text": [
      "[I 2025-07-19 01:22:07,755] Trial 280 finished with value: 832.0454620068678 and parameters: {'lambda_l1': 0.00037849281738313315, 'lambda_l2': 0.001301167070899284, 'num_leaves': 22, 'feature_fraction': 0.7894628746687583, 'bagging_fraction': 0.9920334517416017, 'bagging_freq': 5, 'min_child_samples': 6}. Best is trial 181 with value: 823.6201020592307.\n"
     ]
    },
    {
     "name": "stdout",
     "output_type": "stream",
     "text": [
      "fin split 0\n",
      "fin split 1\n",
      "fin split 2\n",
      "fin split 3\n",
      "fin split 4\n"
     ]
    },
    {
     "name": "stderr",
     "output_type": "stream",
     "text": [
      "[I 2025-07-19 01:22:19,937] Trial 281 finished with value: 856.5839981274859 and parameters: {'lambda_l1': 0.0006779255996141274, 'lambda_l2': 0.003023954139637919, 'num_leaves': 15, 'feature_fraction': 0.8156814618129709, 'bagging_fraction': 0.9911578782663688, 'bagging_freq': 5, 'min_child_samples': 5}. Best is trial 181 with value: 823.6201020592307.\n"
     ]
    },
    {
     "name": "stdout",
     "output_type": "stream",
     "text": [
      "fin split 0\n",
      "fin split 1\n",
      "fin split 2\n",
      "fin split 3\n",
      "fin split 4\n"
     ]
    },
    {
     "name": "stderr",
     "output_type": "stream",
     "text": [
      "[I 2025-07-19 01:22:33,319] Trial 282 finished with value: 859.6128588104809 and parameters: {'lambda_l1': 0.00031787461252140783, 'lambda_l2': 0.0009238614755137328, 'num_leaves': 21, 'feature_fraction': 0.7772869805175457, 'bagging_fraction': 0.9887680167983478, 'bagging_freq': 5, 'min_child_samples': 7}. Best is trial 181 with value: 823.6201020592307.\n"
     ]
    },
    {
     "name": "stdout",
     "output_type": "stream",
     "text": [
      "fin split 0\n",
      "fin split 1\n",
      "fin split 2\n",
      "fin split 3\n",
      "fin split 4\n"
     ]
    },
    {
     "name": "stderr",
     "output_type": "stream",
     "text": [
      "[I 2025-07-19 01:22:40,664] Trial 283 finished with value: 926.4557164692321 and parameters: {'lambda_l1': 0.00035457043313127343, 'lambda_l2': 0.0015224153711801422, 'num_leaves': 8, 'feature_fraction': 0.7579732805433744, 'bagging_fraction': 0.991443426746015, 'bagging_freq': 5, 'min_child_samples': 6}. Best is trial 181 with value: 823.6201020592307.\n"
     ]
    },
    {
     "name": "stdout",
     "output_type": "stream",
     "text": [
      "fin split 0\n",
      "fin split 1\n",
      "fin split 2\n",
      "fin split 3\n",
      "fin split 4\n"
     ]
    },
    {
     "name": "stderr",
     "output_type": "stream",
     "text": [
      "[I 2025-07-19 01:22:51,579] Trial 284 finished with value: 876.1601789833185 and parameters: {'lambda_l1': 0.001081579128286754, 'lambda_l2': 0.0016118394616174297, 'num_leaves': 16, 'feature_fraction': 0.7929072085708467, 'bagging_fraction': 0.9952662614709445, 'bagging_freq': 5, 'min_child_samples': 9}. Best is trial 181 with value: 823.6201020592307.\n"
     ]
    },
    {
     "name": "stdout",
     "output_type": "stream",
     "text": [
      "fin split 0\n",
      "fin split 1\n",
      "fin split 2\n",
      "fin split 3\n",
      "fin split 4\n"
     ]
    },
    {
     "name": "stderr",
     "output_type": "stream",
     "text": [
      "[I 2025-07-19 01:23:05,710] Trial 285 finished with value: 833.9134340416716 and parameters: {'lambda_l1': 0.00043025797911237367, 'lambda_l2': 0.002254064416486766, 'num_leaves': 23, 'feature_fraction': 0.7810163831620879, 'bagging_fraction': 0.9871990627794126, 'bagging_freq': 5, 'min_child_samples': 5}. Best is trial 181 with value: 823.6201020592307.\n"
     ]
    },
    {
     "name": "stdout",
     "output_type": "stream",
     "text": [
      "fin split 0\n",
      "fin split 1\n",
      "fin split 2\n",
      "fin split 3\n",
      "fin split 4\n"
     ]
    },
    {
     "name": "stderr",
     "output_type": "stream",
     "text": [
      "[I 2025-07-19 01:23:19,378] Trial 286 finished with value: 858.0169068827596 and parameters: {'lambda_l1': 0.000503036781803222, 'lambda_l2': 0.0017847204206922918, 'num_leaves': 22, 'feature_fraction': 0.7967743025627322, 'bagging_fraction': 0.9909942664853335, 'bagging_freq': 5, 'min_child_samples': 5}. Best is trial 181 with value: 823.6201020592307.\n"
     ]
    },
    {
     "name": "stdout",
     "output_type": "stream",
     "text": [
      "fin split 0\n",
      "fin split 1\n",
      "fin split 2\n",
      "fin split 3\n",
      "fin split 4\n"
     ]
    },
    {
     "name": "stderr",
     "output_type": "stream",
     "text": [
      "[I 2025-07-19 01:23:25,490] Trial 287 finished with value: 1243.8799115424165 and parameters: {'lambda_l1': 0.0005833727403616355, 'lambda_l2': 0.0006029655800852303, 'num_leaves': 2, 'feature_fraction': 0.7669935001224015, 'bagging_fraction': 0.9847675381022177, 'bagging_freq': 5, 'min_child_samples': 7}. Best is trial 181 with value: 823.6201020592307.\n"
     ]
    },
    {
     "name": "stdout",
     "output_type": "stream",
     "text": [
      "fin split 0\n",
      "fin split 1\n",
      "fin split 2\n",
      "fin split 3\n",
      "fin split 4\n"
     ]
    },
    {
     "name": "stderr",
     "output_type": "stream",
     "text": [
      "[I 2025-07-19 01:23:40,738] Trial 288 finished with value: 853.9090254092412 and parameters: {'lambda_l1': 0.00035083226860717435, 'lambda_l2': 0.0008673655331452566, 'num_leaves': 22, 'feature_fraction': 0.8118268982883142, 'bagging_fraction': 0.9992140699580041, 'bagging_freq': 6, 'min_child_samples': 5}. Best is trial 181 with value: 823.6201020592307.\n"
     ]
    },
    {
     "name": "stdout",
     "output_type": "stream",
     "text": [
      "fin split 0\n",
      "fin split 1\n",
      "fin split 2\n",
      "fin split 3\n",
      "fin split 4\n"
     ]
    },
    {
     "name": "stderr",
     "output_type": "stream",
     "text": [
      "[I 2025-07-19 01:23:55,475] Trial 289 finished with value: 829.5493817766243 and parameters: {'lambda_l1': 0.0002449714266909751, 'lambda_l2': 0.005543783049063885, 'num_leaves': 25, 'feature_fraction': 0.77958143547764, 'bagging_fraction': 0.9814376203259686, 'bagging_freq': 5, 'min_child_samples': 9}. Best is trial 181 with value: 823.6201020592307.\n"
     ]
    },
    {
     "name": "stdout",
     "output_type": "stream",
     "text": [
      "fin split 0\n",
      "fin split 1\n",
      "fin split 2\n",
      "fin split 3\n",
      "fin split 4\n"
     ]
    },
    {
     "name": "stderr",
     "output_type": "stream",
     "text": [
      "[I 2025-07-19 01:24:08,103] Trial 290 finished with value: 864.18624966013 and parameters: {'lambda_l1': 0.00026370828188666915, 'lambda_l2': 0.003771220417392949, 'num_leaves': 17, 'feature_fraction': 0.7143210587863451, 'bagging_fraction': 0.9892918949351656, 'bagging_freq': 5, 'min_child_samples': 9}. Best is trial 181 with value: 823.6201020592307.\n"
     ]
    },
    {
     "name": "stdout",
     "output_type": "stream",
     "text": [
      "fin split 0\n",
      "fin split 1\n",
      "fin split 2\n",
      "fin split 3\n",
      "fin split 4\n"
     ]
    },
    {
     "name": "stderr",
     "output_type": "stream",
     "text": [
      "[I 2025-07-19 01:24:18,551] Trial 291 finished with value: 876.195883013391 and parameters: {'lambda_l1': 0.00045826587143697447, 'lambda_l2': 0.0022325302849058384, 'num_leaves': 12, 'feature_fraction': 0.7844731203168002, 'bagging_fraction': 0.9814469808732276, 'bagging_freq': 5, 'min_child_samples': 10}. Best is trial 181 with value: 823.6201020592307.\n"
     ]
    },
    {
     "name": "stdout",
     "output_type": "stream",
     "text": [
      "fin split 0\n",
      "fin split 1\n",
      "fin split 2\n",
      "fin split 3\n",
      "fin split 4\n"
     ]
    },
    {
     "name": "stderr",
     "output_type": "stream",
     "text": [
      "[I 2025-07-19 01:24:32,503] Trial 292 finished with value: 823.2612119949748 and parameters: {'lambda_l1': 0.0008234428421992584, 'lambda_l2': 0.012522155212406731, 'num_leaves': 24, 'feature_fraction': 0.8249860718198597, 'bagging_fraction': 0.9788472230385002, 'bagging_freq': 5, 'min_child_samples': 13}. Best is trial 292 with value: 823.2612119949748.\n"
     ]
    },
    {
     "name": "stdout",
     "output_type": "stream",
     "text": [
      "fin split 0\n",
      "fin split 1\n",
      "fin split 2\n",
      "fin split 3\n",
      "fin split 4\n"
     ]
    },
    {
     "name": "stderr",
     "output_type": "stream",
     "text": [
      "[I 2025-07-19 01:24:46,851] Trial 293 finished with value: 871.5176274586441 and parameters: {'lambda_l1': 0.00022579267990089315, 'lambda_l2': 0.007761214703680602, 'num_leaves': 25, 'feature_fraction': 0.8274112874406871, 'bagging_fraction': 0.9881091578693447, 'bagging_freq': 5, 'min_child_samples': 15}. Best is trial 292 with value: 823.2612119949748.\n"
     ]
    },
    {
     "name": "stdout",
     "output_type": "stream",
     "text": [
      "fin split 0\n",
      "fin split 1\n",
      "fin split 2\n",
      "fin split 3\n",
      "fin split 4\n"
     ]
    },
    {
     "name": "stderr",
     "output_type": "stream",
     "text": [
      "[I 2025-07-19 01:24:59,211] Trial 294 finished with value: 853.8339085571375 and parameters: {'lambda_l1': 0.0011393542217770563, 'lambda_l2': 0.0004021525475039082, 'num_leaves': 19, 'feature_fraction': 0.7438714307710764, 'bagging_fraction': 0.9795210937526051, 'bagging_freq': 5, 'min_child_samples': 13}. Best is trial 292 with value: 823.2612119949748.\n"
     ]
    },
    {
     "name": "stdout",
     "output_type": "stream",
     "text": [
      "fin split 0\n",
      "fin split 1\n",
      "fin split 2\n",
      "fin split 3\n",
      "fin split 4\n"
     ]
    },
    {
     "name": "stderr",
     "output_type": "stream",
     "text": [
      "[I 2025-07-19 01:25:13,889] Trial 295 finished with value: 989.1178309388572 and parameters: {'lambda_l1': 0.0007260461261857361, 'lambda_l2': 0.013010782778246443, 'num_leaves': 24, 'feature_fraction': 0.7815612602818398, 'bagging_fraction': 0.9902204848955792, 'bagging_freq': 5, 'min_child_samples': 97}. Best is trial 292 with value: 823.2612119949748.\n"
     ]
    },
    {
     "name": "stdout",
     "output_type": "stream",
     "text": [
      "fin split 0\n",
      "fin split 1\n",
      "fin split 2\n",
      "fin split 3\n",
      "fin split 4\n"
     ]
    },
    {
     "name": "stderr",
     "output_type": "stream",
     "text": [
      "[I 2025-07-19 01:25:26,438] Trial 296 finished with value: 892.0853077427792 and parameters: {'lambda_l1': 0.0004057267761557552, 'lambda_l2': 0.0009241509727862151, 'num_leaves': 14, 'feature_fraction': 0.799952075324166, 'bagging_fraction': 0.9791301617596616, 'bagging_freq': 5, 'min_child_samples': 12}. Best is trial 292 with value: 823.2612119949748.\n"
     ]
    },
    {
     "name": "stdout",
     "output_type": "stream",
     "text": [
      "fin split 0\n",
      "fin split 1\n",
      "fin split 2\n",
      "fin split 3\n",
      "fin split 4\n"
     ]
    },
    {
     "name": "stderr",
     "output_type": "stream",
     "text": [
      "[I 2025-07-19 01:25:42,551] Trial 297 finished with value: 835.4741327212355 and parameters: {'lambda_l1': 0.0001867714580068767, 'lambda_l2': 0.0056880837780222725, 'num_leaves': 26, 'feature_fraction': 0.8202940199756781, 'bagging_fraction': 0.9951551788259225, 'bagging_freq': 5, 'min_child_samples': 7}. Best is trial 292 with value: 823.2612119949748.\n"
     ]
    },
    {
     "name": "stdout",
     "output_type": "stream",
     "text": [
      "fin split 0\n",
      "fin split 1\n",
      "fin split 2\n",
      "fin split 3\n",
      "fin split 4\n"
     ]
    },
    {
     "name": "stderr",
     "output_type": "stream",
     "text": [
      "[I 2025-07-19 01:25:58,769] Trial 298 finished with value: 850.2384401223616 and parameters: {'lambda_l1': 0.0007928228981734148, 'lambda_l2': 0.005232944688676643, 'num_leaves': 27, 'feature_fraction': 0.8471555796222251, 'bagging_fraction': 0.99614704948444, 'bagging_freq': 5, 'min_child_samples': 10}. Best is trial 292 with value: 823.2612119949748.\n"
     ]
    },
    {
     "name": "stdout",
     "output_type": "stream",
     "text": [
      "fin split 0\n",
      "fin split 1\n",
      "fin split 2\n",
      "fin split 3\n",
      "fin split 4\n"
     ]
    },
    {
     "name": "stderr",
     "output_type": "stream",
     "text": [
      "[I 2025-07-19 01:26:12,079] Trial 299 finished with value: 843.9757845984743 and parameters: {'lambda_l1': 0.0002752330943939492, 'lambda_l2': 0.009481702718805064, 'num_leaves': 19, 'feature_fraction': 0.8141812320702873, 'bagging_fraction': 0.9992292522251532, 'bagging_freq': 5, 'min_child_samples': 5}. Best is trial 292 with value: 823.2612119949748.\n"
     ]
    },
    {
     "name": "stdout",
     "output_type": "stream",
     "text": [
      "fin split 0\n",
      "fin split 1\n",
      "fin split 2\n",
      "fin split 3\n",
      "fin split 4\n"
     ]
    },
    {
     "name": "stderr",
     "output_type": "stream",
     "text": [
      "[I 2025-07-19 01:26:28,249] Trial 300 finished with value: 870.1885600881161 and parameters: {'lambda_l1': 0.0014485037975466033, 'lambda_l2': 0.002719108492573178, 'num_leaves': 26, 'feature_fraction': 0.6770200044551843, 'bagging_fraction': 0.9755045664414598, 'bagging_freq': 5, 'min_child_samples': 8}. Best is trial 292 with value: 823.2612119949748.\n"
     ]
    },
    {
     "name": "stdout",
     "output_type": "stream",
     "text": [
      "fin split 0\n",
      "fin split 1\n",
      "fin split 2\n",
      "fin split 3\n",
      "fin split 4\n"
     ]
    },
    {
     "name": "stderr",
     "output_type": "stream",
     "text": [
      "[I 2025-07-19 01:26:38,009] Trial 301 finished with value: 905.3459805195305 and parameters: {'lambda_l1': 0.0027713843787760006, 'lambda_l2': 0.005458479406065792, 'num_leaves': 9, 'feature_fraction': 0.8233636401211455, 'bagging_fraction': 0.9846873089425514, 'bagging_freq': 5, 'min_child_samples': 11}. Best is trial 292 with value: 823.2612119949748.\n"
     ]
    },
    {
     "name": "stdout",
     "output_type": "stream",
     "text": [
      "fin split 0\n",
      "fin split 1\n",
      "fin split 2\n",
      "fin split 3\n",
      "fin split 4\n"
     ]
    },
    {
     "name": "stderr",
     "output_type": "stream",
     "text": [
      "[I 2025-07-19 01:26:52,775] Trial 302 finished with value: 856.3272455817537 and parameters: {'lambda_l1': 0.0005492291210769374, 'lambda_l2': 0.003252176499584664, 'num_leaves': 21, 'feature_fraction': 0.8343048664468957, 'bagging_fraction': 0.9808440804104744, 'bagging_freq': 6, 'min_child_samples': 7}. Best is trial 292 with value: 823.2612119949748.\n"
     ]
    },
    {
     "name": "stdout",
     "output_type": "stream",
     "text": [
      "fin split 0\n",
      "fin split 1\n",
      "fin split 2\n",
      "fin split 3\n",
      "fin split 4\n"
     ]
    },
    {
     "name": "stderr",
     "output_type": "stream",
     "text": [
      "[I 2025-07-19 01:27:08,658] Trial 303 finished with value: 865.7058941553574 and parameters: {'lambda_l1': 0.00018636841073489135, 'lambda_l2': 0.005671201515423116, 'num_leaves': 28, 'feature_fraction': 0.7906131827971464, 'bagging_fraction': 0.974251041398526, 'bagging_freq': 5, 'min_child_samples': 14}. Best is trial 292 with value: 823.2612119949748.\n"
     ]
    },
    {
     "name": "stdout",
     "output_type": "stream",
     "text": [
      "fin split 0\n",
      "fin split 1\n",
      "fin split 2\n",
      "fin split 3\n",
      "fin split 4\n"
     ]
    },
    {
     "name": "stderr",
     "output_type": "stream",
     "text": [
      "[I 2025-07-19 01:27:52,270] Trial 304 finished with value: 989.6595754155387 and parameters: {'lambda_l1': 0.0003149577994941524, 'lambda_l2': 0.004403152002899937, 'num_leaves': 143, 'feature_fraction': 0.7510013351586722, 'bagging_fraction': 0.6412166078480843, 'bagging_freq': 5, 'min_child_samples': 54}. Best is trial 292 with value: 823.2612119949748.\n"
     ]
    },
    {
     "name": "stdout",
     "output_type": "stream",
     "text": [
      "fin split 0\n",
      "fin split 1\n",
      "fin split 2\n",
      "fin split 3\n",
      "fin split 4\n"
     ]
    },
    {
     "name": "stderr",
     "output_type": "stream",
     "text": [
      "[I 2025-07-19 01:28:06,644] Trial 305 finished with value: 815.937121718105 and parameters: {'lambda_l1': 0.0002181480826421815, 'lambda_l2': 0.01287110935477089, 'num_leaves': 23, 'feature_fraction': 0.8480564377035938, 'bagging_fraction': 0.9998682816951175, 'bagging_freq': 5, 'min_child_samples': 9}. Best is trial 305 with value: 815.937121718105.\n"
     ]
    },
    {
     "name": "stdout",
     "output_type": "stream",
     "text": [
      "fin split 0\n",
      "fin split 1\n",
      "fin split 2\n",
      "fin split 3\n",
      "fin split 4\n"
     ]
    },
    {
     "name": "stderr",
     "output_type": "stream",
     "text": [
      "[I 2025-07-19 01:28:19,062] Trial 306 finished with value: 854.0327481754227 and parameters: {'lambda_l1': 0.0004967238311917651, 'lambda_l2': 0.0019797143204651753, 'num_leaves': 18, 'feature_fraction': 0.8657302271435026, 'bagging_fraction': 0.9989431274332948, 'bagging_freq': 5, 'min_child_samples': 5}. Best is trial 305 with value: 815.937121718105.\n"
     ]
    },
    {
     "name": "stdout",
     "output_type": "stream",
     "text": [
      "fin split 0\n",
      "fin split 1\n",
      "fin split 2\n",
      "fin split 3\n",
      "fin split 4\n"
     ]
    },
    {
     "name": "stderr",
     "output_type": "stream",
     "text": [
      "[I 2025-07-19 01:28:32,211] Trial 307 finished with value: 844.0950868859742 and parameters: {'lambda_l1': 0.00016701618022672303, 'lambda_l2': 0.0322891480070805, 'num_leaves': 24, 'feature_fraction': 0.7685247617986014, 'bagging_fraction': 0.9924743790908083, 'bagging_freq': 5, 'min_child_samples': 8}. Best is trial 305 with value: 815.937121718105.\n"
     ]
    },
    {
     "name": "stdout",
     "output_type": "stream",
     "text": [
      "fin split 0\n",
      "fin split 1\n",
      "fin split 2\n",
      "fin split 3\n",
      "fin split 4\n"
     ]
    },
    {
     "name": "stderr",
     "output_type": "stream",
     "text": [
      "[I 2025-07-19 01:28:42,923] Trial 308 finished with value: 879.0380561125171 and parameters: {'lambda_l1': 0.000266851132692797, 'lambda_l2': 0.01637523353424714, 'num_leaves': 12, 'feature_fraction': 0.8458289601890573, 'bagging_fraction': 0.9856284432072546, 'bagging_freq': 5, 'min_child_samples': 7}. Best is trial 305 with value: 815.937121718105.\n"
     ]
    },
    {
     "name": "stdout",
     "output_type": "stream",
     "text": [
      "fin split 0\n",
      "fin split 1\n",
      "fin split 2\n",
      "fin split 3\n",
      "fin split 4\n"
     ]
    },
    {
     "name": "stderr",
     "output_type": "stream",
     "text": [
      "[I 2025-07-19 01:28:58,233] Trial 309 finished with value: 847.9430192638793 and parameters: {'lambda_l1': 0.00020811199090661764, 'lambda_l2': 0.021611050156303817, 'num_leaves': 28, 'feature_fraction': 0.8546373736270725, 'bagging_fraction': 0.991005154049242, 'bagging_freq': 5, 'min_child_samples': 12}. Best is trial 305 with value: 815.937121718105.\n"
     ]
    },
    {
     "name": "stdout",
     "output_type": "stream",
     "text": [
      "fin split 0\n",
      "fin split 1\n",
      "fin split 2\n",
      "fin split 3\n",
      "fin split 4\n"
     ]
    },
    {
     "name": "stderr",
     "output_type": "stream",
     "text": [
      "[I 2025-07-19 01:29:10,501] Trial 310 finished with value: 847.4069416416839 and parameters: {'lambda_l1': 0.0004014216455108851, 'lambda_l2': 0.0003557927057399204, 'num_leaves': 17, 'feature_fraction': 0.8055944560701558, 'bagging_fraction': 0.9954674136416543, 'bagging_freq': 5, 'min_child_samples': 9}. Best is trial 305 with value: 815.937121718105.\n"
     ]
    },
    {
     "name": "stdout",
     "output_type": "stream",
     "text": [
      "fin split 0\n",
      "fin split 1\n",
      "fin split 2\n",
      "fin split 3\n",
      "fin split 4\n"
     ]
    },
    {
     "name": "stderr",
     "output_type": "stream",
     "text": [
      "[I 2025-07-19 01:29:22,232] Trial 311 finished with value: 865.0672774185798 and parameters: {'lambda_l1': 0.0007327259349358382, 'lambda_l2': 0.009755202813806192, 'num_leaves': 22, 'feature_fraction': 0.6990514630811495, 'bagging_fraction': 0.6821160083383175, 'bagging_freq': 5, 'min_child_samples': 5}. Best is trial 305 with value: 815.937121718105.\n"
     ]
    },
    {
     "name": "stdout",
     "output_type": "stream",
     "text": [
      "fin split 0\n",
      "fin split 1\n",
      "fin split 2\n",
      "fin split 3\n",
      "fin split 4\n"
     ]
    },
    {
     "name": "stderr",
     "output_type": "stream",
     "text": [
      "[I 2025-07-19 01:29:37,249] Trial 312 finished with value: 870.9405954973967 and parameters: {'lambda_l1': 0.00016917266245812645, 'lambda_l2': 0.008127428090363997, 'num_leaves': 29, 'feature_fraction': 0.8205404975527969, 'bagging_fraction': 0.826215531714175, 'bagging_freq': 5, 'min_child_samples': 9}. Best is trial 305 with value: 815.937121718105.\n"
     ]
    },
    {
     "name": "stdout",
     "output_type": "stream",
     "text": [
      "fin split 0\n",
      "fin split 1\n",
      "fin split 2\n",
      "fin split 3\n",
      "fin split 4\n"
     ]
    },
    {
     "name": "stderr",
     "output_type": "stream",
     "text": [
      "[I 2025-07-19 01:29:50,512] Trial 313 finished with value: 847.3817565167177 and parameters: {'lambda_l1': 0.0003308813886507924, 'lambda_l2': 0.002151464521475384, 'num_leaves': 23, 'feature_fraction': 0.7143541717467372, 'bagging_fraction': 0.9997319430375126, 'bagging_freq': 5, 'min_child_samples': 7}. Best is trial 305 with value: 815.937121718105.\n"
     ]
    },
    {
     "name": "stdout",
     "output_type": "stream",
     "text": [
      "fin split 0\n",
      "fin split 1\n",
      "fin split 2\n",
      "fin split 3\n",
      "fin split 4\n"
     ]
    },
    {
     "name": "stderr",
     "output_type": "stream",
     "text": [
      "[I 2025-07-19 01:30:08,291] Trial 314 finished with value: 819.2282147696966 and parameters: {'lambda_l1': 0.00022746928345908154, 'lambda_l2': 0.001203319032082258, 'num_leaves': 32, 'feature_fraction': 0.79816593902743, 'bagging_fraction': 0.9809037414854777, 'bagging_freq': 5, 'min_child_samples': 11}. Best is trial 305 with value: 815.937121718105.\n"
     ]
    },
    {
     "name": "stdout",
     "output_type": "stream",
     "text": [
      "fin split 0\n",
      "fin split 1\n",
      "fin split 2\n",
      "fin split 3\n",
      "fin split 4\n"
     ]
    },
    {
     "name": "stderr",
     "output_type": "stream",
     "text": [
      "[I 2025-07-19 01:31:11,681] Trial 315 finished with value: 898.5337250710702 and parameters: {'lambda_l1': 0.00023109359803458998, 'lambda_l2': 0.0013153644646765892, 'num_leaves': 181, 'feature_fraction': 0.8981795248937722, 'bagging_fraction': 0.9842281775803059, 'bagging_freq': 5, 'min_child_samples': 13}. Best is trial 305 with value: 815.937121718105.\n"
     ]
    },
    {
     "name": "stdout",
     "output_type": "stream",
     "text": [
      "fin split 0\n",
      "fin split 1\n",
      "fin split 2\n",
      "fin split 3\n",
      "fin split 4\n"
     ]
    },
    {
     "name": "stderr",
     "output_type": "stream",
     "text": [
      "[I 2025-07-19 01:31:25,178] Trial 316 finished with value: 866.4861478275609 and parameters: {'lambda_l1': 0.0004865271946371708, 'lambda_l2': 0.0005795052360176286, 'num_leaves': 15, 'feature_fraction': 0.7926932249228777, 'bagging_fraction': 0.9848580413854819, 'bagging_freq': 5, 'min_child_samples': 11}. Best is trial 305 with value: 815.937121718105.\n"
     ]
    },
    {
     "name": "stdout",
     "output_type": "stream",
     "text": [
      "fin split 0\n",
      "fin split 1\n",
      "fin split 2\n",
      "fin split 3\n",
      "fin split 4\n"
     ]
    },
    {
     "name": "stderr",
     "output_type": "stream",
     "text": [
      "[I 2025-07-19 01:31:41,527] Trial 317 finished with value: 844.7357991733041 and parameters: {'lambda_l1': 0.00016195978533065802, 'lambda_l2': 0.02201242425451072, 'num_leaves': 30, 'feature_fraction': 0.8034670769467468, 'bagging_fraction': 0.9791500324086021, 'bagging_freq': 5, 'min_child_samples': 11}. Best is trial 305 with value: 815.937121718105.\n"
     ]
    },
    {
     "name": "stdout",
     "output_type": "stream",
     "text": [
      "fin split 0\n",
      "fin split 1\n",
      "fin split 2\n",
      "fin split 3\n",
      "fin split 4\n"
     ]
    },
    {
     "name": "stderr",
     "output_type": "stream",
     "text": [
      "[I 2025-07-19 01:31:57,094] Trial 318 finished with value: 874.2739834319707 and parameters: {'lambda_l1': 0.0007890880994449624, 'lambda_l2': 0.0011307497434275143, 'num_leaves': 26, 'feature_fraction': 0.8320234412887422, 'bagging_fraction': 0.9687381680200193, 'bagging_freq': 5, 'min_child_samples': 17}. Best is trial 305 with value: 815.937121718105.\n"
     ]
    },
    {
     "name": "stdout",
     "output_type": "stream",
     "text": [
      "fin split 0\n",
      "fin split 1\n",
      "fin split 2\n",
      "fin split 3\n",
      "fin split 4\n"
     ]
    },
    {
     "name": "stderr",
     "output_type": "stream",
     "text": [
      "[I 2025-07-19 01:32:10,826] Trial 319 finished with value: 873.7294881203878 and parameters: {'lambda_l1': 0.00028442709687332384, 'lambda_l2': 0.003808090062052635, 'num_leaves': 20, 'feature_fraction': 0.769436897860648, 'bagging_fraction': 0.9861297614473405, 'bagging_freq': 5, 'min_child_samples': 16}. Best is trial 305 with value: 815.937121718105.\n"
     ]
    },
    {
     "name": "stdout",
     "output_type": "stream",
     "text": [
      "fin split 0\n",
      "fin split 1\n",
      "fin split 2\n",
      "fin split 3\n",
      "fin split 4\n"
     ]
    },
    {
     "name": "stderr",
     "output_type": "stream",
     "text": [
      "[I 2025-07-19 01:32:28,837] Trial 320 finished with value: 863.6985960544771 and parameters: {'lambda_l1': 0.00019574101615891783, 'lambda_l2': 0.01240456016825312, 'num_leaves': 32, 'feature_fraction': 0.7846951515957725, 'bagging_fraction': 0.9930970165351027, 'bagging_freq': 5, 'min_child_samples': 13}. Best is trial 305 with value: 815.937121718105.\n"
     ]
    },
    {
     "name": "stdout",
     "output_type": "stream",
     "text": [
      "fin split 0\n",
      "fin split 1\n",
      "fin split 2\n",
      "fin split 3\n",
      "fin split 4\n"
     ]
    },
    {
     "name": "stderr",
     "output_type": "stream",
     "text": [
      "[I 2025-07-19 01:32:38,307] Trial 321 finished with value: 945.0572086688483 and parameters: {'lambda_l1': 0.000405721759016755, 'lambda_l2': 0.002198248902967159, 'num_leaves': 6, 'feature_fraction': 0.7961964131033509, 'bagging_fraction': 0.976129947008916, 'bagging_freq': 5, 'min_child_samples': 9}. Best is trial 305 with value: 815.937121718105.\n"
     ]
    },
    {
     "name": "stdout",
     "output_type": "stream",
     "text": [
      "fin split 0\n",
      "fin split 1\n",
      "fin split 2\n",
      "fin split 3\n",
      "fin split 4\n"
     ]
    },
    {
     "name": "stderr",
     "output_type": "stream",
     "text": [
      "[I 2025-07-19 01:32:53,548] Trial 322 finished with value: 842.4428623649164 and parameters: {'lambda_l1': 0.00013067884388960244, 'lambda_l2': 0.00026801477449672, 'num_leaves': 26, 'feature_fraction': 0.7794983868560617, 'bagging_fraction': 0.9631335749054774, 'bagging_freq': 5, 'min_child_samples': 10}. Best is trial 305 with value: 815.937121718105.\n"
     ]
    },
    {
     "name": "stdout",
     "output_type": "stream",
     "text": [
      "fin split 0\n",
      "fin split 1\n",
      "fin split 2\n",
      "fin split 3\n",
      "fin split 4\n"
     ]
    },
    {
     "name": "stderr",
     "output_type": "stream",
     "text": [
      "[I 2025-07-19 01:33:04,333] Trial 323 finished with value: 883.7881532635215 and parameters: {'lambda_l1': 0.0002585227790770421, 'lambda_l2': 0.0007152876661506026, 'num_leaves': 13, 'feature_fraction': 0.8116213356667636, 'bagging_fraction': 0.9719506616237472, 'bagging_freq': 5, 'min_child_samples': 8}. Best is trial 305 with value: 815.937121718105.\n"
     ]
    },
    {
     "name": "stdout",
     "output_type": "stream",
     "text": [
      "fin split 0\n",
      "fin split 1\n",
      "fin split 2\n",
      "fin split 3\n",
      "fin split 4\n"
     ]
    },
    {
     "name": "stderr",
     "output_type": "stream",
     "text": [
      "[I 2025-07-19 01:33:20,979] Trial 324 finished with value: 850.947951618794 and parameters: {'lambda_l1': 0.00017437376202682605, 'lambda_l2': 0.007073425276857234, 'num_leaves': 34, 'feature_fraction': 0.7287982522368484, 'bagging_fraction': 0.9914982191166917, 'bagging_freq': 5, 'min_child_samples': 12}. Best is trial 305 with value: 815.937121718105.\n"
     ]
    },
    {
     "name": "stdout",
     "output_type": "stream",
     "text": [
      "fin split 0\n",
      "fin split 1\n",
      "fin split 2\n",
      "fin split 3\n",
      "fin split 4\n"
     ]
    },
    {
     "name": "stderr",
     "output_type": "stream",
     "text": [
      "[I 2025-07-19 01:33:33,113] Trial 325 finished with value: 952.8074857477752 and parameters: {'lambda_l1': 0.0005340078040764114, 'lambda_l2': 0.0016260456249815314, 'num_leaves': 21, 'feature_fraction': 0.705760616927505, 'bagging_fraction': 0.9999870543430606, 'bagging_freq': 5, 'min_child_samples': 57}. Best is trial 305 with value: 815.937121718105.\n"
     ]
    },
    {
     "name": "stdout",
     "output_type": "stream",
     "text": [
      "fin split 0\n",
      "fin split 1\n",
      "fin split 2\n",
      "fin split 3\n",
      "fin split 4\n"
     ]
    },
    {
     "name": "stderr",
     "output_type": "stream",
     "text": [
      "[I 2025-07-19 01:33:48,791] Trial 326 finished with value: 836.5159559062267 and parameters: {'lambda_l1': 0.0001376579752198125, 'lambda_l2': 0.005503264427422059, 'num_leaves': 30, 'feature_fraction': 0.7543504630586393, 'bagging_fraction': 0.9804286160904353, 'bagging_freq': 6, 'min_child_samples': 7}. Best is trial 305 with value: 815.937121718105.\n"
     ]
    },
    {
     "name": "stdout",
     "output_type": "stream",
     "text": [
      "fin split 0\n",
      "fin split 1\n",
      "fin split 2\n",
      "fin split 3\n",
      "fin split 4\n"
     ]
    },
    {
     "name": "stderr",
     "output_type": "stream",
     "text": [
      "[I 2025-07-19 01:34:03,892] Trial 327 finished with value: 869.9705312370007 and parameters: {'lambda_l1': 0.0003209156751283763, 'lambda_l2': 0.006466256579768588, 'num_leaves': 27, 'feature_fraction': 0.7587363604136234, 'bagging_fraction': 0.9830656629954272, 'bagging_freq': 7, 'min_child_samples': 15}. Best is trial 305 with value: 815.937121718105.\n"
     ]
    },
    {
     "name": "stdout",
     "output_type": "stream",
     "text": [
      "fin split 0\n",
      "fin split 1\n",
      "fin split 2\n",
      "fin split 3\n",
      "fin split 4\n"
     ]
    },
    {
     "name": "stderr",
     "output_type": "stream",
     "text": [
      "[I 2025-07-19 01:34:15,554] Trial 328 finished with value: 853.4409238338746 and parameters: {'lambda_l1': 0.00014312663999668256, 'lambda_l2': 0.0035522944548314903, 'num_leaves': 18, 'feature_fraction': 0.6884474484948908, 'bagging_fraction': 0.9815154455100459, 'bagging_freq': 6, 'min_child_samples': 10}. Best is trial 305 with value: 815.937121718105.\n"
     ]
    },
    {
     "name": "stdout",
     "output_type": "stream",
     "text": [
      "fin split 0\n",
      "fin split 1\n",
      "fin split 2\n",
      "fin split 3\n",
      "fin split 4\n"
     ]
    },
    {
     "name": "stderr",
     "output_type": "stream",
     "text": [
      "[I 2025-07-19 01:34:30,699] Trial 329 finished with value: 845.2915735857486 and parameters: {'lambda_l1': 0.001675170337663216, 'lambda_l2': 0.001303496915120786, 'num_leaves': 23, 'feature_fraction': 0.8654771497861303, 'bagging_fraction': 0.967450351179814, 'bagging_freq': 6, 'min_child_samples': 8}. Best is trial 305 with value: 815.937121718105.\n"
     ]
    },
    {
     "name": "stdout",
     "output_type": "stream",
     "text": [
      "fin split 0\n",
      "fin split 1\n",
      "fin split 2\n",
      "fin split 3\n",
      "fin split 4\n"
     ]
    },
    {
     "name": "stderr",
     "output_type": "stream",
     "text": [
      "[I 2025-07-19 01:34:59,877] Trial 330 finished with value: 884.300883889987 and parameters: {'lambda_l1': 0.00022031014683841714, 'lambda_l2': 0.0030425250671055728, 'num_leaves': 79, 'feature_fraction': 0.7551249767336258, 'bagging_fraction': 0.992400062553234, 'bagging_freq': 6, 'min_child_samples': 11}. Best is trial 305 with value: 815.937121718105.\n"
     ]
    },
    {
     "name": "stdout",
     "output_type": "stream",
     "text": [
      "fin split 0\n",
      "fin split 1\n",
      "fin split 2\n",
      "fin split 3\n",
      "fin split 4\n"
     ]
    },
    {
     "name": "stderr",
     "output_type": "stream",
     "text": [
      "[I 2025-07-19 01:35:16,780] Trial 331 finished with value: 852.1820572835433 and parameters: {'lambda_l1': 0.0009015171734306642, 'lambda_l2': 0.00911143810698609, 'num_leaves': 31, 'feature_fraction': 0.7250739313235609, 'bagging_fraction': 0.9789584619747576, 'bagging_freq': 5, 'min_child_samples': 7}. Best is trial 305 with value: 815.937121718105.\n"
     ]
    },
    {
     "name": "stdout",
     "output_type": "stream",
     "text": [
      "fin split 0\n",
      "fin split 1\n",
      "fin split 2\n",
      "fin split 3\n",
      "fin split 4\n"
     ]
    },
    {
     "name": "stderr",
     "output_type": "stream",
     "text": [
      "[I 2025-07-19 01:35:38,293] Trial 332 finished with value: 856.8076238749786 and parameters: {'lambda_l1': 0.0003779036012827719, 'lambda_l2': 0.012172263859893008, 'num_leaves': 37, 'feature_fraction': 0.8231729627852084, 'bagging_fraction': 0.986500256701489, 'bagging_freq': 5, 'min_child_samples': 13}. Best is trial 305 with value: 815.937121718105.\n"
     ]
    },
    {
     "name": "stdout",
     "output_type": "stream",
     "text": [
      "fin split 0\n",
      "fin split 1\n",
      "fin split 2\n",
      "fin split 3\n",
      "fin split 4\n"
     ]
    },
    {
     "name": "stderr",
     "output_type": "stream",
     "text": [
      "[I 2025-07-19 01:35:53,238] Trial 333 finished with value: 832.5245652742824 and parameters: {'lambda_l1': 7.739962483783895e-05, 'lambda_l2': 0.005151646051957175, 'num_leaves': 28, 'feature_fraction': 0.7733313391233269, 'bagging_fraction': 0.9639945996985009, 'bagging_freq': 5, 'min_child_samples': 9}. Best is trial 305 with value: 815.937121718105.\n"
     ]
    },
    {
     "name": "stdout",
     "output_type": "stream",
     "text": [
      "fin split 0\n",
      "fin split 1\n",
      "fin split 2\n",
      "fin split 3\n",
      "fin split 4\n"
     ]
    },
    {
     "name": "stderr",
     "output_type": "stream",
     "text": [
      "[I 2025-07-19 01:36:03,705] Trial 334 finished with value: 871.693174469821 and parameters: {'lambda_l1': 0.00012132173082707087, 'lambda_l2': 0.0046910929447101365, 'num_leaves': 15, 'feature_fraction': 0.7373829206962749, 'bagging_fraction': 0.9642858156255629, 'bagging_freq': 5, 'min_child_samples': 9}. Best is trial 305 with value: 815.937121718105.\n"
     ]
    },
    {
     "name": "stdout",
     "output_type": "stream",
     "text": [
      "fin split 0\n",
      "fin split 1\n",
      "fin split 2\n",
      "fin split 3\n",
      "fin split 4\n"
     ]
    },
    {
     "name": "stderr",
     "output_type": "stream",
     "text": [
      "[I 2025-07-19 01:36:19,115] Trial 335 finished with value: 859.5443192064821 and parameters: {'lambda_l1': 0.00025501454118583076, 'lambda_l2': 0.006065060555320222, 'num_leaves': 25, 'feature_fraction': 0.7813849793758785, 'bagging_fraction': 0.975676620912463, 'bagging_freq': 5, 'min_child_samples': 11}. Best is trial 305 with value: 815.937121718105.\n"
     ]
    },
    {
     "name": "stdout",
     "output_type": "stream",
     "text": [
      "fin split 0\n",
      "fin split 1\n",
      "fin split 2\n",
      "fin split 3\n",
      "fin split 4\n"
     ]
    },
    {
     "name": "stderr",
     "output_type": "stream",
     "text": [
      "[I 2025-07-19 01:36:36,749] Trial 336 finished with value: 840.7314933339082 and parameters: {'lambda_l1': 0.0005424878185999063, 'lambda_l2': 0.0020115528201646348, 'num_leaves': 29, 'feature_fraction': 0.7471629637464278, 'bagging_fraction': 0.9912608233322474, 'bagging_freq': 6, 'min_child_samples': 9}. Best is trial 305 with value: 815.937121718105.\n"
     ]
    },
    {
     "name": "stdout",
     "output_type": "stream",
     "text": [
      "fin split 0\n",
      "fin split 1\n",
      "fin split 2\n",
      "fin split 3\n",
      "fin split 4\n"
     ]
    },
    {
     "name": "stderr",
     "output_type": "stream",
     "text": [
      "[I 2025-07-19 01:36:51,497] Trial 337 finished with value: 864.2552967555017 and parameters: {'lambda_l1': 7.561245843789083e-05, 'lambda_l2': 0.004411687425698024, 'num_leaves': 20, 'feature_fraction': 0.772039896667336, 'bagging_fraction': 0.9709291914025512, 'bagging_freq': 5, 'min_child_samples': 14}. Best is trial 305 with value: 815.937121718105.\n"
     ]
    },
    {
     "name": "stdout",
     "output_type": "stream",
     "text": [
      "fin split 0\n",
      "fin split 1\n",
      "fin split 2\n",
      "fin split 3\n",
      "fin split 4\n"
     ]
    },
    {
     "name": "stderr",
     "output_type": "stream",
     "text": [
      "[I 2025-07-19 01:37:04,890] Trial 338 finished with value: 841.8965891806561 and parameters: {'lambda_l1': 0.00015097711006969454, 'lambda_l2': 0.02181935664475402, 'num_leaves': 24, 'feature_fraction': 0.7665478720700298, 'bagging_fraction': 0.9605097438655731, 'bagging_freq': 6, 'min_child_samples': 12}. Best is trial 305 with value: 815.937121718105.\n"
     ]
    },
    {
     "name": "stdout",
     "output_type": "stream",
     "text": [
      "fin split 0\n",
      "fin split 1\n",
      "fin split 2\n",
      "fin split 3\n",
      "fin split 4\n"
     ]
    },
    {
     "name": "stderr",
     "output_type": "stream",
     "text": [
      "[I 2025-07-19 01:37:15,610] Trial 339 finished with value: 908.7273861776201 and parameters: {'lambda_l1': 0.00010520045828992247, 'lambda_l2': 0.0010488923613134868, 'num_leaves': 11, 'feature_fraction': 0.7910495887393939, 'bagging_fraction': 0.9850340612207056, 'bagging_freq': 5, 'min_child_samples': 7}. Best is trial 305 with value: 815.937121718105.\n"
     ]
    },
    {
     "name": "stdout",
     "output_type": "stream",
     "text": [
      "fin split 0\n",
      "fin split 1\n",
      "fin split 2\n",
      "fin split 3\n",
      "fin split 4\n"
     ]
    },
    {
     "name": "stderr",
     "output_type": "stream",
     "text": [
      "[I 2025-07-19 01:37:51,752] Trial 340 finished with value: 872.5918419006864 and parameters: {'lambda_l1': 0.0002151201488587997, 'lambda_l2': 0.002376235326446081, 'num_leaves': 97, 'feature_fraction': 0.8075702716152565, 'bagging_fraction': 0.999359372091456, 'bagging_freq': 5, 'min_child_samples': 10}. Best is trial 305 with value: 815.937121718105.\n"
     ]
    },
    {
     "name": "stdout",
     "output_type": "stream",
     "text": [
      "fin split 0\n",
      "fin split 1\n",
      "fin split 2\n",
      "fin split 3\n",
      "fin split 4\n"
     ]
    },
    {
     "name": "stderr",
     "output_type": "stream",
     "text": [
      "[I 2025-07-19 01:38:08,024] Trial 341 finished with value: 823.2485408478018 and parameters: {'lambda_l1': 5.322437846104908e-05, 'lambda_l2': 0.00044666608833006204, 'num_leaves': 30, 'feature_fraction': 0.763821649609858, 'bagging_fraction': 0.9771306306981979, 'bagging_freq': 5, 'min_child_samples': 7}. Best is trial 305 with value: 815.937121718105.\n"
     ]
    },
    {
     "name": "stdout",
     "output_type": "stream",
     "text": [
      "fin split 0\n",
      "fin split 1\n",
      "fin split 2\n",
      "fin split 3\n",
      "fin split 4\n"
     ]
    },
    {
     "name": "stderr",
     "output_type": "stream",
     "text": [
      "[I 2025-07-19 01:38:26,478] Trial 342 finished with value: 824.1622927164152 and parameters: {'lambda_l1': 8.471614130601713e-05, 'lambda_l2': 0.0006229798058302737, 'num_leaves': 35, 'feature_fraction': 0.7517170025764216, 'bagging_fraction': 0.9770717192257278, 'bagging_freq': 5, 'min_child_samples': 9}. Best is trial 305 with value: 815.937121718105.\n"
     ]
    },
    {
     "name": "stdout",
     "output_type": "stream",
     "text": [
      "fin split 0\n",
      "fin split 1\n",
      "fin split 2\n",
      "fin split 3\n",
      "fin split 4\n"
     ]
    },
    {
     "name": "stderr",
     "output_type": "stream",
     "text": [
      "[I 2025-07-19 01:38:42,094] Trial 343 finished with value: 868.5227294385234 and parameters: {'lambda_l1': 4.33302220966888e-05, 'lambda_l2': 0.00019088827647807384, 'num_leaves': 31, 'feature_fraction': 0.7541808064646015, 'bagging_fraction': 0.9804629589177025, 'bagging_freq': 5, 'min_child_samples': 14}. Best is trial 305 with value: 815.937121718105.\n"
     ]
    },
    {
     "name": "stdout",
     "output_type": "stream",
     "text": [
      "fin split 0\n",
      "fin split 1\n",
      "fin split 2\n",
      "fin split 3\n",
      "fin split 4\n"
     ]
    },
    {
     "name": "stderr",
     "output_type": "stream",
     "text": [
      "[I 2025-07-19 01:38:58,399] Trial 344 finished with value: 871.262345037105 and parameters: {'lambda_l1': 6.352560617937997e-05, 'lambda_l2': 0.0004363820701966778, 'num_leaves': 34, 'feature_fraction': 0.7413562867205861, 'bagging_fraction': 0.9894752140774715, 'bagging_freq': 5, 'min_child_samples': 11}. Best is trial 305 with value: 815.937121718105.\n"
     ]
    },
    {
     "name": "stdout",
     "output_type": "stream",
     "text": [
      "fin split 0\n",
      "fin split 1\n",
      "fin split 2\n",
      "fin split 3\n",
      "fin split 4\n"
     ]
    },
    {
     "name": "stderr",
     "output_type": "stream",
     "text": [
      "[I 2025-07-19 01:39:13,771] Trial 345 finished with value: 824.5228413452419 and parameters: {'lambda_l1': 6.530302618292815e-05, 'lambda_l2': 0.0005753695686687495, 'num_leaves': 29, 'feature_fraction': 0.7610664280965511, 'bagging_fraction': 0.9780597834355996, 'bagging_freq': 5, 'min_child_samples': 9}. Best is trial 305 with value: 815.937121718105.\n"
     ]
    },
    {
     "name": "stdout",
     "output_type": "stream",
     "text": [
      "fin split 0\n",
      "fin split 1\n",
      "fin split 2\n",
      "fin split 3\n",
      "fin split 4\n"
     ]
    },
    {
     "name": "stderr",
     "output_type": "stream",
     "text": [
      "[I 2025-07-19 01:39:29,346] Trial 346 finished with value: 832.5509144279929 and parameters: {'lambda_l1': 4.4760991342589546e-05, 'lambda_l2': 0.00035834693441746257, 'num_leaves': 28, 'feature_fraction': 0.768313754361742, 'bagging_fraction': 0.9792887275021285, 'bagging_freq': 5, 'min_child_samples': 9}. Best is trial 305 with value: 815.937121718105.\n"
     ]
    },
    {
     "name": "stdout",
     "output_type": "stream",
     "text": [
      "fin split 0\n",
      "fin split 1\n",
      "fin split 2\n",
      "fin split 3\n",
      "fin split 4\n"
     ]
    },
    {
     "name": "stderr",
     "output_type": "stream",
     "text": [
      "[I 2025-07-19 01:39:45,050] Trial 347 finished with value: 836.1054036620836 and parameters: {'lambda_l1': 4.8068793394415454e-05, 'lambda_l2': 0.0002937390311281548, 'num_leaves': 29, 'feature_fraction': 0.7698133576078784, 'bagging_fraction': 0.9752044877207009, 'bagging_freq': 6, 'min_child_samples': 9}. Best is trial 305 with value: 815.937121718105.\n"
     ]
    },
    {
     "name": "stdout",
     "output_type": "stream",
     "text": [
      "fin split 0\n",
      "fin split 1\n",
      "fin split 2\n",
      "fin split 3\n",
      "fin split 4\n"
     ]
    },
    {
     "name": "stderr",
     "output_type": "stream",
     "text": [
      "[I 2025-07-19 01:40:00,279] Trial 348 finished with value: 860.0118013012711 and parameters: {'lambda_l1': 4.232627794422383e-05, 'lambda_l2': 0.00029033746906228353, 'num_leaves': 29, 'feature_fraction': 0.7657501955269225, 'bagging_fraction': 0.9740222533090533, 'bagging_freq': 6, 'min_child_samples': 8}. Best is trial 305 with value: 815.937121718105.\n"
     ]
    },
    {
     "name": "stdout",
     "output_type": "stream",
     "text": [
      "fin split 0\n",
      "fin split 1\n",
      "fin split 2\n",
      "fin split 3\n",
      "fin split 4\n"
     ]
    },
    {
     "name": "stderr",
     "output_type": "stream",
     "text": [
      "[I 2025-07-19 01:40:17,637] Trial 349 finished with value: 840.6223395366636 and parameters: {'lambda_l1': 4.8749652437423285e-05, 'lambda_l2': 0.0005142507419962159, 'num_leaves': 33, 'feature_fraction': 0.7728632389157917, 'bagging_fraction': 0.977749839007699, 'bagging_freq': 6, 'min_child_samples': 8}. Best is trial 305 with value: 815.937121718105.\n"
     ]
    },
    {
     "name": "stdout",
     "output_type": "stream",
     "text": [
      "fin split 0\n",
      "fin split 1\n",
      "fin split 2\n",
      "fin split 3\n",
      "fin split 4\n"
     ]
    },
    {
     "name": "stderr",
     "output_type": "stream",
     "text": [
      "[I 2025-07-19 01:40:35,346] Trial 350 finished with value: 887.3187899338023 and parameters: {'lambda_l1': 7.254436297285536e-05, 'lambda_l2': 0.00016303973804478514, 'num_leaves': 28, 'feature_fraction': 0.7540823141372524, 'bagging_fraction': 0.7022610772837524, 'bagging_freq': 6, 'min_child_samples': 9}. Best is trial 305 with value: 815.937121718105.\n"
     ]
    },
    {
     "name": "stdout",
     "output_type": "stream",
     "text": [
      "fin split 0\n",
      "fin split 1\n",
      "fin split 2\n",
      "fin split 3\n",
      "fin split 4\n"
     ]
    },
    {
     "name": "stderr",
     "output_type": "stream",
     "text": [
      "[I 2025-07-19 01:40:49,957] Trial 351 finished with value: 843.6078208490774 and parameters: {'lambda_l1': 5.040062872588054e-05, 'lambda_l2': 0.0003816306467571661, 'num_leaves': 28, 'feature_fraction': 0.7647718357111983, 'bagging_fraction': 0.9762005963122341, 'bagging_freq': 6, 'min_child_samples': 6}. Best is trial 305 with value: 815.937121718105.\n"
     ]
    },
    {
     "name": "stdout",
     "output_type": "stream",
     "text": [
      "fin split 0\n",
      "fin split 1\n",
      "fin split 2\n",
      "fin split 3\n",
      "fin split 4\n"
     ]
    },
    {
     "name": "stderr",
     "output_type": "stream",
     "text": [
      "[I 2025-07-19 01:41:07,207] Trial 352 finished with value: 859.1533408252963 and parameters: {'lambda_l1': 9.242018413707691e-05, 'lambda_l2': 0.0003370123885493414, 'num_leaves': 34, 'feature_fraction': 0.7768592718302121, 'bagging_fraction': 0.9835207751142846, 'bagging_freq': 6, 'min_child_samples': 8}. Best is trial 305 with value: 815.937121718105.\n"
     ]
    },
    {
     "name": "stdout",
     "output_type": "stream",
     "text": [
      "fin split 0\n",
      "fin split 1\n",
      "fin split 2\n",
      "fin split 3\n",
      "fin split 4\n"
     ]
    },
    {
     "name": "stderr",
     "output_type": "stream",
     "text": [
      "[I 2025-07-19 01:41:21,020] Trial 353 finished with value: 855.2431930886755 and parameters: {'lambda_l1': 3.101709156125826e-05, 'lambda_l2': 0.00011462808996850414, 'num_leaves': 27, 'feature_fraction': 0.7447148411058571, 'bagging_fraction': 0.972069277442194, 'bagging_freq': 6, 'min_child_samples': 12}. Best is trial 305 with value: 815.937121718105.\n"
     ]
    },
    {
     "name": "stdout",
     "output_type": "stream",
     "text": [
      "fin split 0\n",
      "fin split 1\n",
      "fin split 2\n",
      "fin split 3\n",
      "fin split 4\n"
     ]
    },
    {
     "name": "stderr",
     "output_type": "stream",
     "text": [
      "[I 2025-07-19 01:41:37,965] Trial 354 finished with value: 871.6013589393162 and parameters: {'lambda_l1': 5.712571170490836e-05, 'lambda_l2': 0.0006214935516295834, 'num_leaves': 36, 'feature_fraction': 0.7645689716702366, 'bagging_fraction': 0.9880714149815576, 'bagging_freq': 5, 'min_child_samples': 6}. Best is trial 305 with value: 815.937121718105.\n"
     ]
    },
    {
     "name": "stdout",
     "output_type": "stream",
     "text": [
      "fin split 0\n",
      "fin split 1\n",
      "fin split 2\n",
      "fin split 3\n",
      "fin split 4\n"
     ]
    },
    {
     "name": "stderr",
     "output_type": "stream",
     "text": [
      "[I 2025-07-19 01:41:59,998] Trial 355 finished with value: 833.9110521794298 and parameters: {'lambda_l1': 8.502667808285696e-05, 'lambda_l2': 0.0002802652361021735, 'num_leaves': 30, 'feature_fraction': 0.7811432337274402, 'bagging_fraction': 0.9758315041418291, 'bagging_freq': 6, 'min_child_samples': 9}. Best is trial 305 with value: 815.937121718105.\n"
     ]
    },
    {
     "name": "stdout",
     "output_type": "stream",
     "text": [
      "fin split 0\n",
      "fin split 1\n",
      "fin split 2\n",
      "fin split 3\n",
      "fin split 4\n"
     ]
    },
    {
     "name": "stderr",
     "output_type": "stream",
     "text": [
      "[I 2025-07-19 01:42:19,093] Trial 356 finished with value: 838.4861086718698 and parameters: {'lambda_l1': 3.7005984113112625e-05, 'lambda_l2': 0.00020928111628871695, 'num_leaves': 35, 'feature_fraction': 0.7845627977409463, 'bagging_fraction': 0.9656801247725787, 'bagging_freq': 5, 'min_child_samples': 10}. Best is trial 305 with value: 815.937121718105.\n"
     ]
    },
    {
     "name": "stdout",
     "output_type": "stream",
     "text": [
      "fin split 0\n",
      "fin split 1\n",
      "fin split 2\n",
      "fin split 3\n",
      "fin split 4\n"
     ]
    },
    {
     "name": "stderr",
     "output_type": "stream",
     "text": [
      "[I 2025-07-19 01:42:34,490] Trial 357 finished with value: 954.5621890122534 and parameters: {'lambda_l1': 7.051149514773561e-05, 'lambda_l2': 0.0002566018788450417, 'num_leaves': 26, 'feature_fraction': 0.7964231008688866, 'bagging_fraction': 0.9724220014332452, 'bagging_freq': 5, 'min_child_samples': 32}. Best is trial 305 with value: 815.937121718105.\n"
     ]
    },
    {
     "name": "stdout",
     "output_type": "stream",
     "text": [
      "fin split 0\n",
      "fin split 1\n",
      "fin split 2\n",
      "fin split 3\n",
      "fin split 4\n"
     ]
    },
    {
     "name": "stderr",
     "output_type": "stream",
     "text": [
      "[I 2025-07-19 01:42:50,955] Trial 358 finished with value: 850.0622722377145 and parameters: {'lambda_l1': 8.87862435462485e-05, 'lambda_l2': 0.00046734553013874647, 'num_leaves': 31, 'feature_fraction': 0.7817036156608106, 'bagging_fraction': 0.9922699501882735, 'bagging_freq': 5, 'min_child_samples': 13}. Best is trial 305 with value: 815.937121718105.\n"
     ]
    },
    {
     "name": "stdout",
     "output_type": "stream",
     "text": [
      "fin split 0\n",
      "fin split 1\n",
      "fin split 2\n",
      "fin split 3\n",
      "fin split 4\n"
     ]
    },
    {
     "name": "stderr",
     "output_type": "stream",
     "text": [
      "[I 2025-07-19 01:43:05,432] Trial 359 finished with value: 833.4266206356151 and parameters: {'lambda_l1': 4.826629905831205e-05, 'lambda_l2': 0.0008315310558824408, 'num_leaves': 24, 'feature_fraction': 0.8029855747864836, 'bagging_fraction': 0.9776346264454753, 'bagging_freq': 5, 'min_child_samples': 9}. Best is trial 305 with value: 815.937121718105.\n"
     ]
    },
    {
     "name": "stdout",
     "output_type": "stream",
     "text": [
      "fin split 0\n",
      "fin split 1\n",
      "fin split 2\n",
      "fin split 3\n",
      "fin split 4\n"
     ]
    },
    {
     "name": "stderr",
     "output_type": "stream",
     "text": [
      "[I 2025-07-19 01:43:59,193] Trial 360 finished with value: 905.7320485841944 and parameters: {'lambda_l1': 3.0405535728283876e-05, 'lambda_l2': 0.0008035044886092437, 'num_leaves': 168, 'feature_fraction': 0.8064559583583106, 'bagging_fraction': 0.9621799267844939, 'bagging_freq': 5, 'min_child_samples': 12}. Best is trial 305 with value: 815.937121718105.\n"
     ]
    },
    {
     "name": "stdout",
     "output_type": "stream",
     "text": [
      "fin split 0\n",
      "fin split 1\n",
      "fin split 2\n",
      "fin split 3\n",
      "fin split 4\n"
     ]
    },
    {
     "name": "stderr",
     "output_type": "stream",
     "text": [
      "[I 2025-07-19 01:44:13,344] Trial 361 finished with value: 860.6537992155003 and parameters: {'lambda_l1': 9.119425187630872e-05, 'lambda_l2': 0.0008313874494970374, 'num_leaves': 17, 'feature_fraction': 0.8297953826646242, 'bagging_fraction': 0.98551213875661, 'bagging_freq': 5, 'min_child_samples': 8}. Best is trial 305 with value: 815.937121718105.\n"
     ]
    },
    {
     "name": "stdout",
     "output_type": "stream",
     "text": [
      "fin split 0\n",
      "fin split 1\n",
      "fin split 2\n",
      "fin split 3\n",
      "fin split 4\n"
     ]
    },
    {
     "name": "stderr",
     "output_type": "stream",
     "text": [
      "[I 2025-07-19 01:44:28,773] Trial 362 finished with value: 847.7489644824234 and parameters: {'lambda_l1': 4.876630642615467e-05, 'lambda_l2': 0.0006582446231877758, 'num_leaves': 23, 'feature_fraction': 0.8444428438946601, 'bagging_fraction': 0.9996538803778794, 'bagging_freq': 5, 'min_child_samples': 9}. Best is trial 305 with value: 815.937121718105.\n"
     ]
    },
    {
     "name": "stdout",
     "output_type": "stream",
     "text": [
      "fin split 0\n",
      "fin split 1\n",
      "fin split 2\n",
      "fin split 3\n",
      "fin split 4\n"
     ]
    },
    {
     "name": "stderr",
     "output_type": "stream",
     "text": [
      "[I 2025-07-19 01:44:42,387] Trial 363 finished with value: 864.5155785425326 and parameters: {'lambda_l1': 0.00010657464936375003, 'lambda_l2': 0.0010388109791557656, 'num_leaves': 17, 'feature_fraction': 0.8032204618103042, 'bagging_fraction': 0.9782728459586671, 'bagging_freq': 5, 'min_child_samples': 6}. Best is trial 305 with value: 815.937121718105.\n"
     ]
    },
    {
     "name": "stdout",
     "output_type": "stream",
     "text": [
      "fin split 0\n",
      "fin split 1\n",
      "fin split 2\n",
      "fin split 3\n",
      "fin split 4\n"
     ]
    },
    {
     "name": "stderr",
     "output_type": "stream",
     "text": [
      "[I 2025-07-19 01:45:02,385] Trial 364 finished with value: 824.9427133540731 and parameters: {'lambda_l1': 6.707090582226735e-05, 'lambda_l2': 0.0003806088680045229, 'num_leaves': 38, 'feature_fraction': 0.7860326572064832, 'bagging_fraction': 0.9681758922714004, 'bagging_freq': 5, 'min_child_samples': 11}. Best is trial 305 with value: 815.937121718105.\n"
     ]
    },
    {
     "name": "stdout",
     "output_type": "stream",
     "text": [
      "fin split 0\n",
      "fin split 1\n",
      "fin split 2\n",
      "fin split 3\n",
      "fin split 4\n"
     ]
    },
    {
     "name": "stderr",
     "output_type": "stream",
     "text": [
      "[I 2025-07-19 01:45:23,126] Trial 365 finished with value: 872.3841899918176 and parameters: {'lambda_l1': 0.0011167408271423606, 'lambda_l2': 0.00043647088023457506, 'num_leaves': 39, 'feature_fraction': 0.7934725334637424, 'bagging_fraction': 0.9870775465219106, 'bagging_freq': 5, 'min_child_samples': 15}. Best is trial 305 with value: 815.937121718105.\n"
     ]
    },
    {
     "name": "stdout",
     "output_type": "stream",
     "text": [
      "fin split 0\n",
      "fin split 1\n",
      "fin split 2\n",
      "fin split 3\n",
      "fin split 4\n"
     ]
    },
    {
     "name": "stderr",
     "output_type": "stream",
     "text": [
      "[I 2025-07-19 01:45:44,307] Trial 366 finished with value: 868.6001575326977 and parameters: {'lambda_l1': 6.031161245972244e-05, 'lambda_l2': 0.00012879832884348213, 'num_leaves': 37, 'feature_fraction': 0.8083648067356226, 'bagging_fraction': 0.966603309904827, 'bagging_freq': 5, 'min_child_samples': 12}. Best is trial 305 with value: 815.937121718105.\n"
     ]
    },
    {
     "name": "stdout",
     "output_type": "stream",
     "text": [
      "fin split 0\n",
      "fin split 1\n",
      "fin split 2\n",
      "fin split 3\n",
      "fin split 4\n"
     ]
    },
    {
     "name": "stderr",
     "output_type": "stream",
     "text": [
      "[I 2025-07-19 01:46:04,520] Trial 367 finished with value: 888.112022972507 and parameters: {'lambda_l1': 3.266869035134254e-05, 'lambda_l2': 0.000514467442454907, 'num_leaves': 43, 'feature_fraction': 0.7885129547217254, 'bagging_fraction': 0.9797066698297108, 'bagging_freq': 5, 'min_child_samples': 19}. Best is trial 305 with value: 815.937121718105.\n"
     ]
    },
    {
     "name": "stdout",
     "output_type": "stream",
     "text": [
      "fin split 0\n",
      "fin split 1\n",
      "fin split 2\n",
      "fin split 3\n",
      "fin split 4\n"
     ]
    },
    {
     "name": "stderr",
     "output_type": "stream",
     "text": [
      "[I 2025-07-19 01:46:20,552] Trial 368 finished with value: 843.4308745175033 and parameters: {'lambda_l1': 6.462607441023797e-05, 'lambda_l2': 0.0011519593906764898, 'num_leaves': 24, 'feature_fraction': 0.8167245598744279, 'bagging_fraction': 0.9732456318018874, 'bagging_freq': 5, 'min_child_samples': 11}. Best is trial 305 with value: 815.937121718105.\n"
     ]
    },
    {
     "name": "stdout",
     "output_type": "stream",
     "text": [
      "fin split 0\n",
      "fin split 1\n",
      "fin split 2\n",
      "fin split 3\n",
      "fin split 4\n"
     ]
    },
    {
     "name": "stderr",
     "output_type": "stream",
     "text": [
      "[I 2025-07-19 01:46:38,165] Trial 369 finished with value: 838.410004813825 and parameters: {'lambda_l1': 1.697740367757696e-08, 'lambda_l2': 0.00030556807668614657, 'num_leaves': 35, 'feature_fraction': 0.7792267023234971, 'bagging_fraction': 0.9905721639222284, 'bagging_freq': 5, 'min_child_samples': 10}. Best is trial 305 with value: 815.937121718105.\n"
     ]
    },
    {
     "name": "stdout",
     "output_type": "stream",
     "text": [
      "fin split 0\n",
      "fin split 1\n",
      "fin split 2\n",
      "fin split 3\n",
      "fin split 4\n"
     ]
    },
    {
     "name": "stderr",
     "output_type": "stream",
     "text": [
      "[I 2025-07-19 01:47:23,148] Trial 370 finished with value: 903.775776351172 and parameters: {'lambda_l1': 0.000112589203040941, 'lambda_l2': 0.00020931667797222418, 'num_leaves': 112, 'feature_fraction': 0.8381591527565133, 'bagging_fraction': 0.9689688577839474, 'bagging_freq': 5, 'min_child_samples': 14}. Best is trial 305 with value: 815.937121718105.\n"
     ]
    },
    {
     "name": "stdout",
     "output_type": "stream",
     "text": [
      "fin split 0\n",
      "fin split 1\n",
      "fin split 2\n",
      "fin split 3\n",
      "fin split 4\n"
     ]
    },
    {
     "name": "stderr",
     "output_type": "stream",
     "text": [
      "[I 2025-07-19 01:47:39,452] Trial 371 finished with value: 875.5499907082624 and parameters: {'lambda_l1': 4.269989029591309e-05, 'lambda_l2': 0.0007655398043971897, 'num_leaves': 32, 'feature_fraction': 0.8015488050884487, 'bagging_fraction': 0.7469625963028298, 'bagging_freq': 5, 'min_child_samples': 10}. Best is trial 305 with value: 815.937121718105.\n"
     ]
    },
    {
     "name": "stdout",
     "output_type": "stream",
     "text": [
      "fin split 0\n",
      "fin split 1\n",
      "fin split 2\n",
      "fin split 3\n",
      "fin split 4\n"
     ]
    },
    {
     "name": "stderr",
     "output_type": "stream",
     "text": [
      "[I 2025-07-19 01:47:54,481] Trial 372 finished with value: 1001.1508110995795 and parameters: {'lambda_l1': 0.488976818752063, 'lambda_l2': 0.0014599000168383596, 'num_leaves': 25, 'feature_fraction': 0.7757782564985366, 'bagging_fraction': 0.7827530598538565, 'bagging_freq': 5, 'min_child_samples': 65}. Best is trial 305 with value: 815.937121718105.\n"
     ]
    },
    {
     "name": "stdout",
     "output_type": "stream",
     "text": [
      "fin split 0\n",
      "fin split 1\n",
      "fin split 2\n",
      "fin split 3\n",
      "fin split 4\n"
     ]
    },
    {
     "name": "stderr",
     "output_type": "stream",
     "text": [
      "[I 2025-07-19 01:48:13,090] Trial 373 finished with value: 841.2615591350227 and parameters: {'lambda_l1': 0.00012611229574865744, 'lambda_l2': 0.013584631914782866, 'num_leaves': 40, 'feature_fraction': 0.8171738302258551, 'bagging_fraction': 0.9817548667755384, 'bagging_freq': 5, 'min_child_samples': 13}. Best is trial 305 with value: 815.937121718105.\n"
     ]
    },
    {
     "name": "stdout",
     "output_type": "stream",
     "text": [
      "fin split 0\n",
      "fin split 1\n",
      "fin split 2\n",
      "fin split 3\n",
      "fin split 4\n"
     ]
    },
    {
     "name": "stderr",
     "output_type": "stream",
     "text": [
      "[I 2025-07-19 01:48:26,714] Trial 374 finished with value: 858.1064395864498 and parameters: {'lambda_l1': 3.05697201955764e-05, 'lambda_l2': 0.00041400870432063913, 'num_leaves': 19, 'feature_fraction': 0.787365294958459, 'bagging_fraction': 0.9936190630557336, 'bagging_freq': 5, 'min_child_samples': 9}. Best is trial 305 with value: 815.937121718105.\n"
     ]
    },
    {
     "name": "stdout",
     "output_type": "stream",
     "text": [
      "fin split 0\n",
      "fin split 1\n",
      "fin split 2\n",
      "fin split 3\n",
      "fin split 4\n"
     ]
    },
    {
     "name": "stderr",
     "output_type": "stream",
     "text": [
      "[I 2025-07-19 01:48:45,662] Trial 375 finished with value: 883.6058992268005 and parameters: {'lambda_l1': 0.0006228102857493541, 'lambda_l2': 0.0006908656956121469, 'num_leaves': 32, 'feature_fraction': 0.75919254214234, 'bagging_fraction': 0.9615451719451397, 'bagging_freq': 5, 'min_child_samples': 16}. Best is trial 305 with value: 815.937121718105.\n"
     ]
    },
    {
     "name": "stdout",
     "output_type": "stream",
     "text": [
      "fin split 0\n",
      "fin split 1\n",
      "fin split 2\n",
      "fin split 3\n",
      "fin split 4\n"
     ]
    },
    {
     "name": "stderr",
     "output_type": "stream",
     "text": [
      "[I 2025-07-19 01:49:07,457] Trial 376 finished with value: 944.0470692170052 and parameters: {'lambda_l1': 7.825642033885975e-05, 'lambda_l2': 0.0009993536779605262, 'num_leaves': 25, 'feature_fraction': 0.7388623429229653, 'bagging_fraction': 0.9854472117602465, 'bagging_freq': 5, 'min_child_samples': 28}. Best is trial 305 with value: 815.937121718105.\n"
     ]
    },
    {
     "name": "stdout",
     "output_type": "stream",
     "text": [
      "fin split 0\n",
      "fin split 1\n",
      "fin split 2\n",
      "fin split 3\n",
      "fin split 4\n"
     ]
    },
    {
     "name": "stderr",
     "output_type": "stream",
     "text": [
      "[I 2025-07-19 09:13:34,931] Trial 377 finished with value: 839.6371007550565 and parameters: {'lambda_l1': 4.957572296063986e-05, 'lambda_l2': 0.0005014105330860989, 'num_leaves': 47, 'feature_fraction': 0.7950476616931, 'bagging_fraction': 0.9756681820621043, 'bagging_freq': 5, 'min_child_samples': 11}. Best is trial 305 with value: 815.937121718105.\n"
     ]
    },
    {
     "name": "stdout",
     "output_type": "stream",
     "text": [
      "fin split 0\n",
      "fin split 1\n",
      "fin split 2\n",
      "fin split 3\n",
      "fin split 4\n"
     ]
    },
    {
     "name": "stderr",
     "output_type": "stream",
     "text": [
      "[I 2025-07-19 09:13:49,797] Trial 378 finished with value: 845.0548095317223 and parameters: {'lambda_l1': 0.0001362929100128213, 'lambda_l2': 0.0017957354006465302, 'num_leaves': 16, 'feature_fraction': 0.8556357906686041, 'bagging_fraction': 0.9693320805333763, 'bagging_freq': 5, 'min_child_samples': 7}. Best is trial 305 with value: 815.937121718105.\n"
     ]
    },
    {
     "name": "stdout",
     "output_type": "stream",
     "text": [
      "fin split 0\n",
      "fin split 1\n",
      "fin split 2\n",
      "fin split 3\n",
      "fin split 4\n"
     ]
    },
    {
     "name": "stderr",
     "output_type": "stream",
     "text": [
      "[I 2025-07-19 09:14:14,664] Trial 379 finished with value: 831.3634843290263 and parameters: {'lambda_l1': 0.0003812056250539298, 'lambda_l2': 0.00018305542530238224, 'num_leaves': 37, 'feature_fraction': 0.878465100012049, 'bagging_fraction': 0.9851410757320731, 'bagging_freq': 1, 'min_child_samples': 9}. Best is trial 305 with value: 815.937121718105.\n"
     ]
    },
    {
     "name": "stdout",
     "output_type": "stream",
     "text": [
      "fin split 0\n",
      "fin split 1\n",
      "fin split 2\n",
      "fin split 3\n",
      "fin split 4\n"
     ]
    },
    {
     "name": "stderr",
     "output_type": "stream",
     "text": [
      "[I 2025-07-19 09:14:36,887] Trial 380 finished with value: 868.3288199961828 and parameters: {'lambda_l1': 0.0007911140394678616, 'lambda_l2': 0.00029875551034306934, 'num_leaves': 43, 'feature_fraction': 0.8836360095446477, 'bagging_fraction': 0.9774391667293757, 'bagging_freq': 1, 'min_child_samples': 13}. Best is trial 305 with value: 815.937121718105.\n"
     ]
    },
    {
     "name": "stdout",
     "output_type": "stream",
     "text": [
      "fin split 0\n",
      "fin split 1\n",
      "fin split 2\n",
      "fin split 3\n",
      "fin split 4\n"
     ]
    },
    {
     "name": "stderr",
     "output_type": "stream",
     "text": [
      "[I 2025-07-19 09:14:54,554] Trial 381 finished with value: 859.0670516853525 and parameters: {'lambda_l1': 0.0004943116928674446, 'lambda_l2': 9.281570556306244e-05, 'num_leaves': 36, 'feature_fraction': 0.8868160078369409, 'bagging_fraction': 0.9657608561308653, 'bagging_freq': 1, 'min_child_samples': 11}. Best is trial 305 with value: 815.937121718105.\n"
     ]
    },
    {
     "name": "stdout",
     "output_type": "stream",
     "text": [
      "fin split 0\n",
      "fin split 1\n",
      "fin split 2\n",
      "fin split 3\n",
      "fin split 4\n"
     ]
    },
    {
     "name": "stderr",
     "output_type": "stream",
     "text": [
      "[I 2025-07-19 09:15:11,251] Trial 382 finished with value: 957.0828605709113 and parameters: {'lambda_l1': 0.001442830151998835, 'lambda_l2': 0.0004173353670422928, 'num_leaves': 41, 'feature_fraction': 0.7709238104640792, 'bagging_fraction': 0.9846908084900065, 'bagging_freq': 7, 'min_child_samples': 39}. Best is trial 305 with value: 815.937121718105.\n"
     ]
    },
    {
     "name": "stdout",
     "output_type": "stream",
     "text": [
      "fin split 0\n",
      "fin split 1\n",
      "fin split 2\n",
      "fin split 3\n",
      "fin split 4\n"
     ]
    },
    {
     "name": "stderr",
     "output_type": "stream",
     "text": [
      "[I 2025-07-19 09:15:30,662] Trial 383 finished with value: 826.1806595021387 and parameters: {'lambda_l1': 0.0003546036298884761, 'lambda_l2': 0.00017640282829704568, 'num_leaves': 37, 'feature_fraction': 0.8761166173810404, 'bagging_fraction': 0.9739752002717595, 'bagging_freq': 2, 'min_child_samples': 9}. Best is trial 305 with value: 815.937121718105.\n"
     ]
    },
    {
     "name": "stdout",
     "output_type": "stream",
     "text": [
      "fin split 0\n",
      "fin split 1\n",
      "fin split 2\n",
      "fin split 3\n",
      "fin split 4\n"
     ]
    },
    {
     "name": "stderr",
     "output_type": "stream",
     "text": [
      "[I 2025-07-19 09:15:46,464] Trial 384 finished with value: 823.9879748868107 and parameters: {'lambda_l1': 0.00982185112063234, 'lambda_l2': 0.00015028203455330066, 'num_leaves': 32, 'feature_fraction': 0.899707608475852, 'bagging_fraction': 0.9790750414670507, 'bagging_freq': 1, 'min_child_samples': 9}. Best is trial 305 with value: 815.937121718105.\n"
     ]
    },
    {
     "name": "stdout",
     "output_type": "stream",
     "text": [
      "fin split 0\n",
      "fin split 1\n",
      "fin split 2\n",
      "fin split 3\n",
      "fin split 4\n"
     ]
    },
    {
     "name": "stderr",
     "output_type": "stream",
     "text": [
      "[I 2025-07-19 09:16:04,917] Trial 385 finished with value: 866.1316312835867 and parameters: {'lambda_l1': 0.029158596960464828, 'lambda_l2': 0.0001885098931446482, 'num_leaves': 38, 'feature_fraction': 0.8803489932493935, 'bagging_fraction': 0.9641824919615188, 'bagging_freq': 2, 'min_child_samples': 9}. Best is trial 305 with value: 815.937121718105.\n"
     ]
    },
    {
     "name": "stdout",
     "output_type": "stream",
     "text": [
      "fin split 0\n",
      "fin split 1\n",
      "fin split 2\n",
      "fin split 3\n",
      "fin split 4\n"
     ]
    },
    {
     "name": "stderr",
     "output_type": "stream",
     "text": [
      "[I 2025-07-19 09:16:26,923] Trial 386 finished with value: 866.0708084953714 and parameters: {'lambda_l1': 0.13383877549114911, 'lambda_l2': 0.00013011423792063832, 'num_leaves': 48, 'feature_fraction': 0.8976984941553922, 'bagging_fraction': 0.9768705545523648, 'bagging_freq': 1, 'min_child_samples': 12}. Best is trial 305 with value: 815.937121718105.\n"
     ]
    },
    {
     "name": "stdout",
     "output_type": "stream",
     "text": [
      "fin split 0\n",
      "fin split 1\n",
      "fin split 2\n",
      "fin split 3\n",
      "fin split 4\n"
     ]
    },
    {
     "name": "stderr",
     "output_type": "stream",
     "text": [
      "[I 2025-07-19 09:17:07,233] Trial 387 finished with value: 924.7159071364435 and parameters: {'lambda_l1': 0.008802616047413676, 'lambda_l2': 0.00021290239473893845, 'num_leaves': 129, 'feature_fraction': 0.8982325519779835, 'bagging_fraction': 0.9715437969444307, 'bagging_freq': 5, 'min_child_samples': 15}. Best is trial 305 with value: 815.937121718105.\n"
     ]
    },
    {
     "name": "stdout",
     "output_type": "stream",
     "text": [
      "fin split 0\n",
      "fin split 1\n",
      "fin split 2\n",
      "fin split 3\n",
      "fin split 4\n"
     ]
    },
    {
     "name": "stderr",
     "output_type": "stream",
     "text": [
      "[I 2025-07-19 09:17:30,646] Trial 388 finished with value: 834.4755652125966 and parameters: {'lambda_l1': 0.0645085579075993, 'lambda_l2': 0.00018724251272253772, 'num_leaves': 53, 'feature_fraction': 0.8686940659053182, 'bagging_fraction': 0.9803966462565878, 'bagging_freq': 1, 'min_child_samples': 9}. Best is trial 305 with value: 815.937121718105.\n"
     ]
    },
    {
     "name": "stdout",
     "output_type": "stream",
     "text": [
      "fin split 0\n",
      "fin split 1\n",
      "fin split 2\n",
      "fin split 3\n",
      "fin split 4\n"
     ]
    },
    {
     "name": "stderr",
     "output_type": "stream",
     "text": [
      "[I 2025-07-19 09:17:48,293] Trial 389 finished with value: 835.2913778298259 and parameters: {'lambda_l1': 0.07640654222043639, 'lambda_l2': 0.0002684475243098846, 'num_leaves': 32, 'feature_fraction': 0.8783349048603427, 'bagging_fraction': 0.9603645352010618, 'bagging_freq': 1, 'min_child_samples': 11}. Best is trial 305 with value: 815.937121718105.\n"
     ]
    },
    {
     "name": "stdout",
     "output_type": "stream",
     "text": [
      "fin split 0\n",
      "fin split 1\n",
      "fin split 2\n",
      "fin split 3\n",
      "fin split 4\n"
     ]
    },
    {
     "name": "stderr",
     "output_type": "stream",
     "text": [
      "[I 2025-07-19 09:18:09,181] Trial 390 finished with value: 845.2683762721056 and parameters: {'lambda_l1': 0.015240617827533703, 'lambda_l2': 0.00016727111347872116, 'num_leaves': 42, 'feature_fraction': 0.921673779363713, 'bagging_fraction': 0.9759865394845494, 'bagging_freq': 1, 'min_child_samples': 8}. Best is trial 305 with value: 815.937121718105.\n"
     ]
    },
    {
     "name": "stdout",
     "output_type": "stream",
     "text": [
      "fin split 0\n",
      "fin split 1\n",
      "fin split 2\n",
      "fin split 3\n",
      "fin split 4\n"
     ]
    },
    {
     "name": "stderr",
     "output_type": "stream",
     "text": [
      "[I 2025-07-19 09:18:27,621] Trial 391 finished with value: 921.8530475303883 and parameters: {'lambda_l1': 0.01006079572778456, 'lambda_l2': 0.033327510921247486, 'num_leaves': 33, 'feature_fraction': 0.9179902716186867, 'bagging_fraction': 0.9877016063728581, 'bagging_freq': 1, 'min_child_samples': 25}. Best is trial 305 with value: 815.937121718105.\n"
     ]
    },
    {
     "name": "stdout",
     "output_type": "stream",
     "text": [
      "fin split 0\n",
      "fin split 1\n",
      "fin split 2\n",
      "fin split 3\n",
      "fin split 4\n"
     ]
    },
    {
     "name": "stderr",
     "output_type": "stream",
     "text": [
      "[I 2025-07-19 09:18:54,968] Trial 392 finished with value: 856.7502028423545 and parameters: {'lambda_l1': 2.6599405813543103e-05, 'lambda_l2': 0.00033965144762744054, 'num_leaves': 38, 'feature_fraction': 0.9001874721517311, 'bagging_fraction': 0.9516072557807593, 'bagging_freq': 2, 'min_child_samples': 13}. Best is trial 305 with value: 815.937121718105.\n"
     ]
    },
    {
     "name": "stdout",
     "output_type": "stream",
     "text": [
      "fin split 0\n",
      "fin split 1\n",
      "fin split 2\n",
      "fin split 3\n",
      "fin split 4\n"
     ]
    },
    {
     "name": "stderr",
     "output_type": "stream",
     "text": [
      "[I 2025-07-19 09:19:19,272] Trial 393 finished with value: 831.4854014182652 and parameters: {'lambda_l1': 0.00034687393272008675, 'lambda_l2': 0.0006748861782258959, 'num_leaves': 29, 'feature_fraction': 0.9435529579583335, 'bagging_fraction': 0.9688021757576116, 'bagging_freq': 2, 'min_child_samples': 9}. Best is trial 305 with value: 815.937121718105.\n"
     ]
    },
    {
     "name": "stdout",
     "output_type": "stream",
     "text": [
      "fin split 0\n",
      "fin split 1\n",
      "fin split 2\n",
      "fin split 3\n",
      "fin split 4\n"
     ]
    },
    {
     "name": "stderr",
     "output_type": "stream",
     "text": [
      "[I 2025-07-19 09:19:38,792] Trial 394 finished with value: 843.0160713428875 and parameters: {'lambda_l1': 0.004586944688574369, 'lambda_l2': 0.000651201887538528, 'num_leaves': 29, 'feature_fraction': 0.9316006992128819, 'bagging_fraction': 0.9610992447823542, 'bagging_freq': 2, 'min_child_samples': 11}. Best is trial 305 with value: 815.937121718105.\n"
     ]
    },
    {
     "name": "stdout",
     "output_type": "stream",
     "text": [
      "fin split 0\n",
      "fin split 1\n",
      "fin split 2\n",
      "fin split 3\n",
      "fin split 4\n"
     ]
    },
    {
     "name": "stderr",
     "output_type": "stream",
     "text": [
      "[I 2025-07-19 09:20:00,789] Trial 395 finished with value: 830.7722206809008 and parameters: {'lambda_l1': 0.0004030478965768206, 'lambda_l2': 0.000547082172916754, 'num_leaves': 36, 'feature_fraction': 0.9471859891999881, 'bagging_fraction': 0.9665094081487867, 'bagging_freq': 1, 'min_child_samples': 8}. Best is trial 305 with value: 815.937121718105.\n"
     ]
    },
    {
     "name": "stdout",
     "output_type": "stream",
     "text": [
      "fin split 0\n",
      "fin split 1\n",
      "fin split 2\n",
      "fin split 3\n",
      "fin split 4\n"
     ]
    },
    {
     "name": "stderr",
     "output_type": "stream",
     "text": [
      "[I 2025-07-19 09:20:26,934] Trial 396 finished with value: 860.7748632900513 and parameters: {'lambda_l1': 0.0003438936101851567, 'lambda_l2': 0.0005077584385740489, 'num_leaves': 44, 'feature_fraction': 0.9880987883378046, 'bagging_fraction': 0.953727046989201, 'bagging_freq': 1, 'min_child_samples': 7}. Best is trial 305 with value: 815.937121718105.\n"
     ]
    },
    {
     "name": "stdout",
     "output_type": "stream",
     "text": [
      "fin split 0\n",
      "fin split 1\n",
      "fin split 2\n",
      "fin split 3\n",
      "fin split 4\n"
     ]
    },
    {
     "name": "stderr",
     "output_type": "stream",
     "text": [
      "[I 2025-07-19 09:20:48,463] Trial 397 finished with value: 820.9536358877531 and parameters: {'lambda_l1': 0.003939037410524335, 'lambda_l2': 0.00013258048976741966, 'num_leaves': 38, 'feature_fraction': 0.9457369380513878, 'bagging_fraction': 0.9659820539130058, 'bagging_freq': 1, 'min_child_samples': 7}. Best is trial 305 with value: 815.937121718105.\n"
     ]
    },
    {
     "name": "stdout",
     "output_type": "stream",
     "text": [
      "fin split 0\n",
      "fin split 1\n",
      "fin split 2\n",
      "fin split 3\n",
      "fin split 4\n"
     ]
    },
    {
     "name": "stderr",
     "output_type": "stream",
     "text": [
      "[I 2025-07-19 09:21:08,973] Trial 398 finished with value: 824.5562194333197 and parameters: {'lambda_l1': 0.012234977836366472, 'lambda_l2': 9.94560002514346e-05, 'num_leaves': 36, 'feature_fraction': 0.9644596634494202, 'bagging_fraction': 0.9687063852527351, 'bagging_freq': 1, 'min_child_samples': 10}. Best is trial 305 with value: 815.937121718105.\n"
     ]
    },
    {
     "name": "stdout",
     "output_type": "stream",
     "text": [
      "fin split 0\n",
      "fin split 1\n",
      "fin split 2\n",
      "fin split 3\n",
      "fin split 4\n"
     ]
    },
    {
     "name": "stderr",
     "output_type": "stream",
     "text": [
      "[I 2025-07-19 09:21:36,359] Trial 399 finished with value: 893.4525173044632 and parameters: {'lambda_l1': 0.018100931536558947, 'lambda_l2': 7.93272139917683e-05, 'num_leaves': 49, 'feature_fraction': 0.964265666495183, 'bagging_fraction': 0.9657736153759688, 'bagging_freq': 1, 'min_child_samples': 17}. Best is trial 305 with value: 815.937121718105.\n"
     ]
    },
    {
     "name": "stdout",
     "output_type": "stream",
     "text": [
      "fin split 0\n",
      "fin split 1\n",
      "fin split 2\n",
      "fin split 3\n",
      "fin split 4\n"
     ]
    },
    {
     "name": "stderr",
     "output_type": "stream",
     "text": [
      "[I 2025-07-19 09:21:56,187] Trial 400 finished with value: 861.394432395151 and parameters: {'lambda_l1': 0.00834137667023302, 'lambda_l2': 0.00012518661914652152, 'num_leaves': 40, 'feature_fraction': 0.9414879526990347, 'bagging_fraction': 0.9449480000015934, 'bagging_freq': 1, 'min_child_samples': 14}. Best is trial 305 with value: 815.937121718105.\n"
     ]
    },
    {
     "name": "stdout",
     "output_type": "stream",
     "text": [
      "fin split 0\n",
      "fin split 1\n",
      "fin split 2\n",
      "fin split 3\n",
      "fin split 4\n"
     ]
    },
    {
     "name": "stderr",
     "output_type": "stream",
     "text": [
      "[I 2025-07-19 09:22:16,154] Trial 401 finished with value: 855.6646824083291 and parameters: {'lambda_l1': 0.0026665597027573642, 'lambda_l2': 6.225022186366436e-05, 'num_leaves': 36, 'feature_fraction': 0.9616963110453501, 'bagging_fraction': 0.9672447840480317, 'bagging_freq': 1, 'min_child_samples': 12}. Best is trial 305 with value: 815.937121718105.\n"
     ]
    },
    {
     "name": "stdout",
     "output_type": "stream",
     "text": [
      "fin split 0\n",
      "fin split 1\n",
      "fin split 2\n",
      "fin split 3\n",
      "fin split 4\n"
     ]
    },
    {
     "name": "stderr",
     "output_type": "stream",
     "text": [
      "[I 2025-07-19 09:22:35,642] Trial 402 finished with value: 822.0318106579291 and parameters: {'lambda_l1': 0.006981751568304218, 'lambda_l2': 0.00011374186769047082, 'num_leaves': 35, 'feature_fraction': 0.9501105922106354, 'bagging_fraction': 0.9586688435384504, 'bagging_freq': 1, 'min_child_samples': 10}. Best is trial 305 with value: 815.937121718105.\n"
     ]
    },
    {
     "name": "stdout",
     "output_type": "stream",
     "text": [
      "fin split 0\n",
      "fin split 1\n",
      "fin split 2\n",
      "fin split 3\n",
      "fin split 4\n"
     ]
    },
    {
     "name": "stderr",
     "output_type": "stream",
     "text": [
      "[I 2025-07-19 09:22:58,872] Trial 403 finished with value: 857.5083049118509 and parameters: {'lambda_l1': 0.012753383921894033, 'lambda_l2': 8.59844214210788e-05, 'num_leaves': 46, 'feature_fraction': 0.9366889609059128, 'bagging_fraction': 0.9502516024710611, 'bagging_freq': 1, 'min_child_samples': 11}. Best is trial 305 with value: 815.937121718105.\n"
     ]
    },
    {
     "name": "stdout",
     "output_type": "stream",
     "text": [
      "fin split 0\n",
      "fin split 1\n",
      "fin split 2\n",
      "fin split 3\n",
      "fin split 4\n"
     ]
    },
    {
     "name": "stderr",
     "output_type": "stream",
     "text": [
      "[I 2025-07-19 09:23:21,685] Trial 404 finished with value: 854.664793762721 and parameters: {'lambda_l1': 0.005114615475510463, 'lambda_l2': 0.00012467331713207261, 'num_leaves': 40, 'feature_fraction': 0.9761302652911188, 'bagging_fraction': 0.9577548119851443, 'bagging_freq': 1, 'min_child_samples': 13}. Best is trial 305 with value: 815.937121718105.\n"
     ]
    },
    {
     "name": "stdout",
     "output_type": "stream",
     "text": [
      "fin split 0\n",
      "fin split 1\n",
      "fin split 2\n",
      "fin split 3\n",
      "fin split 4\n"
     ]
    },
    {
     "name": "stderr",
     "output_type": "stream",
     "text": [
      "[I 2025-07-19 09:23:41,587] Trial 405 finished with value: 836.9838569960652 and parameters: {'lambda_l1': 0.0044498793202681465, 'lambda_l2': 0.0001135871754601428, 'num_leaves': 34, 'feature_fraction': 0.958434515316312, 'bagging_fraction': 0.9673796865759202, 'bagging_freq': 1, 'min_child_samples': 10}. Best is trial 305 with value: 815.937121718105.\n"
     ]
    },
    {
     "name": "stdout",
     "output_type": "stream",
     "text": [
      "fin split 0\n",
      "fin split 1\n",
      "fin split 2\n",
      "fin split 3\n",
      "fin split 4\n"
     ]
    },
    {
     "name": "stderr",
     "output_type": "stream",
     "text": [
      "[I 2025-07-19 09:24:03,298] Trial 406 finished with value: 834.290241087471 and parameters: {'lambda_l1': 0.006938812160096268, 'lambda_l2': 5.3701913952622764e-05, 'num_leaves': 44, 'feature_fraction': 0.9466601027055561, 'bagging_fraction': 0.9376281421443413, 'bagging_freq': 1, 'min_child_samples': 7}. Best is trial 305 with value: 815.937121718105.\n"
     ]
    },
    {
     "name": "stdout",
     "output_type": "stream",
     "text": [
      "fin split 0\n",
      "fin split 1\n",
      "fin split 2\n",
      "fin split 3\n",
      "fin split 4\n"
     ]
    },
    {
     "name": "stderr",
     "output_type": "stream",
     "text": [
      "[I 2025-07-19 09:24:22,217] Trial 407 finished with value: 853.8249471289148 and parameters: {'lambda_l1': 0.026703302919550094, 'lambda_l2': 0.00017318601382958782, 'num_leaves': 36, 'feature_fraction': 0.9447206137746937, 'bagging_fraction': 0.9576670495283036, 'bagging_freq': 1, 'min_child_samples': 15}. Best is trial 305 with value: 815.937121718105.\n"
     ]
    },
    {
     "name": "stdout",
     "output_type": "stream",
     "text": [
      "fin split 0\n",
      "fin split 1\n",
      "fin split 2\n",
      "fin split 3\n",
      "fin split 4\n"
     ]
    },
    {
     "name": "stderr",
     "output_type": "stream",
     "text": [
      "[I 2025-07-19 09:24:47,223] Trial 408 finished with value: 848.9571733589908 and parameters: {'lambda_l1': 0.0017458910568551099, 'lambda_l2': 9.77947512478747e-05, 'num_leaves': 51, 'feature_fraction': 0.9551589920195482, 'bagging_fraction': 0.9620149271621559, 'bagging_freq': 1, 'min_child_samples': 10}. Best is trial 305 with value: 815.937121718105.\n"
     ]
    },
    {
     "name": "stdout",
     "output_type": "stream",
     "text": [
      "fin split 0\n",
      "fin split 1\n",
      "fin split 2\n",
      "fin split 3\n",
      "fin split 4\n"
     ]
    },
    {
     "name": "stderr",
     "output_type": "stream",
     "text": [
      "[I 2025-07-19 09:25:09,252] Trial 409 finished with value: 825.4439318739068 and parameters: {'lambda_l1': 0.013103010166560665, 'lambda_l2': 0.00014877541752355815, 'num_leaves': 39, 'feature_fraction': 0.9732819034678899, 'bagging_fraction': 0.9703832404921587, 'bagging_freq': 1, 'min_child_samples': 6}. Best is trial 305 with value: 815.937121718105.\n"
     ]
    },
    {
     "name": "stdout",
     "output_type": "stream",
     "text": [
      "fin split 0\n",
      "fin split 1\n",
      "fin split 2\n",
      "fin split 3\n",
      "fin split 4\n"
     ]
    },
    {
     "name": "stderr",
     "output_type": "stream",
     "text": [
      "[I 2025-07-19 09:25:41,634] Trial 410 finished with value: 820.1706967997883 and parameters: {'lambda_l1': 0.016751440669851892, 'lambda_l2': 0.0001837822182237201, 'num_leaves': 57, 'feature_fraction': 0.9845878089697566, 'bagging_fraction': 0.9715749199826543, 'bagging_freq': 1, 'min_child_samples': 5}. Best is trial 305 with value: 815.937121718105.\n"
     ]
    },
    {
     "name": "stdout",
     "output_type": "stream",
     "text": [
      "fin split 0\n",
      "fin split 1\n",
      "fin split 2\n",
      "fin split 3\n",
      "fin split 4\n"
     ]
    },
    {
     "name": "stderr",
     "output_type": "stream",
     "text": [
      "[I 2025-07-19 09:26:08,672] Trial 411 finished with value: 821.8628316233646 and parameters: {'lambda_l1': 0.019780583574427222, 'lambda_l2': 0.0001512566906315254, 'num_leaves': 48, 'feature_fraction': 0.978956806170092, 'bagging_fraction': 0.969618963665676, 'bagging_freq': 1, 'min_child_samples': 5}. Best is trial 305 with value: 815.937121718105.\n"
     ]
    },
    {
     "name": "stdout",
     "output_type": "stream",
     "text": [
      "fin split 0\n",
      "fin split 1\n",
      "fin split 2\n",
      "fin split 3\n",
      "fin split 4\n"
     ]
    },
    {
     "name": "stderr",
     "output_type": "stream",
     "text": [
      "[I 2025-07-19 09:26:39,889] Trial 412 finished with value: 831.6133814770682 and parameters: {'lambda_l1': 0.012846852199703147, 'lambda_l2': 7.663486647426648e-05, 'num_leaves': 55, 'feature_fraction': 0.97110386107662, 'bagging_fraction': 0.9709185320370409, 'bagging_freq': 1, 'min_child_samples': 5}. Best is trial 305 with value: 815.937121718105.\n"
     ]
    },
    {
     "name": "stdout",
     "output_type": "stream",
     "text": [
      "fin split 0\n",
      "fin split 1\n",
      "fin split 2\n",
      "fin split 3\n",
      "fin split 4\n"
     ]
    },
    {
     "name": "stderr",
     "output_type": "stream",
     "text": [
      "[I 2025-07-19 09:27:09,345] Trial 413 finished with value: 830.1876105175951 and parameters: {'lambda_l1': 0.024055801065993043, 'lambda_l2': 0.00011914744202055128, 'num_leaves': 48, 'feature_fraction': 0.9996728557011726, 'bagging_fraction': 0.9545343278686702, 'bagging_freq': 1, 'min_child_samples': 5}. Best is trial 305 with value: 815.937121718105.\n"
     ]
    },
    {
     "name": "stdout",
     "output_type": "stream",
     "text": [
      "fin split 0\n",
      "fin split 1\n",
      "fin split 2\n",
      "fin split 3\n",
      "fin split 4\n"
     ]
    },
    {
     "name": "stderr",
     "output_type": "stream",
     "text": [
      "[I 2025-07-19 09:27:47,129] Trial 414 finished with value: 853.8907361907833 and parameters: {'lambda_l1': 0.046504886163529664, 'lambda_l2': 9.233828368952875e-05, 'num_leaves': 61, 'feature_fraction': 0.9939451260707821, 'bagging_fraction': 0.9502476333962621, 'bagging_freq': 1, 'min_child_samples': 5}. Best is trial 305 with value: 815.937121718105.\n"
     ]
    },
    {
     "name": "stdout",
     "output_type": "stream",
     "text": [
      "fin split 0\n",
      "fin split 1\n",
      "fin split 2\n",
      "fin split 3\n",
      "fin split 4\n"
     ]
    },
    {
     "name": "stderr",
     "output_type": "stream",
     "text": [
      "[I 2025-07-19 09:28:17,208] Trial 415 finished with value: 834.8408958312413 and parameters: {'lambda_l1': 0.021776738991209507, 'lambda_l2': 0.00013428105479431702, 'num_leaves': 52, 'feature_fraction': 0.9815452113938579, 'bagging_fraction': 0.9543891560938087, 'bagging_freq': 1, 'min_child_samples': 5}. Best is trial 305 with value: 815.937121718105.\n"
     ]
    },
    {
     "name": "stdout",
     "output_type": "stream",
     "text": [
      "fin split 0\n",
      "fin split 1\n",
      "fin split 2\n",
      "fin split 3\n",
      "fin split 4\n"
     ]
    },
    {
     "name": "stderr",
     "output_type": "stream",
     "text": [
      "[I 2025-07-19 09:29:02,568] Trial 416 finished with value: 842.8752877929227 and parameters: {'lambda_l1': 0.012082343433326677, 'lambda_l2': 0.00014205532239986116, 'num_leaves': 58, 'feature_fraction': 0.9829358683464015, 'bagging_fraction': 0.9435739480748982, 'bagging_freq': 1, 'min_child_samples': 5}. Best is trial 305 with value: 815.937121718105.\n"
     ]
    },
    {
     "name": "stdout",
     "output_type": "stream",
     "text": [
      "fin split 0\n",
      "fin split 1\n",
      "fin split 2\n",
      "fin split 3\n",
      "fin split 4\n"
     ]
    },
    {
     "name": "stderr",
     "output_type": "stream",
     "text": [
      "[I 2025-07-19 09:29:39,811] Trial 417 finished with value: 836.2165348054768 and parameters: {'lambda_l1': 0.02019370438137478, 'lambda_l2': 0.0002164620883155632, 'num_leaves': 48, 'feature_fraction': 0.9851920065882176, 'bagging_fraction': 0.9590178081632041, 'bagging_freq': 1, 'min_child_samples': 6}. Best is trial 305 with value: 815.937121718105.\n"
     ]
    },
    {
     "name": "stdout",
     "output_type": "stream",
     "text": [
      "fin split 0\n",
      "fin split 1\n",
      "fin split 2\n",
      "fin split 3\n",
      "fin split 4\n"
     ]
    },
    {
     "name": "stderr",
     "output_type": "stream",
     "text": [
      "[I 2025-07-19 09:30:19,074] Trial 418 finished with value: 833.390311361836 and parameters: {'lambda_l1': 0.028080654554898478, 'lambda_l2': 6.622485922209043e-05, 'num_leaves': 47, 'feature_fraction': 0.998341158940276, 'bagging_fraction': 0.8072064356301161, 'bagging_freq': 1, 'min_child_samples': 7}. Best is trial 305 with value: 815.937121718105.\n"
     ]
    },
    {
     "name": "stdout",
     "output_type": "stream",
     "text": [
      "fin split 0\n",
      "fin split 1\n",
      "fin split 2\n",
      "fin split 3\n",
      "fin split 4\n"
     ]
    },
    {
     "name": "stderr",
     "output_type": "stream",
     "text": [
      "[I 2025-07-19 09:30:58,849] Trial 419 finished with value: 857.4948441664985 and parameters: {'lambda_l1': 0.016109899655756148, 'lambda_l2': 0.00013938959291853495, 'num_leaves': 64, 'feature_fraction': 0.9749728690140812, 'bagging_fraction': 0.9324064150858092, 'bagging_freq': 1, 'min_child_samples': 5}. Best is trial 305 with value: 815.937121718105.\n"
     ]
    },
    {
     "name": "stdout",
     "output_type": "stream",
     "text": [
      "fin split 0\n",
      "fin split 1\n",
      "fin split 2\n",
      "fin split 3\n",
      "fin split 4\n"
     ]
    },
    {
     "name": "stderr",
     "output_type": "stream",
     "text": [
      "[I 2025-07-19 09:31:34,289] Trial 420 finished with value: 850.374199658175 and parameters: {'lambda_l1': 0.0034777902263226287, 'lambda_l2': 3.926758784821593e-05, 'num_leaves': 54, 'feature_fraction': 0.9550571530956872, 'bagging_fraction': 0.9615102124081139, 'bagging_freq': 1, 'min_child_samples': 7}. Best is trial 305 with value: 815.937121718105.\n"
     ]
    },
    {
     "name": "stdout",
     "output_type": "stream",
     "text": [
      "fin split 0\n",
      "fin split 1\n",
      "fin split 2\n",
      "fin split 3\n",
      "fin split 4\n"
     ]
    },
    {
     "name": "stderr",
     "output_type": "stream",
     "text": [
      "[I 2025-07-19 09:32:02,668] Trial 421 finished with value: 818.0401647986141 and parameters: {'lambda_l1': 0.010414389774614783, 'lambda_l2': 0.000243943493386734, 'num_leaves': 43, 'feature_fraction': 0.9617179205376388, 'bagging_fraction': 0.9685702116762276, 'bagging_freq': 1, 'min_child_samples': 7}. Best is trial 305 with value: 815.937121718105.\n"
     ]
    },
    {
     "name": "stdout",
     "output_type": "stream",
     "text": [
      "fin split 0\n",
      "fin split 1\n",
      "fin split 2\n",
      "fin split 3\n",
      "fin split 4\n"
     ]
    },
    {
     "name": "stderr",
     "output_type": "stream",
     "text": [
      "[I 2025-07-19 09:32:30,903] Trial 422 finished with value: 823.9579111731939 and parameters: {'lambda_l1': 0.009144077975340502, 'lambda_l2': 0.0002592508580935553, 'num_leaves': 47, 'feature_fraction': 0.9772720030453675, 'bagging_fraction': 0.9521543145394803, 'bagging_freq': 1, 'min_child_samples': 5}. Best is trial 305 with value: 815.937121718105.\n"
     ]
    },
    {
     "name": "stdout",
     "output_type": "stream",
     "text": [
      "fin split 0\n",
      "fin split 1\n",
      "fin split 2\n",
      "fin split 3\n",
      "fin split 4\n"
     ]
    },
    {
     "name": "stderr",
     "output_type": "stream",
     "text": [
      "[I 2025-07-19 09:32:59,279] Trial 423 finished with value: 836.6027120748947 and parameters: {'lambda_l1': 0.006351206293690242, 'lambda_l2': 0.00023321985131670317, 'num_leaves': 55, 'feature_fraction': 0.968941350030512, 'bagging_fraction': 0.9406007937597076, 'bagging_freq': 1, 'min_child_samples': 6}. Best is trial 305 with value: 815.937121718105.\n"
     ]
    },
    {
     "name": "stdout",
     "output_type": "stream",
     "text": [
      "fin split 0\n",
      "fin split 1\n",
      "fin split 2\n",
      "fin split 3\n",
      "fin split 4\n"
     ]
    },
    {
     "name": "stderr",
     "output_type": "stream",
     "text": [
      "[I 2025-07-19 09:33:26,828] Trial 424 finished with value: 824.6549879781107 and parameters: {'lambda_l1': 0.009863627880138665, 'lambda_l2': 0.00014512488617305798, 'num_leaves': 50, 'feature_fraction': 0.9783682742368535, 'bagging_fraction': 0.9453888544267898, 'bagging_freq': 1, 'min_child_samples': 5}. Best is trial 305 with value: 815.937121718105.\n"
     ]
    },
    {
     "name": "stdout",
     "output_type": "stream",
     "text": [
      "fin split 0\n",
      "fin split 1\n",
      "fin split 2\n",
      "fin split 3\n",
      "fin split 4\n"
     ]
    },
    {
     "name": "stderr",
     "output_type": "stream",
     "text": [
      "[I 2025-07-19 09:33:58,406] Trial 425 finished with value: 829.2448971436194 and parameters: {'lambda_l1': 0.009804578512788173, 'lambda_l2': 0.00023283312239316898, 'num_leaves': 58, 'feature_fraction': 0.9753435218433236, 'bagging_fraction': 0.947499000149096, 'bagging_freq': 1, 'min_child_samples': 5}. Best is trial 305 with value: 815.937121718105.\n"
     ]
    },
    {
     "name": "stdout",
     "output_type": "stream",
     "text": [
      "fin split 0\n",
      "fin split 1\n",
      "fin split 2\n",
      "fin split 3\n",
      "fin split 4\n"
     ]
    },
    {
     "name": "stderr",
     "output_type": "stream",
     "text": [
      "[I 2025-07-19 09:34:32,874] Trial 426 finished with value: 845.2474183210319 and parameters: {'lambda_l1': 0.010101564490208648, 'lambda_l2': 0.0002585697221082269, 'num_leaves': 66, 'feature_fraction': 0.9721822667951718, 'bagging_fraction': 0.9464973732881065, 'bagging_freq': 1, 'min_child_samples': 5}. Best is trial 305 with value: 815.937121718105.\n"
     ]
    },
    {
     "name": "stdout",
     "output_type": "stream",
     "text": [
      "fin split 0\n",
      "fin split 1\n",
      "fin split 2\n",
      "fin split 3\n",
      "fin split 4\n"
     ]
    },
    {
     "name": "stderr",
     "output_type": "stream",
     "text": [
      "[I 2025-07-19 09:35:02,669] Trial 427 finished with value: 838.5085726178573 and parameters: {'lambda_l1': 0.007868239435852489, 'lambda_l2': 0.00019979301105868557, 'num_leaves': 54, 'feature_fraction': 0.9772345295808544, 'bagging_fraction': 0.9454533615876158, 'bagging_freq': 1, 'min_child_samples': 5}. Best is trial 305 with value: 815.937121718105.\n"
     ]
    },
    {
     "name": "stdout",
     "output_type": "stream",
     "text": [
      "fin split 0\n",
      "fin split 1\n",
      "fin split 2\n",
      "fin split 3\n",
      "fin split 4\n"
     ]
    },
    {
     "name": "stderr",
     "output_type": "stream",
     "text": [
      "[I 2025-07-19 09:35:35,004] Trial 428 finished with value: 866.2236293012081 and parameters: {'lambda_l1': 0.0063140327019104185, 'lambda_l2': 0.0002775534511202699, 'num_leaves': 59, 'feature_fraction': 0.9844202849433821, 'bagging_fraction': 0.9501697987078144, 'bagging_freq': 1, 'min_child_samples': 7}. Best is trial 305 with value: 815.937121718105.\n"
     ]
    },
    {
     "name": "stdout",
     "output_type": "stream",
     "text": [
      "fin split 0\n",
      "fin split 1\n",
      "fin split 2\n",
      "fin split 3\n",
      "fin split 4\n"
     ]
    },
    {
     "name": "stderr",
     "output_type": "stream",
     "text": [
      "[I 2025-07-19 09:36:04,359] Trial 429 finished with value: 849.5479722868967 and parameters: {'lambda_l1': 0.014302265963288843, 'lambda_l2': 0.0003918495683962915, 'num_leaves': 54, 'feature_fraction': 0.9661252952280261, 'bagging_fraction': 0.9518817250234703, 'bagging_freq': 1, 'min_child_samples': 5}. Best is trial 305 with value: 815.937121718105.\n"
     ]
    },
    {
     "name": "stdout",
     "output_type": "stream",
     "text": [
      "fin split 0\n",
      "fin split 1\n",
      "fin split 2\n",
      "fin split 3\n",
      "fin split 4\n"
     ]
    },
    {
     "name": "stderr",
     "output_type": "stream",
     "text": [
      "[I 2025-07-19 09:36:39,807] Trial 430 finished with value: 846.5165084269468 and parameters: {'lambda_l1': 0.010230256751934045, 'lambda_l2': 0.00016188012457734322, 'num_leaves': 66, 'feature_fraction': 0.9589023395254415, 'bagging_fraction': 0.9385045870137683, 'bagging_freq': 1, 'min_child_samples': 7}. Best is trial 305 with value: 815.937121718105.\n"
     ]
    },
    {
     "name": "stdout",
     "output_type": "stream",
     "text": [
      "fin split 0\n",
      "fin split 1\n",
      "fin split 2\n",
      "fin split 3\n",
      "fin split 4\n"
     ]
    },
    {
     "name": "stderr",
     "output_type": "stream",
     "text": [
      "[I 2025-07-19 09:37:10,861] Trial 431 finished with value: 864.4215661740365 and parameters: {'lambda_l1': 0.03648483647583139, 'lambda_l2': 0.0002490075673677326, 'num_leaves': 59, 'feature_fraction': 0.9842430802615321, 'bagging_fraction': 0.9590925064992412, 'bagging_freq': 1, 'min_child_samples': 7}. Best is trial 305 with value: 815.937121718105.\n"
     ]
    },
    {
     "name": "stdout",
     "output_type": "stream",
     "text": [
      "fin split 0\n",
      "fin split 1\n",
      "fin split 2\n",
      "fin split 3\n",
      "fin split 4\n"
     ]
    },
    {
     "name": "stderr",
     "output_type": "stream",
     "text": [
      "[I 2025-07-19 09:37:39,842] Trial 432 finished with value: 837.9177882951267 and parameters: {'lambda_l1': 0.0038588229050422903, 'lambda_l2': 0.00013519841647128473, 'num_leaves': 50, 'feature_fraction': 0.9257335480756148, 'bagging_fraction': 0.9378216713966131, 'bagging_freq': 1, 'min_child_samples': 5}. Best is trial 305 with value: 815.937121718105.\n"
     ]
    },
    {
     "name": "stdout",
     "output_type": "stream",
     "text": [
      "fin split 0\n",
      "fin split 1\n",
      "fin split 2\n",
      "fin split 3\n",
      "fin split 4\n"
     ]
    },
    {
     "name": "stderr",
     "output_type": "stream",
     "text": [
      "[I 2025-07-19 09:38:05,889] Trial 433 finished with value: 819.0497460466145 and parameters: {'lambda_l1': 0.006271957913301214, 'lambda_l2': 0.0003385741084715978, 'num_leaves': 45, 'feature_fraction': 0.9639976021183059, 'bagging_fraction': 0.9561399979289511, 'bagging_freq': 1, 'min_child_samples': 7}. Best is trial 305 with value: 815.937121718105.\n"
     ]
    },
    {
     "name": "stdout",
     "output_type": "stream",
     "text": [
      "fin split 0\n",
      "fin split 1\n",
      "fin split 2\n",
      "fin split 3\n",
      "fin split 4\n"
     ]
    },
    {
     "name": "stderr",
     "output_type": "stream",
     "text": [
      "[I 2025-07-19 09:38:31,458] Trial 434 finished with value: 864.1018723416225 and parameters: {'lambda_l1': 0.006574707339016589, 'lambda_l2': 0.000377706322182823, 'num_leaves': 46, 'feature_fraction': 0.9528631017243239, 'bagging_fraction': 0.9192381232765239, 'bagging_freq': 1, 'min_child_samples': 7}. Best is trial 305 with value: 815.937121718105.\n"
     ]
    },
    {
     "name": "stdout",
     "output_type": "stream",
     "text": [
      "fin split 0\n",
      "fin split 1\n",
      "fin split 2\n",
      "fin split 3\n",
      "fin split 4\n"
     ]
    },
    {
     "name": "stderr",
     "output_type": "stream",
     "text": [
      "[I 2025-07-19 09:38:56,705] Trial 435 finished with value: 846.8845141654266 and parameters: {'lambda_l1': 0.009313844634780076, 'lambda_l2': 0.000171827458919548, 'num_leaves': 44, 'feature_fraction': 0.9711506884394708, 'bagging_fraction': 0.9476345422061313, 'bagging_freq': 1, 'min_child_samples': 5}. Best is trial 305 with value: 815.937121718105.\n"
     ]
    },
    {
     "name": "stdout",
     "output_type": "stream",
     "text": [
      "fin split 0\n",
      "fin split 1\n",
      "fin split 2\n",
      "fin split 3\n",
      "fin split 4\n"
     ]
    },
    {
     "name": "stderr",
     "output_type": "stream",
     "text": [
      "[I 2025-07-19 09:39:30,690] Trial 436 finished with value: 850.481055683447 and parameters: {'lambda_l1': 0.01530367981790459, 'lambda_l2': 0.0002905364622646616, 'num_leaves': 71, 'feature_fraction': 0.9612278473627897, 'bagging_fraction': 0.9594529044137655, 'bagging_freq': 1, 'min_child_samples': 7}. Best is trial 305 with value: 815.937121718105.\n"
     ]
    },
    {
     "name": "stdout",
     "output_type": "stream",
     "text": [
      "fin split 0\n",
      "fin split 1\n",
      "fin split 2\n",
      "fin split 3\n",
      "fin split 4\n"
     ]
    },
    {
     "name": "stderr",
     "output_type": "stream",
     "text": [
      "[I 2025-07-19 09:39:59,725] Trial 437 finished with value: 863.5283293113637 and parameters: {'lambda_l1': 0.004627333637751051, 'lambda_l2': 9.927293245550161e-05, 'num_leaves': 51, 'feature_fraction': 0.9893844190668166, 'bagging_fraction': 0.9520888444149498, 'bagging_freq': 1, 'min_child_samples': 8}. Best is trial 305 with value: 815.937121718105.\n"
     ]
    },
    {
     "name": "stdout",
     "output_type": "stream",
     "text": [
      "fin split 0\n",
      "fin split 1\n",
      "fin split 2\n",
      "fin split 3\n",
      "fin split 4\n"
     ]
    },
    {
     "name": "stderr",
     "output_type": "stream",
     "text": [
      "[I 2025-07-19 09:40:25,295] Trial 438 finished with value: 815.7196806867238 and parameters: {'lambda_l1': 0.01911782545759951, 'lambda_l2': 0.00022252475059728575, 'num_leaves': 44, 'feature_fraction': 0.9686268614234881, 'bagging_fraction': 0.9550403028080964, 'bagging_freq': 1, 'min_child_samples': 5}. Best is trial 438 with value: 815.7196806867238.\n"
     ]
    },
    {
     "name": "stdout",
     "output_type": "stream",
     "text": [
      "fin split 0\n",
      "fin split 1\n",
      "fin split 2\n",
      "fin split 3\n",
      "fin split 4\n"
     ]
    },
    {
     "name": "stderr",
     "output_type": "stream",
     "text": [
      "[I 2025-07-19 09:40:49,387] Trial 439 finished with value: 968.6917172566291 and parameters: {'lambda_l1': 0.015904920944378984, 'lambda_l2': 0.0001625217186957298, 'num_leaves': 42, 'feature_fraction': 0.9659293732246482, 'bagging_fraction': 0.9600557440726849, 'bagging_freq': 1, 'min_child_samples': 46}. Best is trial 438 with value: 815.7196806867238.\n"
     ]
    },
    {
     "name": "stdout",
     "output_type": "stream",
     "text": [
      "fin split 0\n",
      "fin split 1\n",
      "fin split 2\n",
      "fin split 3\n",
      "fin split 4\n"
     ]
    },
    {
     "name": "stderr",
     "output_type": "stream",
     "text": [
      "[I 2025-07-19 09:41:11,774] Trial 440 finished with value: 830.2596806431582 and parameters: {'lambda_l1': 0.03225289987590375, 'lambda_l2': 0.062143094613448996, 'num_leaves': 45, 'feature_fraction': 0.9134118470156652, 'bagging_fraction': 0.9654809966918503, 'bagging_freq': 1, 'min_child_samples': 7}. Best is trial 438 with value: 815.7196806867238.\n"
     ]
    },
    {
     "name": "stdout",
     "output_type": "stream",
     "text": [
      "fin split 0\n",
      "fin split 1\n",
      "fin split 2\n",
      "fin split 3\n",
      "fin split 4\n"
     ]
    },
    {
     "name": "stderr",
     "output_type": "stream",
     "text": [
      "[I 2025-07-19 09:41:39,813] Trial 441 finished with value: 984.2860077825037 and parameters: {'lambda_l1': 0.00751929024409408, 'lambda_l2': 0.0003615936434747579, 'num_leaves': 49, 'feature_fraction': 0.9535343604098703, 'bagging_fraction': 0.957676631529643, 'bagging_freq': 1, 'min_child_samples': 86}. Best is trial 438 with value: 815.7196806867238.\n"
     ]
    },
    {
     "name": "stdout",
     "output_type": "stream",
     "text": [
      "fin split 0\n",
      "fin split 1\n",
      "fin split 2\n",
      "fin split 3\n",
      "fin split 4\n"
     ]
    },
    {
     "name": "stderr",
     "output_type": "stream",
     "text": [
      "[I 2025-07-19 09:42:04,963] Trial 442 finished with value: 829.5961945711658 and parameters: {'lambda_l1': 0.02103932602529434, 'lambda_l2': 4.8625825962057704e-05, 'num_leaves': 46, 'feature_fraction': 0.928752545146985, 'bagging_fraction': 0.970775350466644, 'bagging_freq': 1, 'min_child_samples': 8}. Best is trial 438 with value: 815.7196806867238.\n"
     ]
    },
    {
     "name": "stdout",
     "output_type": "stream",
     "text": [
      "fin split 0\n",
      "fin split 1\n",
      "fin split 2\n",
      "fin split 3\n",
      "fin split 4\n"
     ]
    },
    {
     "name": "stderr",
     "output_type": "stream",
     "text": [
      "[I 2025-07-19 09:42:28,550] Trial 443 finished with value: 834.3241758461779 and parameters: {'lambda_l1': 0.013067875239871204, 'lambda_l2': 7.372739130414822e-05, 'num_leaves': 43, 'feature_fraction': 0.9670333857483135, 'bagging_fraction': 0.933241555247479, 'bagging_freq': 1, 'min_child_samples': 5}. Best is trial 438 with value: 815.7196806867238.\n"
     ]
    },
    {
     "name": "stdout",
     "output_type": "stream",
     "text": [
      "fin split 0\n",
      "fin split 1\n",
      "fin split 2\n",
      "fin split 3\n",
      "fin split 4\n"
     ]
    },
    {
     "name": "stderr",
     "output_type": "stream",
     "text": [
      "[I 2025-07-19 09:42:51,002] Trial 444 finished with value: 887.2898420603456 and parameters: {'lambda_l1': 0.018789538580256688, 'lambda_l2': 0.00023450398070043495, 'num_leaves': 41, 'feature_fraction': 0.9514434280657861, 'bagging_fraction': 0.6712597138267015, 'bagging_freq': 1, 'min_child_samples': 8}. Best is trial 438 with value: 815.7196806867238.\n"
     ]
    },
    {
     "name": "stdout",
     "output_type": "stream",
     "text": [
      "fin split 0\n",
      "fin split 1\n",
      "fin split 2\n",
      "fin split 3\n",
      "fin split 4\n"
     ]
    },
    {
     "name": "stderr",
     "output_type": "stream",
     "text": [
      "[I 2025-07-19 09:43:18,592] Trial 445 finished with value: 812.1956452798577 and parameters: {'lambda_l1': 0.005776862657851988, 'lambda_l2': 0.0003789035856846724, 'num_leaves': 51, 'feature_fraction': 0.9750326593707686, 'bagging_fraction': 0.97048934227134, 'bagging_freq': 1, 'min_child_samples': 8}. Best is trial 445 with value: 812.1956452798577.\n"
     ]
    },
    {
     "name": "stdout",
     "output_type": "stream",
     "text": [
      "fin split 0\n",
      "fin split 1\n",
      "fin split 2\n",
      "fin split 3\n",
      "fin split 4\n"
     ]
    },
    {
     "name": "stderr",
     "output_type": "stream",
     "text": [
      "[I 2025-07-19 09:43:46,475] Trial 446 finished with value: 869.1918664704374 and parameters: {'lambda_l1': 0.005487767672140242, 'lambda_l2': 0.0003465624495512004, 'num_leaves': 52, 'feature_fraction': 0.9886041091304568, 'bagging_fraction': 0.792656504111726, 'bagging_freq': 1, 'min_child_samples': 7}. Best is trial 445 with value: 812.1956452798577.\n"
     ]
    },
    {
     "name": "stdout",
     "output_type": "stream",
     "text": [
      "fin split 0\n",
      "fin split 1\n",
      "fin split 2\n",
      "fin split 3\n",
      "fin split 4\n"
     ]
    },
    {
     "name": "stderr",
     "output_type": "stream",
     "text": [
      "[I 2025-07-19 09:44:11,177] Trial 447 finished with value: 840.4762888990653 and parameters: {'lambda_l1': 0.003749527624757932, 'lambda_l2': 0.00016391568207686126, 'num_leaves': 43, 'feature_fraction': 0.9799597228910456, 'bagging_fraction': 0.9632073236121532, 'bagging_freq': 1, 'min_child_samples': 7}. Best is trial 445 with value: 812.1956452798577.\n"
     ]
    },
    {
     "name": "stdout",
     "output_type": "stream",
     "text": [
      "fin split 0\n",
      "fin split 1\n",
      "fin split 2\n",
      "fin split 3\n",
      "fin split 4\n"
     ]
    },
    {
     "name": "stderr",
     "output_type": "stream",
     "text": [
      "[I 2025-07-19 09:44:38,052] Trial 448 finished with value: 991.0466802459787 and parameters: {'lambda_l1': 0.002745610870406269, 'lambda_l2': 0.0001051289862023293, 'num_leaves': 50, 'feature_fraction': 0.935944195097514, 'bagging_fraction': 0.9699069024813118, 'bagging_freq': 1, 'min_child_samples': 92}. Best is trial 445 with value: 812.1956452798577.\n"
     ]
    },
    {
     "name": "stdout",
     "output_type": "stream",
     "text": [
      "fin split 0\n",
      "fin split 1\n",
      "fin split 2\n",
      "fin split 3\n",
      "fin split 4\n"
     ]
    },
    {
     "name": "stderr",
     "output_type": "stream",
     "text": [
      "[I 2025-07-19 09:45:05,856] Trial 449 finished with value: 988.2308224350143 and parameters: {'lambda_l1': 0.008906795916144197, 'lambda_l2': 0.00045329080889636473, 'num_leaves': 47, 'feature_fraction': 0.9733937233820739, 'bagging_fraction': 0.9552200656195617, 'bagging_freq': 1, 'min_child_samples': 81}. Best is trial 445 with value: 812.1956452798577.\n"
     ]
    },
    {
     "name": "stdout",
     "output_type": "stream",
     "text": [
      "fin split 0\n",
      "fin split 1\n",
      "fin split 2\n",
      "fin split 3\n",
      "fin split 4\n"
     ]
    },
    {
     "name": "stderr",
     "output_type": "stream",
     "text": [
      "[I 2025-07-19 09:45:35,862] Trial 450 finished with value: 955.8576237824514 and parameters: {'lambda_l1': 0.011362918137371638, 'lambda_l2': 0.00023713429118155327, 'num_leaves': 52, 'feature_fraction': 0.961904870862641, 'bagging_fraction': 0.9709018904684479, 'bagging_freq': 1, 'min_child_samples': 61}. Best is trial 445 with value: 812.1956452798577.\n"
     ]
    },
    {
     "name": "stdout",
     "output_type": "stream",
     "text": [
      "fin split 0\n",
      "fin split 1\n",
      "fin split 2\n",
      "fin split 3\n",
      "fin split 4\n"
     ]
    },
    {
     "name": "stderr",
     "output_type": "stream",
     "text": [
      "[I 2025-07-19 09:45:59,405] Trial 451 finished with value: 838.3098747613783 and parameters: {'lambda_l1': 0.04527405172526652, 'lambda_l2': 0.00032477070980507864, 'num_leaves': 42, 'feature_fraction': 0.9925185992878295, 'bagging_fraction': 0.9544623316670603, 'bagging_freq': 1, 'min_child_samples': 5}. Best is trial 445 with value: 812.1956452798577.\n"
     ]
    },
    {
     "name": "stdout",
     "output_type": "stream",
     "text": [
      "fin split 0\n",
      "fin split 1\n",
      "fin split 2\n",
      "fin split 3\n",
      "fin split 4\n"
     ]
    },
    {
     "name": "stderr",
     "output_type": "stream",
     "text": [
      "[I 2025-07-19 09:46:28,778] Trial 452 finished with value: 821.7730208143611 and parameters: {'lambda_l1': 0.006325352890059801, 'lambda_l2': 0.00014900720245278651, 'num_leaves': 55, 'feature_fraction': 0.9504955782617838, 'bagging_fraction': 0.9632828670663438, 'bagging_freq': 1, 'min_child_samples': 9}. Best is trial 445 with value: 812.1956452798577.\n"
     ]
    },
    {
     "name": "stdout",
     "output_type": "stream",
     "text": [
      "fin split 0\n",
      "fin split 1\n",
      "fin split 2\n",
      "fin split 3\n",
      "fin split 4\n"
     ]
    },
    {
     "name": "stderr",
     "output_type": "stream",
     "text": [
      "[I 2025-07-19 09:46:55,291] Trial 453 finished with value: 855.3789315731567 and parameters: {'lambda_l1': 0.006751638807116634, 'lambda_l2': 0.00014891778717521226, 'num_leaves': 56, 'feature_fraction': 0.9449244949553197, 'bagging_fraction': 0.946159067607249, 'bagging_freq': 1, 'min_child_samples': 11}. Best is trial 445 with value: 812.1956452798577.\n"
     ]
    },
    {
     "name": "stdout",
     "output_type": "stream",
     "text": [
      "fin split 0\n",
      "fin split 1\n",
      "fin split 2\n",
      "fin split 3\n",
      "fin split 4\n"
     ]
    },
    {
     "name": "stderr",
     "output_type": "stream",
     "text": [
      "[I 2025-07-19 09:47:25,611] Trial 454 finished with value: 840.2352335214097 and parameters: {'lambda_l1': 0.0047956016403156365, 'lambda_l2': 8.558313393514376e-05, 'num_leaves': 61, 'feature_fraction': 0.9802830169906287, 'bagging_fraction': 0.9614612200072432, 'bagging_freq': 1, 'min_child_samples': 9}. Best is trial 445 with value: 812.1956452798577.\n"
     ]
    },
    {
     "name": "stdout",
     "output_type": "stream",
     "text": [
      "fin split 0\n",
      "fin split 1\n",
      "fin split 2\n",
      "fin split 3\n",
      "fin split 4\n"
     ]
    },
    {
     "name": "stderr",
     "output_type": "stream",
     "text": [
      "[I 2025-07-19 09:48:57,328] Trial 455 finished with value: 903.1110295263934 and parameters: {'lambda_l1': 0.007199139833551099, 'lambda_l2': 0.00018770022604916648, 'num_leaves': 250, 'feature_fraction': 0.9648190728893606, 'bagging_fraction': 0.9624584912674901, 'bagging_freq': 1, 'min_child_samples': 9}. Best is trial 445 with value: 812.1956452798577.\n"
     ]
    },
    {
     "name": "stdout",
     "output_type": "stream",
     "text": [
      "fin split 0\n",
      "fin split 1\n",
      "fin split 2\n",
      "fin split 3\n",
      "fin split 4\n"
     ]
    },
    {
     "name": "stderr",
     "output_type": "stream",
     "text": [
      "[I 2025-07-19 09:49:25,409] Trial 456 finished with value: 859.274123002815 and parameters: {'lambda_l1': 0.002490884365413591, 'lambda_l2': 6.904889867850402e-05, 'num_leaves': 57, 'feature_fraction': 0.9522411336869199, 'bagging_fraction': 0.9665424919086448, 'bagging_freq': 1, 'min_child_samples': 12}. Best is trial 445 with value: 812.1956452798577.\n"
     ]
    },
    {
     "name": "stdout",
     "output_type": "stream",
     "text": [
      "fin split 0\n",
      "fin split 1\n",
      "fin split 2\n",
      "fin split 3\n",
      "fin split 4\n"
     ]
    },
    {
     "name": "stderr",
     "output_type": "stream",
     "text": [
      "[I 2025-07-19 09:49:51,850] Trial 457 finished with value: 851.7613450454426 and parameters: {'lambda_l1': 0.018400685694657068, 'lambda_l2': 0.00012940689395071026, 'num_leaves': 49, 'feature_fraction': 0.9727106766876993, 'bagging_fraction': 0.9520390057475312, 'bagging_freq': 1, 'min_child_samples': 10}. Best is trial 445 with value: 812.1956452798577.\n"
     ]
    },
    {
     "name": "stdout",
     "output_type": "stream",
     "text": [
      "fin split 0\n",
      "fin split 1\n",
      "fin split 2\n",
      "fin split 3\n",
      "fin split 4\n"
     ]
    },
    {
     "name": "stderr",
     "output_type": "stream",
     "text": [
      "[I 2025-07-19 09:50:14,213] Trial 458 finished with value: 846.5116938795527 and parameters: {'lambda_l1': 0.01112911601332381, 'lambda_l2': 0.0002332618555163512, 'num_leaves': 45, 'feature_fraction': 0.9420717964154129, 'bagging_fraction': 0.8431494796942621, 'bagging_freq': 1, 'min_child_samples': 8}. Best is trial 445 with value: 812.1956452798577.\n"
     ]
    },
    {
     "name": "stdout",
     "output_type": "stream",
     "text": [
      "fin split 0\n",
      "fin split 1\n",
      "fin split 2\n",
      "fin split 3\n",
      "fin split 4\n"
     ]
    },
    {
     "name": "stderr",
     "output_type": "stream",
     "text": [
      "[I 2025-07-19 09:50:46,378] Trial 459 finished with value: 846.3907482938155 and parameters: {'lambda_l1': 0.005447951088558387, 'lambda_l2': 0.00011661397670332842, 'num_leaves': 53, 'feature_fraction': 0.959237886022672, 'bagging_fraction': 0.9422029257386231, 'bagging_freq': 1, 'min_child_samples': 5}. Best is trial 445 with value: 812.1956452798577.\n"
     ]
    },
    {
     "name": "stdout",
     "output_type": "stream",
     "text": [
      "fin split 0\n",
      "fin split 1\n",
      "fin split 2\n",
      "fin split 3\n",
      "fin split 4\n"
     ]
    },
    {
     "name": "stderr",
     "output_type": "stream",
     "text": [
      "[I 2025-07-19 09:51:08,176] Trial 460 finished with value: 837.795352922549 and parameters: {'lambda_l1': 0.026134150147544173, 'lambda_l2': 0.00034817461523951166, 'num_leaves': 41, 'feature_fraction': 0.8560530964093013, 'bagging_fraction': 0.9563586731992145, 'bagging_freq': 1, 'min_child_samples': 12}. Best is trial 445 with value: 812.1956452798577.\n"
     ]
    },
    {
     "name": "stdout",
     "output_type": "stream",
     "text": [
      "fin split 0\n",
      "fin split 1\n",
      "fin split 2\n",
      "fin split 3\n",
      "fin split 4\n"
     ]
    },
    {
     "name": "stderr",
     "output_type": "stream",
     "text": [
      "[I 2025-07-19 09:51:40,861] Trial 461 finished with value: 856.8648020876957 and parameters: {'lambda_l1': 0.0037691260489760795, 'lambda_l2': 0.00017693319225399072, 'num_leaves': 67, 'feature_fraction': 0.932737573374416, 'bagging_fraction': 0.8603644488146561, 'bagging_freq': 2, 'min_child_samples': 7}. Best is trial 445 with value: 812.1956452798577.\n"
     ]
    },
    {
     "name": "stdout",
     "output_type": "stream",
     "text": [
      "fin split 0\n",
      "fin split 1\n",
      "fin split 2\n",
      "fin split 3\n",
      "fin split 4\n"
     ]
    },
    {
     "name": "stderr",
     "output_type": "stream",
     "text": [
      "[I 2025-07-19 09:52:07,014] Trial 462 finished with value: 970.0648350341188 and parameters: {'lambda_l1': 0.01480124971788093, 'lambda_l2': 0.0005085488758694177, 'num_leaves': 48, 'feature_fraction': 0.9894982847101768, 'bagging_fraction': 0.9714067479346588, 'bagging_freq': 1, 'min_child_samples': 70}. Best is trial 445 with value: 812.1956452798577.\n"
     ]
    },
    {
     "name": "stdout",
     "output_type": "stream",
     "text": [
      "fin split 0\n",
      "fin split 1\n",
      "fin split 2\n",
      "fin split 3\n",
      "fin split 4\n"
     ]
    },
    {
     "name": "stderr",
     "output_type": "stream",
     "text": [
      "[I 2025-07-19 09:52:30,536] Trial 463 finished with value: 838.0169984744622 and parameters: {'lambda_l1': 0.009212847263232255, 'lambda_l2': 1.2343753972708298, 'num_leaves': 40, 'feature_fraction': 0.9770354920215104, 'bagging_fraction': 0.9630172029605517, 'bagging_freq': 1, 'min_child_samples': 10}. Best is trial 445 with value: 812.1956452798577.\n"
     ]
    },
    {
     "name": "stdout",
     "output_type": "stream",
     "text": [
      "fin split 0\n",
      "fin split 1\n",
      "fin split 2\n",
      "fin split 3\n",
      "fin split 4\n"
     ]
    },
    {
     "name": "stderr",
     "output_type": "stream",
     "text": [
      "[I 2025-07-19 09:52:53,599] Trial 464 finished with value: 840.6079367894487 and parameters: {'lambda_l1': 0.007485145301411233, 'lambda_l2': 9.982322638367137e-05, 'num_leaves': 44, 'feature_fraction': 0.9078082230662619, 'bagging_fraction': 0.9721558542849383, 'bagging_freq': 1, 'min_child_samples': 8}. Best is trial 445 with value: 812.1956452798577.\n"
     ]
    },
    {
     "name": "stdout",
     "output_type": "stream",
     "text": [
      "fin split 0\n",
      "fin split 1\n",
      "fin split 2\n",
      "fin split 3\n",
      "fin split 4\n"
     ]
    },
    {
     "name": "stderr",
     "output_type": "stream",
     "text": [
      "[I 2025-07-19 09:53:23,534] Trial 465 finished with value: 835.7234283144244 and parameters: {'lambda_l1': 0.036820209212965645, 'lambda_l2': 0.00026869774245618196, 'num_leaves': 59, 'feature_fraction': 0.9555585452549636, 'bagging_fraction': 0.9509135162961119, 'bagging_freq': 1, 'min_child_samples': 5}. Best is trial 445 with value: 812.1956452798577.\n"
     ]
    },
    {
     "name": "stdout",
     "output_type": "stream",
     "text": [
      "fin split 0\n",
      "fin split 1\n",
      "fin split 2\n",
      "fin split 3\n",
      "fin split 4\n"
     ]
    },
    {
     "name": "stderr",
     "output_type": "stream",
     "text": [
      "[I 2025-07-19 09:53:49,041] Trial 466 finished with value: 850.8391142771127 and parameters: {'lambda_l1': 0.012318179957965797, 'lambda_l2': 6.491724167770701e-05, 'num_leaves': 48, 'feature_fraction': 0.9708062801832135, 'bagging_fraction': 0.9630800808071338, 'bagging_freq': 1, 'min_child_samples': 11}. Best is trial 445 with value: 812.1956452798577.\n"
     ]
    },
    {
     "name": "stdout",
     "output_type": "stream",
     "text": [
      "fin split 0\n",
      "fin split 1\n",
      "fin split 2\n",
      "fin split 3\n",
      "fin split 4\n"
     ]
    },
    {
     "name": "stderr",
     "output_type": "stream",
     "text": [
      "[I 2025-07-19 09:54:19,124] Trial 467 finished with value: 820.7581725830926 and parameters: {'lambda_l1': 0.019834415423781795, 'lambda_l2': 0.00018037820959212084, 'num_leaves': 55, 'feature_fraction': 0.997411956549825, 'bagging_fraction': 0.9724361720924346, 'bagging_freq': 2, 'min_child_samples': 7}. Best is trial 445 with value: 812.1956452798577.\n"
     ]
    },
    {
     "name": "stdout",
     "output_type": "stream",
     "text": [
      "fin split 0\n",
      "fin split 1\n",
      "fin split 2\n",
      "fin split 3\n",
      "fin split 4\n"
     ]
    },
    {
     "name": "stderr",
     "output_type": "stream",
     "text": [
      "[I 2025-07-19 09:54:52,933] Trial 468 finished with value: 966.9953333931458 and parameters: {'lambda_l1': 0.02748592558629555, 'lambda_l2': 0.00017123415284220046, 'num_leaves': 62, 'feature_fraction': 0.9972030443451836, 'bagging_fraction': 0.970667809010112, 'bagging_freq': 2, 'min_child_samples': 35}. Best is trial 445 with value: 812.1956452798577.\n"
     ]
    },
    {
     "name": "stdout",
     "output_type": "stream",
     "text": [
      "fin split 0\n",
      "fin split 1\n",
      "fin split 2\n",
      "fin split 3\n",
      "fin split 4\n"
     ]
    },
    {
     "name": "stderr",
     "output_type": "stream",
     "text": [
      "[I 2025-07-19 09:55:21,779] Trial 469 finished with value: 970.5765709640061 and parameters: {'lambda_l1': 0.01730370506638173, 'lambda_l2': 0.0003538881425157665, 'num_leaves': 55, 'feature_fraction': 0.9992420297267666, 'bagging_fraction': 0.957186404466074, 'bagging_freq': 3, 'min_child_samples': 51}. Best is trial 445 with value: 812.1956452798577.\n"
     ]
    },
    {
     "name": "stdout",
     "output_type": "stream",
     "text": [
      "fin split 0\n",
      "fin split 1\n",
      "fin split 2\n",
      "fin split 3\n",
      "fin split 4\n"
     ]
    },
    {
     "name": "stderr",
     "output_type": "stream",
     "text": [
      "[I 2025-07-19 09:56:04,955] Trial 470 finished with value: 901.1479549585804 and parameters: {'lambda_l1': 0.005573028146228285, 'lambda_l2': 3.996296711340002e-05, 'num_leaves': 86, 'feature_fraction': 0.983270664473862, 'bagging_fraction': 0.7294922697039176, 'bagging_freq': 2, 'min_child_samples': 7}. Best is trial 445 with value: 812.1956452798577.\n"
     ]
    },
    {
     "name": "stdout",
     "output_type": "stream",
     "text": [
      "fin split 0\n",
      "fin split 1\n",
      "fin split 2\n",
      "fin split 3\n",
      "fin split 4\n"
     ]
    },
    {
     "name": "stderr",
     "output_type": "stream",
     "text": [
      "[I 2025-07-19 09:56:39,263] Trial 471 finished with value: 841.3923748572804 and parameters: {'lambda_l1': 0.020846847733006227, 'lambda_l2': 0.00021225601682133753, 'num_leaves': 62, 'feature_fraction': 0.985862379317633, 'bagging_fraction': 0.9661784904334614, 'bagging_freq': 1, 'min_child_samples': 5}. Best is trial 445 with value: 812.1956452798577.\n"
     ]
    },
    {
     "name": "stdout",
     "output_type": "stream",
     "text": [
      "fin split 0\n",
      "fin split 1\n",
      "fin split 2\n",
      "fin split 3\n",
      "fin split 4\n"
     ]
    },
    {
     "name": "stderr",
     "output_type": "stream",
     "text": [
      "[I 2025-07-19 09:57:07,275] Trial 472 finished with value: 862.239891116009 and parameters: {'lambda_l1': 0.012460068055392046, 'lambda_l2': 0.00010904389569994045, 'num_leaves': 54, 'feature_fraction': 0.9639791527712713, 'bagging_fraction': 0.9404294902407503, 'bagging_freq': 3, 'min_child_samples': 9}. Best is trial 445 with value: 812.1956452798577.\n"
     ]
    },
    {
     "name": "stdout",
     "output_type": "stream",
     "text": [
      "fin split 0\n",
      "fin split 1\n",
      "fin split 2\n",
      "fin split 3\n",
      "fin split 4\n"
     ]
    },
    {
     "name": "stderr",
     "output_type": "stream",
     "text": [
      "[I 2025-07-19 09:57:33,995] Trial 473 finished with value: 826.2464125584436 and parameters: {'lambda_l1': 0.003418349786000194, 'lambda_l2': 0.00013891976856324838, 'num_leaves': 50, 'feature_fraction': 0.9493797743750265, 'bagging_fraction': 0.9743136172340526, 'bagging_freq': 1, 'min_child_samples': 7}. Best is trial 445 with value: 812.1956452798577.\n"
     ]
    },
    {
     "name": "stdout",
     "output_type": "stream",
     "text": [
      "fin split 0\n",
      "fin split 1\n",
      "fin split 2\n",
      "fin split 3\n",
      "fin split 4\n"
     ]
    },
    {
     "name": "stderr",
     "output_type": "stream",
     "text": [
      "[I 2025-07-19 09:58:02,400] Trial 474 finished with value: 868.5029875565914 and parameters: {'lambda_l1': 0.055569576069047784, 'lambda_l2': 0.00023296547905906714, 'num_leaves': 58, 'feature_fraction': 0.9726754990141716, 'bagging_fraction': 0.9506688331121014, 'bagging_freq': 1, 'min_child_samples': 13}. Best is trial 445 with value: 812.1956452798577.\n"
     ]
    },
    {
     "name": "stdout",
     "output_type": "stream",
     "text": [
      "fin split 0\n",
      "fin split 1\n",
      "fin split 2\n",
      "fin split 3\n",
      "fin split 4\n"
     ]
    },
    {
     "name": "stderr",
     "output_type": "stream",
     "text": [
      "[I 2025-07-19 09:58:28,546] Trial 475 finished with value: 844.7628536245256 and parameters: {'lambda_l1': 0.007345087637585212, 'lambda_l2': 0.0005175472362146963, 'num_leaves': 45, 'feature_fraction': 0.9858379832812928, 'bagging_fraction': 0.9594783850696906, 'bagging_freq': 1, 'min_child_samples': 9}. Best is trial 445 with value: 812.1956452798577.\n"
     ]
    },
    {
     "name": "stdout",
     "output_type": "stream",
     "text": [
      "fin split 0\n",
      "fin split 1\n",
      "fin split 2\n",
      "fin split 3\n",
      "fin split 4\n"
     ]
    },
    {
     "name": "stderr",
     "output_type": "stream",
     "text": [
      "[I 2025-07-19 09:58:56,453] Trial 476 finished with value: 829.9634864357972 and parameters: {'lambda_l1': 0.002058811619710057, 'lambda_l2': 7.71596666363061e-05, 'num_leaves': 51, 'feature_fraction': 0.957222193723927, 'bagging_fraction': 0.974081438376326, 'bagging_freq': 1, 'min_child_samples': 6}. Best is trial 445 with value: 812.1956452798577.\n"
     ]
    },
    {
     "name": "stdout",
     "output_type": "stream",
     "text": [
      "fin split 0\n",
      "fin split 1\n",
      "fin split 2\n",
      "fin split 3\n",
      "fin split 4\n"
     ]
    },
    {
     "name": "stderr",
     "output_type": "stream",
     "text": [
      "[I 2025-07-19 09:59:18,408] Trial 477 finished with value: 847.5447247573694 and parameters: {'lambda_l1': 0.020535952188575773, 'lambda_l2': 0.0003427991688098171, 'num_leaves': 41, 'feature_fraction': 0.9378149642122326, 'bagging_fraction': 0.9658216190937042, 'bagging_freq': 1, 'min_child_samples': 11}. Best is trial 445 with value: 812.1956452798577.\n"
     ]
    },
    {
     "name": "stdout",
     "output_type": "stream",
     "text": [
      "fin split 0\n",
      "fin split 1\n",
      "fin split 2\n",
      "fin split 3\n",
      "fin split 4\n"
     ]
    },
    {
     "name": "stderr",
     "output_type": "stream",
     "text": [
      "[I 2025-07-19 09:59:39,691] Trial 478 finished with value: 871.1914897103386 and parameters: {'lambda_l1': 0.01180366875409559, 'lambda_l2': 0.00018684729580996406, 'num_leaves': 39, 'feature_fraction': 0.9766265654337348, 'bagging_fraction': 0.7685727103102111, 'bagging_freq': 2, 'min_child_samples': 8}. Best is trial 445 with value: 812.1956452798577.\n"
     ]
    },
    {
     "name": "stdout",
     "output_type": "stream",
     "text": [
      "fin split 0\n",
      "fin split 1\n",
      "fin split 2\n",
      "fin split 3\n",
      "fin split 4\n"
     ]
    },
    {
     "name": "stderr",
     "output_type": "stream",
     "text": [
      "[I 2025-07-19 10:00:05,102] Trial 479 finished with value: 840.61862140826 and parameters: {'lambda_l1': 0.005077634089000555, 'lambda_l2': 0.0004670756864222038, 'num_leaves': 46, 'feature_fraction': 0.9956785653324962, 'bagging_fraction': 0.953604115963655, 'bagging_freq': 1, 'min_child_samples': 5}. Best is trial 445 with value: 812.1956452798577.\n"
     ]
    },
    {
     "name": "stdout",
     "output_type": "stream",
     "text": [
      "fin split 0\n",
      "fin split 1\n",
      "fin split 2\n",
      "fin split 3\n",
      "fin split 4\n"
     ]
    },
    {
     "name": "stderr",
     "output_type": "stream",
     "text": [
      "[I 2025-07-19 10:00:32,562] Trial 480 finished with value: 865.6745193127972 and parameters: {'lambda_l1': 0.00898820650363081, 'lambda_l2': 0.0001315281550490634, 'num_leaves': 72, 'feature_fraction': 0.6070017188827809, 'bagging_fraction': 0.972937332281977, 'bagging_freq': 1, 'min_child_samples': 10}. Best is trial 445 with value: 812.1956452798577.\n"
     ]
    },
    {
     "name": "stdout",
     "output_type": "stream",
     "text": [
      "fin split 0\n",
      "fin split 1\n",
      "fin split 2\n",
      "fin split 3\n",
      "fin split 4\n"
     ]
    },
    {
     "name": "stderr",
     "output_type": "stream",
     "text": [
      "[I 2025-07-19 10:01:54,099] Trial 481 finished with value: 922.6244028036729 and parameters: {'lambda_l1': 0.03307198216433558, 'lambda_l2': 0.00028061064558198895, 'num_leaves': 220, 'feature_fraction': 0.9638954981324706, 'bagging_fraction': 0.8184488358079662, 'bagging_freq': 2, 'min_child_samples': 7}. Best is trial 445 with value: 812.1956452798577.\n"
     ]
    },
    {
     "name": "stdout",
     "output_type": "stream",
     "text": [
      "fin split 0\n",
      "fin split 1\n",
      "fin split 2\n",
      "fin split 3\n",
      "fin split 4\n"
     ]
    },
    {
     "name": "stderr",
     "output_type": "stream",
     "text": [
      "[I 2025-07-19 10:02:19,854] Trial 482 finished with value: 845.9890795991478 and parameters: {'lambda_l1': 0.013403988198099435, 'lambda_l2': 0.00010635983355805457, 'num_leaves': 54, 'feature_fraction': 0.924669970361141, 'bagging_fraction': 0.9640316896432516, 'bagging_freq': 1, 'min_child_samples': 13}. Best is trial 445 with value: 812.1956452798577.\n"
     ]
    },
    {
     "name": "stdout",
     "output_type": "stream",
     "text": [
      "fin split 0\n",
      "fin split 1\n",
      "fin split 2\n",
      "fin split 3\n",
      "fin split 4\n"
     ]
    },
    {
     "name": "stderr",
     "output_type": "stream",
     "text": [
      "[I 2025-07-19 10:02:41,574] Trial 483 finished with value: 831.0322759328619 and parameters: {'lambda_l1': 0.020201042648935227, 'lambda_l2': 5.7443325321153776e-05, 'num_leaves': 40, 'feature_fraction': 0.8666502509832316, 'bagging_fraction': 0.976669993213383, 'bagging_freq': 1, 'min_child_samples': 9}. Best is trial 445 with value: 812.1956452798577.\n"
     ]
    },
    {
     "name": "stdout",
     "output_type": "stream",
     "text": [
      "fin split 0\n",
      "fin split 1\n",
      "fin split 2\n",
      "fin split 3\n",
      "fin split 4\n"
     ]
    },
    {
     "name": "stderr",
     "output_type": "stream",
     "text": [
      "[I 2025-07-19 10:03:28,751] Trial 484 finished with value: 908.4242752348104 and parameters: {'lambda_l1': 0.0030864235046745192, 'lambda_l2': 0.00019240479352381805, 'num_leaves': 121, 'feature_fraction': 0.9434879600961649, 'bagging_fraction': 0.8728107730759919, 'bagging_freq': 1, 'min_child_samples': 15}. Best is trial 445 with value: 812.1956452798577.\n"
     ]
    },
    {
     "name": "stdout",
     "output_type": "stream",
     "text": [
      "fin split 0\n",
      "fin split 1\n",
      "fin split 2\n",
      "fin split 3\n",
      "fin split 4\n"
     ]
    },
    {
     "name": "stderr",
     "output_type": "stream",
     "text": [
      "[I 2025-07-19 10:03:55,059] Trial 485 finished with value: 841.637035028658 and parameters: {'lambda_l1': 0.006341699078276441, 'lambda_l2': 2.8859781282567575e-05, 'num_leaves': 50, 'feature_fraction': 0.9803827509036566, 'bagging_fraction': 0.9448092969729148, 'bagging_freq': 1, 'min_child_samples': 7}. Best is trial 445 with value: 812.1956452798577.\n"
     ]
    },
    {
     "name": "stdout",
     "output_type": "stream",
     "text": [
      "fin split 0\n",
      "fin split 1\n",
      "fin split 2\n",
      "fin split 3\n",
      "fin split 4\n"
     ]
    },
    {
     "name": "stderr",
     "output_type": "stream",
     "text": [
      "[I 2025-07-19 10:04:20,090] Trial 486 finished with value: 865.2604784354666 and parameters: {'lambda_l1': 0.009372016377656172, 'lambda_l2': 0.00040125956313697607, 'num_leaves': 44, 'feature_fraction': 0.9617183593682578, 'bagging_fraction': 0.959261517892566, 'bagging_freq': 1, 'min_child_samples': 11}. Best is trial 445 with value: 812.1956452798577.\n"
     ]
    },
    {
     "name": "stdout",
     "output_type": "stream",
     "text": [
      "fin split 0\n",
      "fin split 1\n",
      "fin split 2\n",
      "fin split 3\n",
      "fin split 4\n"
     ]
    },
    {
     "name": "stderr",
     "output_type": "stream",
     "text": [
      "[I 2025-07-19 10:04:43,926] Trial 487 finished with value: 855.0848620982222 and parameters: {'lambda_l1': 0.01706364658035292, 'lambda_l2': 0.0002682496978375662, 'num_leaves': 38, 'feature_fraction': 0.9758898583404716, 'bagging_fraction': 0.9353103275790972, 'bagging_freq': 3, 'min_child_samples': 5}. Best is trial 445 with value: 812.1956452798577.\n"
     ]
    },
    {
     "name": "stdout",
     "output_type": "stream",
     "text": [
      "fin split 0\n",
      "fin split 1\n",
      "fin split 2\n",
      "fin split 3\n",
      "fin split 4\n"
     ]
    },
    {
     "name": "stderr",
     "output_type": "stream",
     "text": [
      "[I 2025-07-19 10:05:16,219] Trial 488 finished with value: 867.3576875916859 and parameters: {'lambda_l1': 0.004332080484661634, 'lambda_l2': 0.0005709547652751909, 'num_leaves': 63, 'feature_fraction': 0.9994930130103032, 'bagging_fraction': 0.9259505158401908, 'bagging_freq': 1, 'min_child_samples': 9}. Best is trial 445 with value: 812.1956452798577.\n"
     ]
    },
    {
     "name": "stdout",
     "output_type": "stream",
     "text": [
      "fin split 0\n",
      "fin split 1\n",
      "fin split 2\n",
      "fin split 3\n",
      "fin split 4\n"
     ]
    },
    {
     "name": "stderr",
     "output_type": "stream",
     "text": [
      "[I 2025-07-19 10:05:47,074] Trial 489 finished with value: 823.0713266806458 and parameters: {'lambda_l1': 0.029424526022914142, 'lambda_l2': 0.00015355842707264985, 'num_leaves': 55, 'feature_fraction': 0.9521788589868546, 'bagging_fraction': 0.9708238673362395, 'bagging_freq': 1, 'min_child_samples': 7}. Best is trial 445 with value: 812.1956452798577.\n"
     ]
    },
    {
     "name": "stdout",
     "output_type": "stream",
     "text": [
      "fin split 0\n",
      "fin split 1\n",
      "fin split 2\n",
      "fin split 3\n",
      "fin split 4\n"
     ]
    },
    {
     "name": "stderr",
     "output_type": "stream",
     "text": [
      "[I 2025-07-19 10:06:16,233] Trial 490 finished with value: 917.5202356459301 and parameters: {'lambda_l1': 0.05992543001305296, 'lambda_l2': 9.375972889916961e-05, 'num_leaves': 59, 'feature_fraction': 0.9490015549488947, 'bagging_fraction': 0.9679431983909588, 'bagging_freq': 1, 'min_child_samples': 21}. Best is trial 445 with value: 812.1956452798577.\n"
     ]
    },
    {
     "name": "stdout",
     "output_type": "stream",
     "text": [
      "fin split 0\n",
      "fin split 1\n",
      "fin split 2\n",
      "fin split 3\n",
      "fin split 4\n"
     ]
    },
    {
     "name": "stderr",
     "output_type": "stream",
     "text": [
      "[I 2025-07-19 10:06:50,015] Trial 491 finished with value: 849.7423299491903 and parameters: {'lambda_l1': 0.03483133870417982, 'lambda_l2': 4.8519834885666786e-05, 'num_leaves': 68, 'feature_fraction': 0.966907354782477, 'bagging_fraction': 0.9512688222519502, 'bagging_freq': 1, 'min_child_samples': 5}. Best is trial 445 with value: 812.1956452798577.\n"
     ]
    },
    {
     "name": "stdout",
     "output_type": "stream",
     "text": [
      "fin split 0\n",
      "fin split 1\n",
      "fin split 2\n",
      "fin split 3\n",
      "fin split 4\n"
     ]
    },
    {
     "name": "stderr",
     "output_type": "stream",
     "text": [
      "[I 2025-07-19 10:07:17,760] Trial 492 finished with value: 817.9523450089662 and parameters: {'lambda_l1': 0.023866454795051343, 'lambda_l2': 0.00014015045644662487, 'num_leaves': 56, 'feature_fraction': 0.9350769736745018, 'bagging_fraction': 0.9589605934705574, 'bagging_freq': 1, 'min_child_samples': 7}. Best is trial 445 with value: 812.1956452798577.\n"
     ]
    },
    {
     "name": "stdout",
     "output_type": "stream",
     "text": [
      "fin split 0\n",
      "fin split 1\n",
      "fin split 2\n",
      "fin split 3\n",
      "fin split 4\n"
     ]
    },
    {
     "name": "stderr",
     "output_type": "stream",
     "text": [
      "[I 2025-07-19 10:07:47,604] Trial 493 finished with value: 840.4395635221105 and parameters: {'lambda_l1': 0.043587325651428796, 'lambda_l2': 0.0002933891627071894, 'num_leaves': 57, 'feature_fraction': 0.9361443598710599, 'bagging_fraction': 0.9574001818991138, 'bagging_freq': 1, 'min_child_samples': 7}. Best is trial 445 with value: 812.1956452798577.\n"
     ]
    },
    {
     "name": "stdout",
     "output_type": "stream",
     "text": [
      "fin split 0\n",
      "fin split 1\n",
      "fin split 2\n",
      "fin split 3\n",
      "fin split 4\n"
     ]
    },
    {
     "name": "stderr",
     "output_type": "stream",
     "text": [
      "[I 2025-07-19 10:08:17,870] Trial 494 finished with value: 861.5643969029353 and parameters: {'lambda_l1': 0.03196279216491819, 'lambda_l2': 8.324780379447199e-05, 'num_leaves': 59, 'feature_fraction': 0.9299681109175606, 'bagging_fraction': 0.9448599413131513, 'bagging_freq': 1, 'min_child_samples': 11}. Best is trial 445 with value: 812.1956452798577.\n"
     ]
    },
    {
     "name": "stdout",
     "output_type": "stream",
     "text": [
      "fin split 0\n",
      "fin split 1\n",
      "fin split 2\n",
      "fin split 3\n",
      "fin split 4\n"
     ]
    },
    {
     "name": "stderr",
     "output_type": "stream",
     "text": [
      "[I 2025-07-19 10:08:44,882] Trial 495 finished with value: 837.7715272986868 and parameters: {'lambda_l1': 0.02023780901881287, 'lambda_l2': 0.00015296931059704052, 'num_leaves': 54, 'feature_fraction': 0.9476033077188432, 'bagging_fraction': 0.9592448416380377, 'bagging_freq': 1, 'min_child_samples': 8}. Best is trial 445 with value: 812.1956452798577.\n"
     ]
    },
    {
     "name": "stdout",
     "output_type": "stream",
     "text": [
      "fin split 0\n",
      "fin split 1\n",
      "fin split 2\n",
      "fin split 3\n",
      "fin split 4\n"
     ]
    },
    {
     "name": "stderr",
     "output_type": "stream",
     "text": [
      "[I 2025-07-19 10:09:17,146] Trial 496 finished with value: 847.2218939958332 and parameters: {'lambda_l1': 0.07087074008764233, 'lambda_l2': 0.0005927676271622588, 'num_leaves': 64, 'feature_fraction': 0.9194764257093514, 'bagging_fraction': 0.9642721295605514, 'bagging_freq': 1, 'min_child_samples': 7}. Best is trial 445 with value: 812.1956452798577.\n"
     ]
    },
    {
     "name": "stdout",
     "output_type": "stream",
     "text": [
      "fin split 0\n",
      "fin split 1\n",
      "fin split 2\n",
      "fin split 3\n",
      "fin split 4\n"
     ]
    },
    {
     "name": "stderr",
     "output_type": "stream",
     "text": [
      "[I 2025-07-19 10:09:45,072] Trial 497 finished with value: 851.6113032679091 and parameters: {'lambda_l1': 0.02801556187037482, 'lambda_l2': 0.0002376131211558257, 'num_leaves': 56, 'feature_fraction': 0.9541245626725935, 'bagging_fraction': 0.9509147910975377, 'bagging_freq': 1, 'min_child_samples': 10}. Best is trial 445 with value: 812.1956452798577.\n"
     ]
    },
    {
     "name": "stdout",
     "output_type": "stream",
     "text": [
      "fin split 0\n",
      "fin split 1\n",
      "fin split 2\n",
      "fin split 3\n",
      "fin split 4\n"
     ]
    },
    {
     "name": "stderr",
     "output_type": "stream",
     "text": [
      "[I 2025-07-19 10:10:10,604] Trial 498 finished with value: 854.5029791998278 and parameters: {'lambda_l1': 0.0077936358647159795, 'lambda_l2': 0.00040619075805798917, 'num_leaves': 50, 'feature_fraction': 0.9371403174476018, 'bagging_fraction': 0.9793728576418083, 'bagging_freq': 1, 'min_child_samples': 12}. Best is trial 445 with value: 812.1956452798577.\n"
     ]
    },
    {
     "name": "stdout",
     "output_type": "stream",
     "text": [
      "fin split 0\n",
      "fin split 1\n",
      "fin split 2\n",
      "fin split 3\n",
      "fin split 4\n"
     ]
    },
    {
     "name": "stderr",
     "output_type": "stream",
     "text": [
      "[I 2025-07-19 10:10:42,484] Trial 499 finished with value: 906.7426101070373 and parameters: {'lambda_l1': 0.024951211124312752, 'lambda_l2': 0.0001214750286546617, 'num_leaves': 63, 'feature_fraction': 0.9538228902617097, 'bagging_fraction': 0.9301168551114463, 'bagging_freq': 1, 'min_child_samples': 18}. Best is trial 445 with value: 812.1956452798577.\n"
     ]
    },
    {
     "name": "stdout",
     "output_type": "stream",
     "text": [
      "fin split 0\n",
      "fin split 1\n",
      "fin split 2\n",
      "fin split 3\n",
      "fin split 4\n"
     ]
    },
    {
     "name": "stderr",
     "output_type": "stream",
     "text": [
      "[I 2025-07-19 10:11:09,074] Trial 500 finished with value: 839.4714207971243 and parameters: {'lambda_l1': 0.015257128938637942, 'lambda_l2': 0.022312780283935955, 'num_leaves': 50, 'feature_fraction': 0.9631088788568224, 'bagging_fraction': 0.9675570401409759, 'bagging_freq': 1, 'min_child_samples': 5}. Best is trial 445 with value: 812.1956452798577.\n"
     ]
    },
    {
     "name": "stdout",
     "output_type": "stream",
     "text": [
      "fin split 0\n",
      "fin split 1\n",
      "fin split 2\n",
      "fin split 3\n",
      "fin split 4\n"
     ]
    },
    {
     "name": "stderr",
     "output_type": "stream",
     "text": [
      "[I 2025-07-19 10:11:39,545] Trial 501 finished with value: 837.6013680408787 and parameters: {'lambda_l1': 0.043639124514155615, 'lambda_l2': 5.880446503443537e-05, 'num_leaves': 57, 'feature_fraction': 0.9122545643894856, 'bagging_fraction': 0.9548801608339568, 'bagging_freq': 1, 'min_child_samples': 8}. Best is trial 445 with value: 812.1956452798577.\n"
     ]
    },
    {
     "name": "stdout",
     "output_type": "stream",
     "text": [
      "fin split 0\n",
      "fin split 1\n",
      "fin split 2\n",
      "fin split 3\n",
      "fin split 4\n"
     ]
    },
    {
     "name": "stderr",
     "output_type": "stream",
     "text": [
      "[I 2025-07-19 10:12:12,617] Trial 502 finished with value: 897.3186694429776 and parameters: {'lambda_l1': 0.010652043097509821, 'lambda_l2': 0.00024843109773008766, 'num_leaves': 70, 'feature_fraction': 0.9859278822543326, 'bagging_fraction': 0.9799262666100101, 'bagging_freq': 1, 'min_child_samples': 14}. Best is trial 445 with value: 812.1956452798577.\n"
     ]
    },
    {
     "name": "stdout",
     "output_type": "stream",
     "text": [
      "fin split 0\n",
      "fin split 1\n",
      "fin split 2\n",
      "fin split 3\n",
      "fin split 4\n"
     ]
    },
    {
     "name": "stderr",
     "output_type": "stream",
     "text": [
      "[I 2025-07-19 10:12:48,778] Trial 503 finished with value: 857.2834512103445 and parameters: {'lambda_l1': 0.10074341820708868, 'lambda_l2': 0.00035182155228591377, 'num_leaves': 76, 'feature_fraction': 0.9312030374451933, 'bagging_fraction': 0.9425532391843742, 'bagging_freq': 1, 'min_child_samples': 9}. Best is trial 445 with value: 812.1956452798577.\n"
     ]
    },
    {
     "name": "stdout",
     "output_type": "stream",
     "text": [
      "fin split 0\n",
      "fin split 1\n",
      "fin split 2\n",
      "fin split 3\n",
      "fin split 4\n"
     ]
    },
    {
     "name": "stderr",
     "output_type": "stream",
     "text": [
      "[I 2025-07-19 10:13:21,555] Trial 504 finished with value: 834.5370606470105 and parameters: {'lambda_l1': 0.005849259415331115, 'lambda_l2': 9.525684629049828e-05, 'num_leaves': 54, 'feature_fraction': 0.943652483639081, 'bagging_fraction': 0.9646112441335158, 'bagging_freq': 1, 'min_child_samples': 7}. Best is trial 445 with value: 812.1956452798577.\n"
     ]
    },
    {
     "name": "stdout",
     "output_type": "stream",
     "text": [
      "fin split 0\n",
      "fin split 1\n",
      "fin split 2\n",
      "fin split 3\n",
      "fin split 4\n"
     ]
    },
    {
     "name": "stderr",
     "output_type": "stream",
     "text": [
      "[I 2025-07-19 10:14:28,948] Trial 505 finished with value: 895.7926099665963 and parameters: {'lambda_l1': 0.015613584311988029, 'lambda_l2': 0.000574141436795412, 'num_leaves': 160, 'feature_fraction': 0.963008141161864, 'bagging_fraction': 0.9761632872079287, 'bagging_freq': 1, 'min_child_samples': 10}. Best is trial 445 with value: 812.1956452798577.\n"
     ]
    },
    {
     "name": "stdout",
     "output_type": "stream",
     "text": [
      "fin split 0\n",
      "fin split 1\n",
      "fin split 2\n",
      "fin split 3\n",
      "fin split 4\n"
     ]
    },
    {
     "name": "stderr",
     "output_type": "stream",
     "text": [
      "[I 2025-07-19 10:15:34,151] Trial 506 finished with value: 848.4690355709704 and parameters: {'lambda_l1': 0.0027372210459434745, 'lambda_l2': 0.0001616438420663575, 'num_leaves': 138, 'feature_fraction': 0.9870175393272235, 'bagging_fraction': 0.9613603884843333, 'bagging_freq': 1, 'min_child_samples': 5}. Best is trial 445 with value: 812.1956452798577.\n"
     ]
    },
    {
     "name": "stdout",
     "output_type": "stream",
     "text": [
      "fin split 0\n",
      "fin split 1\n",
      "fin split 2\n",
      "fin split 3\n",
      "fin split 4\n"
     ]
    },
    {
     "name": "stderr",
     "output_type": "stream",
     "text": [
      "[I 2025-07-19 10:16:56,702] Trial 507 finished with value: 927.312848573166 and parameters: {'lambda_l1': 0.008191715877030256, 'lambda_l2': 0.00020240812588880514, 'num_leaves': 232, 'feature_fraction': 0.9743698213692913, 'bagging_fraction': 0.9515907783585069, 'bagging_freq': 1, 'min_child_samples': 12}. Best is trial 445 with value: 812.1956452798577.\n"
     ]
    },
    {
     "name": "stdout",
     "output_type": "stream",
     "text": [
      "fin split 0\n",
      "fin split 1\n",
      "fin split 2\n",
      "fin split 3\n",
      "fin split 4\n"
     ]
    },
    {
     "name": "stderr",
     "output_type": "stream",
     "text": [
      "[I 2025-07-19 10:18:14,490] Trial 508 finished with value: 884.3759908700231 and parameters: {'lambda_l1': 0.025404146217483395, 'lambda_l2': 0.00035934110423359945, 'num_leaves': 199, 'feature_fraction': 0.9497292548063843, 'bagging_fraction': 0.9711756941018963, 'bagging_freq': 1, 'min_child_samples': 7}. Best is trial 445 with value: 812.1956452798577.\n"
     ]
    },
    {
     "name": "stdout",
     "output_type": "stream",
     "text": [
      "fin split 0\n",
      "fin split 1\n",
      "fin split 2\n",
      "fin split 3\n",
      "fin split 4\n"
     ]
    },
    {
     "name": "stderr",
     "output_type": "stream",
     "text": [
      "[I 2025-07-19 10:18:39,924] Trial 509 finished with value: 834.6938818319811 and parameters: {'lambda_l1': 9.648348998070121e-08, 'lambda_l2': 0.00013232629047904936, 'num_leaves': 46, 'feature_fraction': 0.9660983321750765, 'bagging_fraction': 0.981812582194021, 'bagging_freq': 1, 'min_child_samples': 9}. Best is trial 445 with value: 812.1956452798577.\n"
     ]
    },
    {
     "name": "stdout",
     "output_type": "stream",
     "text": [
      "fin split 0\n",
      "fin split 1\n",
      "fin split 2\n",
      "fin split 3\n",
      "fin split 4\n"
     ]
    },
    {
     "name": "stderr",
     "output_type": "stream",
     "text": [
      "[I 2025-07-19 10:19:07,551] Trial 510 finished with value: 838.4322458122846 and parameters: {'lambda_l1': 0.004755904267078848, 'lambda_l2': 0.0007191498392092678, 'num_leaves': 52, 'feature_fraction': 0.9574882210143597, 'bagging_fraction': 0.9600945132669892, 'bagging_freq': 1, 'min_child_samples': 7}. Best is trial 445 with value: 812.1956452798577.\n"
     ]
    },
    {
     "name": "stdout",
     "output_type": "stream",
     "text": [
      "fin split 0\n",
      "fin split 1\n",
      "fin split 2\n",
      "fin split 3\n",
      "fin split 4\n"
     ]
    },
    {
     "name": "stderr",
     "output_type": "stream",
     "text": [
      "[I 2025-07-19 10:19:32,811] Trial 511 finished with value: 844.4312937880031 and parameters: {'lambda_l1': 0.009712547526765248, 'lambda_l2': 8.555451532792329e-05, 'num_leaves': 47, 'feature_fraction': 0.9859375981580567, 'bagging_fraction': 0.9704261167717371, 'bagging_freq': 1, 'min_child_samples': 11}. Best is trial 445 with value: 812.1956452798577.\n"
     ]
    },
    {
     "name": "stdout",
     "output_type": "stream",
     "text": [
      "fin split 0\n",
      "fin split 1\n",
      "fin split 2\n",
      "fin split 3\n",
      "fin split 4\n"
     ]
    },
    {
     "name": "stderr",
     "output_type": "stream",
     "text": [
      "[I 2025-07-19 10:20:07,622] Trial 512 finished with value: 834.0871481894599 and parameters: {'lambda_l1': 0.01426692673937384, 'lambda_l2': 0.00028496656588515183, 'num_leaves': 65, 'feature_fraction': 0.9729289092751454, 'bagging_fraction': 0.9776412583825175, 'bagging_freq': 1, 'min_child_samples': 5}. Best is trial 445 with value: 812.1956452798577.\n"
     ]
    },
    {
     "name": "stdout",
     "output_type": "stream",
     "text": [
      "fin split 0\n",
      "fin split 1\n",
      "fin split 2\n",
      "fin split 3\n",
      "fin split 4\n"
     ]
    },
    {
     "name": "stderr",
     "output_type": "stream",
     "text": [
      "[I 2025-07-19 10:20:39,264] Trial 513 finished with value: 828.603612764512 and parameters: {'lambda_l1': 0.02126352917398144, 'lambda_l2': 0.00019885292001989367, 'num_leaves': 60, 'feature_fraction': 0.9234100557378968, 'bagging_fraction': 0.9490235138143843, 'bagging_freq': 1, 'min_child_samples': 9}. Best is trial 445 with value: 812.1956452798577.\n"
     ]
    },
    {
     "name": "stdout",
     "output_type": "stream",
     "text": [
      "fin split 0\n",
      "fin split 1\n",
      "fin split 2\n",
      "fin split 3\n",
      "fin split 4\n"
     ]
    },
    {
     "name": "stderr",
     "output_type": "stream",
     "text": [
      "[I 2025-07-19 10:21:03,850] Trial 514 finished with value: 869.6069149106379 and parameters: {'lambda_l1': 0.04667512684950438, 'lambda_l2': 0.04174073109143191, 'num_leaves': 44, 'feature_fraction': 0.9369416694283147, 'bagging_fraction': 0.9681840546464667, 'bagging_freq': 1, 'min_child_samples': 14}. Best is trial 445 with value: 812.1956452798577.\n"
     ]
    },
    {
     "name": "stdout",
     "output_type": "stream",
     "text": [
      "fin split 0\n",
      "fin split 1\n",
      "fin split 2\n",
      "fin split 3\n",
      "fin split 4\n"
     ]
    },
    {
     "name": "stderr",
     "output_type": "stream",
     "text": [
      "[I 2025-07-19 10:21:32,105] Trial 515 finished with value: 825.6241124627076 and parameters: {'lambda_l1': 0.006024892435168973, 'lambda_l2': 0.0004570416070442261, 'num_leaves': 50, 'feature_fraction': 0.9491520024481368, 'bagging_fraction': 0.9572607741878827, 'bagging_freq': 1, 'min_child_samples': 7}. Best is trial 445 with value: 812.1956452798577.\n"
     ]
    },
    {
     "name": "stdout",
     "output_type": "stream",
     "text": [
      "fin split 0\n",
      "fin split 1\n",
      "fin split 2\n",
      "fin split 3\n",
      "fin split 4\n"
     ]
    },
    {
     "name": "stderr",
     "output_type": "stream",
     "text": [
      "[I 2025-07-19 10:21:58,803] Trial 516 finished with value: 847.0750505311056 and parameters: {'lambda_l1': 0.012509258904769184, 'lambda_l2': 0.00012038640978149995, 'num_leaves': 53, 'feature_fraction': 0.9919096900512765, 'bagging_fraction': 0.9822184318203299, 'bagging_freq': 1, 'min_child_samples': 12}. Best is trial 445 with value: 812.1956452798577.\n"
     ]
    },
    {
     "name": "stdout",
     "output_type": "stream",
     "text": [
      "fin split 0\n",
      "fin split 1\n",
      "fin split 2\n",
      "fin split 3\n",
      "fin split 4\n"
     ]
    },
    {
     "name": "stderr",
     "output_type": "stream",
     "text": [
      "[I 2025-07-19 10:22:24,881] Trial 517 finished with value: 852.6167445607011 and parameters: {'lambda_l1': 0.0033829368123385354, 'lambda_l2': 4.31753580821196e-05, 'num_leaves': 45, 'feature_fraction': 0.9997394748870764, 'bagging_fraction': 0.9662818331935233, 'bagging_freq': 1, 'min_child_samples': 10}. Best is trial 445 with value: 812.1956452798577.\n"
     ]
    },
    {
     "name": "stdout",
     "output_type": "stream",
     "text": [
      "fin split 0\n",
      "fin split 1\n",
      "fin split 2\n",
      "fin split 3\n",
      "fin split 4\n"
     ]
    },
    {
     "name": "stderr",
     "output_type": "stream",
     "text": [
      "[I 2025-07-19 10:22:45,427] Trial 518 finished with value: 835.7081357430118 and parameters: {'lambda_l1': 0.008015623958844004, 'lambda_l2': 0.00022176538320111127, 'num_leaves': 36, 'feature_fraction': 0.9754187276575262, 'bagging_fraction': 0.9743248073722193, 'bagging_freq': 1, 'min_child_samples': 5}. Best is trial 445 with value: 812.1956452798577.\n"
     ]
    },
    {
     "name": "stdout",
     "output_type": "stream",
     "text": [
      "fin split 0\n",
      "fin split 1\n",
      "fin split 2\n",
      "fin split 3\n",
      "fin split 4\n"
     ]
    },
    {
     "name": "stderr",
     "output_type": "stream",
     "text": [
      "[I 2025-07-19 10:23:08,726] Trial 519 finished with value: 840.6200537765458 and parameters: {'lambda_l1': 0.02221929338485011, 'lambda_l2': 7.72293589583761e-05, 'num_leaves': 41, 'feature_fraction': 0.9528101642296981, 'bagging_fraction': 0.9395096659580718, 'bagging_freq': 1, 'min_child_samples': 8}. Best is trial 445 with value: 812.1956452798577.\n"
     ]
    },
    {
     "name": "stdout",
     "output_type": "stream",
     "text": [
      "fin split 0\n",
      "fin split 1\n",
      "fin split 2\n",
      "fin split 3\n",
      "fin split 4\n"
     ]
    },
    {
     "name": "stderr",
     "output_type": "stream",
     "text": [
      "[I 2025-07-19 10:23:38,089] Trial 520 finished with value: 823.820877462421 and parameters: {'lambda_l1': 0.004317420845398031, 'lambda_l2': 0.00032485983685911, 'num_leaves': 56, 'feature_fraction': 0.9649328034656482, 'bagging_fraction': 0.9849586263486997, 'bagging_freq': 1, 'min_child_samples': 7}. Best is trial 445 with value: 812.1956452798577.\n"
     ]
    },
    {
     "name": "stdout",
     "output_type": "stream",
     "text": [
      "fin split 0\n",
      "fin split 1\n",
      "fin split 2\n",
      "fin split 3\n",
      "fin split 4\n"
     ]
    },
    {
     "name": "stderr",
     "output_type": "stream",
     "text": [
      "[I 2025-07-19 10:23:59,588] Trial 521 finished with value: 862.855154753331 and parameters: {'lambda_l1': 0.004679621522402879, 'lambda_l2': 0.0001671088980883035, 'num_leaves': 58, 'feature_fraction': 0.5762993940008598, 'bagging_fraction': 0.9844168796302694, 'bagging_freq': 1, 'min_child_samples': 6}. Best is trial 445 with value: 812.1956452798577.\n"
     ]
    },
    {
     "name": "stdout",
     "output_type": "stream",
     "text": [
      "fin split 0\n",
      "fin split 1\n",
      "fin split 2\n",
      "fin split 3\n",
      "fin split 4\n"
     ]
    },
    {
     "name": "stderr",
     "output_type": "stream",
     "text": [
      "[I 2025-07-19 10:24:31,362] Trial 522 finished with value: 838.944607897853 and parameters: {'lambda_l1': 0.0019247222964594549, 'lambda_l2': 0.0007558932600111858, 'num_leaves': 63, 'feature_fraction': 0.9609074406414649, 'bagging_fraction': 0.9881095572357964, 'bagging_freq': 1, 'min_child_samples': 7}. Best is trial 445 with value: 812.1956452798577.\n"
     ]
    },
    {
     "name": "stdout",
     "output_type": "stream",
     "text": [
      "fin split 0\n",
      "fin split 1\n",
      "fin split 2\n",
      "fin split 3\n",
      "fin split 4\n"
     ]
    },
    {
     "name": "stderr",
     "output_type": "stream",
     "text": [
      "[I 2025-07-19 10:25:00,106] Trial 523 finished with value: 835.2746830541364 and parameters: {'lambda_l1': 0.004395155525880731, 'lambda_l2': 0.0003105300602968428, 'num_leaves': 56, 'feature_fraction': 0.9826024303911309, 'bagging_fraction': 0.9867547021870259, 'bagging_freq': 1, 'min_child_samples': 5}. Best is trial 445 with value: 812.1956452798577.\n"
     ]
    },
    {
     "name": "stdout",
     "output_type": "stream",
     "text": [
      "fin split 0\n",
      "fin split 1\n",
      "fin split 2\n",
      "fin split 3\n",
      "fin split 4\n"
     ]
    },
    {
     "name": "stderr",
     "output_type": "stream",
     "text": [
      "[I 2025-07-19 10:25:26,870] Trial 524 finished with value: 829.7334952107105 and parameters: {'lambda_l1': 0.006856847687793352, 'lambda_l2': 0.00012434952364182535, 'num_leaves': 50, 'feature_fraction': 0.9408656089794154, 'bagging_fraction': 0.9817310063536897, 'bagging_freq': 1, 'min_child_samples': 8}. Best is trial 445 with value: 812.1956452798577.\n"
     ]
    },
    {
     "name": "stdout",
     "output_type": "stream",
     "text": [
      "fin split 0\n",
      "fin split 1\n",
      "fin split 2\n",
      "fin split 3\n",
      "fin split 4\n"
     ]
    },
    {
     "name": "stderr",
     "output_type": "stream",
     "text": [
      "[I 2025-07-19 10:25:59,999] Trial 525 finished with value: 844.2196082264355 and parameters: {'lambda_l1': 0.0027595450577974634, 'lambda_l2': 0.00022832429471272242, 'num_leaves': 62, 'feature_fraction': 0.9693868898050043, 'bagging_fraction': 0.9993694792451476, 'bagging_freq': 1, 'min_child_samples': 7}. Best is trial 445 with value: 812.1956452798577.\n"
     ]
    },
    {
     "name": "stdout",
     "output_type": "stream",
     "text": [
      "fin split 0\n",
      "fin split 1\n",
      "fin split 2\n",
      "fin split 3\n",
      "fin split 4\n"
     ]
    },
    {
     "name": "stderr",
     "output_type": "stream",
     "text": [
      "[I 2025-07-19 10:26:30,239] Trial 526 finished with value: 824.3464764947635 and parameters: {'lambda_l1': 0.01085086536145338, 'lambda_l2': 0.0004682284970357846, 'num_leaves': 55, 'feature_fraction': 0.9595572885368732, 'bagging_fraction': 0.9905399239769578, 'bagging_freq': 1, 'min_child_samples': 9}. Best is trial 445 with value: 812.1956452798577.\n"
     ]
    },
    {
     "name": "stdout",
     "output_type": "stream",
     "text": [
      "fin split 0\n",
      "fin split 1\n",
      "fin split 2\n",
      "fin split 3\n",
      "fin split 4\n"
     ]
    },
    {
     "name": "stderr",
     "output_type": "stream",
     "text": [
      "[I 2025-07-19 10:27:03,272] Trial 527 finished with value: 869.8076229447051 and parameters: {'lambda_l1': 0.03774336287622112, 'lambda_l2': 0.0005360803750508483, 'num_leaves': 67, 'feature_fraction': 0.9574023372942632, 'bagging_fraction': 0.9883808104173011, 'bagging_freq': 1, 'min_child_samples': 10}. Best is trial 445 with value: 812.1956452798577.\n"
     ]
    },
    {
     "name": "stdout",
     "output_type": "stream",
     "text": [
      "fin split 0\n",
      "fin split 1\n",
      "fin split 2\n",
      "fin split 3\n",
      "fin split 4\n"
     ]
    },
    {
     "name": "stderr",
     "output_type": "stream",
     "text": [
      "[I 2025-07-19 10:27:33,134] Trial 528 finished with value: 843.260114188352 and parameters: {'lambda_l1': 0.014195362808029828, 'lambda_l2': 0.0005340653166555653, 'num_leaves': 57, 'feature_fraction': 0.91202257508193, 'bagging_fraction': 0.9889038096198823, 'bagging_freq': 1, 'min_child_samples': 9}. Best is trial 445 with value: 812.1956452798577.\n"
     ]
    },
    {
     "name": "stdout",
     "output_type": "stream",
     "text": [
      "fin split 0\n",
      "fin split 1\n",
      "fin split 2\n",
      "fin split 3\n",
      "fin split 4\n"
     ]
    },
    {
     "name": "stderr",
     "output_type": "stream",
     "text": [
      "[I 2025-07-19 10:28:02,859] Trial 529 finished with value: 861.9496029030373 and parameters: {'lambda_l1': 0.0038088244737261574, 'lambda_l2': 0.0008490397396170418, 'num_leaves': 60, 'feature_fraction': 0.9394855968432233, 'bagging_fraction': 0.9947955807219856, 'bagging_freq': 1, 'min_child_samples': 11}. Best is trial 445 with value: 812.1956452798577.\n"
     ]
    },
    {
     "name": "stdout",
     "output_type": "stream",
     "text": [
      "fin split 0\n",
      "fin split 1\n",
      "fin split 2\n",
      "fin split 3\n",
      "fin split 4\n"
     ]
    },
    {
     "name": "stderr",
     "output_type": "stream",
     "text": [
      "[I 2025-07-19 10:28:29,212] Trial 530 finished with value: 832.7998603325113 and parameters: {'lambda_l1': 0.020014073698478987, 'lambda_l2': 0.0003334137559782371, 'num_leaves': 54, 'feature_fraction': 0.9481233144038309, 'bagging_fraction': 0.9936448941931987, 'bagging_freq': 1, 'min_child_samples': 9}. Best is trial 445 with value: 812.1956452798577.\n"
     ]
    },
    {
     "name": "stdout",
     "output_type": "stream",
     "text": [
      "fin split 0\n",
      "fin split 1\n",
      "fin split 2\n",
      "fin split 3\n",
      "fin split 4\n"
     ]
    },
    {
     "name": "stderr",
     "output_type": "stream",
     "text": [
      "[I 2025-07-19 10:28:54,822] Trial 531 finished with value: 877.1652536744574 and parameters: {'lambda_l1': 1.483437288253474, 'lambda_l2': 0.0008474362013758869, 'num_leaves': 53, 'feature_fraction': 0.9654765462953794, 'bagging_fraction': 0.9807335730823064, 'bagging_freq': 1, 'min_child_samples': 13}. Best is trial 445 with value: 812.1956452798577.\n"
     ]
    },
    {
     "name": "stdout",
     "output_type": "stream",
     "text": [
      "fin split 0\n",
      "fin split 1\n",
      "fin split 2\n",
      "fin split 3\n",
      "fin split 4\n"
     ]
    },
    {
     "name": "stderr",
     "output_type": "stream",
     "text": [
      "[I 2025-07-19 10:29:21,485] Trial 532 finished with value: 836.8926286827018 and parameters: {'lambda_l1': 4.568958554802488, 'lambda_l2': 0.0004463719570988775, 'num_leaves': 46, 'feature_fraction': 0.9252066656320445, 'bagging_fraction': 0.9787021385542717, 'bagging_freq': 1, 'min_child_samples': 8}. Best is trial 445 with value: 812.1956452798577.\n"
     ]
    },
    {
     "name": "stdout",
     "output_type": "stream",
     "text": [
      "fin split 0\n",
      "fin split 1\n",
      "fin split 2\n",
      "fin split 3\n",
      "fin split 4\n"
     ]
    },
    {
     "name": "stderr",
     "output_type": "stream",
     "text": [
      "[I 2025-07-19 10:29:50,828] Trial 533 finished with value: 840.9012652700294 and parameters: {'lambda_l1': 0.010525407624936945, 'lambda_l2': 0.00023947735346303376, 'num_leaves': 62, 'feature_fraction': 0.9581632942746514, 'bagging_fraction': 0.9885661343728064, 'bagging_freq': 1, 'min_child_samples': 10}. Best is trial 445 with value: 812.1956452798577.\n"
     ]
    },
    {
     "name": "stdout",
     "output_type": "stream",
     "text": [
      "fin split 0\n",
      "fin split 1\n",
      "fin split 2\n",
      "fin split 3\n",
      "fin split 4\n"
     ]
    },
    {
     "name": "stderr",
     "output_type": "stream",
     "text": [
      "[I 2025-07-19 10:30:22,762] Trial 534 finished with value: 847.2730326133355 and parameters: {'lambda_l1': 0.0021759222408137143, 'lambda_l2': 0.0003728042379718904, 'num_leaves': 70, 'feature_fraction': 0.8380162568956235, 'bagging_fraction': 0.9999076739282645, 'bagging_freq': 1, 'min_child_samples': 7}. Best is trial 445 with value: 812.1956452798577.\n"
     ]
    },
    {
     "name": "stdout",
     "output_type": "stream",
     "text": [
      "fin split 0\n",
      "fin split 1\n",
      "fin split 2\n",
      "fin split 3\n",
      "fin split 4\n"
     ]
    },
    {
     "name": "stderr",
     "output_type": "stream",
     "text": [
      "[I 2025-07-19 10:30:51,576] Trial 535 finished with value: 915.0009435950972 and parameters: {'lambda_l1': 0.006493584032360702, 'lambda_l2': 0.0006434052279960324, 'num_leaves': 55, 'feature_fraction': 0.9471032049462004, 'bagging_fraction': 0.6264394431804209, 'bagging_freq': 1, 'min_child_samples': 12}. Best is trial 445 with value: 812.1956452798577.\n"
     ]
    },
    {
     "name": "stdout",
     "output_type": "stream",
     "text": [
      "fin split 0\n",
      "fin split 1\n",
      "fin split 2\n",
      "fin split 3\n",
      "fin split 4\n"
     ]
    },
    {
     "name": "stderr",
     "output_type": "stream",
     "text": [
      "[I 2025-07-19 10:31:34,908] Trial 536 finished with value: 921.1767802517269 and parameters: {'lambda_l1': 0.02923003972674209, 'lambda_l2': 6.406452345595793e-05, 'num_leaves': 101, 'feature_fraction': 0.9679829806298816, 'bagging_fraction': 0.9761965199079268, 'bagging_freq': 1, 'min_child_samples': 16}. Best is trial 445 with value: 812.1956452798577.\n"
     ]
    },
    {
     "name": "stdout",
     "output_type": "stream",
     "text": [
      "fin split 0\n",
      "fin split 1\n",
      "fin split 2\n",
      "fin split 3\n",
      "fin split 4\n"
     ]
    },
    {
     "name": "stderr",
     "output_type": "stream",
     "text": [
      "[I 2025-07-19 10:32:00,493] Trial 537 finished with value: 830.9646728442998 and parameters: {'lambda_l1': 0.011787822948569535, 'lambda_l2': 0.0002843323906196466, 'num_leaves': 43, 'feature_fraction': 0.9809020760001415, 'bagging_fraction': 0.9843691387601295, 'bagging_freq': 1, 'min_child_samples': 9}. Best is trial 445 with value: 812.1956452798577.\n"
     ]
    },
    {
     "name": "stdout",
     "output_type": "stream",
     "text": [
      "fin split 0\n",
      "fin split 1\n",
      "fin split 2\n",
      "fin split 3\n",
      "fin split 4\n"
     ]
    },
    {
     "name": "stderr",
     "output_type": "stream",
     "text": [
      "[I 2025-07-19 10:32:26,776] Trial 538 finished with value: 824.1586550261849 and parameters: {'lambda_l1': 0.01795470107193065, 'lambda_l2': 0.01571004575134798, 'num_leaves': 49, 'feature_fraction': 0.9575437259476439, 'bagging_fraction': 0.9733152615282102, 'bagging_freq': 1, 'min_child_samples': 7}. Best is trial 445 with value: 812.1956452798577.\n"
     ]
    },
    {
     "name": "stdout",
     "output_type": "stream",
     "text": [
      "fin split 0\n",
      "fin split 1\n",
      "fin split 2\n",
      "fin split 3\n",
      "fin split 4\n"
     ]
    },
    {
     "name": "stderr",
     "output_type": "stream",
     "text": [
      "[I 2025-07-19 10:33:26,794] Trial 539 finished with value: 880.2295759115971 and parameters: {'lambda_l1': 0.05732654913972461, 'lambda_l2': 0.013590115818025024, 'num_leaves': 149, 'feature_fraction': 0.9366006667075906, 'bagging_fraction': 0.9764732649819435, 'bagging_freq': 1, 'min_child_samples': 6}. Best is trial 445 with value: 812.1956452798577.\n"
     ]
    },
    {
     "name": "stdout",
     "output_type": "stream",
     "text": [
      "fin split 0\n",
      "fin split 1\n",
      "fin split 2\n",
      "fin split 3\n",
      "fin split 4\n"
     ]
    },
    {
     "name": "stderr",
     "output_type": "stream",
     "text": [
      "[I 2025-07-19 10:33:53,757] Trial 540 finished with value: 846.6282687659859 and parameters: {'lambda_l1': 0.01950561471320093, 'lambda_l2': 0.020363150536088222, 'num_leaves': 49, 'feature_fraction': 0.9277641738066843, 'bagging_fraction': 0.9935235911816692, 'bagging_freq': 1, 'min_child_samples': 7}. Best is trial 445 with value: 812.1956452798577.\n"
     ]
    },
    {
     "name": "stdout",
     "output_type": "stream",
     "text": [
      "fin split 0\n",
      "fin split 1\n",
      "fin split 2\n",
      "fin split 3\n",
      "fin split 4\n"
     ]
    },
    {
     "name": "stderr",
     "output_type": "stream",
     "text": [
      "[I 2025-07-19 10:34:23,183] Trial 541 finished with value: 835.6052129034127 and parameters: {'lambda_l1': 0.08686314035992972, 'lambda_l2': 0.01043765373526478, 'num_leaves': 55, 'feature_fraction': 0.9519078810736895, 'bagging_fraction': 0.9800520992477542, 'bagging_freq': 2, 'min_child_samples': 5}. Best is trial 445 with value: 812.1956452798577.\n"
     ]
    },
    {
     "name": "stdout",
     "output_type": "stream",
     "text": [
      "fin split 0\n",
      "fin split 1\n",
      "fin split 2\n",
      "fin split 3\n",
      "fin split 4\n"
     ]
    },
    {
     "name": "stderr",
     "output_type": "stream",
     "text": [
      "[I 2025-07-19 10:34:48,693] Trial 542 finished with value: 881.9447014111886 and parameters: {'lambda_l1': 0.1706053036492548, 'lambda_l2': 0.012876701554988573, 'num_leaves': 65, 'feature_fraction': 0.6638386892040693, 'bagging_fraction': 0.8835023622327549, 'bagging_freq': 1, 'min_child_samples': 8}. Best is trial 445 with value: 812.1956452798577.\n"
     ]
    },
    {
     "name": "stdout",
     "output_type": "stream",
     "text": [
      "fin split 0\n",
      "fin split 1\n",
      "fin split 2\n",
      "fin split 3\n",
      "fin split 4\n"
     ]
    },
    {
     "name": "stderr",
     "output_type": "stream",
     "text": [
      "[I 2025-07-19 10:35:30,856] Trial 543 finished with value: 848.7458172388601 and parameters: {'lambda_l1': 0.03521302557465344, 'lambda_l2': 0.026524140508745974, 'num_leaves': 81, 'feature_fraction': 0.9698395310920337, 'bagging_fraction': 0.9885679978298164, 'bagging_freq': 1, 'min_child_samples': 7}. Best is trial 445 with value: 812.1956452798577.\n"
     ]
    },
    {
     "name": "stdout",
     "output_type": "stream",
     "text": [
      "fin split 0\n",
      "fin split 1\n",
      "fin split 2\n",
      "fin split 3\n",
      "fin split 4\n"
     ]
    },
    {
     "name": "stderr",
     "output_type": "stream",
     "text": [
      "[I 2025-07-19 10:36:01,516] Trial 544 finished with value: 827.9951382594381 and parameters: {'lambda_l1': 0.006324234325856723, 'lambda_l2': 0.03076968221773325, 'num_leaves': 58, 'feature_fraction': 0.9075244545729524, 'bagging_fraction': 0.9725907603569477, 'bagging_freq': 1, 'min_child_samples': 5}. Best is trial 445 with value: 812.1956452798577.\n"
     ]
    },
    {
     "name": "stdout",
     "output_type": "stream",
     "text": [
      "fin split 0\n",
      "fin split 1\n",
      "fin split 2\n",
      "fin split 3\n",
      "fin split 4\n"
     ]
    },
    {
     "name": "stderr",
     "output_type": "stream",
     "text": [
      "[I 2025-07-19 10:36:29,632] Trial 545 finished with value: 850.101317897473 and parameters: {'lambda_l1': 0.017962868804114736, 'lambda_l2': 0.0010783787077045764, 'num_leaves': 49, 'feature_fraction': 0.9395276112624966, 'bagging_fraction': 0.9820851669189402, 'bagging_freq': 1, 'min_child_samples': 9}. Best is trial 445 with value: 812.1956452798577.\n"
     ]
    },
    {
     "name": "stdout",
     "output_type": "stream",
     "text": [
      "fin split 0\n",
      "fin split 1\n",
      "fin split 2\n",
      "fin split 3\n",
      "fin split 4\n"
     ]
    },
    {
     "name": "stderr",
     "output_type": "stream",
     "text": [
      "[I 2025-07-19 10:36:55,530] Trial 546 finished with value: 976.9516034219095 and parameters: {'lambda_l1': 0.008806786457057389, 'lambda_l2': 0.00047292464496546, 'num_leaves': 48, 'feature_fraction': 0.9852920910986157, 'bagging_fraction': 0.9785724449649585, 'bagging_freq': 1, 'min_child_samples': 74}. Best is trial 445 with value: 812.1956452798577.\n"
     ]
    },
    {
     "name": "stdout",
     "output_type": "stream",
     "text": [
      "fin split 0\n",
      "fin split 1\n",
      "fin split 2\n",
      "fin split 3\n",
      "fin split 4\n"
     ]
    },
    {
     "name": "stderr",
     "output_type": "stream",
     "text": [
      "[I 2025-07-19 10:37:27,267] Trial 547 finished with value: 849.1743569804371 and parameters: {'lambda_l1': 0.004249437703071439, 'lambda_l2': 0.016448301909716096, 'num_leaves': 61, 'feature_fraction': 0.956276920073856, 'bagging_fraction': 0.9923009328184927, 'bagging_freq': 1, 'min_child_samples': 7}. Best is trial 445 with value: 812.1956452798577.\n"
     ]
    },
    {
     "name": "stdout",
     "output_type": "stream",
     "text": [
      "fin split 0\n",
      "fin split 1\n",
      "fin split 2\n",
      "fin split 3\n",
      "fin split 4\n"
     ]
    },
    {
     "name": "stderr",
     "output_type": "stream",
     "text": [
      "[I 2025-07-19 10:37:56,784] Trial 548 finished with value: 973.0426760400476 and parameters: {'lambda_l1': 0.027092837654260078, 'lambda_l2': 0.06470979622373633, 'num_leaves': 53, 'feature_fraction': 0.9878384328290869, 'bagging_fraction': 0.9724191312547609, 'bagging_freq': 1, 'min_child_samples': 44}. Best is trial 445 with value: 812.1956452798577.\n"
     ]
    },
    {
     "name": "stdout",
     "output_type": "stream",
     "text": [
      "fin split 0\n",
      "fin split 1\n",
      "fin split 2\n",
      "fin split 3\n",
      "fin split 4\n"
     ]
    },
    {
     "name": "stderr",
     "output_type": "stream",
     "text": [
      "[I 2025-07-19 10:39:15,070] Trial 549 finished with value: 911.1673699090227 and parameters: {'lambda_l1': 0.0033406474364471557, 'lambda_l2': 0.04659530447710402, 'num_leaves': 211, 'feature_fraction': 0.8900625681361026, 'bagging_fraction': 0.9855285664667045, 'bagging_freq': 1, 'min_child_samples': 11}. Best is trial 445 with value: 812.1956452798577.\n"
     ]
    },
    {
     "name": "stdout",
     "output_type": "stream",
     "text": [
      "fin split 0\n",
      "fin split 1\n",
      "fin split 2\n",
      "fin split 3\n",
      "fin split 4\n"
     ]
    },
    {
     "name": "stderr",
     "output_type": "stream",
     "text": [
      "[I 2025-07-19 10:39:48,237] Trial 550 finished with value: 854.390735404884 and parameters: {'lambda_l1': 0.015244436113905694, 'lambda_l2': 0.00017291755485703776, 'num_leaves': 76, 'feature_fraction': 0.8532856362218204, 'bagging_fraction': 0.9631284190930516, 'bagging_freq': 1, 'min_child_samples': 8}. Best is trial 445 with value: 812.1956452798577.\n"
     ]
    },
    {
     "name": "stdout",
     "output_type": "stream",
     "text": [
      "fin split 0\n",
      "fin split 1\n",
      "fin split 2\n",
      "fin split 3\n",
      "fin split 4\n"
     ]
    },
    {
     "name": "stderr",
     "output_type": "stream",
     "text": [
      "[I 2025-07-19 10:40:14,552] Trial 551 finished with value: 811.7384224470063 and parameters: {'lambda_l1': 0.007235084404419895, 'lambda_l2': 0.00028456556695579283, 'num_leaves': 44, 'feature_fraction': 0.9675475407587527, 'bagging_fraction': 0.9999159129486518, 'bagging_freq': 1, 'min_child_samples': 5}. Best is trial 551 with value: 811.7384224470063.\n"
     ]
    },
    {
     "name": "stdout",
     "output_type": "stream",
     "text": [
      "fin split 0\n",
      "fin split 1\n",
      "fin split 2\n",
      "fin split 3\n",
      "fin split 4\n"
     ]
    },
    {
     "name": "stderr",
     "output_type": "stream",
     "text": [
      "[I 2025-07-19 10:40:40,873] Trial 552 finished with value: 821.0171344432724 and parameters: {'lambda_l1': 0.006899021557865117, 'lambda_l2': 0.00020192237704563828, 'num_leaves': 46, 'feature_fraction': 0.9726765686550618, 'bagging_fraction': 0.9993222110630475, 'bagging_freq': 1, 'min_child_samples': 5}. Best is trial 551 with value: 811.7384224470063.\n"
     ]
    },
    {
     "name": "stdout",
     "output_type": "stream",
     "text": [
      "fin split 0\n",
      "fin split 1\n",
      "fin split 2\n",
      "fin split 3\n",
      "fin split 4\n"
     ]
    },
    {
     "name": "stderr",
     "output_type": "stream",
     "text": [
      "[I 2025-07-19 10:41:07,302] Trial 553 finished with value: 811.6556194256982 and parameters: {'lambda_l1': 0.005585435489866404, 'lambda_l2': 0.0002078630964025329, 'num_leaves': 44, 'feature_fraction': 0.9752353729553915, 'bagging_fraction': 0.9998779115668307, 'bagging_freq': 1, 'min_child_samples': 5}. Best is trial 553 with value: 811.6556194256982.\n"
     ]
    },
    {
     "name": "stdout",
     "output_type": "stream",
     "text": [
      "fin split 0\n",
      "fin split 1\n",
      "fin split 2\n",
      "fin split 3\n",
      "fin split 4\n"
     ]
    },
    {
     "name": "stderr",
     "output_type": "stream",
     "text": [
      "[I 2025-07-19 10:41:33,326] Trial 554 finished with value: 820.1012172725748 and parameters: {'lambda_l1': 0.002023794250141946, 'lambda_l2': 0.00016114606463241352, 'num_leaves': 44, 'feature_fraction': 0.9741682876063114, 'bagging_fraction': 0.9980864797676736, 'bagging_freq': 1, 'min_child_samples': 5}. Best is trial 553 with value: 811.6556194256982.\n"
     ]
    },
    {
     "name": "stdout",
     "output_type": "stream",
     "text": [
      "fin split 0\n",
      "fin split 1\n",
      "fin split 2\n",
      "fin split 3\n",
      "fin split 4\n"
     ]
    },
    {
     "name": "stderr",
     "output_type": "stream",
     "text": [
      "[I 2025-07-19 10:41:58,657] Trial 555 finished with value: 829.3073658115055 and parameters: {'lambda_l1': 0.0017621697253632498, 'lambda_l2': 0.00011456708499826617, 'num_leaves': 44, 'feature_fraction': 0.97746533558364, 'bagging_fraction': 0.9989792754572736, 'bagging_freq': 1, 'min_child_samples': 5}. Best is trial 553 with value: 811.6556194256982.\n"
     ]
    },
    {
     "name": "stdout",
     "output_type": "stream",
     "text": [
      "fin split 0\n",
      "fin split 1\n",
      "fin split 2\n",
      "fin split 3\n",
      "fin split 4\n"
     ]
    },
    {
     "name": "stderr",
     "output_type": "stream",
     "text": [
      "[I 2025-07-19 10:42:24,486] Trial 556 finished with value: 812.6453038264024 and parameters: {'lambda_l1': 0.0013334612109049454, 'lambda_l2': 0.00018321939962751596, 'num_leaves': 42, 'feature_fraction': 0.9983076610263736, 'bagging_fraction': 0.998494140880869, 'bagging_freq': 1, 'min_child_samples': 5}. Best is trial 553 with value: 811.6556194256982.\n"
     ]
    },
    {
     "name": "stdout",
     "output_type": "stream",
     "text": [
      "fin split 0\n",
      "fin split 1\n",
      "fin split 2\n",
      "fin split 3\n",
      "fin split 4\n"
     ]
    },
    {
     "name": "stderr",
     "output_type": "stream",
     "text": [
      "[I 2025-07-19 10:42:48,383] Trial 557 finished with value: 830.1072819639855 and parameters: {'lambda_l1': 0.0018961667176243219, 'lambda_l2': 0.00017040244456900292, 'num_leaves': 43, 'feature_fraction': 0.9961505670074583, 'bagging_fraction': 0.9994385982325518, 'bagging_freq': 1, 'min_child_samples': 5}. Best is trial 553 with value: 811.6556194256982.\n"
     ]
    },
    {
     "name": "stdout",
     "output_type": "stream",
     "text": [
      "fin split 0\n",
      "fin split 1\n",
      "fin split 2\n",
      "fin split 3\n",
      "fin split 4\n"
     ]
    },
    {
     "name": "stderr",
     "output_type": "stream",
     "text": [
      "[I 2025-07-19 10:43:14,800] Trial 558 finished with value: 820.981024255384 and parameters: {'lambda_l1': 0.0031987515210493817, 'lambda_l2': 0.5153685371869694, 'num_leaves': 44, 'feature_fraction': 0.9847899312645898, 'bagging_fraction': 0.999832188333363, 'bagging_freq': 1, 'min_child_samples': 5}. Best is trial 553 with value: 811.6556194256982.\n"
     ]
    },
    {
     "name": "stdout",
     "output_type": "stream",
     "text": [
      "fin split 0\n",
      "fin split 1\n",
      "fin split 2\n",
      "fin split 3\n",
      "fin split 4\n"
     ]
    },
    {
     "name": "stderr",
     "output_type": "stream",
     "text": [
      "[I 2025-07-19 10:43:43,349] Trial 559 finished with value: 819.4876001472269 and parameters: {'lambda_l1': 0.0013317384754752057, 'lambda_l2': 0.00022757203000163255, 'num_leaves': 47, 'feature_fraction': 0.9937891016536404, 'bagging_fraction': 0.999797962142796, 'bagging_freq': 1, 'min_child_samples': 5}. Best is trial 553 with value: 811.6556194256982.\n"
     ]
    },
    {
     "name": "stdout",
     "output_type": "stream",
     "text": [
      "fin split 0\n",
      "fin split 1\n",
      "fin split 2\n",
      "fin split 3\n",
      "fin split 4\n"
     ]
    },
    {
     "name": "stderr",
     "output_type": "stream",
     "text": [
      "[I 2025-07-19 10:44:10,693] Trial 560 finished with value: 817.0350698755897 and parameters: {'lambda_l1': 0.0022928703176760654, 'lambda_l2': 0.21700461202680807, 'num_leaves': 45, 'feature_fraction': 0.9928414422533937, 'bagging_fraction': 0.9986351212746043, 'bagging_freq': 1, 'min_child_samples': 5}. Best is trial 553 with value: 811.6556194256982.\n"
     ]
    },
    {
     "name": "stdout",
     "output_type": "stream",
     "text": [
      "fin split 0\n",
      "fin split 1\n",
      "fin split 2\n",
      "fin split 3\n",
      "fin split 4\n"
     ]
    },
    {
     "name": "stderr",
     "output_type": "stream",
     "text": [
      "[I 2025-07-19 10:45:30,309] Trial 561 finished with value: 913.6064029705382 and parameters: {'lambda_l1': 0.0025342282306788514, 'lambda_l2': 1.8872521843740626, 'num_leaves': 192, 'feature_fraction': 0.9989431710169011, 'bagging_fraction': 0.9992692133196437, 'bagging_freq': 1, 'min_child_samples': 5}. Best is trial 553 with value: 811.6556194256982.\n"
     ]
    },
    {
     "name": "stdout",
     "output_type": "stream",
     "text": [
      "fin split 0\n",
      "fin split 1\n",
      "fin split 2\n",
      "fin split 3\n",
      "fin split 4\n"
     ]
    },
    {
     "name": "stderr",
     "output_type": "stream",
     "text": [
      "[I 2025-07-19 10:45:55,775] Trial 562 finished with value: 820.135835797266 and parameters: {'lambda_l1': 0.001332851591163249, 'lambda_l2': 0.7490943675470986, 'num_leaves': 43, 'feature_fraction': 0.990329736540362, 'bagging_fraction': 0.9981516246562384, 'bagging_freq': 1, 'min_child_samples': 6}. Best is trial 553 with value: 811.6556194256982.\n"
     ]
    },
    {
     "name": "stdout",
     "output_type": "stream",
     "text": [
      "fin split 0\n",
      "fin split 1\n",
      "fin split 2\n",
      "fin split 3\n",
      "fin split 4\n"
     ]
    },
    {
     "name": "stderr",
     "output_type": "stream",
     "text": [
      "[I 2025-07-19 10:46:21,106] Trial 563 finished with value: 834.70870618915 and parameters: {'lambda_l1': 0.0015612802814933427, 'lambda_l2': 0.44137363072809105, 'num_leaves': 44, 'feature_fraction': 0.9999544685442615, 'bagging_fraction': 0.9930297846411503, 'bagging_freq': 1, 'min_child_samples': 5}. Best is trial 553 with value: 811.6556194256982.\n"
     ]
    },
    {
     "name": "stdout",
     "output_type": "stream",
     "text": [
      "fin split 0\n",
      "fin split 1\n",
      "fin split 2\n",
      "fin split 3\n",
      "fin split 4\n"
     ]
    },
    {
     "name": "stderr",
     "output_type": "stream",
     "text": [
      "[I 2025-07-19 10:46:47,564] Trial 564 finished with value: 816.1646432248674 and parameters: {'lambda_l1': 0.0012167497384401296, 'lambda_l2': 1.238245135530491, 'num_leaves': 46, 'feature_fraction': 0.9864358556333458, 'bagging_fraction': 0.9991724767175871, 'bagging_freq': 1, 'min_child_samples': 5}. Best is trial 553 with value: 811.6556194256982.\n"
     ]
    },
    {
     "name": "stdout",
     "output_type": "stream",
     "text": [
      "fin split 0\n",
      "fin split 1\n",
      "fin split 2\n",
      "fin split 3\n",
      "fin split 4\n"
     ]
    },
    {
     "name": "stderr",
     "output_type": "stream",
     "text": [
      "[I 2025-07-19 10:47:13,880] Trial 565 finished with value: 824.7655184553522 and parameters: {'lambda_l1': 0.0011701836157178964, 'lambda_l2': 0.7092105272064546, 'num_leaves': 45, 'feature_fraction': 0.9899362543456764, 'bagging_fraction': 0.9960349403541588, 'bagging_freq': 1, 'min_child_samples': 5}. Best is trial 553 with value: 811.6556194256982.\n"
     ]
    },
    {
     "name": "stdout",
     "output_type": "stream",
     "text": [
      "fin split 0\n",
      "fin split 1\n",
      "fin split 2\n",
      "fin split 3\n",
      "fin split 4\n"
     ]
    },
    {
     "name": "stderr",
     "output_type": "stream",
     "text": [
      "[I 2025-07-19 10:47:42,160] Trial 566 finished with value: 828.3223684239625 and parameters: {'lambda_l1': 0.0010472150964466484, 'lambda_l2': 1.2054106801123714, 'num_leaves': 47, 'feature_fraction': 0.9941799918241409, 'bagging_fraction': 0.998482396220142, 'bagging_freq': 1, 'min_child_samples': 5}. Best is trial 553 with value: 811.6556194256982.\n"
     ]
    },
    {
     "name": "stdout",
     "output_type": "stream",
     "text": [
      "fin split 0\n",
      "fin split 1\n",
      "fin split 2\n",
      "fin split 3\n",
      "fin split 4\n"
     ]
    },
    {
     "name": "stderr",
     "output_type": "stream",
     "text": [
      "[I 2025-07-19 10:48:15,380] Trial 567 finished with value: 825.7976333030192 and parameters: {'lambda_l1': 0.001302864188135235, 'lambda_l2': 0.672575441982572, 'num_leaves': 49, 'feature_fraction': 0.9996875297822021, 'bagging_fraction': 0.9990791337570825, 'bagging_freq': 1, 'min_child_samples': 5}. Best is trial 553 with value: 811.6556194256982.\n"
     ]
    },
    {
     "name": "stdout",
     "output_type": "stream",
     "text": [
      "fin split 0\n",
      "fin split 1\n",
      "fin split 2\n",
      "fin split 3\n",
      "fin split 4\n"
     ]
    },
    {
     "name": "stderr",
     "output_type": "stream",
     "text": [
      "[I 2025-07-19 10:48:48,774] Trial 568 finished with value: 848.0982905779084 and parameters: {'lambda_l1': 0.0022063910914621766, 'lambda_l2': 2.202151800183669, 'num_leaves': 42, 'feature_fraction': 0.9867452910700214, 'bagging_fraction': 0.999061145972571, 'bagging_freq': 1, 'min_child_samples': 5}. Best is trial 553 with value: 811.6556194256982.\n"
     ]
    },
    {
     "name": "stdout",
     "output_type": "stream",
     "text": [
      "fin split 0\n",
      "fin split 1\n",
      "fin split 2\n",
      "fin split 3\n",
      "fin split 4\n"
     ]
    },
    {
     "name": "stderr",
     "output_type": "stream",
     "text": [
      "[I 2025-07-19 10:49:14,574] Trial 569 finished with value: 817.2080487703327 and parameters: {'lambda_l1': 0.0014572318135884724, 'lambda_l2': 0.23277768868140802, 'num_leaves': 42, 'feature_fraction': 0.9826642664184387, 'bagging_fraction': 0.9985004658788744, 'bagging_freq': 1, 'min_child_samples': 5}. Best is trial 553 with value: 811.6556194256982.\n"
     ]
    },
    {
     "name": "stdout",
     "output_type": "stream",
     "text": [
      "fin split 0\n",
      "fin split 1\n",
      "fin split 2\n",
      "fin split 3\n",
      "fin split 4\n"
     ]
    },
    {
     "name": "stderr",
     "output_type": "stream",
     "text": [
      "[I 2025-07-19 10:49:42,533] Trial 570 finished with value: 816.4317681163415 and parameters: {'lambda_l1': 0.0015431108316834453, 'lambda_l2': 0.19812042673530322, 'num_leaves': 44, 'feature_fraction': 0.9836015026663062, 'bagging_fraction': 0.9972740687844313, 'bagging_freq': 1, 'min_child_samples': 5}. Best is trial 553 with value: 811.6556194256982.\n"
     ]
    },
    {
     "name": "stdout",
     "output_type": "stream",
     "text": [
      "fin split 0\n",
      "fin split 1\n",
      "fin split 2\n",
      "fin split 3\n",
      "fin split 4\n"
     ]
    },
    {
     "name": "stderr",
     "output_type": "stream",
     "text": [
      "[I 2025-07-19 10:50:08,595] Trial 571 finished with value: 833.3892367057524 and parameters: {'lambda_l1': 0.0012330657903256521, 'lambda_l2': 0.15067251680613944, 'num_leaves': 42, 'feature_fraction': 0.9841526062583444, 'bagging_fraction': 0.9973399087583488, 'bagging_freq': 1, 'min_child_samples': 5}. Best is trial 553 with value: 811.6556194256982.\n"
     ]
    },
    {
     "name": "stdout",
     "output_type": "stream",
     "text": [
      "fin split 0\n",
      "fin split 1\n",
      "fin split 2\n",
      "fin split 3\n",
      "fin split 4\n"
     ]
    },
    {
     "name": "stderr",
     "output_type": "stream",
     "text": [
      "[I 2025-07-19 10:50:34,820] Trial 572 finished with value: 829.3929449056993 and parameters: {'lambda_l1': 0.001828090049947315, 'lambda_l2': 0.3925793537059922, 'num_leaves': 43, 'feature_fraction': 0.987425138047332, 'bagging_fraction': 0.9987509344123474, 'bagging_freq': 1, 'min_child_samples': 5}. Best is trial 553 with value: 811.6556194256982.\n"
     ]
    },
    {
     "name": "stdout",
     "output_type": "stream",
     "text": [
      "fin split 0\n",
      "fin split 1\n",
      "fin split 2\n",
      "fin split 3\n",
      "fin split 4\n"
     ]
    },
    {
     "name": "stderr",
     "output_type": "stream",
     "text": [
      "[I 2025-07-19 10:51:03,605] Trial 573 finished with value: 821.3563500842371 and parameters: {'lambda_l1': 0.001613426756765299, 'lambda_l2': 0.28038841395619984, 'num_leaves': 47, 'feature_fraction': 0.9889304293086588, 'bagging_fraction': 0.9980892630724156, 'bagging_freq': 1, 'min_child_samples': 5}. Best is trial 553 with value: 811.6556194256982.\n"
     ]
    },
    {
     "name": "stdout",
     "output_type": "stream",
     "text": [
      "fin split 0\n",
      "fin split 1\n",
      "fin split 2\n",
      "fin split 3\n",
      "fin split 4\n"
     ]
    },
    {
     "name": "stderr",
     "output_type": "stream",
     "text": [
      "[I 2025-07-19 10:51:32,385] Trial 574 finished with value: 838.61722363425 and parameters: {'lambda_l1': 0.0012237942881533487, 'lambda_l2': 0.2623851312008604, 'num_leaves': 44, 'feature_fraction': 0.9991198411978504, 'bagging_fraction': 0.9979755025197459, 'bagging_freq': 1, 'min_child_samples': 5}. Best is trial 553 with value: 811.6556194256982.\n"
     ]
    },
    {
     "name": "stdout",
     "output_type": "stream",
     "text": [
      "fin split 0\n",
      "fin split 1\n",
      "fin split 2\n",
      "fin split 3\n",
      "fin split 4\n"
     ]
    },
    {
     "name": "stderr",
     "output_type": "stream",
     "text": [
      "[I 2025-07-19 10:51:59,147] Trial 575 finished with value: 838.6014006644745 and parameters: {'lambda_l1': 0.001455851552328325, 'lambda_l2': 0.27072008511911705, 'num_leaves': 49, 'feature_fraction': 0.988044044127694, 'bagging_fraction': 0.9969089224582318, 'bagging_freq': 1, 'min_child_samples': 5}. Best is trial 553 with value: 811.6556194256982.\n"
     ]
    },
    {
     "name": "stdout",
     "output_type": "stream",
     "text": [
      "fin split 0\n",
      "fin split 1\n",
      "fin split 2\n",
      "fin split 3\n",
      "fin split 4\n"
     ]
    },
    {
     "name": "stderr",
     "output_type": "stream",
     "text": [
      "[I 2025-07-19 10:52:24,392] Trial 576 finished with value: 826.5031302357042 and parameters: {'lambda_l1': 0.0019087282014316712, 'lambda_l2': 0.26227830405132396, 'num_leaves': 48, 'feature_fraction': 0.9798312809590021, 'bagging_fraction': 0.9974423722914134, 'bagging_freq': 1, 'min_child_samples': 5}. Best is trial 553 with value: 811.6556194256982.\n"
     ]
    },
    {
     "name": "stdout",
     "output_type": "stream",
     "text": [
      "fin split 0\n",
      "fin split 1\n",
      "fin split 2\n",
      "fin split 3\n",
      "fin split 4\n"
     ]
    },
    {
     "name": "stderr",
     "output_type": "stream",
     "text": [
      "[I 2025-07-19 10:52:54,687] Trial 577 finished with value: 839.4573460339249 and parameters: {'lambda_l1': 0.0025068535189417254, 'lambda_l2': 0.5555514438695112, 'num_leaves': 51, 'feature_fraction': 0.9994248088002966, 'bagging_fraction': 0.9981721083418982, 'bagging_freq': 1, 'min_child_samples': 5}. Best is trial 553 with value: 811.6556194256982.\n"
     ]
    },
    {
     "name": "stdout",
     "output_type": "stream",
     "text": [
      "fin split 0\n",
      "fin split 1\n",
      "fin split 2\n",
      "fin split 3\n",
      "fin split 4\n"
     ]
    },
    {
     "name": "stderr",
     "output_type": "stream",
     "text": [
      "[I 2025-07-19 10:53:19,533] Trial 578 finished with value: 816.8916323417543 and parameters: {'lambda_l1': 0.0009517876016649808, 'lambda_l2': 0.20337326730445907, 'num_leaves': 40, 'feature_fraction': 0.9854910166374609, 'bagging_fraction': 0.9997786012052987, 'bagging_freq': 1, 'min_child_samples': 5}. Best is trial 553 with value: 811.6556194256982.\n"
     ]
    },
    {
     "name": "stdout",
     "output_type": "stream",
     "text": [
      "fin split 0\n",
      "fin split 1\n",
      "fin split 2\n",
      "fin split 3\n",
      "fin split 4\n"
     ]
    },
    {
     "name": "stderr",
     "output_type": "stream",
     "text": [
      "[I 2025-07-19 10:53:44,778] Trial 579 finished with value: 834.7510032532301 and parameters: {'lambda_l1': 0.0010142495960078447, 'lambda_l2': 0.35106875668577614, 'num_leaves': 42, 'feature_fraction': 0.9892509970398259, 'bagging_fraction': 0.9988565255997531, 'bagging_freq': 1, 'min_child_samples': 5}. Best is trial 553 with value: 811.6556194256982.\n"
     ]
    },
    {
     "name": "stdout",
     "output_type": "stream",
     "text": [
      "fin split 0\n",
      "fin split 1\n",
      "fin split 2\n",
      "fin split 3\n",
      "fin split 4\n"
     ]
    },
    {
     "name": "stderr",
     "output_type": "stream",
     "text": [
      "[I 2025-07-19 10:54:10,347] Trial 580 finished with value: 830.5195105882659 and parameters: {'lambda_l1': 0.0017281834939719524, 'lambda_l2': 0.1811595264138848, 'num_leaves': 41, 'feature_fraction': 0.9775833858524727, 'bagging_fraction': 0.9935148704933315, 'bagging_freq': 1, 'min_child_samples': 5}. Best is trial 553 with value: 811.6556194256982.\n"
     ]
    },
    {
     "name": "stdout",
     "output_type": "stream",
     "text": [
      "fin split 0\n",
      "fin split 1\n",
      "fin split 2\n",
      "fin split 3\n",
      "fin split 4\n"
     ]
    },
    {
     "name": "stderr",
     "output_type": "stream",
     "text": [
      "[I 2025-07-19 10:54:33,808] Trial 581 finished with value: 837.6191892611341 and parameters: {'lambda_l1': 0.0010135550393421777, 'lambda_l2': 0.12220201539752225, 'num_leaves': 41, 'feature_fraction': 0.9999748180039101, 'bagging_fraction': 0.9999581163812199, 'bagging_freq': 1, 'min_child_samples': 6}. Best is trial 553 with value: 811.6556194256982.\n"
     ]
    },
    {
     "name": "stdout",
     "output_type": "stream",
     "text": [
      "fin split 0\n",
      "fin split 1\n",
      "fin split 2\n",
      "fin split 3\n",
      "fin split 4\n"
     ]
    },
    {
     "name": "stderr",
     "output_type": "stream",
     "text": [
      "[I 2025-07-19 10:55:01,436] Trial 582 finished with value: 855.2431177594485 and parameters: {'lambda_l1': 0.0023324704422154497, 'lambda_l2': 5.205419351441848, 'num_leaves': 46, 'feature_fraction': 0.9869816400539874, 'bagging_fraction': 0.9924841114551858, 'bagging_freq': 1, 'min_child_samples': 7}. Best is trial 553 with value: 811.6556194256982.\n"
     ]
    },
    {
     "name": "stdout",
     "output_type": "stream",
     "text": [
      "fin split 0\n",
      "fin split 1\n",
      "fin split 2\n",
      "fin split 3\n",
      "fin split 4\n"
     ]
    },
    {
     "name": "stderr",
     "output_type": "stream",
     "text": [
      "[I 2025-07-19 10:55:28,193] Trial 583 finished with value: 813.7462274863703 and parameters: {'lambda_l1': 0.0015629397163995863, 'lambda_l2': 0.9571325022584457, 'num_leaves': 39, 'feature_fraction': 0.9829235895088713, 'bagging_fraction': 0.9928439101668163, 'bagging_freq': 1, 'min_child_samples': 5}. Best is trial 553 with value: 811.6556194256982.\n"
     ]
    },
    {
     "name": "stdout",
     "output_type": "stream",
     "text": [
      "fin split 0\n",
      "fin split 1\n",
      "fin split 2\n",
      "fin split 3\n",
      "fin split 4\n"
     ]
    },
    {
     "name": "stderr",
     "output_type": "stream",
     "text": [
      "[I 2025-07-19 10:55:51,873] Trial 584 finished with value: 824.1598967204679 and parameters: {'lambda_l1': 0.0008257526338698793, 'lambda_l2': 0.9214621564931128, 'num_leaves': 39, 'feature_fraction': 0.9765078684736507, 'bagging_fraction': 0.9996159435517449, 'bagging_freq': 1, 'min_child_samples': 5}. Best is trial 553 with value: 811.6556194256982.\n"
     ]
    },
    {
     "name": "stdout",
     "output_type": "stream",
     "text": [
      "fin split 0\n",
      "fin split 1\n",
      "fin split 2\n",
      "fin split 3\n",
      "fin split 4\n"
     ]
    },
    {
     "name": "stderr",
     "output_type": "stream",
     "text": [
      "[I 2025-07-19 10:56:18,411] Trial 585 finished with value: 828.4454644100891 and parameters: {'lambda_l1': 0.0015361395664081935, 'lambda_l2': 1.3661557711343904, 'num_leaves': 39, 'feature_fraction': 0.9906531890599394, 'bagging_fraction': 0.9916531447942241, 'bagging_freq': 1, 'min_child_samples': 5}. Best is trial 553 with value: 811.6556194256982.\n"
     ]
    },
    {
     "name": "stdout",
     "output_type": "stream",
     "text": [
      "fin split 0\n",
      "fin split 1\n",
      "fin split 2\n",
      "fin split 3\n",
      "fin split 4\n"
     ]
    },
    {
     "name": "stderr",
     "output_type": "stream",
     "text": [
      "[I 2025-07-19 10:56:42,116] Trial 586 finished with value: 834.1471120703845 and parameters: {'lambda_l1': 0.001314415437523344, 'lambda_l2': 0.5238996339872972, 'num_leaves': 39, 'feature_fraction': 0.9761833814009118, 'bagging_fraction': 0.99928489213347, 'bagging_freq': 1, 'min_child_samples': 7}. Best is trial 553 with value: 811.6556194256982.\n"
     ]
    },
    {
     "name": "stdout",
     "output_type": "stream",
     "text": [
      "fin split 0\n",
      "fin split 1\n",
      "fin split 2\n",
      "fin split 3\n",
      "fin split 4\n"
     ]
    },
    {
     "name": "stderr",
     "output_type": "stream",
     "text": [
      "[I 2025-07-19 10:57:09,479] Trial 587 finished with value: 812.2344807714333 and parameters: {'lambda_l1': 0.0023234547891588485, 'lambda_l2': 0.19519023425571738, 'num_leaves': 46, 'feature_fraction': 0.9877417166284266, 'bagging_fraction': 0.9917823338341474, 'bagging_freq': 1, 'min_child_samples': 5}. Best is trial 553 with value: 811.6556194256982.\n"
     ]
    },
    {
     "name": "stdout",
     "output_type": "stream",
     "text": [
      "fin split 0\n",
      "fin split 1\n",
      "fin split 2\n",
      "fin split 3\n",
      "fin split 4\n"
     ]
    },
    {
     "name": "stderr",
     "output_type": "stream",
     "text": [
      "[I 2025-07-19 10:57:36,856] Trial 588 finished with value: 844.6865873940588 and parameters: {'lambda_l1': 0.0028487172404909563, 'lambda_l2': 3.20349817385054, 'num_leaves': 44, 'feature_fraction': 0.9769893989458995, 'bagging_fraction': 0.9915946685750755, 'bagging_freq': 1, 'min_child_samples': 7}. Best is trial 553 with value: 811.6556194256982.\n"
     ]
    },
    {
     "name": "stdout",
     "output_type": "stream",
     "text": [
      "fin split 0\n",
      "fin split 1\n",
      "fin split 2\n",
      "fin split 3\n",
      "fin split 4\n"
     ]
    },
    {
     "name": "stderr",
     "output_type": "stream",
     "text": [
      "[I 2025-07-19 10:58:01,608] Trial 589 finished with value: 813.0911890699432 and parameters: {'lambda_l1': 0.0025760698599386882, 'lambda_l2': 0.8102273651304256, 'num_leaves': 41, 'feature_fraction': 0.989569957894082, 'bagging_fraction': 0.9914593992266668, 'bagging_freq': 1, 'min_child_samples': 5}. Best is trial 553 with value: 811.6556194256982.\n"
     ]
    },
    {
     "name": "stdout",
     "output_type": "stream",
     "text": [
      "fin split 0\n",
      "fin split 1\n",
      "fin split 2\n",
      "fin split 3\n",
      "fin split 4\n"
     ]
    },
    {
     "name": "stderr",
     "output_type": "stream",
     "text": [
      "[I 2025-07-19 10:58:25,254] Trial 590 finished with value: 845.6166673517498 and parameters: {'lambda_l1': 0.0025248347990130867, 'lambda_l2': 1.0709556636151336, 'num_leaves': 39, 'feature_fraction': 0.9890949629412537, 'bagging_fraction': 0.991118437327414, 'bagging_freq': 1, 'min_child_samples': 7}. Best is trial 553 with value: 811.6556194256982.\n"
     ]
    },
    {
     "name": "stdout",
     "output_type": "stream",
     "text": [
      "fin split 0\n",
      "fin split 1\n",
      "fin split 2\n",
      "fin split 3\n",
      "fin split 4\n"
     ]
    },
    {
     "name": "stderr",
     "output_type": "stream",
     "text": [
      "[I 2025-07-19 10:58:48,182] Trial 591 finished with value: 829.7564500255431 and parameters: {'lambda_l1': 0.000966092725786821, 'lambda_l2': 1.5575979993730418, 'num_leaves': 40, 'feature_fraction': 0.9985937794966891, 'bagging_fraction': 0.9910639913755945, 'bagging_freq': 1, 'min_child_samples': 7}. Best is trial 553 with value: 811.6556194256982.\n"
     ]
    },
    {
     "name": "stdout",
     "output_type": "stream",
     "text": [
      "fin split 0\n",
      "fin split 1\n",
      "fin split 2\n",
      "fin split 3\n",
      "fin split 4\n"
     ]
    },
    {
     "name": "stderr",
     "output_type": "stream",
     "text": [
      "[I 2025-07-19 10:59:10,306] Trial 592 finished with value: 829.8019274486207 and parameters: {'lambda_l1': 0.0022821868321681433, 'lambda_l2': 0.2117708549027418, 'num_leaves': 38, 'feature_fraction': 0.9868904736096236, 'bagging_fraction': 0.990023273713892, 'bagging_freq': 1, 'min_child_samples': 5}. Best is trial 553 with value: 811.6556194256982.\n"
     ]
    },
    {
     "name": "stdout",
     "output_type": "stream",
     "text": [
      "fin split 0\n",
      "fin split 1\n",
      "fin split 2\n",
      "fin split 3\n",
      "fin split 4\n"
     ]
    },
    {
     "name": "stderr",
     "output_type": "stream",
     "text": [
      "[I 2025-07-19 10:59:36,070] Trial 593 finished with value: 846.2417708156902 and parameters: {'lambda_l1': 0.0016315728170038946, 'lambda_l2': 0.4253015248771495, 'num_leaves': 44, 'feature_fraction': 0.999971230414286, 'bagging_fraction': 0.9908816962936192, 'bagging_freq': 1, 'min_child_samples': 7}. Best is trial 553 with value: 811.6556194256982.\n"
     ]
    },
    {
     "name": "stdout",
     "output_type": "stream",
     "text": [
      "fin split 0\n",
      "fin split 1\n",
      "fin split 2\n",
      "fin split 3\n",
      "fin split 4\n"
     ]
    },
    {
     "name": "stderr",
     "output_type": "stream",
     "text": [
      "[I 2025-07-19 11:00:05,535] Trial 594 finished with value: 797.0830964467458 and parameters: {'lambda_l1': 0.0008301081386674917, 'lambda_l2': 0.7795169261200936, 'num_leaves': 51, 'feature_fraction': 0.9808366740075691, 'bagging_fraction': 0.9913694728535868, 'bagging_freq': 1, 'min_child_samples': 5}. Best is trial 594 with value: 797.0830964467458.\n"
     ]
    },
    {
     "name": "stdout",
     "output_type": "stream",
     "text": [
      "fin split 0\n",
      "fin split 1\n",
      "fin split 2\n",
      "fin split 3\n",
      "fin split 4\n"
     ]
    },
    {
     "name": "stderr",
     "output_type": "stream",
     "text": [
      "[I 2025-07-19 11:00:37,360] Trial 595 finished with value: 840.4578269759859 and parameters: {'lambda_l1': 0.0007063163692076877, 'lambda_l2': 0.9354181351096054, 'num_leaves': 49, 'feature_fraction': 0.9736955952297413, 'bagging_fraction': 0.9910707184688429, 'bagging_freq': 1, 'min_child_samples': 7}. Best is trial 594 with value: 797.0830964467458.\n"
     ]
    },
    {
     "name": "stdout",
     "output_type": "stream",
     "text": [
      "fin split 0\n",
      "fin split 1\n",
      "fin split 2\n",
      "fin split 3\n",
      "fin split 4\n"
     ]
    },
    {
     "name": "stderr",
     "output_type": "stream",
     "text": [
      "[I 2025-07-19 11:01:06,688] Trial 596 finished with value: 822.8711817165296 and parameters: {'lambda_l1': 0.0008296653463909822, 'lambda_l2': 0.6542833897854512, 'num_leaves': 51, 'feature_fraction': 0.9793720005848859, 'bagging_fraction': 0.9901126411862359, 'bagging_freq': 2, 'min_child_samples': 5}. Best is trial 594 with value: 797.0830964467458.\n"
     ]
    },
    {
     "name": "stdout",
     "output_type": "stream",
     "text": [
      "fin split 0\n",
      "fin split 1\n",
      "fin split 2\n",
      "fin split 3\n",
      "fin split 4\n"
     ]
    },
    {
     "name": "stderr",
     "output_type": "stream",
     "text": [
      "[I 2025-07-19 11:01:36,307] Trial 597 finished with value: 847.4411119938222 and parameters: {'lambda_l1': 0.0010582498199704251, 'lambda_l2': 0.09302114888928967, 'num_leaves': 52, 'feature_fraction': 0.9880778711981797, 'bagging_fraction': 0.9999125233282063, 'bagging_freq': 1, 'min_child_samples': 7}. Best is trial 594 with value: 797.0830964467458.\n"
     ]
    },
    {
     "name": "stdout",
     "output_type": "stream",
     "text": [
      "fin split 0\n",
      "fin split 1\n",
      "fin split 2\n",
      "fin split 3\n",
      "fin split 4\n"
     ]
    },
    {
     "name": "stderr",
     "output_type": "stream",
     "text": [
      "[I 2025-07-19 11:01:59,666] Trial 598 finished with value: 849.2781803606381 and parameters: {'lambda_l1': 0.001404867960236086, 'lambda_l2': 2.196877098800018, 'num_leaves': 40, 'feature_fraction': 0.9677743378983874, 'bagging_fraction': 0.9909464347998567, 'bagging_freq': 1, 'min_child_samples': 7}. Best is trial 594 with value: 797.0830964467458.\n"
     ]
    },
    {
     "name": "stdout",
     "output_type": "stream",
     "text": [
      "fin split 0\n",
      "fin split 1\n",
      "fin split 2\n",
      "fin split 3\n",
      "fin split 4\n"
     ]
    },
    {
     "name": "stderr",
     "output_type": "stream",
     "text": [
      "[I 2025-07-19 11:02:26,728] Trial 599 finished with value: 816.7455821526084 and parameters: {'lambda_l1': 0.0008108821291999205, 'lambda_l2': 0.17822418760390799, 'num_leaves': 47, 'feature_fraction': 0.999923993265745, 'bagging_fraction': 0.9999829010833832, 'bagging_freq': 1, 'min_child_samples': 5}. Best is trial 594 with value: 797.0830964467458.\n"
     ]
    },
    {
     "name": "stdout",
     "output_type": "stream",
     "text": [
      "fin split 0\n",
      "fin split 1\n",
      "fin split 2\n",
      "fin split 3\n",
      "fin split 4\n"
     ]
    },
    {
     "name": "stderr",
     "output_type": "stream",
     "text": [
      "[I 2025-07-19 11:02:56,454] Trial 600 finished with value: 831.8025647754542 and parameters: {'lambda_l1': 0.0007278928794115503, 'lambda_l2': 0.13330121503673448, 'num_leaves': 51, 'feature_fraction': 0.9997107299827915, 'bagging_fraction': 0.9997129915821743, 'bagging_freq': 1, 'min_child_samples': 5}. Best is trial 594 with value: 797.0830964467458.\n"
     ]
    },
    {
     "name": "stdout",
     "output_type": "stream",
     "text": [
      "fin split 0\n",
      "fin split 1\n",
      "fin split 2\n",
      "fin split 3\n",
      "fin split 4\n"
     ]
    },
    {
     "name": "stderr",
     "output_type": "stream",
     "text": [
      "[I 2025-07-19 11:03:23,134] Trial 601 finished with value: 813.4382827871626 and parameters: {'lambda_l1': 0.0009962583842062333, 'lambda_l2': 0.19195823201234974, 'num_leaves': 46, 'feature_fraction': 0.9894972170847716, 'bagging_fraction': 0.9915939150148455, 'bagging_freq': 1, 'min_child_samples': 5}. Best is trial 594 with value: 797.0830964467458.\n"
     ]
    },
    {
     "name": "stdout",
     "output_type": "stream",
     "text": [
      "fin split 0\n",
      "fin split 1\n",
      "fin split 2\n",
      "fin split 3\n",
      "fin split 4\n"
     ]
    },
    {
     "name": "stderr",
     "output_type": "stream",
     "text": [
      "[I 2025-07-19 11:03:50,379] Trial 602 finished with value: 817.1043104125113 and parameters: {'lambda_l1': 0.0007547620046126856, 'lambda_l2': 0.16637586759500253, 'num_leaves': 46, 'feature_fraction': 0.9809501664104845, 'bagging_fraction': 0.9908690600273727, 'bagging_freq': 1, 'min_child_samples': 5}. Best is trial 594 with value: 797.0830964467458.\n"
     ]
    },
    {
     "name": "stdout",
     "output_type": "stream",
     "text": [
      "fin split 0\n",
      "fin split 1\n",
      "fin split 2\n",
      "fin split 3\n",
      "fin split 4\n"
     ]
    },
    {
     "name": "stderr",
     "output_type": "stream",
     "text": [
      "[I 2025-07-19 11:04:19,074] Trial 603 finished with value: 815.4420544352811 and parameters: {'lambda_l1': 0.0008415667935138421, 'lambda_l2': 0.15003183033449646, 'num_leaves': 46, 'feature_fraction': 0.975932983841777, 'bagging_fraction': 0.9913577715276704, 'bagging_freq': 1, 'min_child_samples': 5}. Best is trial 594 with value: 797.0830964467458.\n"
     ]
    },
    {
     "name": "stdout",
     "output_type": "stream",
     "text": [
      "fin split 0\n",
      "fin split 1\n",
      "fin split 2\n",
      "fin split 3\n",
      "fin split 4\n"
     ]
    },
    {
     "name": "stderr",
     "output_type": "stream",
     "text": [
      "[I 2025-07-19 11:05:03,156] Trial 604 finished with value: 829.5742079045672 and parameters: {'lambda_l1': 0.0007925224733600918, 'lambda_l2': 0.10732636840405581, 'num_leaves': 91, 'feature_fraction': 0.9728797469758184, 'bagging_fraction': 0.9905740717895002, 'bagging_freq': 1, 'min_child_samples': 5}. Best is trial 594 with value: 797.0830964467458.\n"
     ]
    },
    {
     "name": "stdout",
     "output_type": "stream",
     "text": [
      "fin split 0\n",
      "fin split 1\n",
      "fin split 2\n",
      "fin split 3\n",
      "fin split 4\n"
     ]
    },
    {
     "name": "stderr",
     "output_type": "stream",
     "text": [
      "[I 2025-07-19 11:05:31,889] Trial 605 finished with value: 815.344137269012 and parameters: {'lambda_l1': 0.0007347773819900838, 'lambda_l2': 0.16547863768824592, 'num_leaves': 46, 'feature_fraction': 0.9779121407946991, 'bagging_fraction': 0.990918985997345, 'bagging_freq': 1, 'min_child_samples': 5}. Best is trial 594 with value: 797.0830964467458.\n"
     ]
    },
    {
     "name": "stdout",
     "output_type": "stream",
     "text": [
      "fin split 0\n",
      "fin split 1\n",
      "fin split 2\n",
      "fin split 3\n",
      "fin split 4\n"
     ]
    },
    {
     "name": "stderr",
     "output_type": "stream",
     "text": [
      "[I 2025-07-19 11:06:00,057] Trial 606 finished with value: 822.7716693912676 and parameters: {'lambda_l1': 0.0006940825445462914, 'lambda_l2': 0.21779153219701308, 'num_leaves': 49, 'feature_fraction': 0.9818127444941289, 'bagging_fraction': 0.9898341021014428, 'bagging_freq': 1, 'min_child_samples': 5}. Best is trial 594 with value: 797.0830964467458.\n"
     ]
    },
    {
     "name": "stdout",
     "output_type": "stream",
     "text": [
      "fin split 0\n",
      "fin split 1\n",
      "fin split 2\n",
      "fin split 3\n",
      "fin split 4\n"
     ]
    },
    {
     "name": "stderr",
     "output_type": "stream",
     "text": [
      "[I 2025-07-19 11:06:28,892] Trial 607 finished with value: 828.360079302673 and parameters: {'lambda_l1': 0.0006438268906806452, 'lambda_l2': 0.15868501812511995, 'num_leaves': 47, 'feature_fraction': 0.9700257635250782, 'bagging_fraction': 0.9900489610194563, 'bagging_freq': 1, 'min_child_samples': 7}. Best is trial 594 with value: 797.0830964467458.\n"
     ]
    },
    {
     "name": "stdout",
     "output_type": "stream",
     "text": [
      "fin split 0\n",
      "fin split 1\n",
      "fin split 2\n",
      "fin split 3\n",
      "fin split 4\n"
     ]
    },
    {
     "name": "stderr",
     "output_type": "stream",
     "text": [
      "[I 2025-07-19 11:06:54,115] Trial 608 finished with value: 833.3479349882032 and parameters: {'lambda_l1': 0.0008938742337797948, 'lambda_l2': 0.08173337389280114, 'num_leaves': 46, 'feature_fraction': 0.9871406613205036, 'bagging_fraction': 0.99005008694598, 'bagging_freq': 1, 'min_child_samples': 5}. Best is trial 594 with value: 797.0830964467458.\n"
     ]
    },
    {
     "name": "stdout",
     "output_type": "stream",
     "text": [
      "fin split 0\n",
      "fin split 1\n",
      "fin split 2\n",
      "fin split 3\n",
      "fin split 4\n"
     ]
    },
    {
     "name": "stderr",
     "output_type": "stream",
     "text": [
      "[I 2025-07-19 11:07:16,948] Trial 609 finished with value: 840.0772797237428 and parameters: {'lambda_l1': 0.0010970357069486826, 'lambda_l2': 0.34336109537968995, 'num_leaves': 38, 'feature_fraction': 0.9808867583454701, 'bagging_fraction': 0.9924874242679637, 'bagging_freq': 1, 'min_child_samples': 7}. Best is trial 594 with value: 797.0830964467458.\n"
     ]
    },
    {
     "name": "stdout",
     "output_type": "stream",
     "text": [
      "fin split 0\n",
      "fin split 1\n",
      "fin split 2\n",
      "fin split 3\n",
      "fin split 4\n"
     ]
    },
    {
     "name": "stderr",
     "output_type": "stream",
     "text": [
      "[I 2025-07-19 11:07:40,146] Trial 610 finished with value: 835.8339356409986 and parameters: {'lambda_l1': 0.0007096506026629159, 'lambda_l2': 0.1591561032519742, 'num_leaves': 50, 'feature_fraction': 0.9677021776952398, 'bagging_fraction': 0.988910721384602, 'bagging_freq': 1, 'min_child_samples': 7}. Best is trial 594 with value: 797.0830964467458.\n"
     ]
    },
    {
     "name": "stdout",
     "output_type": "stream",
     "text": [
      "fin split 0\n",
      "fin split 1\n",
      "fin split 2\n",
      "fin split 3\n",
      "fin split 4\n"
     ]
    },
    {
     "name": "stderr",
     "output_type": "stream",
     "text": [
      "[I 2025-07-19 11:08:03,822] Trial 611 finished with value: 822.915228533856 and parameters: {'lambda_l1': 0.0010658001314532597, 'lambda_l2': 0.18716159835512436, 'num_leaves': 42, 'feature_fraction': 0.9899108419005131, 'bagging_fraction': 0.9995640687256176, 'bagging_freq': 1, 'min_child_samples': 5}. Best is trial 594 with value: 797.0830964467458.\n"
     ]
    },
    {
     "name": "stdout",
     "output_type": "stream",
     "text": [
      "fin split 0\n",
      "fin split 1\n",
      "fin split 2\n",
      "fin split 3\n",
      "fin split 4\n"
     ]
    },
    {
     "name": "stderr",
     "output_type": "stream",
     "text": [
      "[I 2025-07-19 11:08:29,123] Trial 612 finished with value: 832.8180592654016 and parameters: {'lambda_l1': 0.0012084930904689476, 'lambda_l2': 0.35537321679387135, 'num_leaves': 46, 'feature_fraction': 0.999678895487014, 'bagging_fraction': 0.9998736022037297, 'bagging_freq': 1, 'min_child_samples': 7}. Best is trial 594 with value: 797.0830964467458.\n"
     ]
    },
    {
     "name": "stdout",
     "output_type": "stream",
     "text": [
      "fin split 0\n",
      "fin split 1\n",
      "fin split 2\n",
      "fin split 3\n",
      "fin split 4\n"
     ]
    },
    {
     "name": "stderr",
     "output_type": "stream",
     "text": [
      "[I 2025-07-19 11:08:52,550] Trial 613 finished with value: 826.6902609491018 and parameters: {'lambda_l1': 0.0006938986654391992, 'lambda_l2': 0.21094241535773442, 'num_leaves': 39, 'feature_fraction': 0.9774359688637895, 'bagging_fraction': 0.9895610609203147, 'bagging_freq': 1, 'min_child_samples': 5}. Best is trial 594 with value: 797.0830964467458.\n"
     ]
    },
    {
     "name": "stdout",
     "output_type": "stream",
     "text": [
      "fin split 0\n",
      "fin split 1\n",
      "fin split 2\n",
      "fin split 3\n",
      "fin split 4\n"
     ]
    },
    {
     "name": "stderr",
     "output_type": "stream",
     "text": [
      "[I 2025-07-19 11:09:17,218] Trial 614 finished with value: 833.0262063087617 and parameters: {'lambda_l1': 0.0005547608046519046, 'lambda_l2': 0.06285065027909623, 'num_leaves': 50, 'feature_fraction': 0.9678676059389684, 'bagging_fraction': 0.9869091353323265, 'bagging_freq': 1, 'min_child_samples': 7}. Best is trial 594 with value: 797.0830964467458.\n"
     ]
    },
    {
     "name": "stdout",
     "output_type": "stream",
     "text": [
      "fin split 0\n",
      "fin split 1\n",
      "fin split 2\n",
      "fin split 3\n",
      "fin split 4\n"
     ]
    },
    {
     "name": "stderr",
     "output_type": "stream",
     "text": [
      "[I 2025-07-19 11:09:43,073] Trial 615 finished with value: 823.0415698880347 and parameters: {'lambda_l1': 0.001595645561902861, 'lambda_l2': 0.09791957387871426, 'num_leaves': 44, 'feature_fraction': 0.9877828290107097, 'bagging_fraction': 0.9913529099174275, 'bagging_freq': 1, 'min_child_samples': 5}. Best is trial 594 with value: 797.0830964467458.\n"
     ]
    },
    {
     "name": "stdout",
     "output_type": "stream",
     "text": [
      "fin split 0\n",
      "fin split 1\n",
      "fin split 2\n",
      "fin split 3\n",
      "fin split 4\n"
     ]
    },
    {
     "name": "stderr",
     "output_type": "stream",
     "text": [
      "[I 2025-07-19 11:10:04,970] Trial 616 finished with value: 950.81869539721 and parameters: {'lambda_l1': 0.000999517155524117, 'lambda_l2': 0.2845238926729498, 'num_leaves': 37, 'feature_fraction': 0.9791693273472631, 'bagging_fraction': 0.9998492967811218, 'bagging_freq': 1, 'min_child_samples': 29}. Best is trial 594 with value: 797.0830964467458.\n"
     ]
    },
    {
     "name": "stdout",
     "output_type": "stream",
     "text": [
      "fin split 0\n",
      "fin split 1\n",
      "fin split 2\n",
      "fin split 3\n",
      "fin split 4\n"
     ]
    },
    {
     "name": "stderr",
     "output_type": "stream",
     "text": [
      "[I 2025-07-19 11:10:34,849] Trial 617 finished with value: 819.4207052928 and parameters: {'lambda_l1': 0.0022326490084797106, 'lambda_l2': 0.13986528928609288, 'num_leaves': 47, 'feature_fraction': 0.9683074023691556, 'bagging_fraction': 0.9889194694228423, 'bagging_freq': 1, 'min_child_samples': 7}. Best is trial 594 with value: 797.0830964467458.\n"
     ]
    },
    {
     "name": "stdout",
     "output_type": "stream",
     "text": [
      "fin split 0\n",
      "fin split 1\n",
      "fin split 2\n",
      "fin split 3\n",
      "fin split 4\n"
     ]
    },
    {
     "name": "stderr",
     "output_type": "stream",
     "text": [
      "[I 2025-07-19 11:11:03,626] Trial 618 finished with value: 801.993943878364 and parameters: {'lambda_l1': 0.0022827335939836855, 'lambda_l2': 0.14168441429369563, 'num_leaves': 52, 'feature_fraction': 0.9680413109836888, 'bagging_fraction': 0.9865905391522376, 'bagging_freq': 1, 'min_child_samples': 7}. Best is trial 594 with value: 797.0830964467458.\n"
     ]
    },
    {
     "name": "stdout",
     "output_type": "stream",
     "text": [
      "fin split 0\n",
      "fin split 1\n",
      "fin split 2\n",
      "fin split 3\n",
      "fin split 4\n"
     ]
    },
    {
     "name": "stderr",
     "output_type": "stream",
     "text": [
      "[I 2025-07-19 11:11:35,157] Trial 619 finished with value: 963.2272904495346 and parameters: {'lambda_l1': 0.0005554171804534899, 'lambda_l2': 0.20582874501577675, 'num_leaves': 51, 'feature_fraction': 0.9683114338438591, 'bagging_fraction': 0.9874569137098914, 'bagging_freq': 1, 'min_child_samples': 64}. Best is trial 594 with value: 797.0830964467458.\n"
     ]
    },
    {
     "name": "stdout",
     "output_type": "stream",
     "text": [
      "fin split 0\n",
      "fin split 1\n",
      "fin split 2\n",
      "fin split 3\n",
      "fin split 4\n"
     ]
    },
    {
     "name": "stderr",
     "output_type": "stream",
     "text": [
      "[I 2025-07-19 11:12:04,671] Trial 620 finished with value: 836.1019659427095 and parameters: {'lambda_l1': 0.002278477381268016, 'lambda_l2': 0.11612505045054367, 'num_leaves': 52, 'feature_fraction': 0.978507729386836, 'bagging_fraction': 0.9863849748328477, 'bagging_freq': 1, 'min_child_samples': 7}. Best is trial 594 with value: 797.0830964467458.\n"
     ]
    },
    {
     "name": "stdout",
     "output_type": "stream",
     "text": [
      "fin split 0\n",
      "fin split 1\n",
      "fin split 2\n",
      "fin split 3\n",
      "fin split 4\n"
     ]
    },
    {
     "name": "stderr",
     "output_type": "stream",
     "text": [
      "[I 2025-07-19 11:12:26,616] Trial 621 finished with value: 836.8166948395502 and parameters: {'lambda_l1': 0.001688934508155434, 'lambda_l2': 0.33711658456404786, 'num_leaves': 41, 'feature_fraction': 0.9636776641040176, 'bagging_fraction': 0.9863294270722954, 'bagging_freq': 1, 'min_child_samples': 7}. Best is trial 594 with value: 797.0830964467458.\n"
     ]
    },
    {
     "name": "stdout",
     "output_type": "stream",
     "text": [
      "fin split 0\n",
      "fin split 1\n",
      "fin split 2\n",
      "fin split 3\n",
      "fin split 4\n"
     ]
    },
    {
     "name": "stderr",
     "output_type": "stream",
     "text": [
      "[I 2025-07-19 11:12:48,816] Trial 622 finished with value: 835.2448309801757 and parameters: {'lambda_l1': 0.0030237590091019844, 'lambda_l2': 0.07885175489535881, 'num_leaves': 37, 'feature_fraction': 0.980597825016593, 'bagging_fraction': 0.9917363217743512, 'bagging_freq': 1, 'min_child_samples': 7}. Best is trial 594 with value: 797.0830964467458.\n"
     ]
    },
    {
     "name": "stdout",
     "output_type": "stream",
     "text": [
      "fin split 0\n",
      "fin split 1\n",
      "fin split 2\n",
      "fin split 3\n",
      "fin split 4\n"
     ]
    },
    {
     "name": "stderr",
     "output_type": "stream",
     "text": [
      "[I 2025-07-19 11:13:12,656] Trial 623 finished with value: 809.2112129182643 and parameters: {'lambda_l1': 0.0011043193052146813, 'lambda_l2': 0.476249506420095, 'num_leaves': 44, 'feature_fraction': 0.969576716548257, 'bagging_fraction': 0.9920779910798756, 'bagging_freq': 1, 'min_child_samples': 5}. Best is trial 594 with value: 797.0830964467458.\n"
     ]
    },
    {
     "name": "stdout",
     "output_type": "stream",
     "text": [
      "fin split 0\n",
      "fin split 1\n",
      "fin split 2\n",
      "fin split 3\n",
      "fin split 4\n"
     ]
    },
    {
     "name": "stderr",
     "output_type": "stream",
     "text": [
      "[I 2025-07-19 11:13:43,365] Trial 624 finished with value: 816.5953786120103 and parameters: {'lambda_l1': 0.0009844642300726513, 'lambda_l2': 0.47428141895542014, 'num_leaves': 52, 'feature_fraction': 0.9672272340050861, 'bagging_fraction': 0.9930636715015203, 'bagging_freq': 1, 'min_child_samples': 5}. Best is trial 594 with value: 797.0830964467458.\n"
     ]
    },
    {
     "name": "stdout",
     "output_type": "stream",
     "text": [
      "fin split 0\n",
      "fin split 1\n",
      "fin split 2\n",
      "fin split 3\n",
      "fin split 4\n"
     ]
    },
    {
     "name": "stderr",
     "output_type": "stream",
     "text": [
      "[I 2025-07-19 11:14:12,269] Trial 625 finished with value: 804.9452517446405 and parameters: {'lambda_l1': 0.0009342402598278434, 'lambda_l2': 0.5234297904306521, 'num_leaves': 52, 'feature_fraction': 0.9727764350378322, 'bagging_fraction': 0.9916788764592344, 'bagging_freq': 1, 'min_child_samples': 5}. Best is trial 594 with value: 797.0830964467458.\n"
     ]
    },
    {
     "name": "stdout",
     "output_type": "stream",
     "text": [
      "fin split 0\n",
      "fin split 1\n",
      "fin split 2\n",
      "fin split 3\n",
      "fin split 4\n"
     ]
    },
    {
     "name": "stderr",
     "output_type": "stream",
     "text": [
      "[I 2025-07-19 11:14:42,673] Trial 626 finished with value: 815.6480874386775 and parameters: {'lambda_l1': 0.0009513055670664999, 'lambda_l2': 0.5525912740998772, 'num_leaves': 53, 'feature_fraction': 0.9876147050064189, 'bagging_fraction': 0.9932176579675234, 'bagging_freq': 1, 'min_child_samples': 5}. Best is trial 594 with value: 797.0830964467458.\n"
     ]
    },
    {
     "name": "stdout",
     "output_type": "stream",
     "text": [
      "fin split 0\n",
      "fin split 1\n",
      "fin split 2\n",
      "fin split 3\n",
      "fin split 4\n"
     ]
    },
    {
     "name": "stderr",
     "output_type": "stream",
     "text": [
      "[I 2025-07-19 11:15:13,538] Trial 627 finished with value: 821.785871509906 and parameters: {'lambda_l1': 0.0010395924162935912, 'lambda_l2': 0.4920451366667815, 'num_leaves': 53, 'feature_fraction': 0.9995547037051223, 'bagging_fraction': 0.9923987838576862, 'bagging_freq': 1, 'min_child_samples': 5}. Best is trial 594 with value: 797.0830964467458.\n"
     ]
    },
    {
     "name": "stdout",
     "output_type": "stream",
     "text": [
      "fin split 0\n",
      "fin split 1\n",
      "fin split 2\n",
      "fin split 3\n",
      "fin split 4\n"
     ]
    },
    {
     "name": "stderr",
     "output_type": "stream",
     "text": [
      "[I 2025-07-19 11:15:44,586] Trial 628 finished with value: 832.2012038397497 and parameters: {'lambda_l1': 0.0006140343572928432, 'lambda_l2': 0.8255734646681957, 'num_leaves': 53, 'feature_fraction': 0.9869204511226229, 'bagging_fraction': 0.9997777851112991, 'bagging_freq': 1, 'min_child_samples': 5}. Best is trial 594 with value: 797.0830964467458.\n"
     ]
    },
    {
     "name": "stdout",
     "output_type": "stream",
     "text": [
      "fin split 0\n",
      "fin split 1\n",
      "fin split 2\n",
      "fin split 3\n",
      "fin split 4\n"
     ]
    },
    {
     "name": "stderr",
     "output_type": "stream",
     "text": [
      "[I 2025-07-19 11:16:12,867] Trial 629 finished with value: 818.3020107335926 and parameters: {'lambda_l1': 0.0009450066567900388, 'lambda_l2': 0.3624935215680907, 'num_leaves': 52, 'feature_fraction': 0.977079876553709, 'bagging_fraction': 0.9915355523334441, 'bagging_freq': 1, 'min_child_samples': 5}. Best is trial 594 with value: 797.0830964467458.\n"
     ]
    },
    {
     "name": "stdout",
     "output_type": "stream",
     "text": [
      "fin split 0\n",
      "fin split 1\n",
      "fin split 2\n",
      "fin split 3\n",
      "fin split 4\n"
     ]
    },
    {
     "name": "stderr",
     "output_type": "stream",
     "text": [
      "[I 2025-07-19 11:17:58,595] Trial 630 finished with value: 894.802254185325 and parameters: {'lambda_l1': 0.0014912902686073212, 'lambda_l2': 0.4964803430805392, 'num_leaves': 243, 'feature_fraction': 0.9870931923101363, 'bagging_fraction': 0.9923278110404637, 'bagging_freq': 1, 'min_child_samples': 5}. Best is trial 594 with value: 797.0830964467458.\n"
     ]
    },
    {
     "name": "stdout",
     "output_type": "stream",
     "text": [
      "fin split 0\n",
      "fin split 1\n",
      "fin split 2\n",
      "fin split 3\n",
      "fin split 4\n"
     ]
    },
    {
     "name": "stderr",
     "output_type": "stream",
     "text": [
      "[I 2025-07-19 11:18:31,593] Trial 631 finished with value: 823.9345510990869 and parameters: {'lambda_l1': 0.0006046438146972064, 'lambda_l2': 0.6784349879701117, 'num_leaves': 58, 'feature_fraction': 0.9746589794460963, 'bagging_fraction': 0.9856010122918448, 'bagging_freq': 1, 'min_child_samples': 5}. Best is trial 594 with value: 797.0830964467458.\n"
     ]
    },
    {
     "name": "stdout",
     "output_type": "stream",
     "text": [
      "fin split 0\n",
      "fin split 1\n",
      "fin split 2\n",
      "fin split 3\n",
      "fin split 4\n"
     ]
    },
    {
     "name": "stderr",
     "output_type": "stream",
     "text": [
      "[I 2025-07-19 11:19:00,684] Trial 632 finished with value: 835.6369418426974 and parameters: {'lambda_l1': 0.0008920692055483117, 'lambda_l2': 0.23942950039295374, 'num_leaves': 51, 'feature_fraction': 0.9898756655186647, 'bagging_fraction': 0.9998080116383893, 'bagging_freq': 1, 'min_child_samples': 5}. Best is trial 594 with value: 797.0830964467458.\n"
     ]
    },
    {
     "name": "stdout",
     "output_type": "stream",
     "text": [
      "fin split 0\n",
      "fin split 1\n",
      "fin split 2\n",
      "fin split 3\n",
      "fin split 4\n"
     ]
    },
    {
     "name": "stderr",
     "output_type": "stream",
     "text": [
      "[I 2025-07-19 11:19:31,579] Trial 633 finished with value: 825.9454660613533 and parameters: {'lambda_l1': 0.0013103059478198585, 'lambda_l2': 1.4882413733028454, 'num_leaves': 59, 'feature_fraction': 0.9697889997301525, 'bagging_fraction': 0.9925418645436582, 'bagging_freq': 1, 'min_child_samples': 5}. Best is trial 594 with value: 797.0830964467458.\n"
     ]
    },
    {
     "name": "stdout",
     "output_type": "stream",
     "text": [
      "fin split 0\n",
      "fin split 1\n",
      "fin split 2\n",
      "fin split 3\n",
      "fin split 4\n"
     ]
    },
    {
     "name": "stderr",
     "output_type": "stream",
     "text": [
      "[I 2025-07-19 11:19:54,542] Trial 634 finished with value: 932.4778247304494 and parameters: {'lambda_l1': 0.0009015143746333372, 'lambda_l2': 0.3898540875400789, 'num_leaves': 47, 'feature_fraction': 0.9880386154534752, 'bagging_fraction': 0.9858839899933416, 'bagging_freq': 1, 'min_child_samples': 23}. Best is trial 594 with value: 797.0830964467458.\n"
     ]
    },
    {
     "name": "stdout",
     "output_type": "stream",
     "text": [
      "fin split 0\n",
      "fin split 1\n",
      "fin split 2\n",
      "fin split 3\n",
      "fin split 4\n"
     ]
    },
    {
     "name": "stderr",
     "output_type": "stream",
     "text": [
      "[I 2025-07-19 11:20:25,367] Trial 635 finished with value: 957.5865569702288 and parameters: {'lambda_l1': 0.0017355801801195953, 'lambda_l2': 0.8581698166421363, 'num_leaves': 52, 'feature_fraction': 0.9803381165526593, 'bagging_fraction': 0.9921446405574805, 'bagging_freq': 1, 'min_child_samples': 40}. Best is trial 594 with value: 797.0830964467458.\n"
     ]
    },
    {
     "name": "stdout",
     "output_type": "stream",
     "text": [
      "fin split 0\n",
      "fin split 1\n",
      "fin split 2\n",
      "fin split 3\n",
      "fin split 4\n"
     ]
    },
    {
     "name": "stderr",
     "output_type": "stream",
     "text": [
      "[I 2025-07-19 11:20:54,834] Trial 636 finished with value: 811.4397384585706 and parameters: {'lambda_l1': 0.0005800905518599876, 'lambda_l2': 0.17751327346329884, 'num_leaves': 48, 'feature_fraction': 0.9996197444831236, 'bagging_fraction': 0.9853663253571299, 'bagging_freq': 1, 'min_child_samples': 7}. Best is trial 594 with value: 797.0830964467458.\n"
     ]
    },
    {
     "name": "stdout",
     "output_type": "stream",
     "text": [
      "fin split 0\n",
      "fin split 1\n",
      "fin split 2\n",
      "fin split 3\n",
      "fin split 4\n"
     ]
    },
    {
     "name": "stderr",
     "output_type": "stream",
     "text": [
      "[I 2025-07-19 11:21:27,891] Trial 637 finished with value: 833.0919417695299 and parameters: {'lambda_l1': 0.0007243564371446615, 'lambda_l2': 0.14755935418227567, 'num_leaves': 56, 'feature_fraction': 0.9959711803320339, 'bagging_fraction': 0.9863415813578633, 'bagging_freq': 1, 'min_child_samples': 7}. Best is trial 594 with value: 797.0830964467458.\n"
     ]
    },
    {
     "name": "stdout",
     "output_type": "stream",
     "text": [
      "fin split 0\n",
      "fin split 1\n",
      "fin split 2\n",
      "fin split 3\n",
      "fin split 4\n"
     ]
    },
    {
     "name": "stderr",
     "output_type": "stream",
     "text": [
      "[I 2025-07-19 11:21:56,520] Trial 638 finished with value: 840.4576504224726 and parameters: {'lambda_l1': 0.000461352628526096, 'lambda_l2': 0.5700074006516829, 'num_leaves': 49, 'feature_fraction': 0.999370983889823, 'bagging_fraction': 0.9851062087169759, 'bagging_freq': 1, 'min_child_samples': 7}. Best is trial 594 with value: 797.0830964467458.\n"
     ]
    },
    {
     "name": "stdout",
     "output_type": "stream",
     "text": [
      "fin split 0\n",
      "fin split 1\n",
      "fin split 2\n",
      "fin split 3\n",
      "fin split 4\n"
     ]
    },
    {
     "name": "stderr",
     "output_type": "stream",
     "text": [
      "[I 2025-07-19 11:22:27,380] Trial 639 finished with value: 835.4375481496473 and parameters: {'lambda_l1': 0.0005233988842541473, 'lambda_l2': 0.3171289703738438, 'num_leaves': 60, 'feature_fraction': 0.9656650942132972, 'bagging_fraction': 0.9854527841292199, 'bagging_freq': 1, 'min_child_samples': 8}. Best is trial 594 with value: 797.0830964467458.\n"
     ]
    },
    {
     "name": "stdout",
     "output_type": "stream",
     "text": [
      "fin split 0\n",
      "fin split 1\n",
      "fin split 2\n",
      "fin split 3\n",
      "fin split 4\n"
     ]
    },
    {
     "name": "stderr",
     "output_type": "stream",
     "text": [
      "[I 2025-07-19 11:22:55,915] Trial 640 finished with value: 830.4366916586785 and parameters: {'lambda_l1': 0.0008354774063686751, 'lambda_l2': 1.162094891666927, 'num_leaves': 52, 'feature_fraction': 0.9897589223546285, 'bagging_fraction': 0.9925237363115034, 'bagging_freq': 1, 'min_child_samples': 7}. Best is trial 594 with value: 797.0830964467458.\n"
     ]
    },
    {
     "name": "stdout",
     "output_type": "stream",
     "text": [
      "fin split 0\n",
      "fin split 1\n",
      "fin split 2\n",
      "fin split 3\n",
      "fin split 4\n"
     ]
    },
    {
     "name": "stderr",
     "output_type": "stream",
     "text": [
      "[I 2025-07-19 11:23:21,222] Trial 641 finished with value: 817.366857910759 and parameters: {'lambda_l1': 0.0006125614315534012, 'lambda_l2': 0.1732206588689283, 'num_leaves': 47, 'feature_fraction': 0.9750226083756579, 'bagging_fraction': 0.9850911443584108, 'bagging_freq': 1, 'min_child_samples': 5}. Best is trial 594 with value: 797.0830964467458.\n"
     ]
    },
    {
     "name": "stdout",
     "output_type": "stream",
     "text": [
      "fin split 0\n",
      "fin split 1\n",
      "fin split 2\n",
      "fin split 3\n",
      "fin split 4\n"
     ]
    },
    {
     "name": "stderr",
     "output_type": "stream",
     "text": [
      "[I 2025-07-19 11:23:51,603] Trial 642 finished with value: 970.456831893141 and parameters: {'lambda_l1': 0.0010742630649551667, 'lambda_l2': 0.5588262375700701, 'num_leaves': 54, 'feature_fraction': 0.9894053803497552, 'bagging_fraction': 0.9928124922672298, 'bagging_freq': 1, 'min_child_samples': 56}. Best is trial 594 with value: 797.0830964467458.\n"
     ]
    },
    {
     "name": "stdout",
     "output_type": "stream",
     "text": [
      "fin split 0\n",
      "fin split 1\n",
      "fin split 2\n",
      "fin split 3\n",
      "fin split 4\n"
     ]
    },
    {
     "name": "stderr",
     "output_type": "stream",
     "text": [
      "[I 2025-07-19 11:24:19,649] Trial 643 finished with value: 848.218741963176 and parameters: {'lambda_l1': 0.0018153650455735592, 'lambda_l2': 0.2602814421114606, 'num_leaves': 46, 'feature_fraction': 0.9997407592128054, 'bagging_fraction': 0.992004948603151, 'bagging_freq': 1, 'min_child_samples': 8}. Best is trial 594 with value: 797.0830964467458.\n"
     ]
    },
    {
     "name": "stdout",
     "output_type": "stream",
     "text": [
      "fin split 0\n",
      "fin split 1\n",
      "fin split 2\n",
      "fin split 3\n",
      "fin split 4\n"
     ]
    },
    {
     "name": "stderr",
     "output_type": "stream",
     "text": [
      "[I 2025-07-19 11:24:52,858] Trial 644 finished with value: 829.5089163341721 and parameters: {'lambda_l1': 0.00054114245667829, 'lambda_l2': 0.10702420877966823, 'num_leaves': 58, 'feature_fraction': 0.9681417491515515, 'bagging_fraction': 0.9847087176471444, 'bagging_freq': 1, 'min_child_samples': 5}. Best is trial 594 with value: 797.0830964467458.\n"
     ]
    },
    {
     "name": "stdout",
     "output_type": "stream",
     "text": [
      "fin split 0\n",
      "fin split 1\n",
      "fin split 2\n",
      "fin split 3\n",
      "fin split 4\n"
     ]
    },
    {
     "name": "stderr",
     "output_type": "stream",
     "text": [
      "[I 2025-07-19 11:25:20,640] Trial 645 finished with value: 833.3503075109982 and parameters: {'lambda_l1': 0.0012297833337541328, 'lambda_l2': 0.7871662300875645, 'num_leaves': 48, 'feature_fraction': 0.9998870601469626, 'bagging_fraction': 0.9922801225978601, 'bagging_freq': 1, 'min_child_samples': 7}. Best is trial 594 with value: 797.0830964467458.\n"
     ]
    },
    {
     "name": "stdout",
     "output_type": "stream",
     "text": [
      "fin split 0\n",
      "fin split 1\n",
      "fin split 2\n",
      "fin split 3\n",
      "fin split 4\n"
     ]
    },
    {
     "name": "stderr",
     "output_type": "stream",
     "text": [
      "[I 2025-07-19 11:25:48,736] Trial 646 finished with value: 812.511494073446 and parameters: {'lambda_l1': 0.0024224122593615245, 'lambda_l2': 0.43234818489810684, 'num_leaves': 43, 'feature_fraction': 0.9780662952025494, 'bagging_fraction': 0.9997880507767679, 'bagging_freq': 1, 'min_child_samples': 5}. Best is trial 594 with value: 797.0830964467458.\n"
     ]
    },
    {
     "name": "stdout",
     "output_type": "stream",
     "text": [
      "fin split 0\n",
      "fin split 1\n",
      "fin split 2\n",
      "fin split 3\n",
      "fin split 4\n"
     ]
    },
    {
     "name": "stderr",
     "output_type": "stream",
     "text": [
      "[I 2025-07-19 11:26:12,883] Trial 647 finished with value: 848.5340591044499 and parameters: {'lambda_l1': 0.002112700888760163, 'lambda_l2': 0.42584761471096444, 'num_leaves': 41, 'feature_fraction': 0.9608859408371246, 'bagging_fraction': 0.8919029565849474, 'bagging_freq': 1, 'min_child_samples': 8}. Best is trial 594 with value: 797.0830964467458.\n"
     ]
    },
    {
     "name": "stdout",
     "output_type": "stream",
     "text": [
      "fin split 0\n",
      "fin split 1\n",
      "fin split 2\n",
      "fin split 3\n",
      "fin split 4\n"
     ]
    },
    {
     "name": "stderr",
     "output_type": "stream",
     "text": [
      "[I 2025-07-19 11:26:41,712] Trial 648 finished with value: 847.4526154383805 and parameters: {'lambda_l1': 0.0029744556828328324, 'lambda_l2': 1.8471759942382748, 'num_leaves': 53, 'feature_fraction': 0.9756678573149031, 'bagging_fraction': 0.9937472596965877, 'bagging_freq': 1, 'min_child_samples': 7}. Best is trial 594 with value: 797.0830964467458.\n"
     ]
    },
    {
     "name": "stdout",
     "output_type": "stream",
     "text": [
      "fin split 0\n",
      "fin split 1\n",
      "fin split 2\n",
      "fin split 3\n",
      "fin split 4\n"
     ]
    },
    {
     "name": "stderr",
     "output_type": "stream",
     "text": [
      "[I 2025-07-19 11:27:05,693] Trial 649 finished with value: 833.3344452230449 and parameters: {'lambda_l1': 0.002362148044745188, 'lambda_l2': 0.9976790701892355, 'num_leaves': 43, 'feature_fraction': 0.9823728429502439, 'bagging_fraction': 0.9999617098755326, 'bagging_freq': 1, 'min_child_samples': 5}. Best is trial 594 with value: 797.0830964467458.\n"
     ]
    },
    {
     "name": "stdout",
     "output_type": "stream",
     "text": [
      "fin split 0\n",
      "fin split 1\n",
      "fin split 2\n",
      "fin split 3\n",
      "fin split 4\n"
     ]
    },
    {
     "name": "stderr",
     "output_type": "stream",
     "text": [
      "[I 2025-07-19 11:27:32,586] Trial 650 finished with value: 838.0546736929698 and parameters: {'lambda_l1': 0.0013317653305298352, 'lambda_l2': 0.4260466072191591, 'num_leaves': 50, 'feature_fraction': 0.9666492433723375, 'bagging_fraction': 0.9989710268069905, 'bagging_freq': 1, 'min_child_samples': 7}. Best is trial 594 with value: 797.0830964467458.\n"
     ]
    },
    {
     "name": "stdout",
     "output_type": "stream",
     "text": [
      "fin split 0\n",
      "fin split 1\n",
      "fin split 2\n",
      "fin split 3\n",
      "fin split 4\n"
     ]
    },
    {
     "name": "stderr",
     "output_type": "stream",
     "text": [
      "[I 2025-07-19 11:27:56,300] Trial 651 finished with value: 816.290055226827 and parameters: {'lambda_l1': 0.0029316054604840835, 'lambda_l2': 0.2605422156932053, 'num_leaves': 41, 'feature_fraction': 0.9847119847103156, 'bagging_fraction': 0.9870974279978157, 'bagging_freq': 1, 'min_child_samples': 5}. Best is trial 594 with value: 797.0830964467458.\n"
     ]
    },
    {
     "name": "stdout",
     "output_type": "stream",
     "text": [
      "fin split 0\n",
      "fin split 1\n",
      "fin split 2\n",
      "fin split 3\n",
      "fin split 4\n"
     ]
    },
    {
     "name": "stderr",
     "output_type": "stream",
     "text": [
      "[I 2025-07-19 11:28:18,977] Trial 652 finished with value: 818.24754225171 and parameters: {'lambda_l1': 0.0017355511927805132, 'lambda_l2': 0.6365169702585983, 'num_leaves': 38, 'feature_fraction': 0.9739141331509279, 'bagging_fraction': 0.9847773056437259, 'bagging_freq': 1, 'min_child_samples': 8}. Best is trial 594 with value: 797.0830964467458.\n"
     ]
    },
    {
     "name": "stdout",
     "output_type": "stream",
     "text": [
      "fin split 0\n",
      "fin split 1\n",
      "fin split 2\n",
      "fin split 3\n",
      "fin split 4\n"
     ]
    },
    {
     "name": "stderr",
     "output_type": "stream",
     "text": [
      "[I 2025-07-19 11:29:09,952] Trial 653 finished with value: 851.7978020057867 and parameters: {'lambda_l1': 0.0031828006842700082, 'lambda_l2': 0.3047688211280021, 'num_leaves': 113, 'feature_fraction': 0.9600094784502676, 'bagging_fraction': 0.984710993062751, 'bagging_freq': 1, 'min_child_samples': 7}. Best is trial 594 with value: 797.0830964467458.\n"
     ]
    },
    {
     "name": "stdout",
     "output_type": "stream",
     "text": [
      "fin split 0\n",
      "fin split 1\n",
      "fin split 2\n",
      "fin split 3\n",
      "fin split 4\n"
     ]
    },
    {
     "name": "stderr",
     "output_type": "stream",
     "text": [
      "[I 2025-07-19 11:29:35,536] Trial 654 finished with value: 823.2843609419206 and parameters: {'lambda_l1': 0.0010264565322785457, 'lambda_l2': 2.757194491557359, 'num_leaves': 41, 'feature_fraction': 0.9821000665425985, 'bagging_fraction': 0.9842946479603676, 'bagging_freq': 1, 'min_child_samples': 5}. Best is trial 594 with value: 797.0830964467458.\n"
     ]
    },
    {
     "name": "stdout",
     "output_type": "stream",
     "text": [
      "fin split 0\n",
      "fin split 1\n",
      "fin split 2\n",
      "fin split 3\n",
      "fin split 4\n"
     ]
    },
    {
     "name": "stderr",
     "output_type": "stream",
     "text": [
      "[I 2025-07-19 11:29:57,359] Trial 655 finished with value: 829.8256601463657 and parameters: {'lambda_l1': 0.0027632023876060607, 'lambda_l2': 0.4389876321637287, 'num_leaves': 37, 'feature_fraction': 0.9685593114403123, 'bagging_fraction': 0.9920864280897466, 'bagging_freq': 1, 'min_child_samples': 8}. Best is trial 594 with value: 797.0830964467458.\n"
     ]
    },
    {
     "name": "stdout",
     "output_type": "stream",
     "text": [
      "fin split 0\n",
      "fin split 1\n",
      "fin split 2\n",
      "fin split 3\n",
      "fin split 4\n"
     ]
    },
    {
     "name": "stderr",
     "output_type": "stream",
     "text": [
      "[I 2025-07-19 11:30:30,911] Trial 656 finished with value: 816.9572519322105 and parameters: {'lambda_l1': 0.0013570693504022684, 'lambda_l2': 1.2869356239203664, 'num_leaves': 55, 'feature_fraction': 0.9859974250099526, 'bagging_fraction': 0.9837728691280062, 'bagging_freq': 1, 'min_child_samples': 5}. Best is trial 594 with value: 797.0830964467458.\n"
     ]
    },
    {
     "name": "stdout",
     "output_type": "stream",
     "text": [
      "fin split 0\n",
      "fin split 1\n",
      "fin split 2\n",
      "fin split 3\n",
      "fin split 4\n"
     ]
    },
    {
     "name": "stderr",
     "output_type": "stream",
     "text": [
      "[I 2025-07-19 11:30:57,154] Trial 657 finished with value: 813.714575126702 and parameters: {'lambda_l1': 0.0005315836573178557, 'lambda_l2': 0.8212846241554085, 'num_leaves': 46, 'feature_fraction': 0.959980967207814, 'bagging_fraction': 0.9996556316930356, 'bagging_freq': 1, 'min_child_samples': 8}. Best is trial 594 with value: 797.0830964467458.\n"
     ]
    },
    {
     "name": "stdout",
     "output_type": "stream",
     "text": [
      "fin split 0\n",
      "fin split 1\n",
      "fin split 2\n",
      "fin split 3\n",
      "fin split 4\n"
     ]
    },
    {
     "name": "stderr",
     "output_type": "stream",
     "text": [
      "[I 2025-07-19 11:32:07,224] Trial 658 finished with value: 894.7414899036361 and parameters: {'lambda_l1': 0.0005748741942778611, 'lambda_l2': 0.7886512308468175, 'num_leaves': 177, 'feature_fraction': 0.9549979486553087, 'bagging_fraction': 0.9851861802446281, 'bagging_freq': 1, 'min_child_samples': 9}. Best is trial 594 with value: 797.0830964467458.\n"
     ]
    },
    {
     "name": "stdout",
     "output_type": "stream",
     "text": [
      "fin split 0\n",
      "fin split 1\n",
      "fin split 2\n",
      "fin split 3\n",
      "fin split 4\n"
     ]
    },
    {
     "name": "stderr",
     "output_type": "stream",
     "text": [
      "[I 2025-07-19 11:32:34,203] Trial 659 finished with value: 830.1480924969226 and parameters: {'lambda_l1': 0.0004938858542015217, 'lambda_l2': 1.568696953621639, 'num_leaves': 50, 'feature_fraction': 0.9582409748923192, 'bagging_fraction': 0.9996978831366053, 'bagging_freq': 1, 'min_child_samples': 9}. Best is trial 594 with value: 797.0830964467458.\n"
     ]
    },
    {
     "name": "stdout",
     "output_type": "stream",
     "text": [
      "fin split 0\n",
      "fin split 1\n",
      "fin split 2\n",
      "fin split 3\n",
      "fin split 4\n"
     ]
    },
    {
     "name": "stderr",
     "output_type": "stream",
     "text": [
      "[I 2025-07-19 11:33:01,380] Trial 660 finished with value: 967.8296865412569 and parameters: {'lambda_l1': 0.0034686508172945885, 'lambda_l2': 0.8858131499803623, 'num_leaves': 58, 'feature_fraction': 0.9661276097609736, 'bagging_fraction': 0.9925035784961563, 'bagging_freq': 1, 'min_child_samples': 33}. Best is trial 594 with value: 797.0830964467458.\n"
     ]
    },
    {
     "name": "stdout",
     "output_type": "stream",
     "text": [
      "fin split 0\n",
      "fin split 1\n",
      "fin split 2\n",
      "fin split 3\n",
      "fin split 4\n"
     ]
    },
    {
     "name": "stderr",
     "output_type": "stream",
     "text": [
      "[I 2025-07-19 11:33:28,168] Trial 661 finished with value: 825.1650828717793 and parameters: {'lambda_l1': 0.0017922154791120012, 'lambda_l2': 4.279966345999688, 'num_leaves': 47, 'feature_fraction': 0.9753163225037967, 'bagging_fraction': 0.9857301237141866, 'bagging_freq': 1, 'min_child_samples': 8}. Best is trial 594 with value: 797.0830964467458.\n"
     ]
    },
    {
     "name": "stdout",
     "output_type": "stream",
     "text": [
      "fin split 0\n",
      "fin split 1\n",
      "fin split 2\n",
      "fin split 3\n",
      "fin split 4\n"
     ]
    },
    {
     "name": "stderr",
     "output_type": "stream",
     "text": [
      "[I 2025-07-19 11:33:59,586] Trial 662 finished with value: 850.0900422390582 and parameters: {'lambda_l1': 0.000831802629414141, 'lambda_l2': 0.5821243830111714, 'num_leaves': 61, 'feature_fraction': 0.9725937061492351, 'bagging_fraction': 0.99275936636613, 'bagging_freq': 1, 'min_child_samples': 7}. Best is trial 594 with value: 797.0830964467458.\n"
     ]
    },
    {
     "name": "stdout",
     "output_type": "stream",
     "text": [
      "fin split 0\n",
      "fin split 1\n",
      "fin split 2\n",
      "fin split 3\n",
      "fin split 4\n"
     ]
    },
    {
     "name": "stderr",
     "output_type": "stream",
     "text": [
      "[I 2025-07-19 11:34:27,336] Trial 663 finished with value: 973.3996909280813 and parameters: {'lambda_l1': 0.000494237664324467, 'lambda_l2': 0.31107021465579004, 'num_leaves': 53, 'feature_fraction': 0.9611454930105299, 'bagging_fraction': 0.9853619770408055, 'bagging_freq': 1, 'min_child_samples': 37}. Best is trial 594 with value: 797.0830964467458.\n"
     ]
    },
    {
     "name": "stdout",
     "output_type": "stream",
     "text": [
      "fin split 0\n",
      "fin split 1\n",
      "fin split 2\n",
      "fin split 3\n",
      "fin split 4\n"
     ]
    },
    {
     "name": "stderr",
     "output_type": "stream",
     "text": [
      "[I 2025-07-19 11:34:52,632] Trial 664 finished with value: 852.3606347275336 and parameters: {'lambda_l1': 0.002105806080725633, 'lambda_l2': 0.5951349949287525, 'num_leaves': 46, 'feature_fraction': 0.9888061534339235, 'bagging_fraction': 0.9929915453186042, 'bagging_freq': 1, 'min_child_samples': 9}. Best is trial 594 with value: 797.0830964467458.\n"
     ]
    },
    {
     "name": "stdout",
     "output_type": "stream",
     "text": [
      "fin split 0\n",
      "fin split 1\n",
      "fin split 2\n",
      "fin split 3\n",
      "fin split 4\n"
     ]
    },
    {
     "name": "stderr",
     "output_type": "stream",
     "text": [
      "[I 2025-07-19 11:35:52,530] Trial 665 finished with value: 898.4147759371834 and parameters: {'lambda_l1': 0.001336145713637565, 'lambda_l2': 1.077216280410662, 'num_leaves': 128, 'feature_fraction': 0.9784431891218389, 'bagging_fraction': 0.9996143480827904, 'bagging_freq': 1, 'min_child_samples': 7}. Best is trial 594 with value: 797.0830964467458.\n"
     ]
    },
    {
     "name": "stdout",
     "output_type": "stream",
     "text": [
      "fin split 0\n",
      "fin split 1\n",
      "fin split 2\n",
      "fin split 3\n",
      "fin split 4\n"
     ]
    },
    {
     "name": "stderr",
     "output_type": "stream",
     "text": [
      "[I 2025-07-19 11:36:20,002] Trial 666 finished with value: 992.7084427693679 and parameters: {'lambda_l1': 0.0009266855661102686, 'lambda_l2': 0.40265628665696596, 'num_leaves': 43, 'feature_fraction': 0.9989450623274396, 'bagging_fraction': 0.9844851547633554, 'bagging_freq': 1, 'min_child_samples': 79}. Best is trial 594 with value: 797.0830964467458.\n"
     ]
    },
    {
     "name": "stdout",
     "output_type": "stream",
     "text": [
      "fin split 0\n",
      "fin split 1\n",
      "fin split 2\n",
      "fin split 3\n",
      "fin split 4\n"
     ]
    },
    {
     "name": "stderr",
     "output_type": "stream",
     "text": [
      "[I 2025-07-19 11:36:48,576] Trial 667 finished with value: 827.6731012960353 and parameters: {'lambda_l1': 0.0036260769412180304, 'lambda_l2': 0.06375165567271522, 'num_leaves': 51, 'feature_fraction': 0.9997934872653748, 'bagging_fraction': 0.992655256990057, 'bagging_freq': 1, 'min_child_samples': 7}. Best is trial 594 with value: 797.0830964467458.\n"
     ]
    },
    {
     "name": "stdout",
     "output_type": "stream",
     "text": [
      "fin split 0\n",
      "fin split 1\n",
      "fin split 2\n",
      "fin split 3\n",
      "fin split 4\n"
     ]
    },
    {
     "name": "stderr",
     "output_type": "stream",
     "text": [
      "[I 2025-07-19 11:37:17,919] Trial 668 finished with value: 821.1707152742836 and parameters: {'lambda_l1': 0.0021000606869530825, 'lambda_l2': 0.12292794348752079, 'num_leaves': 56, 'feature_fraction': 0.9591515299938217, 'bagging_fraction': 0.9840066258777304, 'bagging_freq': 1, 'min_child_samples': 5}. Best is trial 594 with value: 797.0830964467458.\n"
     ]
    },
    {
     "name": "stdout",
     "output_type": "stream",
     "text": [
      "fin split 0\n",
      "fin split 1\n",
      "fin split 2\n",
      "fin split 3\n",
      "fin split 4\n"
     ]
    },
    {
     "name": "stderr",
     "output_type": "stream",
     "text": [
      "[I 2025-07-19 11:37:42,957] Trial 669 finished with value: 866.0652962199874 and parameters: {'lambda_l1': 0.0007473615167298758, 'lambda_l2': 2.4830002865137053, 'num_leaves': 47, 'feature_fraction': 0.9736630719309546, 'bagging_fraction': 0.9998866285180948, 'bagging_freq': 1, 'min_child_samples': 9}. Best is trial 594 with value: 797.0830964467458.\n"
     ]
    },
    {
     "name": "stdout",
     "output_type": "stream",
     "text": [
      "fin split 0\n",
      "fin split 1\n",
      "fin split 2\n",
      "fin split 3\n",
      "fin split 4\n"
     ]
    },
    {
     "name": "stderr",
     "output_type": "stream",
     "text": [
      "[I 2025-07-19 11:38:05,202] Trial 670 finished with value: 828.463596924088 and parameters: {'lambda_l1': 0.0012483629524818345, 'lambda_l2': 0.2708122228119223, 'num_leaves': 36, 'feature_fraction': 0.9854439723251016, 'bagging_fraction': 0.9913997972688419, 'bagging_freq': 1, 'min_child_samples': 7}. Best is trial 594 with value: 797.0830964467458.\n"
     ]
    },
    {
     "name": "stdout",
     "output_type": "stream",
     "text": [
      "fin split 0\n",
      "fin split 1\n",
      "fin split 2\n",
      "fin split 3\n",
      "fin split 4\n"
     ]
    },
    {
     "name": "stderr",
     "output_type": "stream",
     "text": [
      "[I 2025-07-19 11:38:28,793] Trial 671 finished with value: 829.2442796508021 and parameters: {'lambda_l1': 0.0005742506171559964, 'lambda_l2': 0.7362097414239073, 'num_leaves': 42, 'feature_fraction': 0.9670872086159986, 'bagging_fraction': 0.9825456831065029, 'bagging_freq': 1, 'min_child_samples': 5}. Best is trial 594 with value: 797.0830964467458.\n"
     ]
    },
    {
     "name": "stdout",
     "output_type": "stream",
     "text": [
      "fin split 0\n",
      "fin split 1\n",
      "fin split 2\n",
      "fin split 3\n",
      "fin split 4\n"
     ]
    },
    {
     "name": "stderr",
     "output_type": "stream",
     "text": [
      "[I 2025-07-19 11:38:55,788] Trial 672 finished with value: 847.774335674017 and parameters: {'lambda_l1': 0.0028959520128129814, 'lambda_l2': 1.3207909597471057, 'num_leaves': 51, 'feature_fraction': 0.9797107579627553, 'bagging_fraction': 0.9060572258642758, 'bagging_freq': 1, 'min_child_samples': 9}. Best is trial 594 with value: 797.0830964467458.\n"
     ]
    },
    {
     "name": "stdout",
     "output_type": "stream",
     "text": [
      "fin split 0\n",
      "fin split 1\n",
      "fin split 2\n",
      "fin split 3\n",
      "fin split 4\n"
     ]
    },
    {
     "name": "stderr",
     "output_type": "stream",
     "text": [
      "[I 2025-07-19 11:39:28,406] Trial 673 finished with value: 845.3649189747484 and parameters: {'lambda_l1': 0.001518354822858388, 'lambda_l2': 0.452598485686552, 'num_leaves': 60, 'feature_fraction': 0.9886267462658429, 'bagging_fraction': 0.9924894631769999, 'bagging_freq': 1, 'min_child_samples': 7}. Best is trial 594 with value: 797.0830964467458.\n"
     ]
    },
    {
     "name": "stdout",
     "output_type": "stream",
     "text": [
      "fin split 0\n",
      "fin split 1\n",
      "fin split 2\n",
      "fin split 3\n",
      "fin split 4\n"
     ]
    },
    {
     "name": "stderr",
     "output_type": "stream",
     "text": [
      "[I 2025-07-19 11:39:51,651] Trial 674 finished with value: 945.0109505870447 and parameters: {'lambda_l1': 0.0008903718899519916, 'lambda_l2': 0.14246121697803388, 'num_leaves': 45, 'feature_fraction': 0.9549431659012599, 'bagging_fraction': 0.9997798091412562, 'bagging_freq': 1, 'min_child_samples': 26}. Best is trial 594 with value: 797.0830964467458.\n"
     ]
    },
    {
     "name": "stdout",
     "output_type": "stream",
     "text": [
      "fin split 0\n",
      "fin split 1\n",
      "fin split 2\n",
      "fin split 3\n",
      "fin split 4\n"
     ]
    },
    {
     "name": "stderr",
     "output_type": "stream",
     "text": [
      "[I 2025-07-19 11:40:15,979] Trial 675 finished with value: 818.8380193242729 and parameters: {'lambda_l1': 0.00042207480473583237, 'lambda_l2': 0.23661119555016522, 'num_leaves': 36, 'feature_fraction': 0.9702830818546069, 'bagging_fraction': 0.9918713077357962, 'bagging_freq': 1, 'min_child_samples': 5}. Best is trial 594 with value: 797.0830964467458.\n"
     ]
    },
    {
     "name": "stdout",
     "output_type": "stream",
     "text": [
      "fin split 0\n",
      "fin split 1\n",
      "fin split 2\n",
      "fin split 3\n",
      "fin split 4\n"
     ]
    },
    {
     "name": "stderr",
     "output_type": "stream",
     "text": [
      "[I 2025-07-19 11:40:47,839] Trial 676 finished with value: 838.1841721127029 and parameters: {'lambda_l1': 0.0019214286893977487, 'lambda_l2': 0.861498441126043, 'num_leaves': 53, 'feature_fraction': 0.9893976170531043, 'bagging_fraction': 0.982709135056148, 'bagging_freq': 1, 'min_child_samples': 7}. Best is trial 594 with value: 797.0830964467458.\n"
     ]
    },
    {
     "name": "stdout",
     "output_type": "stream",
     "text": [
      "fin split 0\n",
      "fin split 1\n",
      "fin split 2\n",
      "fin split 3\n",
      "fin split 4\n"
     ]
    },
    {
     "name": "stderr",
     "output_type": "stream",
     "text": [
      "[I 2025-07-19 11:41:12,406] Trial 677 finished with value: 819.5278192913146 and parameters: {'lambda_l1': 0.00358991754023738, 'lambda_l2': 0.3999469242458032, 'num_leaves': 42, 'feature_fraction': 0.9781214533385165, 'bagging_fraction': 0.9834283828398934, 'bagging_freq': 1, 'min_child_samples': 9}. Best is trial 594 with value: 797.0830964467458.\n"
     ]
    },
    {
     "name": "stdout",
     "output_type": "stream",
     "text": [
      "fin split 0\n",
      "fin split 1\n",
      "fin split 2\n",
      "fin split 3\n",
      "fin split 4\n"
     ]
    },
    {
     "name": "stderr",
     "output_type": "stream",
     "text": [
      "[I 2025-07-19 11:41:40,919] Trial 678 finished with value: 839.1612564057316 and parameters: {'lambda_l1': 0.0011897267687745784, 'lambda_l2': 0.10396932051929501, 'num_leaves': 48, 'feature_fraction': 0.9584126833917022, 'bagging_fraction': 0.999969149872641, 'bagging_freq': 1, 'min_child_samples': 5}. Best is trial 594 with value: 797.0830964467458.\n"
     ]
    },
    {
     "name": "stdout",
     "output_type": "stream",
     "text": [
      "fin split 0\n",
      "fin split 1\n",
      "fin split 2\n",
      "fin split 3\n",
      "fin split 4\n"
     ]
    },
    {
     "name": "stderr",
     "output_type": "stream",
     "text": [
      "[I 2025-07-19 11:42:12,657] Trial 679 finished with value: 847.8701458623786 and parameters: {'lambda_l1': 0.0006613797988842218, 'lambda_l2': 1.6935873964201615, 'num_leaves': 63, 'feature_fraction': 0.9703139513400747, 'bagging_fraction': 0.9921440431884457, 'bagging_freq': 1, 'min_child_samples': 7}. Best is trial 594 with value: 797.0830964467458.\n"
     ]
    },
    {
     "name": "stdout",
     "output_type": "stream",
     "text": [
      "fin split 0\n",
      "fin split 1\n",
      "fin split 2\n",
      "fin split 3\n",
      "fin split 4\n"
     ]
    },
    {
     "name": "stderr",
     "output_type": "stream",
     "text": [
      "[I 2025-07-19 11:42:34,239] Trial 680 finished with value: 859.7352638427419 and parameters: {'lambda_l1': 0.0022228525537919654, 'lambda_l2': 0.17790271750774467, 'num_leaves': 41, 'feature_fraction': 0.9915807817132988, 'bagging_fraction': 0.8359528966157372, 'bagging_freq': 1, 'min_child_samples': 9}. Best is trial 594 with value: 797.0830964467458.\n"
     ]
    },
    {
     "name": "stdout",
     "output_type": "stream",
     "text": [
      "fin split 0\n",
      "fin split 1\n",
      "fin split 2\n",
      "fin split 3\n",
      "fin split 4\n"
     ]
    },
    {
     "name": "stderr",
     "output_type": "stream",
     "text": [
      "[I 2025-07-19 11:43:04,589] Trial 681 finished with value: 822.0508826405505 and parameters: {'lambda_l1': 0.00045858084142804615, 'lambda_l2': 0.5832446066274524, 'num_leaves': 54, 'feature_fraction': 0.9996640741520502, 'bagging_fraction': 0.9846668708102797, 'bagging_freq': 1, 'min_child_samples': 5}. Best is trial 594 with value: 797.0830964467458.\n"
     ]
    },
    {
     "name": "stdout",
     "output_type": "stream",
     "text": [
      "fin split 0\n",
      "fin split 1\n",
      "fin split 2\n",
      "fin split 3\n",
      "fin split 4\n"
     ]
    },
    {
     "name": "stderr",
     "output_type": "stream",
     "text": [
      "[I 2025-07-19 11:43:33,350] Trial 682 finished with value: 824.1828781924222 and parameters: {'lambda_l1': 0.0010089126687634438, 'lambda_l2': 0.29439962472588616, 'num_leaves': 48, 'feature_fraction': 0.9801902443780635, 'bagging_fraction': 0.9922341309886884, 'bagging_freq': 1, 'min_child_samples': 7}. Best is trial 594 with value: 797.0830964467458.\n"
     ]
    },
    {
     "name": "stdout",
     "output_type": "stream",
     "text": [
      "fin split 0\n",
      "fin split 1\n",
      "fin split 2\n",
      "fin split 3\n",
      "fin split 4\n"
     ]
    },
    {
     "name": "stderr",
     "output_type": "stream",
     "text": [
      "[I 2025-07-19 11:43:52,851] Trial 683 finished with value: 822.3200718326791 and parameters: {'lambda_l1': 0.001449144250613585, 'lambda_l2': 0.07294362951218977, 'num_leaves': 36, 'feature_fraction': 0.9586280737008114, 'bagging_fraction': 0.9922810585402773, 'bagging_freq': 1, 'min_child_samples': 5}. Best is trial 594 with value: 797.0830964467458.\n"
     ]
    },
    {
     "name": "stdout",
     "output_type": "stream",
     "text": [
      "fin split 0\n",
      "fin split 1\n",
      "fin split 2\n",
      "fin split 3\n",
      "fin split 4\n"
     ]
    },
    {
     "name": "stderr",
     "output_type": "stream",
     "text": [
      "[I 2025-07-19 11:44:19,125] Trial 684 finished with value: 830.9795999737224 and parameters: {'lambda_l1': 0.003562381198957599, 'lambda_l2': 1.0088405365648734, 'num_leaves': 44, 'feature_fraction': 0.987013995748031, 'bagging_fraction': 0.9834973508497229, 'bagging_freq': 1, 'min_child_samples': 7}. Best is trial 594 with value: 797.0830964467458.\n"
     ]
    },
    {
     "name": "stdout",
     "output_type": "stream",
     "text": [
      "fin split 0\n",
      "fin split 1\n",
      "fin split 2\n",
      "fin split 3\n",
      "fin split 4\n"
     ]
    },
    {
     "name": "stderr",
     "output_type": "stream",
     "text": [
      "[I 2025-07-19 11:44:49,642] Trial 685 finished with value: 974.3887445927147 and parameters: {'lambda_l1': 0.0006693337826392812, 'lambda_l2': 0.3095250718770293, 'num_leaves': 55, 'feature_fraction': 0.9696036262941882, 'bagging_fraction': 0.9927014849076565, 'bagging_freq': 1, 'min_child_samples': 51}. Best is trial 594 with value: 797.0830964467458.\n"
     ]
    },
    {
     "name": "stdout",
     "output_type": "stream",
     "text": [
      "fin split 0\n",
      "fin split 1\n",
      "fin split 2\n",
      "fin split 3\n",
      "fin split 4\n"
     ]
    },
    {
     "name": "stderr",
     "output_type": "stream",
     "text": [
      "[I 2025-07-19 11:45:26,954] Trial 686 finished with value: 988.250885247002 and parameters: {'lambda_l1': 2.7642460963542413e-07, 'lambda_l2': 0.6456348740795156, 'num_leaves': 66, 'feature_fraction': 0.9798261918899499, 'bagging_fraction': 0.9817236755581317, 'bagging_freq': 1, 'min_child_samples': 95}. Best is trial 594 with value: 797.0830964467458.\n"
     ]
    },
    {
     "name": "stdout",
     "output_type": "stream",
     "text": [
      "fin split 0\n",
      "fin split 1\n",
      "fin split 2\n",
      "fin split 3\n",
      "fin split 4\n"
     ]
    },
    {
     "name": "stderr",
     "output_type": "stream",
     "text": [
      "[I 2025-07-19 11:45:54,828] Trial 687 finished with value: 824.0006867568407 and parameters: {'lambda_l1': 0.002413079596014338, 'lambda_l2': 0.1806842777934189, 'num_leaves': 50, 'feature_fraction': 0.9499200918910637, 'bagging_fraction': 0.9923948503216413, 'bagging_freq': 1, 'min_child_samples': 9}. Best is trial 594 with value: 797.0830964467458.\n"
     ]
    },
    {
     "name": "stdout",
     "output_type": "stream",
     "text": [
      "fin split 0\n",
      "fin split 1\n",
      "fin split 2\n",
      "fin split 3\n",
      "fin split 4\n"
     ]
    },
    {
     "name": "stderr",
     "output_type": "stream",
     "text": [
      "[I 2025-07-19 11:46:19,300] Trial 688 finished with value: 824.370476815468 and parameters: {'lambda_l1': 0.0009998945637084648, 'lambda_l2': 0.45241242532226017, 'num_leaves': 40, 'feature_fraction': 0.9896619842783384, 'bagging_fraction': 0.999905921988463, 'bagging_freq': 1, 'min_child_samples': 5}. Best is trial 594 with value: 797.0830964467458.\n"
     ]
    },
    {
     "name": "stdout",
     "output_type": "stream",
     "text": [
      "fin split 0\n",
      "fin split 1\n",
      "fin split 2\n",
      "fin split 3\n",
      "fin split 4\n"
     ]
    },
    {
     "name": "stderr",
     "output_type": "stream",
     "text": [
      "[I 2025-07-19 11:46:45,634] Trial 689 finished with value: 902.8020756118186 and parameters: {'lambda_l1': 0.0016335512899711404, 'lambda_l2': 0.13089952101805774, 'num_leaves': 46, 'feature_fraction': 0.9659913911147072, 'bagging_fraction': 0.6540019656304435, 'bagging_freq': 1, 'min_child_samples': 7}. Best is trial 594 with value: 797.0830964467458.\n"
     ]
    },
    {
     "name": "stdout",
     "output_type": "stream",
     "text": [
      "fin split 0\n",
      "fin split 1\n",
      "fin split 2\n",
      "fin split 3\n",
      "fin split 4\n"
     ]
    },
    {
     "name": "stderr",
     "output_type": "stream",
     "text": [
      "[I 2025-07-19 11:47:16,960] Trial 690 finished with value: 963.0729495115654 and parameters: {'lambda_l1': 0.00044642431413792206, 'lambda_l2': 0.25006868195908893, 'num_leaves': 58, 'feature_fraction': 0.9994465456160008, 'bagging_fraction': 0.9860438641402921, 'bagging_freq': 1, 'min_child_samples': 59}. Best is trial 594 with value: 797.0830964467458.\n"
     ]
    },
    {
     "name": "stdout",
     "output_type": "stream",
     "text": [
      "fin split 0\n",
      "fin split 1\n",
      "fin split 2\n",
      "fin split 3\n",
      "fin split 4\n"
     ]
    },
    {
     "name": "stderr",
     "output_type": "stream",
     "text": [
      "[I 2025-07-19 11:47:37,859] Trial 691 finished with value: 837.0868110935714 and parameters: {'lambda_l1': 0.0007614539617606549, 'lambda_l2': 1.1842426833217143, 'num_leaves': 36, 'feature_fraction': 0.9726212132586597, 'bagging_fraction': 0.9996586596819106, 'bagging_freq': 1, 'min_child_samples': 9}. Best is trial 594 with value: 797.0830964467458.\n"
     ]
    },
    {
     "name": "stdout",
     "output_type": "stream",
     "text": [
      "fin split 0\n",
      "fin split 1\n",
      "fin split 2\n",
      "fin split 3\n",
      "fin split 4\n"
     ]
    },
    {
     "name": "stderr",
     "output_type": "stream",
     "text": [
      "[I 2025-07-19 11:48:24,154] Trial 692 finished with value: 954.9411765215941 and parameters: {'lambda_l1': 0.0031877872988770135, 'lambda_l2': 0.5821033481163085, 'num_leaves': 106, 'feature_fraction': 0.9809110097507882, 'bagging_fraction': 0.9824662430471265, 'bagging_freq': 1, 'min_child_samples': 42}. Best is trial 594 with value: 797.0830964467458.\n"
     ]
    },
    {
     "name": "stdout",
     "output_type": "stream",
     "text": [
      "fin split 0\n",
      "fin split 1\n",
      "fin split 2\n",
      "fin split 3\n",
      "fin split 4\n"
     ]
    },
    {
     "name": "stderr",
     "output_type": "stream",
     "text": [
      "[I 2025-07-19 11:48:52,824] Trial 693 finished with value: 872.5918593328163 and parameters: {'lambda_l1': 0.001351773119148724, 'lambda_l2': 0.04914952677600246, 'num_leaves': 51, 'feature_fraction': 0.9550296356001907, 'bagging_fraction': 0.8517654285990893, 'bagging_freq': 2, 'min_child_samples': 5}. Best is trial 594 with value: 797.0830964467458.\n"
     ]
    },
    {
     "name": "stdout",
     "output_type": "stream",
     "text": [
      "fin split 0\n",
      "fin split 1\n",
      "fin split 2\n",
      "fin split 3\n",
      "fin split 4\n"
     ]
    },
    {
     "name": "stderr",
     "output_type": "stream",
     "text": [
      "[I 2025-07-19 11:49:17,288] Trial 694 finished with value: 836.5031510532403 and parameters: {'lambda_l1': 0.0023330717669825768, 'lambda_l2': 2.0204361319061053, 'num_leaves': 43, 'feature_fraction': 0.9857169459004945, 'bagging_fraction': 0.9998080541576472, 'bagging_freq': 1, 'min_child_samples': 7}. Best is trial 594 with value: 797.0830964467458.\n"
     ]
    },
    {
     "name": "stdout",
     "output_type": "stream",
     "text": [
      "fin split 0\n",
      "fin split 1\n",
      "fin split 2\n",
      "fin split 3\n",
      "fin split 4\n"
     ]
    },
    {
     "name": "stderr",
     "output_type": "stream",
     "text": [
      "[I 2025-07-19 11:49:43,571] Trial 695 finished with value: 827.0670908885406 and parameters: {'lambda_l1': 0.0007627002900278387, 'lambda_l2': 0.08526129953660554, 'num_leaves': 48, 'feature_fraction': 0.9671989117309866, 'bagging_fraction': 0.9901433503255713, 'bagging_freq': 1, 'min_child_samples': 7}. Best is trial 594 with value: 797.0830964467458.\n"
     ]
    },
    {
     "name": "stdout",
     "output_type": "stream",
     "text": [
      "fin split 0\n",
      "fin split 1\n",
      "fin split 2\n",
      "fin split 3\n",
      "fin split 4\n"
     ]
    },
    {
     "name": "stderr",
     "output_type": "stream",
     "text": [
      "[I 2025-07-19 11:50:06,669] Trial 696 finished with value: 826.928370319084 and parameters: {'lambda_l1': 0.004155122844107539, 'lambda_l2': 0.3547938211157463, 'num_leaves': 34, 'feature_fraction': 0.9906906531907139, 'bagging_fraction': 0.9999890013928695, 'bagging_freq': 1, 'min_child_samples': 5}. Best is trial 594 with value: 797.0830964467458.\n"
     ]
    },
    {
     "name": "stdout",
     "output_type": "stream",
     "text": [
      "fin split 0\n",
      "fin split 1\n",
      "fin split 2\n",
      "fin split 3\n",
      "fin split 4\n"
     ]
    },
    {
     "name": "stderr",
     "output_type": "stream",
     "text": [
      "[I 2025-07-19 11:50:15,184] Trial 697 finished with value: 1015.8906769046251 and parameters: {'lambda_l1': 0.0012203511654095569, 'lambda_l2': 0.823683011205201, 'num_leaves': 4, 'feature_fraction': 0.9731141777893493, 'bagging_fraction': 0.9821090323663447, 'bagging_freq': 1, 'min_child_samples': 9}. Best is trial 594 with value: 797.0830964467458.\n"
     ]
    },
    {
     "name": "stdout",
     "output_type": "stream",
     "text": [
      "fin split 0\n",
      "fin split 1\n",
      "fin split 2\n",
      "fin split 3\n",
      "fin split 4\n"
     ]
    },
    {
     "name": "stderr",
     "output_type": "stream",
     "text": [
      "[I 2025-07-19 11:50:41,064] Trial 698 finished with value: 836.9746871041413 and parameters: {'lambda_l1': 0.00177558500499171, 'lambda_l2': 0.2043829589452604, 'num_leaves': 41, 'feature_fraction': 0.9588740175460287, 'bagging_fraction': 0.9897566602135646, 'bagging_freq': 1, 'min_child_samples': 7}. Best is trial 594 with value: 797.0830964467458.\n"
     ]
    },
    {
     "name": "stdout",
     "output_type": "stream",
     "text": [
      "fin split 0\n",
      "fin split 1\n",
      "fin split 2\n",
      "fin split 3\n",
      "fin split 4\n"
     ]
    },
    {
     "name": "stderr",
     "output_type": "stream",
     "text": [
      "[I 2025-07-19 11:51:12,755] Trial 699 finished with value: 816.0439751032052 and parameters: {'lambda_l1': 0.00039559751506230994, 'lambda_l2': 0.3501025457544513, 'num_leaves': 55, 'feature_fraction': 0.9990953072009466, 'bagging_fraction': 0.9912809532050789, 'bagging_freq': 7, 'min_child_samples': 5}. Best is trial 594 with value: 797.0830964467458.\n"
     ]
    },
    {
     "name": "stdout",
     "output_type": "stream",
     "text": [
      "fin split 0\n",
      "fin split 1\n",
      "fin split 2\n",
      "fin split 3\n",
      "fin split 4\n"
     ]
    },
    {
     "name": "stderr",
     "output_type": "stream",
     "text": [
      "[I 2025-07-19 11:51:46,653] Trial 700 finished with value: 841.7957622328041 and parameters: {'lambda_l1': 0.0004007022767274224, 'lambda_l2': 0.6321766341034848, 'num_leaves': 61, 'feature_fraction': 0.9766910176925838, 'bagging_fraction': 0.9801749612237108, 'bagging_freq': 7, 'min_child_samples': 9}. Best is trial 594 with value: 797.0830964467458.\n"
     ]
    },
    {
     "name": "stdout",
     "output_type": "stream",
     "text": [
      "fin split 0\n",
      "fin split 1\n",
      "fin split 2\n",
      "fin split 3\n",
      "fin split 4\n"
     ]
    },
    {
     "name": "stderr",
     "output_type": "stream",
     "text": [
      "[I 2025-07-19 11:52:20,454] Trial 701 finished with value: 839.1300683082923 and parameters: {'lambda_l1': 0.00035366261651719074, 'lambda_l2': 0.4348026825910466, 'num_leaves': 66, 'feature_fraction': 0.9897479534995257, 'bagging_fraction': 0.9864262585317457, 'bagging_freq': 3, 'min_child_samples': 7}. Best is trial 594 with value: 797.0830964467458.\n"
     ]
    },
    {
     "name": "stdout",
     "output_type": "stream",
     "text": [
      "fin split 0\n",
      "fin split 1\n",
      "fin split 2\n",
      "fin split 3\n",
      "fin split 4\n"
     ]
    },
    {
     "name": "stderr",
     "output_type": "stream",
     "text": [
      "[I 2025-07-19 11:52:47,754] Trial 702 finished with value: 836.9184995285502 and parameters: {'lambda_l1': 0.000491530206797603, 'lambda_l2': 1.2659752849157415, 'num_leaves': 57, 'feature_fraction': 0.947019930754846, 'bagging_fraction': 0.9801258644485267, 'bagging_freq': 1, 'min_child_samples': 9}. Best is trial 594 with value: 797.0830964467458.\n"
     ]
    },
    {
     "name": "stdout",
     "output_type": "stream",
     "text": [
      "fin split 0\n",
      "fin split 1\n",
      "fin split 2\n",
      "fin split 3\n",
      "fin split 4\n"
     ]
    },
    {
     "name": "stderr",
     "output_type": "stream",
     "text": [
      "[I 2025-07-19 11:53:16,636] Trial 703 finished with value: 880.176666043144 and parameters: {'lambda_l1': 0.002653006263367224, 'lambda_l2': 6.853612033405552, 'num_leaves': 53, 'feature_fraction': 0.9626435831030862, 'bagging_fraction': 0.9899944634973648, 'bagging_freq': 1, 'min_child_samples': 5}. Best is trial 594 with value: 797.0830964467458.\n"
     ]
    },
    {
     "name": "stdout",
     "output_type": "stream",
     "text": [
      "fin split 0\n",
      "fin split 1\n",
      "fin split 2\n",
      "fin split 3\n",
      "fin split 4\n"
     ]
    },
    {
     "name": "stderr",
     "output_type": "stream",
     "text": [
      "[I 2025-07-19 11:53:46,620] Trial 704 finished with value: 833.5362025817926 and parameters: {'lambda_l1': 0.004359765091288031, 'lambda_l2': 0.3340937009267215, 'num_leaves': 56, 'feature_fraction': 0.9797599574558699, 'bagging_fraction': 0.9900062038817744, 'bagging_freq': 2, 'min_child_samples': 7}. Best is trial 594 with value: 797.0830964467458.\n"
     ]
    },
    {
     "name": "stdout",
     "output_type": "stream",
     "text": [
      "fin split 0\n",
      "fin split 1\n",
      "fin split 2\n",
      "fin split 3\n",
      "fin split 4\n"
     ]
    },
    {
     "name": "stderr",
     "output_type": "stream",
     "text": [
      "[I 2025-07-19 11:54:07,194] Trial 705 finished with value: 853.5907628653325 and parameters: {'lambda_l1': 0.0005799495400831952, 'lambda_l2': 0.8167310200104761, 'num_leaves': 50, 'feature_fraction': 0.6385324013426754, 'bagging_fraction': 0.980895864381427, 'bagging_freq': 7, 'min_child_samples': 5}. Best is trial 594 with value: 797.0830964467458.\n"
     ]
    },
    {
     "name": "stdout",
     "output_type": "stream",
     "text": [
      "fin split 0\n",
      "fin split 1\n",
      "fin split 2\n",
      "fin split 3\n",
      "fin split 4\n"
     ]
    },
    {
     "name": "stderr",
     "output_type": "stream",
     "text": [
      "[I 2025-07-19 11:54:38,509] Trial 706 finished with value: 841.2994108788318 and parameters: {'lambda_l1': 0.001059238564682093, 'lambda_l2': 0.47577255712678806, 'num_leaves': 63, 'feature_fraction': 0.9794999319758884, 'bagging_fraction': 0.9922495663287503, 'bagging_freq': 7, 'min_child_samples': 9}. Best is trial 594 with value: 797.0830964467458.\n"
     ]
    },
    {
     "name": "stdout",
     "output_type": "stream",
     "text": [
      "fin split 0\n",
      "fin split 1\n",
      "fin split 2\n",
      "fin split 3\n",
      "fin split 4\n"
     ]
    },
    {
     "name": "stderr",
     "output_type": "stream",
     "text": [
      "[I 2025-07-19 11:55:03,637] Trial 707 finished with value: 831.5964093637681 and parameters: {'lambda_l1': 0.0018392753136518534, 'lambda_l2': 0.2719741075681756, 'num_leaves': 43, 'feature_fraction': 0.9894915822486385, 'bagging_fraction': 0.985212552232119, 'bagging_freq': 1, 'min_child_samples': 5}. Best is trial 594 with value: 797.0830964467458.\n"
     ]
    },
    {
     "name": "stdout",
     "output_type": "stream",
     "text": [
      "fin split 0\n",
      "fin split 1\n",
      "fin split 2\n",
      "fin split 3\n",
      "fin split 4\n"
     ]
    },
    {
     "name": "stderr",
     "output_type": "stream",
     "text": [
      "[I 2025-07-19 11:55:33,497] Trial 708 finished with value: 844.2976766284636 and parameters: {'lambda_l1': 0.0026788235912795144, 'lambda_l2': 2.95052307539505, 'num_leaves': 53, 'feature_fraction': 0.9997391779601046, 'bagging_fraction': 0.7182465395294544, 'bagging_freq': 1, 'min_child_samples': 7}. Best is trial 594 with value: 797.0830964467458.\n"
     ]
    },
    {
     "name": "stdout",
     "output_type": "stream",
     "text": [
      "fin split 0\n",
      "fin split 1\n",
      "fin split 2\n",
      "fin split 3\n",
      "fin split 4\n"
     ]
    },
    {
     "name": "stderr",
     "output_type": "stream",
     "text": [
      "[I 2025-07-19 11:55:58,840] Trial 709 finished with value: 960.2986740432963 and parameters: {'lambda_l1': 0.00033329162397543143, 'lambda_l2': 0.5422873067491343, 'num_leaves': 59, 'feature_fraction': 0.9665767868461237, 'bagging_fraction': 0.6992883037631742, 'bagging_freq': 1, 'min_child_samples': 31}. Best is trial 594 with value: 797.0830964467458.\n"
     ]
    },
    {
     "name": "stdout",
     "output_type": "stream",
     "text": [
      "fin split 0\n",
      "fin split 1\n",
      "fin split 2\n",
      "fin split 3\n",
      "fin split 4\n"
     ]
    },
    {
     "name": "stderr",
     "output_type": "stream",
     "text": [
      "[I 2025-07-19 11:56:21,191] Trial 710 finished with value: 832.3471676837028 and parameters: {'lambda_l1': 0.0012220370600437083, 'lambda_l2': 1.2017208179052543, 'num_leaves': 36, 'feature_fraction': 0.956034478160794, 'bagging_fraction': 0.9927986441216963, 'bagging_freq': 1, 'min_child_samples': 7}. Best is trial 594 with value: 797.0830964467458.\n"
     ]
    },
    {
     "name": "stdout",
     "output_type": "stream",
     "text": [
      "fin split 0\n",
      "fin split 1\n",
      "fin split 2\n",
      "fin split 3\n",
      "fin split 4\n"
     ]
    },
    {
     "name": "stderr",
     "output_type": "stream",
     "text": [
      "[I 2025-07-19 11:56:46,920] Trial 711 finished with value: 828.0274571899024 and parameters: {'lambda_l1': 0.0008320028415718299, 'lambda_l2': 0.12549799731616648, 'num_leaves': 46, 'feature_fraction': 0.9767537032092194, 'bagging_fraction': 0.9807554847869935, 'bagging_freq': 1, 'min_child_samples': 9}. Best is trial 594 with value: 797.0830964467458.\n"
     ]
    },
    {
     "name": "stdout",
     "output_type": "stream",
     "text": [
      "fin split 0\n",
      "fin split 1\n",
      "fin split 2\n",
      "fin split 3\n",
      "fin split 4\n"
     ]
    },
    {
     "name": "stderr",
     "output_type": "stream",
     "text": [
      "[I 2025-07-19 11:57:11,113] Trial 712 finished with value: 820.5751864121861 and parameters: {'lambda_l1': 0.0005748345077336119, 'lambda_l2': 0.317975414829518, 'num_leaves': 41, 'feature_fraction': 0.9996245455648658, 'bagging_fraction': 0.986794535131485, 'bagging_freq': 7, 'min_child_samples': 5}. Best is trial 594 with value: 797.0830964467458.\n"
     ]
    },
    {
     "name": "stdout",
     "output_type": "stream",
     "text": [
      "fin split 0\n",
      "fin split 1\n",
      "fin split 2\n",
      "fin split 3\n",
      "fin split 4\n"
     ]
    },
    {
     "name": "stderr",
     "output_type": "stream",
     "text": [
      "[I 2025-07-19 11:57:40,965] Trial 713 finished with value: 836.6448369492107 and parameters: {'lambda_l1': 0.0040045709123378665, 'lambda_l2': 0.8299668629759462, 'num_leaves': 50, 'feature_fraction': 0.9878533919224188, 'bagging_fraction': 0.9928849639509734, 'bagging_freq': 1, 'min_child_samples': 7}. Best is trial 594 with value: 797.0830964467458.\n"
     ]
    },
    {
     "name": "stdout",
     "output_type": "stream",
     "text": [
      "fin split 0\n",
      "fin split 1\n",
      "fin split 2\n",
      "fin split 3\n",
      "fin split 4\n"
     ]
    },
    {
     "name": "stderr",
     "output_type": "stream",
     "text": [
      "[I 2025-07-19 11:58:10,322] Trial 714 finished with value: 824.2728071802796 and parameters: {'lambda_l1': 0.001467795650081984, 'lambda_l2': 1.6665554240451381, 'num_leaves': 55, 'feature_fraction': 0.9700979480683177, 'bagging_fraction': 0.9928345915807762, 'bagging_freq': 3, 'min_child_samples': 5}. Best is trial 594 with value: 797.0830964467458.\n"
     ]
    },
    {
     "name": "stdout",
     "output_type": "stream",
     "text": [
      "fin split 0\n",
      "fin split 1\n",
      "fin split 2\n",
      "fin split 3\n",
      "fin split 4\n"
     ]
    },
    {
     "name": "stderr",
     "output_type": "stream",
     "text": [
      "[I 2025-07-19 11:59:18,828] Trial 715 finished with value: 896.253238235406 and parameters: {'lambda_l1': 0.002007073750490349, 'lambda_l2': 0.20851410260515343, 'num_leaves': 186, 'feature_fraction': 0.9490660797883405, 'bagging_fraction': 0.9804496229830658, 'bagging_freq': 1, 'min_child_samples': 9}. Best is trial 594 with value: 797.0830964467458.\n"
     ]
    },
    {
     "name": "stdout",
     "output_type": "stream",
     "text": [
      "fin split 0\n",
      "fin split 1\n",
      "fin split 2\n",
      "fin split 3\n",
      "fin split 4\n"
     ]
    },
    {
     "name": "stderr",
     "output_type": "stream",
     "text": [
      "[I 2025-07-19 11:59:46,087] Trial 716 finished with value: 846.2387729918906 and parameters: {'lambda_l1': 0.0004140809444952609, 'lambda_l2': 0.37474065393969563, 'num_leaves': 46, 'feature_fraction': 0.9794776904944081, 'bagging_fraction': 0.9997498441724715, 'bagging_freq': 7, 'min_child_samples': 7}. Best is trial 594 with value: 797.0830964467458.\n"
     ]
    },
    {
     "name": "stdout",
     "output_type": "stream",
     "text": [
      "fin split 0\n",
      "fin split 1\n",
      "fin split 2\n",
      "fin split 3\n",
      "fin split 4\n"
     ]
    },
    {
     "name": "stderr",
     "output_type": "stream",
     "text": [
      "[I 2025-07-19 12:00:09,151] Trial 717 finished with value: 817.2952214779875 and parameters: {'lambda_l1': 0.0009292246658680953, 'lambda_l2': 0.5631643902603323, 'num_leaves': 39, 'feature_fraction': 0.9616510176990036, 'bagging_fraction': 0.9862948834756238, 'bagging_freq': 1, 'min_child_samples': 5}. Best is trial 594 with value: 797.0830964467458.\n"
     ]
    },
    {
     "name": "stdout",
     "output_type": "stream",
     "text": [
      "fin split 0\n",
      "fin split 1\n",
      "fin split 2\n",
      "fin split 3\n",
      "fin split 4\n"
     ]
    },
    {
     "name": "stderr",
     "output_type": "stream",
     "text": [
      "[I 2025-07-19 12:00:33,750] Trial 718 finished with value: 837.6761661356645 and parameters: {'lambda_l1': 0.0006650873697758698, 'lambda_l2': 0.12311585631887327, 'num_leaves': 35, 'feature_fraction': 0.9898173130962655, 'bagging_fraction': 0.9927027050270583, 'bagging_freq': 1, 'min_child_samples': 8}. Best is trial 594 with value: 797.0830964467458.\n"
     ]
    },
    {
     "name": "stdout",
     "output_type": "stream",
     "text": [
      "fin split 0\n",
      "fin split 1\n",
      "fin split 2\n",
      "fin split 3\n",
      "fin split 4\n"
     ]
    },
    {
     "name": "stderr",
     "output_type": "stream",
     "text": [
      "[I 2025-07-19 12:01:01,648] Trial 719 finished with value: 833.7370245628335 and parameters: {'lambda_l1': 0.0030544907949336853, 'lambda_l2': 0.19907390900493724, 'num_leaves': 51, 'feature_fraction': 0.9708380234008035, 'bagging_fraction': 0.9999728504700004, 'bagging_freq': 1, 'min_child_samples': 7}. Best is trial 594 with value: 797.0830964467458.\n"
     ]
    },
    {
     "name": "stdout",
     "output_type": "stream",
     "text": [
      "fin split 0\n",
      "fin split 1\n",
      "fin split 2\n",
      "fin split 3\n",
      "fin split 4\n"
     ]
    },
    {
     "name": "stderr",
     "output_type": "stream",
     "text": [
      "[I 2025-07-19 12:01:29,135] Trial 720 finished with value: 818.6430376893427 and parameters: {'lambda_l1': 0.0013804829561790807, 'lambda_l2': 0.8745303348633875, 'num_leaves': 44, 'feature_fraction': 0.9871130186875587, 'bagging_fraction': 0.9828284396302863, 'bagging_freq': 1, 'min_child_samples': 5}. Best is trial 594 with value: 797.0830964467458.\n"
     ]
    },
    {
     "name": "stdout",
     "output_type": "stream",
     "text": [
      "fin split 0\n",
      "fin split 1\n",
      "fin split 2\n",
      "fin split 3\n",
      "fin split 4\n"
     ]
    },
    {
     "name": "stderr",
     "output_type": "stream",
     "text": [
      "[I 2025-07-19 12:02:00,345] Trial 721 finished with value: 847.4583866163516 and parameters: {'lambda_l1': 0.004238047583924258, 'lambda_l2': 0.3923175110642495, 'num_leaves': 60, 'feature_fraction': 0.9768299312401042, 'bagging_fraction': 0.9922361693282402, 'bagging_freq': 1, 'min_child_samples': 9}. Best is trial 594 with value: 797.0830964467458.\n"
     ]
    },
    {
     "name": "stdout",
     "output_type": "stream",
     "text": [
      "fin split 0\n",
      "fin split 1\n",
      "fin split 2\n",
      "fin split 3\n",
      "fin split 4\n"
     ]
    },
    {
     "name": "stderr",
     "output_type": "stream",
     "text": [
      "[I 2025-07-19 12:02:27,640] Trial 722 finished with value: 825.132810127308 and parameters: {'lambda_l1': 0.0020470765343327947, 'lambda_l2': 0.28771593181608707, 'num_leaves': 49, 'feature_fraction': 0.9457580299061437, 'bagging_fraction': 0.9792661151374543, 'bagging_freq': 1, 'min_child_samples': 7}. Best is trial 594 with value: 797.0830964467458.\n"
     ]
    },
    {
     "name": "stdout",
     "output_type": "stream",
     "text": [
      "fin split 0\n",
      "fin split 1\n",
      "fin split 2\n",
      "fin split 3\n",
      "fin split 4\n"
     ]
    },
    {
     "name": "stderr",
     "output_type": "stream",
     "text": [
      "[I 2025-07-19 12:03:04,258] Trial 723 finished with value: 840.3672106137484 and parameters: {'lambda_l1': 0.0003351045935022348, 'lambda_l2': 0.5780844943749639, 'num_leaves': 69, 'feature_fraction': 0.9561187472016188, 'bagging_fraction': 0.9926957780607114, 'bagging_freq': 1, 'min_child_samples': 5}. Best is trial 594 with value: 797.0830964467458.\n"
     ]
    },
    {
     "name": "stdout",
     "output_type": "stream",
     "text": [
      "fin split 0\n",
      "fin split 1\n",
      "fin split 2\n",
      "fin split 3\n",
      "fin split 4\n"
     ]
    },
    {
     "name": "stderr",
     "output_type": "stream",
     "text": [
      "[I 2025-07-19 12:03:27,902] Trial 724 finished with value: 829.7835958703056 and parameters: {'lambda_l1': 0.0010653839522650102, 'lambda_l2': 0.0812323549164236, 'num_leaves': 40, 'feature_fraction': 0.9891713061912527, 'bagging_fraction': 0.9846940109362636, 'bagging_freq': 1, 'min_child_samples': 10}. Best is trial 594 with value: 797.0830964467458.\n"
     ]
    },
    {
     "name": "stdout",
     "output_type": "stream",
     "text": [
      "fin split 0\n",
      "fin split 1\n",
      "fin split 2\n",
      "fin split 3\n",
      "fin split 4\n"
     ]
    },
    {
     "name": "stderr",
     "output_type": "stream",
     "text": [
      "[I 2025-07-19 12:03:56,215] Trial 725 finished with value: 842.6351854038925 and parameters: {'lambda_l1': 0.0005829416560983456, 'lambda_l2': 1.2660861519681788, 'num_leaves': 56, 'feature_fraction': 0.9998317678677068, 'bagging_fraction': 0.9928015739186123, 'bagging_freq': 1, 'min_child_samples': 7}. Best is trial 594 with value: 797.0830964467458.\n"
     ]
    },
    {
     "name": "stdout",
     "output_type": "stream",
     "text": [
      "fin split 0\n",
      "fin split 1\n",
      "fin split 2\n",
      "fin split 3\n",
      "fin split 4\n"
     ]
    },
    {
     "name": "stderr",
     "output_type": "stream",
     "text": [
      "[I 2025-07-19 12:04:24,195] Trial 726 finished with value: 825.923163686586 and parameters: {'lambda_l1': 0.0016780977433437203, 'lambda_l2': 0.17892373138119355, 'num_leaves': 45, 'feature_fraction': 0.9660519504975262, 'bagging_fraction': 0.978560382950096, 'bagging_freq': 1, 'min_child_samples': 5}. Best is trial 594 with value: 797.0830964467458.\n"
     ]
    },
    {
     "name": "stdout",
     "output_type": "stream",
     "text": [
      "fin split 0\n",
      "fin split 1\n",
      "fin split 2\n",
      "fin split 3\n",
      "fin split 4\n"
     ]
    },
    {
     "name": "stderr",
     "output_type": "stream",
     "text": [
      "[I 2025-07-19 12:04:53,692] Trial 727 finished with value: 850.2162618081417 and parameters: {'lambda_l1': 0.002797486565442627, 'lambda_l2': 2.1692443577380103, 'num_leaves': 52, 'feature_fraction': 0.9999051766848114, 'bagging_fraction': 0.9849787350998225, 'bagging_freq': 1, 'min_child_samples': 9}. Best is trial 594 with value: 797.0830964467458.\n"
     ]
    },
    {
     "name": "stdout",
     "output_type": "stream",
     "text": [
      "fin split 0\n",
      "fin split 1\n",
      "fin split 2\n",
      "fin split 3\n",
      "fin split 4\n"
     ]
    },
    {
     "name": "stderr",
     "output_type": "stream",
     "text": [
      "[I 2025-07-19 12:05:15,155] Trial 728 finished with value: 820.844576545355 and parameters: {'lambda_l1': 0.0008266083614307344, 'lambda_l2': 0.7104192976346958, 'num_leaves': 35, 'feature_fraction': 0.9823332370729937, 'bagging_fraction': 0.9924756492974406, 'bagging_freq': 1, 'min_child_samples': 7}. Best is trial 594 with value: 797.0830964467458.\n"
     ]
    },
    {
     "name": "stdout",
     "output_type": "stream",
     "text": [
      "fin split 0\n",
      "fin split 1\n",
      "fin split 2\n",
      "fin split 3\n",
      "fin split 4\n"
     ]
    },
    {
     "name": "stderr",
     "output_type": "stream",
     "text": [
      "[I 2025-07-19 12:05:41,835] Trial 729 finished with value: 976.2468575171782 and parameters: {'lambda_l1': 0.0004697880611054441, 'lambda_l2': 0.25321702823746833, 'num_leaves': 40, 'feature_fraction': 0.9681145318552036, 'bagging_fraction': 0.9795862894195848, 'bagging_freq': 1, 'min_child_samples': 72}. Best is trial 594 with value: 797.0830964467458.\n"
     ]
    },
    {
     "name": "stdout",
     "output_type": "stream",
     "text": [
      "fin split 0\n",
      "fin split 1\n",
      "fin split 2\n",
      "fin split 3\n",
      "fin split 4\n"
     ]
    },
    {
     "name": "stderr",
     "output_type": "stream",
     "text": [
      "[I 2025-07-19 12:06:07,295] Trial 730 finished with value: 827.077674248052 and parameters: {'lambda_l1': 0.0010028546017709673, 'lambda_l2': 0.39577362015791395, 'num_leaves': 47, 'feature_fraction': 0.9787206416197106, 'bagging_fraction': 0.9926657904467385, 'bagging_freq': 1, 'min_child_samples': 5}. Best is trial 594 with value: 797.0830964467458.\n"
     ]
    },
    {
     "name": "stdout",
     "output_type": "stream",
     "text": [
      "fin split 0\n",
      "fin split 1\n",
      "fin split 2\n",
      "fin split 3\n",
      "fin split 4\n"
     ]
    },
    {
     "name": "stderr",
     "output_type": "stream",
     "text": [
      "[I 2025-07-19 12:06:36,311] Trial 731 finished with value: 837.3267003515741 and parameters: {'lambda_l1': 0.0015761294884993698, 'lambda_l2': 0.05108065058552356, 'num_leaves': 55, 'feature_fraction': 0.9608783124833565, 'bagging_fraction': 0.999284686253595, 'bagging_freq': 1, 'min_child_samples': 7}. Best is trial 594 with value: 797.0830964467458.\n"
     ]
    },
    {
     "name": "stdout",
     "output_type": "stream",
     "text": [
      "fin split 0\n",
      "fin split 1\n",
      "fin split 2\n",
      "fin split 3\n",
      "fin split 4\n"
     ]
    },
    {
     "name": "stderr",
     "output_type": "stream",
     "text": [
      "[I 2025-07-19 12:07:02,050] Trial 732 finished with value: 845.5573080958885 and parameters: {'lambda_l1': 0.0023688529211720933, 'lambda_l2': 0.13872879827588047, 'num_leaves': 44, 'feature_fraction': 0.9874585140819326, 'bagging_fraction': 0.9867681244882358, 'bagging_freq': 2, 'min_child_samples': 9}. Best is trial 594 with value: 797.0830964467458.\n"
     ]
    },
    {
     "name": "stdout",
     "output_type": "stream",
     "text": [
      "fin split 0\n",
      "fin split 1\n",
      "fin split 2\n",
      "fin split 3\n",
      "fin split 4\n"
     ]
    },
    {
     "name": "stderr",
     "output_type": "stream",
     "text": [
      "[I 2025-07-19 12:07:33,215] Trial 733 finished with value: 836.0580294300253 and parameters: {'lambda_l1': 0.004712481516645951, 'lambda_l2': 0.5019840875322551, 'num_leaves': 61, 'feature_fraction': 0.9447318810149513, 'bagging_fraction': 0.9999802948637315, 'bagging_freq': 1, 'min_child_samples': 5}. Best is trial 594 with value: 797.0830964467458.\n"
     ]
    },
    {
     "name": "stdout",
     "output_type": "stream",
     "text": [
      "fin split 0\n",
      "fin split 1\n",
      "fin split 2\n",
      "fin split 3\n",
      "fin split 4\n"
     ]
    },
    {
     "name": "stderr",
     "output_type": "stream",
     "text": [
      "[I 2025-07-19 12:07:57,604] Trial 734 finished with value: 821.7085697039909 and parameters: {'lambda_l1': 0.0006674752007152975, 'lambda_l2': 1.0059793565037065, 'num_leaves': 50, 'feature_fraction': 0.9760737022015102, 'bagging_fraction': 0.985442814223839, 'bagging_freq': 1, 'min_child_samples': 7}. Best is trial 594 with value: 797.0830964467458.\n"
     ]
    },
    {
     "name": "stdout",
     "output_type": "stream",
     "text": [
      "fin split 0\n",
      "fin split 1\n",
      "fin split 2\n",
      "fin split 3\n",
      "fin split 4\n"
     ]
    },
    {
     "name": "stderr",
     "output_type": "stream",
     "text": [
      "[I 2025-07-19 12:08:19,571] Trial 735 finished with value: 833.3350387888463 and parameters: {'lambda_l1': 0.0013640170186840037, 'lambda_l2': 0.28711947070322635, 'num_leaves': 34, 'feature_fraction': 0.9895686478225758, 'bagging_fraction': 0.9781987136333511, 'bagging_freq': 1, 'min_child_samples': 9}. Best is trial 594 with value: 797.0830964467458.\n"
     ]
    },
    {
     "name": "stdout",
     "output_type": "stream",
     "text": [
      "fin split 0\n",
      "fin split 1\n",
      "fin split 2\n",
      "fin split 3\n",
      "fin split 4\n"
     ]
    },
    {
     "name": "stderr",
     "output_type": "stream",
     "text": [
      "[I 2025-07-19 12:08:43,162] Trial 736 finished with value: 838.6122169523246 and parameters: {'lambda_l1': 0.00031188555096741603, 'lambda_l2': 0.10101913705925071, 'num_leaves': 40, 'feature_fraction': 0.9653632804071548, 'bagging_fraction': 0.9995961971252229, 'bagging_freq': 7, 'min_child_samples': 5}. Best is trial 594 with value: 797.0830964467458.\n"
     ]
    },
    {
     "name": "stdout",
     "output_type": "stream",
     "text": [
      "fin split 0\n",
      "fin split 1\n",
      "fin split 2\n",
      "fin split 3\n",
      "fin split 4\n"
     ]
    },
    {
     "name": "stderr",
     "output_type": "stream",
     "text": [
      "[I 2025-07-19 12:09:10,253] Trial 737 finished with value: 831.3497238652235 and parameters: {'lambda_l1': 0.002926949646647339, 'lambda_l2': 1.4848489811563343, 'num_leaves': 47, 'feature_fraction': 0.9775605090846091, 'bagging_fraction': 0.9883939154791295, 'bagging_freq': 1, 'min_child_samples': 7}. Best is trial 594 with value: 797.0830964467458.\n"
     ]
    },
    {
     "name": "stdout",
     "output_type": "stream",
     "text": [
      "fin split 0\n",
      "fin split 1\n",
      "fin split 2\n",
      "fin split 3\n",
      "fin split 4\n"
     ]
    },
    {
     "name": "stderr",
     "output_type": "stream",
     "text": [
      "[I 2025-07-19 12:09:38,657] Trial 738 finished with value: 877.6606053429143 and parameters: {'lambda_l1': 0.004745422382955123, 'lambda_l2': 0.6814585790904559, 'num_leaves': 51, 'feature_fraction': 0.9996184119328098, 'bagging_fraction': 0.9999710077487863, 'bagging_freq': 2, 'min_child_samples': 11}. Best is trial 594 with value: 797.0830964467458.\n"
     ]
    },
    {
     "name": "stdout",
     "output_type": "stream",
     "text": [
      "fin split 0\n",
      "fin split 1\n",
      "fin split 2\n",
      "fin split 3\n",
      "fin split 4\n"
     ]
    },
    {
     "name": "stderr",
     "output_type": "stream",
     "text": [
      "[I 2025-07-19 12:10:02,406] Trial 739 finished with value: 863.5653105170636 and parameters: {'lambda_l1': 0.0010310475351379652, 'lambda_l2': 0.19764308096974736, 'num_leaves': 43, 'feature_fraction': 0.956125903240048, 'bagging_fraction': 0.8259185714761842, 'bagging_freq': 1, 'min_child_samples': 5}. Best is trial 594 with value: 797.0830964467458.\n"
     ]
    },
    {
     "name": "stdout",
     "output_type": "stream",
     "text": [
      "fin split 0\n",
      "fin split 1\n",
      "fin split 2\n",
      "fin split 3\n",
      "fin split 4\n"
     ]
    },
    {
     "name": "stderr",
     "output_type": "stream",
     "text": [
      "[I 2025-07-19 12:10:24,291] Trial 740 finished with value: 824.7751822933544 and parameters: {'lambda_l1': 0.00046785967359500095, 'lambda_l2': 0.4614336150927311, 'num_leaves': 34, 'feature_fraction': 0.9735262151850677, 'bagging_fraction': 0.9921132274013739, 'bagging_freq': 1, 'min_child_samples': 8}. Best is trial 594 with value: 797.0830964467458.\n"
     ]
    },
    {
     "name": "stdout",
     "output_type": "stream",
     "text": [
      "fin split 0\n",
      "fin split 1\n",
      "fin split 2\n",
      "fin split 3\n",
      "fin split 4\n"
     ]
    },
    {
     "name": "stderr",
     "output_type": "stream",
     "text": [
      "[I 2025-07-19 12:10:54,366] Trial 741 finished with value: 837.3152191613227 and parameters: {'lambda_l1': 0.0018382815637713618, 'lambda_l2': 0.9277312511769568, 'num_leaves': 57, 'feature_fraction': 0.9880598167861916, 'bagging_fraction': 0.9790293189068714, 'bagging_freq': 1, 'min_child_samples': 10}. Best is trial 594 with value: 797.0830964467458.\n"
     ]
    },
    {
     "name": "stdout",
     "output_type": "stream",
     "text": [
      "fin split 0\n",
      "fin split 1\n",
      "fin split 2\n",
      "fin split 3\n",
      "fin split 4\n"
     ]
    },
    {
     "name": "stderr",
     "output_type": "stream",
     "text": [
      "[I 2025-07-19 12:11:19,777] Trial 742 finished with value: 826.0400090773297 and parameters: {'lambda_l1': 0.0006370585264937166, 'lambda_l2': 0.1393125728318179, 'num_leaves': 41, 'feature_fraction': 0.9482499992318306, 'bagging_fraction': 0.9876062190801735, 'bagging_freq': 1, 'min_child_samples': 7}. Best is trial 594 with value: 797.0830964467458.\n"
     ]
    },
    {
     "name": "stdout",
     "output_type": "stream",
     "text": [
      "fin split 0\n",
      "fin split 1\n",
      "fin split 2\n",
      "fin split 3\n",
      "fin split 4\n"
     ]
    },
    {
     "name": "stderr",
     "output_type": "stream",
     "text": [
      "[I 2025-07-19 12:11:51,829] Trial 743 finished with value: 816.5376966697127 and parameters: {'lambda_l1': 0.001211946156386089, 'lambda_l2': 0.27141287976290235, 'num_leaves': 52, 'feature_fraction': 0.9676577220785699, 'bagging_fraction': 0.9927830052399367, 'bagging_freq': 1, 'min_child_samples': 5}. Best is trial 594 with value: 797.0830964467458.\n"
     ]
    },
    {
     "name": "stdout",
     "output_type": "stream",
     "text": [
      "fin split 0\n",
      "fin split 1\n",
      "fin split 2\n",
      "fin split 3\n",
      "fin split 4\n"
     ]
    },
    {
     "name": "stderr",
     "output_type": "stream",
     "text": [
      "[I 2025-07-19 12:12:25,654] Trial 744 finished with value: 847.6461894310081 and parameters: {'lambda_l1': 0.003039760930814371, 'lambda_l2': 0.24124911598144014, 'num_leaves': 64, 'feature_fraction': 0.9868340569570869, 'bagging_fraction': 0.9800699969489323, 'bagging_freq': 1, 'min_child_samples': 7}. Best is trial 594 with value: 797.0830964467458.\n"
     ]
    },
    {
     "name": "stdout",
     "output_type": "stream",
     "text": [
      "fin split 0\n",
      "fin split 1\n",
      "fin split 2\n",
      "fin split 3\n",
      "fin split 4\n"
     ]
    },
    {
     "name": "stderr",
     "output_type": "stream",
     "text": [
      "[I 2025-07-19 12:12:52,099] Trial 745 finished with value: 836.1650448176964 and parameters: {'lambda_l1': 0.0018858370843266414, 'lambda_l2': 0.16634879722169668, 'num_leaves': 46, 'feature_fraction': 0.9790577606015015, 'bagging_fraction': 0.9929987802534146, 'bagging_freq': 1, 'min_child_samples': 9}. Best is trial 594 with value: 797.0830964467458.\n"
     ]
    },
    {
     "name": "stdout",
     "output_type": "stream",
     "text": [
      "fin split 0\n",
      "fin split 1\n",
      "fin split 2\n",
      "fin split 3\n",
      "fin split 4\n"
     ]
    },
    {
     "name": "stderr",
     "output_type": "stream",
     "text": [
      "[I 2025-07-19 12:13:14,444] Trial 746 finished with value: 813.4946063602983 and parameters: {'lambda_l1': 0.0012828422001652509, 'lambda_l2': 0.31690412016184105, 'num_leaves': 38, 'feature_fraction': 0.9596375627873215, 'bagging_fraction': 0.9862785920337568, 'bagging_freq': 1, 'min_child_samples': 5}. Best is trial 594 with value: 797.0830964467458.\n"
     ]
    },
    {
     "name": "stdout",
     "output_type": "stream",
     "text": [
      "fin split 0\n",
      "fin split 1\n",
      "fin split 2\n",
      "fin split 3\n",
      "fin split 4\n"
     ]
    },
    {
     "name": "stderr",
     "output_type": "stream",
     "text": [
      "[I 2025-07-19 12:14:18,715] Trial 747 finished with value: 901.6562504957066 and parameters: {'lambda_l1': 0.005050367071292214, 'lambda_l2': 0.09609598564966322, 'num_leaves': 156, 'feature_fraction': 0.953469949252819, 'bagging_fraction': 0.9771035914902765, 'bagging_freq': 3, 'min_child_samples': 7}. Best is trial 594 with value: 797.0830964467458.\n"
     ]
    },
    {
     "name": "stdout",
     "output_type": "stream",
     "text": [
      "fin split 0\n",
      "fin split 1\n",
      "fin split 2\n",
      "fin split 3\n",
      "fin split 4\n"
     ]
    },
    {
     "name": "stderr",
     "output_type": "stream",
     "text": [
      "[I 2025-07-19 12:14:38,031] Trial 748 finished with value: 849.6387286216157 and parameters: {'lambda_l1': 0.002370691328081523, 'lambda_l2': 0.35657799131331, 'num_leaves': 33, 'feature_fraction': 0.9400973777521626, 'bagging_fraction': 0.798278635725937, 'bagging_freq': 1, 'min_child_samples': 10}. Best is trial 594 with value: 797.0830964467458.\n"
     ]
    },
    {
     "name": "stdout",
     "output_type": "stream",
     "text": [
      "fin split 0\n",
      "fin split 1\n",
      "fin split 2\n",
      "fin split 3\n",
      "fin split 4\n"
     ]
    },
    {
     "name": "stderr",
     "output_type": "stream",
     "text": [
      "[I 2025-07-19 12:15:02,189] Trial 749 finished with value: 814.7220652007757 and parameters: {'lambda_l1': 0.0015414752799228005, 'lambda_l2': 0.7253466301665046, 'num_leaves': 38, 'feature_fraction': 0.9910297752604118, 'bagging_fraction': 0.9847647084134538, 'bagging_freq': 1, 'min_child_samples': 5}. Best is trial 594 with value: 797.0830964467458.\n"
     ]
    },
    {
     "name": "stdout",
     "output_type": "stream",
     "text": [
      "fin split 0\n",
      "fin split 1\n",
      "fin split 2\n",
      "fin split 3\n",
      "fin split 4\n"
     ]
    },
    {
     "name": "stderr",
     "output_type": "stream",
     "text": [
      "[I 2025-07-19 12:15:26,711] Trial 750 finished with value: 841.8580978575548 and parameters: {'lambda_l1': 0.0036710219978236475, 'lambda_l2': 1.7075152956460165, 'num_leaves': 36, 'feature_fraction': 0.9888120060992482, 'bagging_fraction': 0.745108675786795, 'bagging_freq': 1, 'min_child_samples': 8}. Best is trial 594 with value: 797.0830964467458.\n"
     ]
    },
    {
     "name": "stdout",
     "output_type": "stream",
     "text": [
      "fin split 0\n",
      "fin split 1\n",
      "fin split 2\n",
      "fin split 3\n",
      "fin split 4\n"
     ]
    },
    {
     "name": "stderr",
     "output_type": "stream",
     "text": [
      "[I 2025-07-19 12:15:56,257] Trial 751 finished with value: 881.1707694352042 and parameters: {'lambda_l1': 0.0008487586550365398, 'lambda_l2': 0.9506986665687476, 'num_leaves': 37, 'feature_fraction': 0.9902903666400542, 'bagging_fraction': 0.6089815102508237, 'bagging_freq': 1, 'min_child_samples': 5}. Best is trial 594 with value: 797.0830964467458.\n"
     ]
    },
    {
     "name": "stdout",
     "output_type": "stream",
     "text": [
      "fin split 0\n",
      "fin split 1\n",
      "fin split 2\n",
      "fin split 3\n",
      "fin split 4\n"
     ]
    },
    {
     "name": "stderr",
     "output_type": "stream",
     "text": [
      "[I 2025-07-19 12:16:19,273] Trial 752 finished with value: 843.3228481298581 and parameters: {'lambda_l1': 0.0002862993527408992, 'lambda_l2': 4.298913447612653, 'num_leaves': 33, 'feature_fraction': 0.9600092746055703, 'bagging_fraction': 0.9784682894561852, 'bagging_freq': 1, 'min_child_samples': 7}. Best is trial 594 with value: 797.0830964467458.\n"
     ]
    },
    {
     "name": "stdout",
     "output_type": "stream",
     "text": [
      "fin split 0\n",
      "fin split 1\n",
      "fin split 2\n",
      "fin split 3\n",
      "fin split 4\n"
     ]
    },
    {
     "name": "stderr",
     "output_type": "stream",
     "text": [
      "[I 2025-07-19 12:16:43,401] Trial 753 finished with value: 835.740316713099 and parameters: {'lambda_l1': 0.0014986138939630648, 'lambda_l2': 0.6007676877306657, 'num_leaves': 37, 'feature_fraction': 0.9986772003929931, 'bagging_fraction': 0.9841863876834983, 'bagging_freq': 1, 'min_child_samples': 9}. Best is trial 594 with value: 797.0830964467458.\n"
     ]
    },
    {
     "name": "stdout",
     "output_type": "stream",
     "text": [
      "fin split 0\n",
      "fin split 1\n",
      "fin split 2\n",
      "fin split 3\n",
      "fin split 4\n"
     ]
    },
    {
     "name": "stderr",
     "output_type": "stream",
     "text": [
      "[I 2025-07-19 12:17:07,256] Trial 754 finished with value: 847.6478142223801 and parameters: {'lambda_l1': 0.0005701976217274389, 'lambda_l2': 2.5005899982757365, 'num_leaves': 39, 'feature_fraction': 0.9776655066621921, 'bagging_fraction': 0.9797173305189334, 'bagging_freq': 1, 'min_child_samples': 7}. Best is trial 594 with value: 797.0830964467458.\n"
     ]
    },
    {
     "name": "stdout",
     "output_type": "stream",
     "text": [
      "fin split 0\n",
      "fin split 1\n",
      "fin split 2\n",
      "fin split 3\n",
      "fin split 4\n"
     ]
    },
    {
     "name": "stderr",
     "output_type": "stream",
     "text": [
      "[I 2025-07-19 12:17:29,550] Trial 755 finished with value: 819.6843922095217 and parameters: {'lambda_l1': 0.0032775065092485165, 'lambda_l2': 1.1633566034837586, 'num_leaves': 33, 'feature_fraction': 0.9994272810281497, 'bagging_fraction': 0.9862124751425105, 'bagging_freq': 1, 'min_child_samples': 5}. Best is trial 594 with value: 797.0830964467458.\n"
     ]
    },
    {
     "name": "stdout",
     "output_type": "stream",
     "text": [
      "fin split 0\n",
      "fin split 1\n",
      "fin split 2\n",
      "fin split 3\n",
      "fin split 4\n"
     ]
    },
    {
     "name": "stderr",
     "output_type": "stream",
     "text": [
      "[I 2025-07-19 12:17:51,520] Trial 756 finished with value: 832.1765581943087 and parameters: {'lambda_l1': 0.0010968521685888284, 'lambda_l2': 0.6870350112807746, 'num_leaves': 39, 'feature_fraction': 0.9703963698873089, 'bagging_fraction': 0.977949968265931, 'bagging_freq': 1, 'min_child_samples': 11}. Best is trial 594 with value: 797.0830964467458.\n"
     ]
    },
    {
     "name": "stdout",
     "output_type": "stream",
     "text": [
      "fin split 0\n",
      "fin split 1\n",
      "fin split 2\n",
      "fin split 3\n",
      "fin split 4\n"
     ]
    },
    {
     "name": "stderr",
     "output_type": "stream",
     "text": [
      "[I 2025-07-19 12:18:15,016] Trial 757 finished with value: 834.8740196938483 and parameters: {'lambda_l1': 0.0018962002460152227, 'lambda_l2': 0.4100411170009268, 'num_leaves': 41, 'feature_fraction': 0.9804190828467161, 'bagging_fraction': 0.9871422013660389, 'bagging_freq': 1, 'min_child_samples': 7}. Best is trial 594 with value: 797.0830964467458.\n"
     ]
    },
    {
     "name": "stdout",
     "output_type": "stream",
     "text": [
      "fin split 0\n",
      "fin split 1\n",
      "fin split 2\n",
      "fin split 3\n",
      "fin split 4\n"
     ]
    },
    {
     "name": "stderr",
     "output_type": "stream",
     "text": [
      "[I 2025-07-19 12:18:36,206] Trial 758 finished with value: 821.7843928102964 and parameters: {'lambda_l1': 0.0006893316619902246, 'lambda_l2': 0.9013743445153655, 'num_leaves': 32, 'feature_fraction': 0.9589037271233882, 'bagging_fraction': 0.9861835795193354, 'bagging_freq': 1, 'min_child_samples': 5}. Best is trial 594 with value: 797.0830964467458.\n"
     ]
    },
    {
     "name": "stdout",
     "output_type": "stream",
     "text": [
      "fin split 0\n",
      "fin split 1\n",
      "fin split 2\n",
      "fin split 3\n",
      "fin split 4\n"
     ]
    },
    {
     "name": "stderr",
     "output_type": "stream",
     "text": [
      "[I 2025-07-19 12:19:00,540] Trial 759 finished with value: 824.9117771145245 and parameters: {'lambda_l1': 0.00047356310258927587, 'lambda_l2': 1.5949671352918813, 'num_leaves': 44, 'feature_fraction': 0.9707372715575823, 'bagging_fraction': 0.9791312211721925, 'bagging_freq': 1, 'min_child_samples': 9}. Best is trial 594 with value: 797.0830964467458.\n"
     ]
    },
    {
     "name": "stdout",
     "output_type": "stream",
     "text": [
      "fin split 0\n",
      "fin split 1\n",
      "fin split 2\n",
      "fin split 3\n",
      "fin split 4\n"
     ]
    },
    {
     "name": "stderr",
     "output_type": "stream",
     "text": [
      "[I 2025-07-19 12:19:23,380] Trial 760 finished with value: 847.3409759151925 and parameters: {'lambda_l1': 0.004815710834645468, 'lambda_l2': 0.6509775681753278, 'num_leaves': 39, 'feature_fraction': 0.9896205775901554, 'bagging_fraction': 0.9878953452736531, 'bagging_freq': 1, 'min_child_samples': 7}. Best is trial 594 with value: 797.0830964467458.\n"
     ]
    },
    {
     "name": "stdout",
     "output_type": "stream",
     "text": [
      "fin split 0\n",
      "fin split 1\n",
      "fin split 2\n",
      "fin split 3\n",
      "fin split 4\n"
     ]
    },
    {
     "name": "stderr",
     "output_type": "stream",
     "text": [
      "[I 2025-07-19 12:19:50,292] Trial 761 finished with value: 824.4508758022771 and parameters: {'lambda_l1': 0.0025432652623797927, 'lambda_l2': 0.3402704349902669, 'num_leaves': 47, 'feature_fraction': 0.9516095253706391, 'bagging_fraction': 0.992883930346611, 'bagging_freq': 1, 'min_child_samples': 5}. Best is trial 594 with value: 797.0830964467458.\n"
     ]
    },
    {
     "name": "stdout",
     "output_type": "stream",
     "text": [
      "fin split 0\n",
      "fin split 1\n",
      "fin split 2\n",
      "fin split 3\n",
      "fin split 4\n"
     ]
    },
    {
     "name": "stderr",
     "output_type": "stream",
     "text": [
      "[I 2025-07-19 12:20:10,012] Trial 762 finished with value: 833.9141355415061 and parameters: {'lambda_l1': 0.0012392059126261979, 'lambda_l2': 0.45833598795182423, 'num_leaves': 34, 'feature_fraction': 0.9801630441362701, 'bagging_fraction': 0.9763123474723776, 'bagging_freq': 1, 'min_child_samples': 9}. Best is trial 594 with value: 797.0830964467458.\n"
     ]
    },
    {
     "name": "stdout",
     "output_type": "stream",
     "text": [
      "fin split 0\n",
      "fin split 1\n",
      "fin split 2\n",
      "fin split 3\n",
      "fin split 4\n"
     ]
    },
    {
     "name": "stderr",
     "output_type": "stream",
     "text": [
      "[I 2025-07-19 12:20:37,941] Trial 763 finished with value: 830.7931168851864 and parameters: {'lambda_l1': 0.0007816135791334304, 'lambda_l2': 1.1255949715909814, 'num_leaves': 42, 'feature_fraction': 0.9677243455889399, 'bagging_fraction': 0.9857816157768595, 'bagging_freq': 1, 'min_child_samples': 7}. Best is trial 594 with value: 797.0830964467458.\n"
     ]
    },
    {
     "name": "stdout",
     "output_type": "stream",
     "text": [
      "fin split 0\n",
      "fin split 1\n",
      "fin split 2\n",
      "fin split 3\n",
      "fin split 4\n"
     ]
    },
    {
     "name": "stderr",
     "output_type": "stream",
     "text": [
      "[I 2025-07-19 12:21:02,303] Trial 764 finished with value: 855.1622517961678 and parameters: {'lambda_l1': 0.002076370519668763, 'lambda_l2': 0.271080561082424, 'num_leaves': 45, 'feature_fraction': 0.9895012178858125, 'bagging_fraction': 0.9999020356936799, 'bagging_freq': 1, 'min_child_samples': 11}. Best is trial 594 with value: 797.0830964467458.\n"
     ]
    },
    {
     "name": "stdout",
     "output_type": "stream",
     "text": [
      "fin split 0\n",
      "fin split 1\n",
      "fin split 2\n",
      "fin split 3\n",
      "fin split 4\n"
     ]
    },
    {
     "name": "stderr",
     "output_type": "stream",
     "text": [
      "[I 2025-07-19 12:21:30,412] Trial 765 finished with value: 990.7652292703806 and parameters: {'lambda_l1': 0.0003018715518628826, 'lambda_l2': 0.7144768893500469, 'num_leaves': 48, 'feature_fraction': 0.9785348142980549, 'bagging_fraction': 0.9997552163701633, 'bagging_freq': 1, 'min_child_samples': 84}. Best is trial 594 with value: 797.0830964467458.\n"
     ]
    },
    {
     "name": "stdout",
     "output_type": "stream",
     "text": [
      "fin split 0\n",
      "fin split 1\n",
      "fin split 2\n",
      "fin split 3\n",
      "fin split 4\n"
     ]
    },
    {
     "name": "stderr",
     "output_type": "stream",
     "text": [
      "[I 2025-07-19 12:21:56,408] Trial 766 finished with value: 827.4290585391911 and parameters: {'lambda_l1': 0.0010479320495375781, 'lambda_l2': 0.5124809384579598, 'num_leaves': 41, 'feature_fraction': 0.9410762918581042, 'bagging_fraction': 0.9866378064091036, 'bagging_freq': 1, 'min_child_samples': 5}. Best is trial 594 with value: 797.0830964467458.\n"
     ]
    },
    {
     "name": "stdout",
     "output_type": "stream",
     "text": [
      "fin split 0\n",
      "fin split 1\n",
      "fin split 2\n",
      "fin split 3\n",
      "fin split 4\n"
     ]
    },
    {
     "name": "stderr",
     "output_type": "stream",
     "text": [
      "[I 2025-07-19 12:22:18,321] Trial 767 finished with value: 809.5597710038861 and parameters: {'lambda_l1': 4.43446591275308e-07, 'lambda_l2': 1.9418875041920545, 'num_leaves': 37, 'feature_fraction': 0.9608610178672673, 'bagging_fraction': 0.9775425582051757, 'bagging_freq': 1, 'min_child_samples': 8}. Best is trial 594 with value: 797.0830964467458.\n"
     ]
    },
    {
     "name": "stdout",
     "output_type": "stream",
     "text": [
      "fin split 0\n",
      "fin split 1\n",
      "fin split 2\n",
      "fin split 3\n",
      "fin split 4\n"
     ]
    },
    {
     "name": "stderr",
     "output_type": "stream",
     "text": [
      "[I 2025-07-19 12:22:39,548] Trial 768 finished with value: 842.4192799662408 and parameters: {'lambda_l1': 1.0757188725229363e-06, 'lambda_l2': 2.986150633616948, 'num_leaves': 34, 'feature_fraction': 0.9404766553564878, 'bagging_fraction': 0.9786082366799742, 'bagging_freq': 2, 'min_child_samples': 11}. Best is trial 594 with value: 797.0830964467458.\n"
     ]
    },
    {
     "name": "stdout",
     "output_type": "stream",
     "text": [
      "fin split 0\n",
      "fin split 1\n",
      "fin split 2\n",
      "fin split 3\n",
      "fin split 4\n"
     ]
    },
    {
     "name": "stderr",
     "output_type": "stream",
     "text": [
      "[I 2025-07-19 12:23:01,736] Trial 769 finished with value: 848.0539454373975 and parameters: {'lambda_l1': 0.0008645812939176608, 'lambda_l2': 2.1471359113813233, 'num_leaves': 36, 'feature_fraction': 0.9528137557524299, 'bagging_fraction': 0.9762989517569017, 'bagging_freq': 1, 'min_child_samples': 9}. Best is trial 594 with value: 797.0830964467458.\n"
     ]
    },
    {
     "name": "stdout",
     "output_type": "stream",
     "text": [
      "fin split 0\n",
      "fin split 1\n",
      "fin split 2\n",
      "fin split 3\n",
      "fin split 4\n"
     ]
    },
    {
     "name": "stderr",
     "output_type": "stream",
     "text": [
      "[I 2025-07-19 12:23:23,728] Trial 770 finished with value: 870.6749319083963 and parameters: {'lambda_l1': 2.278018025144217e-06, 'lambda_l2': 1.7635972356598868, 'num_leaves': 38, 'feature_fraction': 0.9629439455523628, 'bagging_fraction': 0.992289488235577, 'bagging_freq': 1, 'min_child_samples': 11}. Best is trial 594 with value: 797.0830964467458.\n"
     ]
    },
    {
     "name": "stdout",
     "output_type": "stream",
     "text": [
      "fin split 0\n",
      "fin split 1\n",
      "fin split 2\n",
      "fin split 3\n",
      "fin split 4\n"
     ]
    },
    {
     "name": "stderr",
     "output_type": "stream",
     "text": [
      "[I 2025-07-19 12:23:50,274] Trial 771 finished with value: 851.0693022363071 and parameters: {'lambda_l1': 2.4024096070928684e-07, 'lambda_l2': 9.51207645636248, 'num_leaves': 48, 'feature_fraction': 0.945575555683161, 'bagging_fraction': 0.999928120845427, 'bagging_freq': 1, 'min_child_samples': 8}. Best is trial 594 with value: 797.0830964467458.\n"
     ]
    },
    {
     "name": "stdout",
     "output_type": "stream",
     "text": [
      "fin split 0\n",
      "fin split 1\n",
      "fin split 2\n",
      "fin split 3\n",
      "fin split 4\n"
     ]
    },
    {
     "name": "stderr",
     "output_type": "stream",
     "text": [
      "[I 2025-07-19 12:24:08,445] Trial 772 finished with value: 835.5175694362762 and parameters: {'lambda_l1': 1.523051301254456e-07, 'lambda_l2': 2.8502933038717, 'num_leaves': 31, 'feature_fraction': 0.9290666175515739, 'bagging_fraction': 0.9775443805566687, 'bagging_freq': 1, 'min_child_samples': 9}. Best is trial 594 with value: 797.0830964467458.\n"
     ]
    },
    {
     "name": "stdout",
     "output_type": "stream",
     "text": [
      "fin split 0\n",
      "fin split 1\n",
      "fin split 2\n",
      "fin split 3\n",
      "fin split 4\n"
     ]
    },
    {
     "name": "stderr",
     "output_type": "stream",
     "text": [
      "[I 2025-07-19 12:24:39,072] Trial 773 finished with value: 858.5403710254153 and parameters: {'lambda_l1': 6.06886623880686e-07, 'lambda_l2': 5.018604654298851, 'num_leaves': 55, 'feature_fraction': 0.9620763056094674, 'bagging_fraction': 0.9924877053484232, 'bagging_freq': 1, 'min_child_samples': 7}. Best is trial 594 with value: 797.0830964467458.\n"
     ]
    },
    {
     "name": "stdout",
     "output_type": "stream",
     "text": [
      "fin split 0\n",
      "fin split 1\n",
      "fin split 2\n",
      "fin split 3\n",
      "fin split 4\n"
     ]
    },
    {
     "name": "stderr",
     "output_type": "stream",
     "text": [
      "[I 2025-07-19 12:25:07,733] Trial 774 finished with value: 813.5612765084369 and parameters: {'lambda_l1': 0.7038768900521701, 'lambda_l2': 1.2368605047251178, 'num_leaves': 47, 'feature_fraction': 0.9706706604956453, 'bagging_fraction': 0.9849624436322775, 'bagging_freq': 1, 'min_child_samples': 7}. Best is trial 594 with value: 797.0830964467458.\n"
     ]
    },
    {
     "name": "stdout",
     "output_type": "stream",
     "text": [
      "fin split 0\n",
      "fin split 1\n",
      "fin split 2\n",
      "fin split 3\n",
      "fin split 4\n"
     ]
    },
    {
     "name": "stderr",
     "output_type": "stream",
     "text": [
      "[I 2025-07-19 12:25:39,107] Trial 775 finished with value: 837.9754702801124 and parameters: {'lambda_l1': 6.619955596779905e-06, 'lambda_l2': 1.4669914854712183, 'num_leaves': 51, 'feature_fraction': 0.9510140966587115, 'bagging_fraction': 0.974621844354962, 'bagging_freq': 1, 'min_child_samples': 11}. Best is trial 594 with value: 797.0830964467458.\n"
     ]
    },
    {
     "name": "stdout",
     "output_type": "stream",
     "text": [
      "fin split 0\n",
      "fin split 1\n",
      "fin split 2\n",
      "fin split 3\n",
      "fin split 4\n"
     ]
    },
    {
     "name": "stderr",
     "output_type": "stream",
     "text": [
      "[I 2025-07-19 12:26:03,653] Trial 776 finished with value: 855.8843336738692 and parameters: {'lambda_l1': 0.8723067640174594, 'lambda_l2': 3.443204852143678, 'num_leaves': 43, 'feature_fraction': 0.9595138781798034, 'bagging_fraction': 0.8672296023459267, 'bagging_freq': 1, 'min_child_samples': 10}. Best is trial 594 with value: 797.0830964467458.\n"
     ]
    },
    {
     "name": "stdout",
     "output_type": "stream",
     "text": [
      "fin split 0\n",
      "fin split 1\n",
      "fin split 2\n",
      "fin split 3\n",
      "fin split 4\n"
     ]
    },
    {
     "name": "stderr",
     "output_type": "stream",
     "text": [
      "[I 2025-07-19 12:26:26,664] Trial 777 finished with value: 843.0787324110048 and parameters: {'lambda_l1': 0.0004404090560519839, 'lambda_l2': 1.0632320561107635, 'num_leaves': 33, 'feature_fraction': 0.9396912076002034, 'bagging_fraction': 0.9763932031514233, 'bagging_freq': 1, 'min_child_samples': 8}. Best is trial 594 with value: 797.0830964467458.\n"
     ]
    },
    {
     "name": "stdout",
     "output_type": "stream",
     "text": [
      "fin split 0\n",
      "fin split 1\n",
      "fin split 2\n",
      "fin split 3\n",
      "fin split 4\n"
     ]
    },
    {
     "name": "stderr",
     "output_type": "stream",
     "text": [
      "[I 2025-07-19 12:26:49,649] Trial 778 finished with value: 996.2697204601099 and parameters: {'lambda_l1': 0.36405595107392474, 'lambda_l2': 0.7710374795966509, 'num_leaves': 39, 'feature_fraction': 0.9688374732182715, 'bagging_fraction': 0.6720388101201634, 'bagging_freq': 1, 'min_child_samples': 62}. Best is trial 594 with value: 797.0830964467458.\n"
     ]
    },
    {
     "name": "stdout",
     "output_type": "stream",
     "text": [
      "fin split 0\n",
      "fin split 1\n",
      "fin split 2\n",
      "fin split 3\n",
      "fin split 4\n"
     ]
    },
    {
     "name": "stderr",
     "output_type": "stream",
     "text": [
      "[I 2025-07-19 12:27:20,258] Trial 779 finished with value: 836.3351675042671 and parameters: {'lambda_l1': 2.322057640746452, 'lambda_l2': 1.48547943727215, 'num_leaves': 57, 'feature_fraction': 0.9521085345203687, 'bagging_fraction': 0.9838456610847486, 'bagging_freq': 1, 'min_child_samples': 9}. Best is trial 594 with value: 797.0830964467458.\n"
     ]
    },
    {
     "name": "stdout",
     "output_type": "stream",
     "text": [
      "fin split 0\n",
      "fin split 1\n",
      "fin split 2\n",
      "fin split 3\n",
      "fin split 4\n"
     ]
    },
    {
     "name": "stderr",
     "output_type": "stream",
     "text": [
      "[I 2025-07-19 12:27:48,115] Trial 780 finished with value: 826.8662537934457 and parameters: {'lambda_l1': 1.465997718474294, 'lambda_l2': 2.282735656120964, 'num_leaves': 49, 'feature_fraction': 0.9683855335718956, 'bagging_fraction': 0.9838959138015066, 'bagging_freq': 1, 'min_child_samples': 7}. Best is trial 594 with value: 797.0830964467458.\n"
     ]
    },
    {
     "name": "stdout",
     "output_type": "stream",
     "text": [
      "fin split 0\n",
      "fin split 1\n",
      "fin split 2\n",
      "fin split 3\n",
      "fin split 4\n"
     ]
    },
    {
     "name": "stderr",
     "output_type": "stream",
     "text": [
      "[I 2025-07-19 12:28:13,665] Trial 781 finished with value: 862.2172399674319 and parameters: {'lambda_l1': 6.589520992327224, 'lambda_l2': 0.7883013130469648, 'num_leaves': 46, 'feature_fraction': 0.9718056699015458, 'bagging_fraction': 0.9762692227100384, 'bagging_freq': 3, 'min_child_samples': 11}. Best is trial 594 with value: 797.0830964467458.\n"
     ]
    },
    {
     "name": "stdout",
     "output_type": "stream",
     "text": [
      "fin split 0\n",
      "fin split 1\n",
      "fin split 2\n",
      "fin split 3\n",
      "fin split 4\n"
     ]
    },
    {
     "name": "stderr",
     "output_type": "stream",
     "text": [
      "[I 2025-07-19 12:28:39,940] Trial 782 finished with value: 886.5289464705967 and parameters: {'lambda_l1': 0.20347688470846412, 'lambda_l2': 0.044203285014763775, 'num_leaves': 53, 'feature_fraction': 0.9547911751937287, 'bagging_fraction': 0.6436883324877359, 'bagging_freq': 1, 'min_child_samples': 7}. Best is trial 594 with value: 797.0830964467458.\n"
     ]
    },
    {
     "name": "stdout",
     "output_type": "stream",
     "text": [
      "fin split 0\n",
      "fin split 1\n",
      "fin split 2\n",
      "fin split 3\n",
      "fin split 4\n"
     ]
    },
    {
     "name": "stderr",
     "output_type": "stream",
     "text": [
      "[I 2025-07-19 12:29:01,472] Trial 783 finished with value: 840.1868987084363 and parameters: {'lambda_l1': 0.5227145555493965, 'lambda_l2': 0.4302430503157786, 'num_leaves': 38, 'feature_fraction': 0.975669204409489, 'bagging_fraction': 0.9866287625118386, 'bagging_freq': 1, 'min_child_samples': 9}. Best is trial 594 with value: 797.0830964467458.\n"
     ]
    },
    {
     "name": "stdout",
     "output_type": "stream",
     "text": [
      "fin split 0\n",
      "fin split 1\n",
      "fin split 2\n",
      "fin split 3\n",
      "fin split 4\n"
     ]
    },
    {
     "name": "stderr",
     "output_type": "stream",
     "text": [
      "[I 2025-07-19 12:29:26,691] Trial 784 finished with value: 829.7449956396393 and parameters: {'lambda_l1': 2.6703147333906305e-06, 'lambda_l2': 0.9730368307497952, 'num_leaves': 43, 'feature_fraction': 0.9993971131151873, 'bagging_fraction': 0.9818231445927941, 'bagging_freq': 1, 'min_child_samples': 7}. Best is trial 594 with value: 797.0830964467458.\n"
     ]
    },
    {
     "name": "stdout",
     "output_type": "stream",
     "text": [
      "fin split 0\n",
      "fin split 1\n",
      "fin split 2\n",
      "fin split 3\n",
      "fin split 4\n"
     ]
    },
    {
     "name": "stderr",
     "output_type": "stream",
     "text": [
      "[I 2025-07-19 12:29:57,533] Trial 785 finished with value: 850.4677263986699 and parameters: {'lambda_l1': 0.7889810240871495, 'lambda_l2': 0.07473654343142154, 'num_leaves': 60, 'feature_fraction': 0.9338435750899039, 'bagging_fraction': 0.9902740608586384, 'bagging_freq': 1, 'min_child_samples': 9}. Best is trial 594 with value: 797.0830964467458.\n"
     ]
    },
    {
     "name": "stdout",
     "output_type": "stream",
     "text": [
      "fin split 0\n",
      "fin split 1\n",
      "fin split 2\n",
      "fin split 3\n",
      "fin split 4\n"
     ]
    },
    {
     "name": "stderr",
     "output_type": "stream",
     "text": [
      "[I 2025-07-19 12:30:17,347] Trial 786 finished with value: 833.8107622682151 and parameters: {'lambda_l1': 6.544125048527125e-08, 'lambda_l2': 0.6145943846117077, 'num_leaves': 31, 'feature_fraction': 0.9619655749618519, 'bagging_fraction': 0.9756209754824611, 'bagging_freq': 7, 'min_child_samples': 6}. Best is trial 594 with value: 797.0830964467458.\n"
     ]
    },
    {
     "name": "stdout",
     "output_type": "stream",
     "text": [
      "fin split 0\n",
      "fin split 1\n",
      "fin split 2\n",
      "fin split 3\n",
      "fin split 4\n"
     ]
    },
    {
     "name": "stderr",
     "output_type": "stream",
     "text": [
      "[I 2025-07-19 12:30:49,434] Trial 787 finished with value: 839.6698644702501 and parameters: {'lambda_l1': 4.3279694715946295e-07, 'lambda_l2': 1.7092999762673233, 'num_leaves': 50, 'feature_fraction': 0.9767754346994421, 'bagging_fraction': 0.9915392058901913, 'bagging_freq': 1, 'min_child_samples': 7}. Best is trial 594 with value: 797.0830964467458.\n"
     ]
    },
    {
     "name": "stdout",
     "output_type": "stream",
     "text": [
      "fin split 0\n",
      "fin split 1\n",
      "fin split 2\n",
      "fin split 3\n",
      "fin split 4\n"
     ]
    },
    {
     "name": "stderr",
     "output_type": "stream",
     "text": [
      "[I 2025-07-19 14:03:17,797] Trial 788 finished with value: 902.2511887871353 and parameters: {'lambda_l1': 1.2125819053210635e-08, 'lambda_l2': 0.1216135791454513, 'num_leaves': 143, 'feature_fraction': 0.988974086492627, 'bagging_fraction': 0.9855223088796214, 'bagging_freq': 1, 'min_child_samples': 11}. Best is trial 594 with value: 797.0830964467458.\n"
     ]
    },
    {
     "name": "stdout",
     "output_type": "stream",
     "text": [
      "fin split 0\n",
      "fin split 1\n",
      "fin split 2\n",
      "fin split 3\n",
      "fin split 4\n"
     ]
    },
    {
     "name": "stderr",
     "output_type": "stream",
     "text": [
      "[I 2025-07-19 14:03:40,546] Trial 789 finished with value: 816.2875708976046 and parameters: {'lambda_l1': 0.21093913967071168, 'lambda_l2': 0.3915142196666443, 'num_leaves': 44, 'feature_fraction': 0.961607587807945, 'bagging_fraction': 0.9925102380521416, 'bagging_freq': 1, 'min_child_samples': 5}. Best is trial 594 with value: 797.0830964467458.\n"
     ]
    },
    {
     "name": "stdout",
     "output_type": "stream",
     "text": [
      "fin split 0\n",
      "fin split 1\n",
      "fin split 2\n",
      "fin split 3\n",
      "fin split 4\n"
     ]
    },
    {
     "name": "stderr",
     "output_type": "stream",
     "text": [
      "[I 2025-07-19 14:04:22,568] Trial 790 finished with value: 861.6162286691252 and parameters: {'lambda_l1': 3.420158824371308e-06, 'lambda_l2': 1.1006228697042295, 'num_leaves': 99, 'feature_fraction': 0.9754948745718544, 'bagging_fraction': 0.9748347241803735, 'bagging_freq': 6, 'min_child_samples': 8}. Best is trial 594 with value: 797.0830964467458.\n"
     ]
    },
    {
     "name": "stdout",
     "output_type": "stream",
     "text": [
      "fin split 0\n",
      "fin split 1\n",
      "fin split 2\n",
      "fin split 3\n",
      "fin split 4\n"
     ]
    },
    {
     "name": "stderr",
     "output_type": "stream",
     "text": [
      "[I 2025-07-19 14:04:53,898] Trial 791 finished with value: 872.2847548614627 and parameters: {'lambda_l1': 1.478429502916023e-06, 'lambda_l2': 0.1829011650415762, 'num_leaves': 73, 'feature_fraction': 0.9991881674837645, 'bagging_fraction': 0.7670723714407514, 'bagging_freq': 1, 'min_child_samples': 6}. Best is trial 594 with value: 797.0830964467458.\n"
     ]
    },
    {
     "name": "stdout",
     "output_type": "stream",
     "text": [
      "fin split 0\n",
      "fin split 1\n",
      "fin split 2\n",
      "fin split 3\n",
      "fin split 4\n"
     ]
    },
    {
     "name": "stderr",
     "output_type": "stream",
     "text": [
      "[I 2025-07-19 14:05:13,410] Trial 792 finished with value: 839.297662182401 and parameters: {'lambda_l1': 0.0006849262714183771, 'lambda_l2': 0.5794025137116665, 'num_leaves': 38, 'feature_fraction': 0.9813044831775496, 'bagging_fraction': 0.9834278598792865, 'bagging_freq': 1, 'min_child_samples': 10}. Best is trial 594 with value: 797.0830964467458.\n"
     ]
    },
    {
     "name": "stdout",
     "output_type": "stream",
     "text": [
      "fin split 0\n",
      "fin split 1\n",
      "fin split 2\n",
      "fin split 3\n",
      "fin split 4\n"
     ]
    },
    {
     "name": "stderr",
     "output_type": "stream",
     "text": [
      "[I 2025-07-19 14:06:05,899] Trial 793 finished with value: 861.8475963194626 and parameters: {'lambda_l1': 8.032027525113982, 'lambda_l2': 0.3228926239661254, 'num_leaves': 119, 'feature_fraction': 0.9439145875456998, 'bagging_fraction': 0.9999286659969415, 'bagging_freq': 1, 'min_child_samples': 5}. Best is trial 594 with value: 797.0830964467458.\n"
     ]
    },
    {
     "name": "stdout",
     "output_type": "stream",
     "text": [
      "fin split 0\n",
      "fin split 1\n",
      "fin split 2\n",
      "fin split 3\n",
      "fin split 4\n"
     ]
    },
    {
     "name": "stderr",
     "output_type": "stream",
     "text": [
      "[I 2025-07-19 14:06:36,771] Trial 794 finished with value: 834.6377732551019 and parameters: {'lambda_l1': 0.0016055490323075663, 'lambda_l2': 0.8106944430403259, 'num_leaves': 55, 'feature_fraction': 0.9998385969416227, 'bagging_fraction': 0.992966558441154, 'bagging_freq': 1, 'min_child_samples': 8}. Best is trial 594 with value: 797.0830964467458.\n"
     ]
    },
    {
     "name": "stdout",
     "output_type": "stream",
     "text": [
      "fin split 0\n",
      "fin split 1\n",
      "fin split 2\n",
      "fin split 3\n",
      "fin split 4\n"
     ]
    },
    {
     "name": "stderr",
     "output_type": "stream",
     "text": [
      "[I 2025-07-19 14:07:03,254] Trial 795 finished with value: 833.1759594314979 and parameters: {'lambda_l1': 7.935277550783667e-08, 'lambda_l2': 2.163908266002444, 'num_leaves': 44, 'feature_fraction': 0.9608901877033362, 'bagging_fraction': 0.9812516388174789, 'bagging_freq': 1, 'min_child_samples': 7}. Best is trial 594 with value: 797.0830964467458.\n"
     ]
    },
    {
     "name": "stdout",
     "output_type": "stream",
     "text": [
      "fin split 0\n",
      "fin split 1\n",
      "fin split 2\n",
      "fin split 3\n",
      "fin split 4\n"
     ]
    },
    {
     "name": "stderr",
     "output_type": "stream",
     "text": [
      "[I 2025-07-19 14:07:32,486] Trial 796 finished with value: 810.597653568548 and parameters: {'lambda_l1': 3.4430640924891156, 'lambda_l2': 0.5258521855603465, 'num_leaves': 50, 'feature_fraction': 0.9713828450897435, 'bagging_fraction': 0.992210614122055, 'bagging_freq': 1, 'min_child_samples': 5}. Best is trial 594 with value: 797.0830964467458.\n"
     ]
    },
    {
     "name": "stdout",
     "output_type": "stream",
     "text": [
      "fin split 0\n",
      "fin split 1\n",
      "fin split 2\n",
      "fin split 3\n",
      "fin split 4\n"
     ]
    },
    {
     "name": "stderr",
     "output_type": "stream",
     "text": [
      "[I 2025-07-19 14:09:41,865] Trial 797 finished with value: 911.2879515634913 and parameters: {'lambda_l1': 0.348152672929214, 'lambda_l2': 1.1143151621776157, 'num_leaves': 255, 'feature_fraction': 0.9488255886236369, 'bagging_fraction': 0.9752677885258052, 'bagging_freq': 1, 'min_child_samples': 10}. Best is trial 594 with value: 797.0830964467458.\n"
     ]
    },
    {
     "name": "stdout",
     "output_type": "stream",
     "text": [
      "fin split 0\n",
      "fin split 1\n",
      "fin split 2\n",
      "fin split 3\n",
      "fin split 4\n"
     ]
    },
    {
     "name": "stderr",
     "output_type": "stream",
     "text": [
      "[I 2025-07-19 14:10:04,951] Trial 798 finished with value: 831.8146028575894 and parameters: {'lambda_l1': 0.004538251545361201, 'lambda_l2': 0.532713113533009, 'num_leaves': 35, 'feature_fraction': 0.964338108124398, 'bagging_fraction': 0.9853378182477746, 'bagging_freq': 1, 'min_child_samples': 7}. Best is trial 594 with value: 797.0830964467458.\n"
     ]
    },
    {
     "name": "stdout",
     "output_type": "stream",
     "text": [
      "fin split 0\n",
      "fin split 1\n",
      "fin split 2\n",
      "fin split 3\n",
      "fin split 4\n"
     ]
    },
    {
     "name": "stderr",
     "output_type": "stream",
     "text": [
      "[I 2025-07-19 14:10:33,609] Trial 799 finished with value: 837.2647122348393 and parameters: {'lambda_l1': 2.3136090967517275, 'lambda_l2': 1.629388365675754, 'num_leaves': 48, 'feature_fraction': 0.9523020856515639, 'bagging_fraction': 0.990886507081251, 'bagging_freq': 1, 'min_child_samples': 9}. Best is trial 594 with value: 797.0830964467458.\n"
     ]
    },
    {
     "name": "stdout",
     "output_type": "stream",
     "text": [
      "fin split 0\n",
      "fin split 1\n",
      "fin split 2\n",
      "fin split 3\n",
      "fin split 4\n"
     ]
    },
    {
     "name": "stderr",
     "output_type": "stream",
     "text": [
      "[I 2025-07-19 14:10:57,504] Trial 800 finished with value: 827.8532088507598 and parameters: {'lambda_l1': 0.18582438477807264, 'lambda_l2': 0.8388676689018678, 'num_leaves': 40, 'feature_fraction': 0.9704060091896702, 'bagging_fraction': 0.9826404507906102, 'bagging_freq': 1, 'min_child_samples': 5}. Best is trial 594 with value: 797.0830964467458.\n"
     ]
    },
    {
     "name": "stdout",
     "output_type": "stream",
     "text": [
      "fin split 0\n",
      "fin split 1\n",
      "fin split 2\n",
      "fin split 3\n",
      "fin split 4\n"
     ]
    },
    {
     "name": "stderr",
     "output_type": "stream",
     "text": [
      "[I 2025-07-19 14:11:17,783] Trial 801 finished with value: 839.5564872251828 and parameters: {'lambda_l1': 4.661824957189648, 'lambda_l2': 0.5446611954503, 'num_leaves': 31, 'feature_fraction': 0.9259377250983211, 'bagging_fraction': 0.9923578853666717, 'bagging_freq': 1, 'min_child_samples': 7}. Best is trial 594 with value: 797.0830964467458.\n"
     ]
    },
    {
     "name": "stdout",
     "output_type": "stream",
     "text": [
      "fin split 0\n",
      "fin split 1\n",
      "fin split 2\n",
      "fin split 3\n",
      "fin split 4\n"
     ]
    },
    {
     "name": "stderr",
     "output_type": "stream",
     "text": [
      "[I 2025-07-19 14:11:43,846] Trial 802 finished with value: 833.3501528968942 and parameters: {'lambda_l1': 0.23325397116401544, 'lambda_l2': 0.16689082223306115, 'num_leaves': 48, 'feature_fraction': 0.9396374882495115, 'bagging_fraction': 0.9745645889039923, 'bagging_freq': 1, 'min_child_samples': 5}. Best is trial 594 with value: 797.0830964467458.\n"
     ]
    },
    {
     "name": "stdout",
     "output_type": "stream",
     "text": [
      "fin split 0\n",
      "fin split 1\n",
      "fin split 2\n",
      "fin split 3\n",
      "fin split 4\n"
     ]
    },
    {
     "name": "stderr",
     "output_type": "stream",
     "text": [
      "[I 2025-07-19 14:12:45,353] Trial 803 finished with value: 979.7354576000857 and parameters: {'lambda_l1': 0.8540377734579238, 'lambda_l2': 1.2318230618912172, 'num_leaves': 166, 'feature_fraction': 0.9591472247386812, 'bagging_fraction': 0.9925098641320985, 'bagging_freq': 1, 'min_child_samples': 46}. Best is trial 594 with value: 797.0830964467458.\n"
     ]
    },
    {
     "name": "stdout",
     "output_type": "stream",
     "text": [
      "fin split 0\n",
      "fin split 1\n",
      "fin split 2\n",
      "fin split 3\n",
      "fin split 4\n"
     ]
    },
    {
     "name": "stderr",
     "output_type": "stream",
     "text": [
      "[I 2025-07-19 14:13:09,348] Trial 804 finished with value: 846.4626998653634 and parameters: {'lambda_l1': 4.435694474629955, 'lambda_l2': 3.2080580290247696, 'num_leaves': 43, 'feature_fraction': 0.9721232919431725, 'bagging_fraction': 0.9862374111789223, 'bagging_freq': 1, 'min_child_samples': 9}. Best is trial 594 with value: 797.0830964467458.\n"
     ]
    },
    {
     "name": "stdout",
     "output_type": "stream",
     "text": [
      "fin split 0\n",
      "fin split 1\n",
      "fin split 2\n",
      "fin split 3\n",
      "fin split 4\n"
     ]
    },
    {
     "name": "stderr",
     "output_type": "stream",
     "text": [
      "[I 2025-07-19 14:13:34,924] Trial 805 finished with value: 828.3945513308975 and parameters: {'lambda_l1': 7.663099909178101, 'lambda_l2': 0.6838005740789508, 'num_leaves': 51, 'feature_fraction': 0.9781311272004789, 'bagging_fraction': 0.9802084025312477, 'bagging_freq': 1, 'min_child_samples': 7}. Best is trial 594 with value: 797.0830964467458.\n"
     ]
    },
    {
     "name": "stdout",
     "output_type": "stream",
     "text": [
      "fin split 0\n",
      "fin split 1\n",
      "fin split 2\n",
      "fin split 3\n",
      "fin split 4\n"
     ]
    },
    {
     "name": "stderr",
     "output_type": "stream",
     "text": [
      "[I 2025-07-19 14:13:56,088] Trial 806 finished with value: 821.9631960165136 and parameters: {'lambda_l1': 0.001940768870834033, 'lambda_l2': 0.2663755916210875, 'num_leaves': 39, 'feature_fraction': 0.9507164912679794, 'bagging_fraction': 0.9927807048389247, 'bagging_freq': 1, 'min_child_samples': 11}. Best is trial 594 with value: 797.0830964467458.\n"
     ]
    },
    {
     "name": "stdout",
     "output_type": "stream",
     "text": [
      "fin split 0\n",
      "fin split 1\n",
      "fin split 2\n",
      "fin split 3\n",
      "fin split 4\n"
     ]
    },
    {
     "name": "stderr",
     "output_type": "stream",
     "text": [
      "[I 2025-07-19 14:14:19,588] Trial 807 finished with value: 821.6875907061027 and parameters: {'lambda_l1': 2.5947218559933707, 'lambda_l2': 0.48560470968566155, 'num_leaves': 45, 'feature_fraction': 0.9660501391535864, 'bagging_fraction': 0.9995873120802221, 'bagging_freq': 1, 'min_child_samples': 5}. Best is trial 594 with value: 797.0830964467458.\n"
     ]
    },
    {
     "name": "stdout",
     "output_type": "stream",
     "text": [
      "fin split 0\n",
      "fin split 1\n",
      "fin split 2\n",
      "fin split 3\n",
      "fin split 4\n"
     ]
    },
    {
     "name": "stderr",
     "output_type": "stream",
     "text": [
      "[I 2025-07-19 14:14:41,492] Trial 808 finished with value: 853.8614892677365 and parameters: {'lambda_l1': 0.7431609823213834, 'lambda_l2': 0.056936548662821856, 'num_leaves': 35, 'feature_fraction': 0.980274258564152, 'bagging_fraction': 0.9857517331647011, 'bagging_freq': 1, 'min_child_samples': 8}. Best is trial 594 with value: 797.0830964467458.\n"
     ]
    },
    {
     "name": "stdout",
     "output_type": "stream",
     "text": [
      "fin split 0\n",
      "fin split 1\n",
      "fin split 2\n",
      "fin split 3\n",
      "fin split 4\n"
     ]
    },
    {
     "name": "stderr",
     "output_type": "stream",
     "text": [
      "[I 2025-07-19 14:15:07,943] Trial 809 finished with value: 818.9638258890105 and parameters: {'lambda_l1': 0.0013995507026098096, 'lambda_l2': 0.11212314941673458, 'num_leaves': 52, 'feature_fraction': 0.960885429348674, 'bagging_fraction': 0.9728723021186462, 'bagging_freq': 1, 'min_child_samples': 7}. Best is trial 594 with value: 797.0830964467458.\n"
     ]
    },
    {
     "name": "stdout",
     "output_type": "stream",
     "text": [
      "fin split 0\n",
      "fin split 1\n",
      "fin split 2\n",
      "fin split 3\n",
      "fin split 4\n"
     ]
    },
    {
     "name": "stderr",
     "output_type": "stream",
     "text": [
      "[I 2025-07-19 14:15:33,556] Trial 810 finished with value: 853.875952815487 and parameters: {'lambda_l1': 3.5895333898584547, 'lambda_l2': 0.21916036167875103, 'num_leaves': 40, 'feature_fraction': 0.9720264348385365, 'bagging_fraction': 0.7345434567222642, 'bagging_freq': 1, 'min_child_samples': 5}. Best is trial 594 with value: 797.0830964467458.\n"
     ]
    },
    {
     "name": "stdout",
     "output_type": "stream",
     "text": [
      "fin split 0\n",
      "fin split 1\n",
      "fin split 2\n",
      "fin split 3\n",
      "fin split 4\n"
     ]
    },
    {
     "name": "stderr",
     "output_type": "stream",
     "text": [
      "[I 2025-07-19 14:15:58,222] Trial 811 finished with value: 826.7252975241943 and parameters: {'lambda_l1': 3.94027104003815e-08, 'lambda_l2': 0.866344911670026, 'num_leaves': 47, 'feature_fraction': 0.984081088466452, 'bagging_fraction': 0.9995497112529458, 'bagging_freq': 1, 'min_child_samples': 9}. Best is trial 594 with value: 797.0830964467458.\n"
     ]
    },
    {
     "name": "stdout",
     "output_type": "stream",
     "text": [
      "fin split 0\n",
      "fin split 1\n",
      "fin split 2\n",
      "fin split 3\n",
      "fin split 4\n"
     ]
    },
    {
     "name": "stderr",
     "output_type": "stream",
     "text": [
      "[I 2025-07-19 14:16:29,046] Trial 812 finished with value: 837.7102533673793 and parameters: {'lambda_l1': 0.0032506029292510446, 'lambda_l2': 0.37097550978519267, 'num_leaves': 59, 'feature_fraction': 0.9450162470733853, 'bagging_fraction': 0.999997222406364, 'bagging_freq': 1, 'min_child_samples': 7}. Best is trial 594 with value: 797.0830964467458.\n"
     ]
    },
    {
     "name": "stdout",
     "output_type": "stream",
     "text": [
      "fin split 0\n",
      "fin split 1\n",
      "fin split 2\n",
      "fin split 3\n",
      "fin split 4\n"
     ]
    },
    {
     "name": "stderr",
     "output_type": "stream",
     "text": [
      "[I 2025-07-19 14:16:48,393] Trial 813 finished with value: 843.4135558845448 and parameters: {'lambda_l1': 9.131784513457418, 'lambda_l2': 1.3435182998860327, 'num_leaves': 32, 'feature_fraction': 0.9709170413775183, 'bagging_fraction': 0.9808463252802038, 'bagging_freq': 1, 'min_child_samples': 12}. Best is trial 594 with value: 797.0830964467458.\n"
     ]
    },
    {
     "name": "stdout",
     "output_type": "stream",
     "text": [
      "fin split 0\n",
      "fin split 1\n",
      "fin split 2\n",
      "fin split 3\n",
      "fin split 4\n"
     ]
    },
    {
     "name": "stderr",
     "output_type": "stream",
     "text": [
      "[I 2025-07-19 14:17:12,106] Trial 814 finished with value: 848.0686310787331 and parameters: {'lambda_l1': 1.0750372547429057, 'lambda_l2': 0.08510412113903858, 'num_leaves': 44, 'feature_fraction': 0.9874881908417974, 'bagging_fraction': 0.9012983327391797, 'bagging_freq': 1, 'min_child_samples': 5}. Best is trial 594 with value: 797.0830964467458.\n"
     ]
    },
    {
     "name": "stdout",
     "output_type": "stream",
     "text": [
      "fin split 0\n",
      "fin split 1\n",
      "fin split 2\n",
      "fin split 3\n",
      "fin split 4\n"
     ]
    },
    {
     "name": "stderr",
     "output_type": "stream",
     "text": [
      "[I 2025-07-19 14:17:49,983] Trial 815 finished with value: 887.1158595557229 and parameters: {'lambda_l1': 3.526373106301979, 'lambda_l2': 0.7293962123221522, 'num_leaves': 91, 'feature_fraction': 0.953574123359944, 'bagging_fraction': 0.9924802394402797, 'bagging_freq': 1, 'min_child_samples': 9}. Best is trial 594 with value: 797.0830964467458.\n"
     ]
    },
    {
     "name": "stdout",
     "output_type": "stream",
     "text": [
      "fin split 0\n",
      "fin split 1\n",
      "fin split 2\n",
      "fin split 3\n",
      "fin split 4\n"
     ]
    },
    {
     "name": "stderr",
     "output_type": "stream",
     "text": [
      "[I 2025-07-19 14:18:17,686] Trial 816 finished with value: 819.3199271741894 and parameters: {'lambda_l1': 0.002363094692563346, 'lambda_l2': 0.14759596197938823, 'num_leaves': 51, 'feature_fraction': 0.9805391199433915, 'bagging_fraction': 0.98673737850389, 'bagging_freq': 1, 'min_child_samples': 7}. Best is trial 594 with value: 797.0830964467458.\n"
     ]
    },
    {
     "name": "stdout",
     "output_type": "stream",
     "text": [
      "fin split 0\n",
      "fin split 1\n",
      "fin split 2\n",
      "fin split 3\n",
      "fin split 4\n"
     ]
    },
    {
     "name": "stderr",
     "output_type": "stream",
     "text": [
      "[I 2025-07-19 14:18:41,147] Trial 817 finished with value: 830.4334887702571 and parameters: {'lambda_l1': 3.3218770950908536, 'lambda_l2': 2.02710621017363, 'num_leaves': 40, 'feature_fraction': 0.9646907111627135, 'bagging_fraction': 0.9767078080592938, 'bagging_freq': 1, 'min_child_samples': 5}. Best is trial 594 with value: 797.0830964467458.\n"
     ]
    },
    {
     "name": "stdout",
     "output_type": "stream",
     "text": [
      "fin split 0\n",
      "fin split 1\n",
      "fin split 2\n",
      "fin split 3\n",
      "fin split 4\n"
     ]
    },
    {
     "name": "stderr",
     "output_type": "stream",
     "text": [
      "[I 2025-07-19 14:19:05,873] Trial 818 finished with value: 874.0955545488512 and parameters: {'lambda_l1': 0.0013345917573979302, 'lambda_l2': 0.2801258666074383, 'num_leaves': 48, 'feature_fraction': 0.984250935686891, 'bagging_fraction': 0.8120828118312442, 'bagging_freq': 2, 'min_child_samples': 10}. Best is trial 594 with value: 797.0830964467458.\n"
     ]
    },
    {
     "name": "stdout",
     "output_type": "stream",
     "text": [
      "fin split 0\n",
      "fin split 1\n",
      "fin split 2\n",
      "fin split 3\n",
      "fin split 4\n"
     ]
    },
    {
     "name": "stderr",
     "output_type": "stream",
     "text": [
      "[I 2025-07-19 14:19:26,238] Trial 819 finished with value: 825.216507200141 and parameters: {'lambda_l1': 0.1125339860408802, 'lambda_l2': 0.4624857085850788, 'num_leaves': 36, 'feature_fraction': 0.958063207702468, 'bagging_fraction': 0.9933207988216954, 'bagging_freq': 1, 'min_child_samples': 7}. Best is trial 594 with value: 797.0830964467458.\n"
     ]
    },
    {
     "name": "stdout",
     "output_type": "stream",
     "text": [
      "fin split 0\n",
      "fin split 1\n",
      "fin split 2\n",
      "fin split 3\n",
      "fin split 4\n"
     ]
    },
    {
     "name": "stderr",
     "output_type": "stream",
     "text": [
      "[I 2025-07-19 14:19:55,639] Trial 820 finished with value: 800.7102375016277 and parameters: {'lambda_l1': 0.005343822558269003, 'lambda_l2': 0.9456991204144631, 'num_leaves': 55, 'feature_fraction': 0.9748813782613572, 'bagging_fraction': 0.9856900815422672, 'bagging_freq': 1, 'min_child_samples': 5}. Best is trial 594 with value: 797.0830964467458.\n"
     ]
    },
    {
     "name": "stdout",
     "output_type": "stream",
     "text": [
      "fin split 0\n",
      "fin split 1\n",
      "fin split 2\n",
      "fin split 3\n",
      "fin split 4\n"
     ]
    },
    {
     "name": "stderr",
     "output_type": "stream",
     "text": [
      "[I 2025-07-19 14:20:27,146] Trial 821 finished with value: 830.8086021901297 and parameters: {'lambda_l1': 0.0058891480904396595, 'lambda_l2': 1.8302356108973556, 'num_leaves': 60, 'feature_fraction': 0.9725000937315647, 'bagging_fraction': 0.9739453104115944, 'bagging_freq': 1, 'min_child_samples': 5}. Best is trial 594 with value: 797.0830964467458.\n"
     ]
    },
    {
     "name": "stdout",
     "output_type": "stream",
     "text": [
      "fin split 0\n",
      "fin split 1\n",
      "fin split 2\n",
      "fin split 3\n",
      "fin split 4\n"
     ]
    },
    {
     "name": "stderr",
     "output_type": "stream",
     "text": [
      "[I 2025-07-19 14:21:01,409] Trial 822 finished with value: 983.436298780178 and parameters: {'lambda_l1': 1.2178862229014806, 'lambda_l2': 1.2092870846186234, 'num_leaves': 64, 'feature_fraction': 0.9888731681210128, 'bagging_fraction': 0.9735953606844638, 'bagging_freq': 1, 'min_child_samples': 77}. Best is trial 594 with value: 797.0830964467458.\n"
     ]
    },
    {
     "name": "stdout",
     "output_type": "stream",
     "text": [
      "fin split 0\n",
      "fin split 1\n",
      "fin split 2\n",
      "fin split 3\n",
      "fin split 4\n"
     ]
    },
    {
     "name": "stderr",
     "output_type": "stream",
     "text": [
      "[I 2025-07-19 14:21:31,790] Trial 823 finished with value: 804.8331880797468 and parameters: {'lambda_l1': 0.0034410195300827577, 'lambda_l2': 0.8947589424614681, 'num_leaves': 54, 'feature_fraction': 0.9715544291966285, 'bagging_fraction': 0.9825127075645372, 'bagging_freq': 1, 'min_child_samples': 5}. Best is trial 594 with value: 797.0830964467458.\n"
     ]
    },
    {
     "name": "stdout",
     "output_type": "stream",
     "text": [
      "fin split 0\n",
      "fin split 1\n",
      "fin split 2\n",
      "fin split 3\n",
      "fin split 4\n"
     ]
    },
    {
     "name": "stderr",
     "output_type": "stream",
     "text": [
      "[I 2025-07-19 14:22:05,225] Trial 824 finished with value: 806.9542190792704 and parameters: {'lambda_l1': 0.004632562410867971, 'lambda_l2': 0.7788296811145924, 'num_leaves': 64, 'feature_fraction': 0.9771137163373281, 'bagging_fraction': 0.9839686342276046, 'bagging_freq': 1, 'min_child_samples': 5}. Best is trial 594 with value: 797.0830964467458.\n"
     ]
    },
    {
     "name": "stdout",
     "output_type": "stream",
     "text": [
      "fin split 0\n",
      "fin split 1\n",
      "fin split 2\n",
      "fin split 3\n",
      "fin split 4\n"
     ]
    },
    {
     "name": "stderr",
     "output_type": "stream",
     "text": [
      "[I 2025-07-19 14:22:36,626] Trial 825 finished with value: 839.1521164460187 and parameters: {'lambda_l1': 0.005798919477138397, 'lambda_l2': 1.198813023267539, 'num_leaves': 65, 'feature_fraction': 0.9547815792326058, 'bagging_fraction': 0.9808105412370121, 'bagging_freq': 1, 'min_child_samples': 5}. Best is trial 594 with value: 797.0830964467458.\n"
     ]
    },
    {
     "name": "stdout",
     "output_type": "stream",
     "text": [
      "fin split 0\n",
      "fin split 1\n",
      "fin split 2\n",
      "fin split 3\n",
      "fin split 4\n"
     ]
    },
    {
     "name": "stderr",
     "output_type": "stream",
     "text": [
      "[I 2025-07-19 14:23:08,915] Trial 826 finished with value: 860.3801723481099 and parameters: {'lambda_l1': 0.0050522530249755716, 'lambda_l2': 4.030946332880446, 'num_leaves': 68, 'feature_fraction': 0.9709323754418884, 'bagging_fraction': 0.9148652454150028, 'bagging_freq': 1, 'min_child_samples': 7}. Best is trial 594 with value: 797.0830964467458.\n"
     ]
    },
    {
     "name": "stdout",
     "output_type": "stream",
     "text": [
      "fin split 0\n",
      "fin split 1\n",
      "fin split 2\n",
      "fin split 3\n",
      "fin split 4\n"
     ]
    },
    {
     "name": "stderr",
     "output_type": "stream",
     "text": [
      "[I 2025-07-19 14:23:38,527] Trial 827 finished with value: 857.2931797051872 and parameters: {'lambda_l1': 0.003927769452231228, 'lambda_l2': 2.4215523759589277, 'num_leaves': 59, 'feature_fraction': 0.9350013866490587, 'bagging_fraction': 0.9796818601298065, 'bagging_freq': 1, 'min_child_samples': 7}. Best is trial 594 with value: 797.0830964467458.\n"
     ]
    },
    {
     "name": "stdout",
     "output_type": "stream",
     "text": [
      "fin split 0\n",
      "fin split 1\n",
      "fin split 2\n",
      "fin split 3\n",
      "fin split 4\n"
     ]
    },
    {
     "name": "stderr",
     "output_type": "stream",
     "text": [
      "[I 2025-07-19 14:25:00,089] Trial 828 finished with value: 892.107600104629 and parameters: {'lambda_l1': 0.5047134199508511, 'lambda_l2': 0.9568749454429613, 'num_leaves': 206, 'feature_fraction': 0.9612529257949194, 'bagging_fraction': 0.9837858839021933, 'bagging_freq': 1, 'min_child_samples': 5}. Best is trial 594 with value: 797.0830964467458.\n"
     ]
    },
    {
     "name": "stdout",
     "output_type": "stream",
     "text": [
      "fin split 0\n",
      "fin split 1\n",
      "fin split 2\n",
      "fin split 3\n",
      "fin split 4\n"
     ]
    },
    {
     "name": "stderr",
     "output_type": "stream",
     "text": [
      "[I 2025-07-19 14:25:30,642] Trial 829 finished with value: 819.567349740736 and parameters: {'lambda_l1': 0.002477459686346605, 'lambda_l2': 1.641066383220596, 'num_leaves': 56, 'feature_fraction': 0.9771714051503184, 'bagging_fraction': 0.9733492700013524, 'bagging_freq': 1, 'min_child_samples': 7}. Best is trial 594 with value: 797.0830964467458.\n"
     ]
    },
    {
     "name": "stdout",
     "output_type": "stream",
     "text": [
      "fin split 0\n",
      "fin split 1\n",
      "fin split 2\n",
      "fin split 3\n",
      "fin split 4\n"
     ]
    },
    {
     "name": "stderr",
     "output_type": "stream",
     "text": [
      "[I 2025-07-19 14:26:01,923] Trial 830 finished with value: 826.5270791720378 and parameters: {'lambda_l1': 0.004480812649704427, 'lambda_l2': 0.7839024190993554, 'num_leaves': 63, 'feature_fraction': 0.9468330035459747, 'bagging_fraction': 0.9848982075285586, 'bagging_freq': 1, 'min_child_samples': 5}. Best is trial 594 with value: 797.0830964467458.\n"
     ]
    },
    {
     "name": "stdout",
     "output_type": "stream",
     "text": [
      "fin split 0\n",
      "fin split 1\n",
      "fin split 2\n",
      "fin split 3\n",
      "fin split 4\n"
     ]
    },
    {
     "name": "stderr",
     "output_type": "stream",
     "text": [
      "[I 2025-07-19 14:26:34,085] Trial 831 finished with value: 828.3449528722053 and parameters: {'lambda_l1': 1.7414969161229426, 'lambda_l2': 3.5045323529294525e-08, 'num_leaves': 58, 'feature_fraction': 0.9688050406269997, 'bagging_fraction': 0.9852544897487167, 'bagging_freq': 1, 'min_child_samples': 8}. Best is trial 594 with value: 797.0830964467458.\n"
     ]
    },
    {
     "name": "stdout",
     "output_type": "stream",
     "text": [
      "fin split 0\n",
      "fin split 1\n",
      "fin split 2\n",
      "fin split 3\n",
      "fin split 4\n"
     ]
    },
    {
     "name": "stderr",
     "output_type": "stream",
     "text": [
      "[I 2025-07-19 14:27:03,285] Trial 832 finished with value: 836.9811318328805 and parameters: {'lambda_l1': 0.0037159059130825673, 'lambda_l2': 0.9312101349538614, 'num_leaves': 55, 'feature_fraction': 0.9787160254299679, 'bagging_fraction': 0.9742602364673363, 'bagging_freq': 1, 'min_child_samples': 7}. Best is trial 594 with value: 797.0830964467458.\n"
     ]
    },
    {
     "name": "stdout",
     "output_type": "stream",
     "text": [
      "fin split 0\n",
      "fin split 1\n",
      "fin split 2\n",
      "fin split 3\n",
      "fin split 4\n"
     ]
    },
    {
     "name": "stderr",
     "output_type": "stream",
     "text": [
      "[I 2025-07-19 14:27:30,643] Trial 833 finished with value: 833.3856232811357 and parameters: {'lambda_l1': 0.005336318978299203, 'lambda_l2': 1.634782595922843, 'num_leaves': 53, 'feature_fraction': 0.9571400037902278, 'bagging_fraction': 0.9861467899461211, 'bagging_freq': 1, 'min_child_samples': 5}. Best is trial 594 with value: 797.0830964467458.\n"
     ]
    },
    {
     "name": "stdout",
     "output_type": "stream",
     "text": [
      "fin split 0\n",
      "fin split 1\n",
      "fin split 2\n",
      "fin split 3\n",
      "fin split 4\n"
     ]
    },
    {
     "name": "stderr",
     "output_type": "stream",
     "text": [
      "[I 2025-07-19 14:28:02,921] Trial 834 finished with value: 837.4376934951849 and parameters: {'lambda_l1': 0.003519341002462844, 'lambda_l2': 0.7099218702813392, 'num_leaves': 69, 'feature_fraction': 0.987430483409488, 'bagging_fraction': 0.9805086420263952, 'bagging_freq': 1, 'min_child_samples': 9}. Best is trial 594 with value: 797.0830964467458.\n"
     ]
    },
    {
     "name": "stdout",
     "output_type": "stream",
     "text": [
      "fin split 0\n",
      "fin split 1\n",
      "fin split 2\n",
      "fin split 3\n",
      "fin split 4\n"
     ]
    },
    {
     "name": "stderr",
     "output_type": "stream",
     "text": [
      "[I 2025-07-19 14:28:31,748] Trial 835 finished with value: 832.3567704264904 and parameters: {'lambda_l1': 0.006145164748787595, 'lambda_l2': 1.027980552442895, 'num_leaves': 62, 'feature_fraction': 0.9692293957539089, 'bagging_fraction': 0.9890555172000816, 'bagging_freq': 1, 'min_child_samples': 7}. Best is trial 594 with value: 797.0830964467458.\n"
     ]
    },
    {
     "name": "stdout",
     "output_type": "stream",
     "text": [
      "fin split 0\n",
      "fin split 1\n",
      "fin split 2\n",
      "fin split 3\n",
      "fin split 4\n"
     ]
    },
    {
     "name": "stderr",
     "output_type": "stream",
     "text": [
      "[I 2025-07-19 14:29:00,784] Trial 836 finished with value: 815.6775136434173 and parameters: {'lambda_l1': 0.0027878861099202242, 'lambda_l2': 0.5686650969367548, 'num_leaves': 56, 'feature_fraction': 0.9786585016461863, 'bagging_fraction': 0.9729218511954162, 'bagging_freq': 1, 'min_child_samples': 5}. Best is trial 594 with value: 797.0830964467458.\n"
     ]
    },
    {
     "name": "stdout",
     "output_type": "stream",
     "text": [
      "fin split 0\n",
      "fin split 1\n",
      "fin split 2\n",
      "fin split 3\n",
      "fin split 4\n"
     ]
    },
    {
     "name": "stderr",
     "output_type": "stream",
     "text": [
      "[I 2025-07-19 14:29:27,961] Trial 837 finished with value: 850.5327320339 and parameters: {'lambda_l1': 0.003692537058086873, 'lambda_l2': 2.984302503822092, 'num_leaves': 50, 'feature_fraction': 0.9896073863718123, 'bagging_fraction': 0.9804544796233328, 'bagging_freq': 1, 'min_child_samples': 9}. Best is trial 594 with value: 797.0830964467458.\n"
     ]
    },
    {
     "name": "stdout",
     "output_type": "stream",
     "text": [
      "fin split 0\n",
      "fin split 1\n",
      "fin split 2\n",
      "fin split 3\n",
      "fin split 4\n"
     ]
    },
    {
     "name": "stderr",
     "output_type": "stream",
     "text": [
      "[I 2025-07-19 14:29:45,801] Trial 838 finished with value: 851.5714928846127 and parameters: {'lambda_l1': 0.0021474800469329625, 'lambda_l2': 1.2498970257734898, 'num_leaves': 49, 'feature_fraction': 0.5382807323042255, 'bagging_fraction': 0.9925547249330032, 'bagging_freq': 1, 'min_child_samples': 7}. Best is trial 594 with value: 797.0830964467458.\n"
     ]
    },
    {
     "name": "stdout",
     "output_type": "stream",
     "text": [
      "fin split 0\n",
      "fin split 1\n",
      "fin split 2\n",
      "fin split 3\n",
      "fin split 4\n"
     ]
    },
    {
     "name": "stderr",
     "output_type": "stream",
     "text": [
      "[I 2025-07-19 14:30:13,414] Trial 839 finished with value: 847.076177864839 and parameters: {'lambda_l1': 0.005820863441585549, 'lambda_l2': 6.388195191094522e-08, 'num_leaves': 54, 'feature_fraction': 0.9611093203892752, 'bagging_fraction': 0.9872692791135133, 'bagging_freq': 1, 'min_child_samples': 11}. Best is trial 594 with value: 797.0830964467458.\n"
     ]
    },
    {
     "name": "stdout",
     "output_type": "stream",
     "text": [
      "fin split 0\n",
      "fin split 1\n",
      "fin split 2\n",
      "fin split 3\n",
      "fin split 4\n"
     ]
    },
    {
     "name": "stderr",
     "output_type": "stream",
     "text": [
      "[I 2025-07-19 14:30:44,742] Trial 840 finished with value: 825.4470183145272 and parameters: {'lambda_l1': 0.0023616658163769216, 'lambda_l2': 0.41342687849147364, 'num_leaves': 58, 'feature_fraction': 0.9421646810926699, 'bagging_fraction': 0.9925259880682552, 'bagging_freq': 1, 'min_child_samples': 5}. Best is trial 594 with value: 797.0830964467458.\n"
     ]
    },
    {
     "name": "stdout",
     "output_type": "stream",
     "text": [
      "fin split 0\n",
      "fin split 1\n",
      "fin split 2\n",
      "fin split 3\n",
      "fin split 4\n"
     ]
    },
    {
     "name": "stderr",
     "output_type": "stream",
     "text": [
      "[I 2025-07-19 14:31:10,359] Trial 841 finished with value: 832.4413553952543 and parameters: {'lambda_l1': 0.0033622231856214086, 'lambda_l2': 0.6296675792302368, 'num_leaves': 47, 'feature_fraction': 0.9777751640512653, 'bagging_fraction': 0.9790261092250032, 'bagging_freq': 1, 'min_child_samples': 8}. Best is trial 594 with value: 797.0830964467458.\n"
     ]
    },
    {
     "name": "stdout",
     "output_type": "stream",
     "text": [
      "fin split 0\n",
      "fin split 1\n",
      "fin split 2\n",
      "fin split 3\n",
      "fin split 4\n"
     ]
    },
    {
     "name": "stderr",
     "output_type": "stream",
     "text": [
      "[I 2025-07-19 14:31:38,032] Trial 842 finished with value: 845.5990941594805 and parameters: {'lambda_l1': 2.1182519021948864e-08, 'lambda_l2': 1.8217696496750884, 'num_leaves': 51, 'feature_fraction': 0.9667526093519515, 'bagging_fraction': 0.9862671215057603, 'bagging_freq': 1, 'min_child_samples': 7}. Best is trial 594 with value: 797.0830964467458.\n"
     ]
    },
    {
     "name": "stdout",
     "output_type": "stream",
     "text": [
      "fin split 0\n",
      "fin split 1\n",
      "fin split 2\n",
      "fin split 3\n",
      "fin split 4\n"
     ]
    },
    {
     "name": "stderr",
     "output_type": "stream",
     "text": [
      "[I 2025-07-19 14:32:19,318] Trial 843 finished with value: 823.1622530108847 and parameters: {'lambda_l1': 0.002027600816363425, 'lambda_l2': 0.8296559907737021, 'num_leaves': 85, 'feature_fraction': 0.9901307418505993, 'bagging_fraction': 0.9747110668276253, 'bagging_freq': 1, 'min_child_samples': 5}. Best is trial 594 with value: 797.0830964467458.\n"
     ]
    },
    {
     "name": "stdout",
     "output_type": "stream",
     "text": [
      "fin split 0\n",
      "fin split 1\n",
      "fin split 2\n",
      "fin split 3\n",
      "fin split 4\n"
     ]
    },
    {
     "name": "stderr",
     "output_type": "stream",
     "text": [
      "[I 2025-07-19 14:32:42,592] Trial 844 finished with value: 831.6492714964277 and parameters: {'lambda_l1': 0.0016282159164526958, 'lambda_l2': 0.36094512807702817, 'num_leaves': 43, 'feature_fraction': 0.9542279578556873, 'bagging_fraction': 0.9931770129530874, 'bagging_freq': 1, 'min_child_samples': 9}. Best is trial 594 with value: 797.0830964467458.\n"
     ]
    },
    {
     "name": "stdout",
     "output_type": "stream",
     "text": [
      "fin split 0\n",
      "fin split 1\n",
      "fin split 2\n",
      "fin split 3\n",
      "fin split 4\n"
     ]
    },
    {
     "name": "stderr",
     "output_type": "stream",
     "text": [
      "[I 2025-07-19 14:33:14,101] Trial 845 finished with value: 842.7881572428462 and parameters: {'lambda_l1': 0.005976369383082254, 'lambda_l2': 1.266837306122724, 'num_leaves': 61, 'feature_fraction': 0.999922485518752, 'bagging_fraction': 0.9858069597449911, 'bagging_freq': 1, 'min_child_samples': 7}. Best is trial 594 with value: 797.0830964467458.\n"
     ]
    },
    {
     "name": "stdout",
     "output_type": "stream",
     "text": [
      "fin split 0\n",
      "fin split 1\n",
      "fin split 2\n",
      "fin split 3\n",
      "fin split 4\n"
     ]
    },
    {
     "name": "stderr",
     "output_type": "stream",
     "text": [
      "[I 2025-07-19 14:33:32,602] Trial 846 finished with value: 859.7085454437042 and parameters: {'lambda_l1': 0.0029844878041004803, 'lambda_l2': 0.5775564577200397, 'num_leaves': 46, 'feature_fraction': 0.5662793190239734, 'bagging_fraction': 0.9926506081475215, 'bagging_freq': 1, 'min_child_samples': 5}. Best is trial 594 with value: 797.0830964467458.\n"
     ]
    },
    {
     "name": "stdout",
     "output_type": "stream",
     "text": [
      "fin split 0\n",
      "fin split 1\n",
      "fin split 2\n",
      "fin split 3\n",
      "fin split 4\n"
     ]
    },
    {
     "name": "stderr",
     "output_type": "stream",
     "text": [
      "[I 2025-07-19 14:33:59,449] Trial 847 finished with value: 874.1668973040967 and parameters: {'lambda_l1': 0.0038502990508625275, 'lambda_l2': 0.23931671959101902, 'num_leaves': 54, 'feature_fraction': 0.9778974281009554, 'bagging_fraction': 0.9996925661573924, 'bagging_freq': 1, 'min_child_samples': 11}. Best is trial 594 with value: 797.0830964467458.\n"
     ]
    },
    {
     "name": "stdout",
     "output_type": "stream",
     "text": [
      "fin split 0\n",
      "fin split 1\n",
      "fin split 2\n",
      "fin split 3\n",
      "fin split 4\n"
     ]
    },
    {
     "name": "stderr",
     "output_type": "stream",
     "text": [
      "[I 2025-07-19 14:34:22,440] Trial 848 finished with value: 854.5794143415204 and parameters: {'lambda_l1': 0.0014298282993011591, 'lambda_l2': 6.5050025538480085, 'num_leaves': 42, 'feature_fraction': 0.9680527307920037, 'bagging_fraction': 0.9718091706031567, 'bagging_freq': 1, 'min_child_samples': 7}. Best is trial 594 with value: 797.0830964467458.\n"
     ]
    },
    {
     "name": "stdout",
     "output_type": "stream",
     "text": [
      "fin split 0\n",
      "fin split 1\n",
      "fin split 2\n",
      "fin split 3\n",
      "fin split 4\n"
     ]
    },
    {
     "name": "stderr",
     "output_type": "stream",
     "text": [
      "[I 2025-07-19 14:34:48,442] Trial 849 finished with value: 857.5471249525647 and parameters: {'lambda_l1': 2.5572129639465492e-08, 'lambda_l2': 0.8747579739812587, 'num_leaves': 50, 'feature_fraction': 0.9896094887779465, 'bagging_fraction': 0.780645355674354, 'bagging_freq': 1, 'min_child_samples': 9}. Best is trial 594 with value: 797.0830964467458.\n"
     ]
    },
    {
     "name": "stdout",
     "output_type": "stream",
     "text": [
      "fin split 0\n",
      "fin split 1\n",
      "fin split 2\n",
      "fin split 3\n",
      "fin split 4\n"
     ]
    },
    {
     "name": "stderr",
     "output_type": "stream",
     "text": [
      "[I 2025-07-19 14:35:09,484] Trial 850 finished with value: 824.1172331305479 and parameters: {'lambda_l1': 0.002110802182085146, 'lambda_l2': 0.39831205084286725, 'num_leaves': 38, 'feature_fraction': 0.9474987306081819, 'bagging_fraction': 0.980257947574653, 'bagging_freq': 1, 'min_child_samples': 5}. Best is trial 594 with value: 797.0830964467458.\n"
     ]
    },
    {
     "name": "stdout",
     "output_type": "stream",
     "text": [
      "fin split 0\n",
      "fin split 1\n",
      "fin split 2\n",
      "fin split 3\n",
      "fin split 4\n"
     ]
    },
    {
     "name": "stderr",
     "output_type": "stream",
     "text": [
      "[I 2025-07-19 14:35:37,296] Trial 851 finished with value: 830.6195178974839 and parameters: {'lambda_l1': 0.001013477057512089, 'lambda_l2': 2.0138648813614592, 'num_leaves': 45, 'feature_fraction': 0.9806431306892003, 'bagging_fraction': 0.9859364267266149, 'bagging_freq': 1, 'min_child_samples': 7}. Best is trial 594 with value: 797.0830964467458.\n"
     ]
    },
    {
     "name": "stdout",
     "output_type": "stream",
     "text": [
      "fin split 0\n",
      "fin split 1\n",
      "fin split 2\n",
      "fin split 3\n",
      "fin split 4\n"
     ]
    },
    {
     "name": "stderr",
     "output_type": "stream",
     "text": [
      "[I 2025-07-19 14:36:04,924] Trial 852 finished with value: 990.7553382860119 and parameters: {'lambda_l1': 0.004520298563118214, 'lambda_l2': 0.601502387413769, 'num_leaves': 57, 'feature_fraction': 0.9613716529547985, 'bagging_fraction': 0.992470028390256, 'bagging_freq': 1, 'min_child_samples': 91}. Best is trial 594 with value: 797.0830964467458.\n"
     ]
    },
    {
     "name": "stdout",
     "output_type": "stream",
     "text": [
      "fin split 0\n",
      "fin split 1\n",
      "fin split 2\n",
      "fin split 3\n",
      "fin split 4\n"
     ]
    },
    {
     "name": "stderr",
     "output_type": "stream",
     "text": [
      "[I 2025-07-19 14:36:43,720] Trial 853 finished with value: 984.7960732094101 and parameters: {'lambda_l1': 0.0025157541321485137, 'lambda_l2': 1.3369267215637899, 'num_leaves': 75, 'feature_fraction': 0.9889060550502063, 'bagging_fraction': 0.9782070521050094, 'bagging_freq': 1, 'min_child_samples': 69}. Best is trial 594 with value: 797.0830964467458.\n"
     ]
    },
    {
     "name": "stdout",
     "output_type": "stream",
     "text": [
      "fin split 0\n",
      "fin split 1\n",
      "fin split 2\n",
      "fin split 3\n",
      "fin split 4\n"
     ]
    },
    {
     "name": "stderr",
     "output_type": "stream",
     "text": [
      "[I 2025-07-19 14:37:10,588] Trial 854 finished with value: 834.619968694152 and parameters: {'lambda_l1': 0.0067117392154682565, 'lambda_l2': 0.32172768604935215, 'num_leaves': 49, 'feature_fraction': 0.9738478260152481, 'bagging_fraction': 0.9924962932489149, 'bagging_freq': 1, 'min_child_samples': 9}. Best is trial 594 with value: 797.0830964467458.\n"
     ]
    },
    {
     "name": "stdout",
     "output_type": "stream",
     "text": [
      "fin split 0\n",
      "fin split 1\n",
      "fin split 2\n",
      "fin split 3\n",
      "fin split 4\n"
     ]
    },
    {
     "name": "stderr",
     "output_type": "stream",
     "text": [
      "[I 2025-07-19 14:37:44,053] Trial 855 finished with value: 828.3440323209657 and parameters: {'lambda_l1': 0.001520150670491387, 'lambda_l2': 0.8950953167355548, 'num_leaves': 66, 'feature_fraction': 0.9561832475297318, 'bagging_fraction': 0.9847457943552095, 'bagging_freq': 2, 'min_child_samples': 5}. Best is trial 594 with value: 797.0830964467458.\n"
     ]
    },
    {
     "name": "stdout",
     "output_type": "stream",
     "text": [
      "fin split 0\n",
      "fin split 1\n",
      "fin split 2\n",
      "fin split 3\n",
      "fin split 4\n"
     ]
    },
    {
     "name": "stderr",
     "output_type": "stream",
     "text": [
      "[I 2025-07-19 14:38:05,222] Trial 856 finished with value: 844.2051966439421 and parameters: {'lambda_l1': 0.0009883388705432864, 'lambda_l2': 0.16160853007288287, 'num_leaves': 40, 'feature_fraction': 0.9369771725209879, 'bagging_fraction': 0.969815273683496, 'bagging_freq': 1, 'min_child_samples': 7}. Best is trial 594 with value: 797.0830964467458.\n"
     ]
    },
    {
     "name": "stdout",
     "output_type": "stream",
     "text": [
      "fin split 0\n",
      "fin split 1\n",
      "fin split 2\n",
      "fin split 3\n",
      "fin split 4\n"
     ]
    },
    {
     "name": "stderr",
     "output_type": "stream",
     "text": [
      "[I 2025-07-19 14:38:31,772] Trial 857 finished with value: 872.4244298887696 and parameters: {'lambda_l1': 0.0018328077091923907, 'lambda_l2': 2.851715468505723, 'num_leaves': 54, 'feature_fraction': 0.9712726159686637, 'bagging_fraction': 0.9932056288431748, 'bagging_freq': 1, 'min_child_samples': 10}. Best is trial 594 with value: 797.0830964467458.\n"
     ]
    },
    {
     "name": "stdout",
     "output_type": "stream",
     "text": [
      "fin split 0\n",
      "fin split 1\n",
      "fin split 2\n",
      "fin split 3\n",
      "fin split 4\n"
     ]
    },
    {
     "name": "stderr",
     "output_type": "stream",
     "text": [
      "[I 2025-07-19 14:39:26,157] Trial 858 finished with value: 856.3741056748479 and parameters: {'lambda_l1': 0.003170509818791164, 'lambda_l2': 0.4684212460651106, 'num_leaves': 130, 'feature_fraction': 0.9901575458560671, 'bagging_fraction': 0.9782571167140368, 'bagging_freq': 1, 'min_child_samples': 5}. Best is trial 594 with value: 797.0830964467458.\n"
     ]
    },
    {
     "name": "stdout",
     "output_type": "stream",
     "text": [
      "fin split 0\n",
      "fin split 1\n",
      "fin split 2\n",
      "fin split 3\n",
      "fin split 4\n"
     ]
    },
    {
     "name": "stderr",
     "output_type": "stream",
     "text": [
      "[I 2025-07-19 14:39:51,274] Trial 859 finished with value: 819.0288276742426 and parameters: {'lambda_l1': 0.0006637384243946636, 'lambda_l2': 0.23020674783728554, 'num_leaves': 45, 'feature_fraction': 0.9795347498717697, 'bagging_fraction': 0.9994959997782837, 'bagging_freq': 1, 'min_child_samples': 7}. Best is trial 594 with value: 797.0830964467458.\n"
     ]
    },
    {
     "name": "stdout",
     "output_type": "stream",
     "text": [
      "fin split 0\n",
      "fin split 1\n",
      "fin split 2\n",
      "fin split 3\n",
      "fin split 4\n"
     ]
    },
    {
     "name": "stderr",
     "output_type": "stream",
     "text": [
      "[I 2025-07-19 14:40:10,270] Trial 860 finished with value: 847.7253901823792 and parameters: {'lambda_l1': 0.0011886090394649103, 'lambda_l2': 0.6563593495168776, 'num_leaves': 36, 'feature_fraction': 0.9632959199535315, 'bagging_fraction': 0.9853315849554406, 'bagging_freq': 1, 'min_child_samples': 12}. Best is trial 594 with value: 797.0830964467458.\n"
     ]
    },
    {
     "name": "stdout",
     "output_type": "stream",
     "text": [
      "fin split 0\n",
      "fin split 1\n",
      "fin split 2\n",
      "fin split 3\n",
      "fin split 4\n"
     ]
    },
    {
     "name": "stderr",
     "output_type": "stream",
     "text": [
      "[I 2025-07-19 14:40:37,914] Trial 861 finished with value: 822.02062166344 and parameters: {'lambda_l1': 0.005376782869327438, 'lambda_l2': 1.0843737851624042, 'num_leaves': 50, 'feature_fraction': 0.9518179384728204, 'bagging_fraction': 0.999888888390406, 'bagging_freq': 1, 'min_child_samples': 8}. Best is trial 594 with value: 797.0830964467458.\n"
     ]
    },
    {
     "name": "stdout",
     "output_type": "stream",
     "text": [
      "fin split 0\n",
      "fin split 1\n",
      "fin split 2\n",
      "fin split 3\n",
      "fin split 4\n"
     ]
    },
    {
     "name": "stderr",
     "output_type": "stream",
     "text": [
      "[I 2025-07-19 14:41:08,741] Trial 862 finished with value: 823.3862732216212 and parameters: {'lambda_l1': 0.002724973674437796, 'lambda_l2': 0.3483143141685834, 'num_leaves': 61, 'feature_fraction': 0.9896695068810877, 'bagging_fraction': 0.9718475104730253, 'bagging_freq': 1, 'min_child_samples': 5}. Best is trial 594 with value: 797.0830964467458.\n"
     ]
    },
    {
     "name": "stdout",
     "output_type": "stream",
     "text": [
      "fin split 0\n",
      "fin split 1\n",
      "fin split 2\n",
      "fin split 3\n",
      "fin split 4\n"
     ]
    },
    {
     "name": "stderr",
     "output_type": "stream",
     "text": [
      "[I 2025-07-19 14:41:33,482] Trial 863 finished with value: 838.3462388158904 and parameters: {'lambda_l1': 0.0007258735767697971, 'lambda_l2': 0.5052966772718922, 'num_leaves': 44, 'feature_fraction': 0.9763196530497351, 'bagging_fraction': 0.9879851021227315, 'bagging_freq': 1, 'min_child_samples': 9}. Best is trial 594 with value: 797.0830964467458.\n"
     ]
    },
    {
     "name": "stdout",
     "output_type": "stream",
     "text": [
      "fin split 0\n",
      "fin split 1\n",
      "fin split 2\n",
      "fin split 3\n",
      "fin split 4\n"
     ]
    },
    {
     "name": "stderr",
     "output_type": "stream",
     "text": [
      "[I 2025-07-19 14:42:01,368] Trial 864 finished with value: 965.8090776619732 and parameters: {'lambda_l1': 0.0017386030496750254, 'lambda_l2': 1.686446088985214, 'num_leaves': 53, 'feature_fraction': 0.9669956151390254, 'bagging_fraction': 0.9999801165351068, 'bagging_freq': 1, 'min_child_samples': 66}. Best is trial 594 with value: 797.0830964467458.\n"
     ]
    },
    {
     "name": "stdout",
     "output_type": "stream",
     "text": [
      "fin split 0\n",
      "fin split 1\n",
      "fin split 2\n",
      "fin split 3\n",
      "fin split 4\n"
     ]
    },
    {
     "name": "stderr",
     "output_type": "stream",
     "text": [
      "[I 2025-07-19 14:42:17,850] Trial 865 finished with value: 850.292944489993 and parameters: {'lambda_l1': 0.0036694464073660916, 'lambda_l2': 0.12947187993605963, 'num_leaves': 39, 'feature_fraction': 0.6257949697882722, 'bagging_fraction': 0.9799505324693448, 'bagging_freq': 1, 'min_child_samples': 6}. Best is trial 594 with value: 797.0830964467458.\n"
     ]
    },
    {
     "name": "stdout",
     "output_type": "stream",
     "text": [
      "fin split 0\n",
      "fin split 1\n",
      "fin split 2\n",
      "fin split 3\n",
      "fin split 4\n"
     ]
    },
    {
     "name": "stderr",
     "output_type": "stream",
     "text": [
      "[I 2025-07-19 14:42:42,509] Trial 866 finished with value: 850.7751580101501 and parameters: {'lambda_l1': 0.0013582472530863378, 'lambda_l2': 3.8569664736603353, 'num_leaves': 48, 'feature_fraction': 0.990849947826248, 'bagging_fraction': 0.9918497511903717, 'bagging_freq': 1, 'min_child_samples': 7}. Best is trial 594 with value: 797.0830964467458.\n"
     ]
    },
    {
     "name": "stdout",
     "output_type": "stream",
     "text": [
      "fin split 0\n",
      "fin split 1\n",
      "fin split 2\n",
      "fin split 3\n",
      "fin split 4\n"
     ]
    },
    {
     "name": "stderr",
     "output_type": "stream",
     "text": [
      "[I 2025-07-19 14:43:03,073] Trial 867 finished with value: 828.8887750308486 and parameters: {'lambda_l1': 0.0078083455476088, 'lambda_l2': 0.7704550787478706, 'num_leaves': 33, 'feature_fraction': 0.9990595312377677, 'bagging_fraction': 0.9861711889599155, 'bagging_freq': 1, 'min_child_samples': 5}. Best is trial 594 with value: 797.0830964467458.\n"
     ]
    },
    {
     "name": "stdout",
     "output_type": "stream",
     "text": [
      "fin split 0\n",
      "fin split 1\n",
      "fin split 2\n",
      "fin split 3\n",
      "fin split 4\n"
     ]
    },
    {
     "name": "stderr",
     "output_type": "stream",
     "text": [
      "[I 2025-07-19 14:43:32,804] Trial 868 finished with value: 962.1838481318139 and parameters: {'lambda_l1': 2.04212729541918, 'lambda_l2': 0.24554782862311747, 'num_leaves': 57, 'feature_fraction': 0.9801089821566983, 'bagging_fraction': 0.979914265733111, 'bagging_freq': 1, 'min_child_samples': 49}. Best is trial 594 with value: 797.0830964467458.\n"
     ]
    },
    {
     "name": "stdout",
     "output_type": "stream",
     "text": [
      "fin split 0\n",
      "fin split 1\n",
      "fin split 2\n",
      "fin split 3\n",
      "fin split 4\n"
     ]
    },
    {
     "name": "stderr",
     "output_type": "stream",
     "text": [
      "[I 2025-07-19 14:43:54,836] Trial 869 finished with value: 857.1234449797755 and parameters: {'lambda_l1': 0.0008108542195951415, 'lambda_l2': 1.3059265536310536, 'num_leaves': 44, 'feature_fraction': 0.9484762138998337, 'bagging_fraction': 0.9928850250828289, 'bagging_freq': 1, 'min_child_samples': 9}. Best is trial 594 with value: 797.0830964467458.\n"
     ]
    },
    {
     "name": "stdout",
     "output_type": "stream",
     "text": [
      "fin split 0\n",
      "fin split 1\n",
      "fin split 2\n",
      "fin split 3\n",
      "fin split 4\n"
     ]
    },
    {
     "name": "stderr",
     "output_type": "stream",
     "text": [
      "[I 2025-07-19 14:44:16,360] Trial 870 finished with value: 852.953051266703 and parameters: {'lambda_l1': 0.0005773538821570465, 'lambda_l2': 0.3473491548061603, 'num_leaves': 40, 'feature_fraction': 0.9631661445844547, 'bagging_fraction': 0.9999197972280717, 'bagging_freq': 1, 'min_child_samples': 11}. Best is trial 594 with value: 797.0830964467458.\n"
     ]
    },
    {
     "name": "stdout",
     "output_type": "stream",
     "text": [
      "fin split 0\n",
      "fin split 1\n",
      "fin split 2\n",
      "fin split 3\n",
      "fin split 4\n"
     ]
    },
    {
     "name": "stderr",
     "output_type": "stream",
     "text": [
      "[I 2025-07-19 14:44:41,996] Trial 871 finished with value: 855.6708750490322 and parameters: {'lambda_l1': 0.0022785030677718253, 'lambda_l2': 0.6873839661490875, 'num_leaves': 51, 'feature_fraction': 0.9783347831165563, 'bagging_fraction': 0.6864586867573372, 'bagging_freq': 1, 'min_child_samples': 7}. Best is trial 594 with value: 797.0830964467458.\n"
     ]
    },
    {
     "name": "stdout",
     "output_type": "stream",
     "text": [
      "fin split 0\n",
      "fin split 1\n",
      "fin split 2\n",
      "fin split 3\n",
      "fin split 4\n"
     ]
    },
    {
     "name": "stderr",
     "output_type": "stream",
     "text": [
      "[I 2025-07-19 14:44:59,973] Trial 872 finished with value: 858.7228191630209 and parameters: {'lambda_l1': 5.601309698933844, 'lambda_l2': 2.3373166939729844, 'num_leaves': 47, 'feature_fraction': 0.5934829546136723, 'bagging_fraction': 0.9740796670926739, 'bagging_freq': 1, 'min_child_samples': 5}. Best is trial 594 with value: 797.0830964467458.\n"
     ]
    },
    {
     "name": "stdout",
     "output_type": "stream",
     "text": [
      "fin split 0\n",
      "fin split 1\n",
      "fin split 2\n",
      "fin split 3\n",
      "fin split 4\n"
     ]
    },
    {
     "name": "stderr",
     "output_type": "stream",
     "text": [
      "[I 2025-07-19 14:45:20,150] Trial 873 finished with value: 824.1569507950628 and parameters: {'lambda_l1': 0.004607531641732847, 'lambda_l2': 0.20443944639644213, 'num_leaves': 36, 'feature_fraction': 0.9348203262565482, 'bagging_fraction': 0.9869098175006431, 'bagging_freq': 1, 'min_child_samples': 8}. Best is trial 594 with value: 797.0830964467458.\n"
     ]
    },
    {
     "name": "stdout",
     "output_type": "stream",
     "text": [
      "fin split 0\n",
      "fin split 1\n",
      "fin split 2\n",
      "fin split 3\n",
      "fin split 4\n"
     ]
    },
    {
     "name": "stderr",
     "output_type": "stream",
     "text": [
      "[I 2025-07-19 14:45:52,321] Trial 874 finished with value: 841.647024127688 and parameters: {'lambda_l1': 0.0011451261554628795, 'lambda_l2': 0.09020668256367165, 'num_leaves': 60, 'feature_fraction': 0.9995104600717872, 'bagging_fraction': 0.9924675241739535, 'bagging_freq': 1, 'min_child_samples': 5}. Best is trial 594 with value: 797.0830964467458.\n"
     ]
    },
    {
     "name": "stdout",
     "output_type": "stream",
     "text": [
      "fin split 0\n",
      "fin split 1\n",
      "fin split 2\n",
      "fin split 3\n",
      "fin split 4\n"
     ]
    },
    {
     "name": "stderr",
     "output_type": "stream",
     "text": [
      "[I 2025-07-19 14:46:16,674] Trial 875 finished with value: 855.0400005709332 and parameters: {'lambda_l1': 0.0018229988276588216, 'lambda_l2': 0.45114706195183346, 'num_leaves': 42, 'feature_fraction': 0.967026876464104, 'bagging_fraction': 0.9790847690682143, 'bagging_freq': 1, 'min_child_samples': 13}. Best is trial 594 with value: 797.0830964467458.\n"
     ]
    },
    {
     "name": "stdout",
     "output_type": "stream",
     "text": [
      "fin split 0\n",
      "fin split 1\n",
      "fin split 2\n",
      "fin split 3\n",
      "fin split 4\n"
     ]
    },
    {
     "name": "stderr",
     "output_type": "stream",
     "text": [
      "[I 2025-07-19 14:46:45,356] Trial 876 finished with value: 955.2101839367161 and parameters: {'lambda_l1': 0.0030591519546075354, 'lambda_l2': 1.1058878393915372, 'num_leaves': 54, 'feature_fraction': 0.9816223569607412, 'bagging_fraction': 0.9868359674310198, 'bagging_freq': 2, 'min_child_samples': 54}. Best is trial 594 with value: 797.0830964467458.\n"
     ]
    },
    {
     "name": "stdout",
     "output_type": "stream",
     "text": [
      "fin split 0\n",
      "fin split 1\n",
      "fin split 2\n",
      "fin split 3\n",
      "fin split 4\n"
     ]
    },
    {
     "name": "stderr",
     "output_type": "stream",
     "text": [
      "[I 2025-07-19 14:47:09,152] Trial 877 finished with value: 823.7918023586399 and parameters: {'lambda_l1': 0.0007975045875466076, 'lambda_l2': 0.5874999627420958, 'num_leaves': 48, 'feature_fraction': 0.955526408619416, 'bagging_fraction': 0.9712269655382507, 'bagging_freq': 1, 'min_child_samples': 7}. Best is trial 594 with value: 797.0830964467458.\n"
     ]
    },
    {
     "name": "stdout",
     "output_type": "stream",
     "text": [
      "fin split 0\n",
      "fin split 1\n",
      "fin split 2\n",
      "fin split 3\n",
      "fin split 4\n"
     ]
    },
    {
     "name": "stderr",
     "output_type": "stream",
     "text": [
      "[I 2025-07-19 14:47:25,279] Trial 878 finished with value: 845.2434137589233 and parameters: {'lambda_l1': 0.001493624577964377, 'lambda_l2': 0.30353911124037236, 'num_leaves': 32, 'feature_fraction': 0.6123312656204893, 'bagging_fraction': 0.9925635001235419, 'bagging_freq': 1, 'min_child_samples': 9}. Best is trial 594 with value: 797.0830964467458.\n"
     ]
    },
    {
     "name": "stdout",
     "output_type": "stream",
     "text": [
      "fin split 0\n",
      "fin split 1\n",
      "fin split 2\n",
      "fin split 3\n",
      "fin split 4\n"
     ]
    },
    {
     "name": "stderr",
     "output_type": "stream",
     "text": [
      "[I 2025-07-19 14:47:50,959] Trial 879 finished with value: 812.7899544939497 and parameters: {'lambda_l1': 0.0071809494144534965, 'lambda_l2': 0.9120330927264793, 'num_leaves': 42, 'feature_fraction': 0.9723102430910454, 'bagging_fraction': 0.9817069582827197, 'bagging_freq': 1, 'min_child_samples': 5}. Best is trial 594 with value: 797.0830964467458.\n"
     ]
    },
    {
     "name": "stdout",
     "output_type": "stream",
     "text": [
      "fin split 0\n",
      "fin split 1\n",
      "fin split 2\n",
      "fin split 3\n",
      "fin split 4\n"
     ]
    },
    {
     "name": "stderr",
     "output_type": "stream",
     "text": [
      "[I 2025-07-19 14:48:10,525] Trial 880 finished with value: 842.4790665956166 and parameters: {'lambda_l1': 0.006615913468589084, 'lambda_l2': 1.5768681263673103, 'num_leaves': 37, 'feature_fraction': 0.9222599877284727, 'bagging_fraction': 0.876377306037786, 'bagging_freq': 1, 'min_child_samples': 11}. Best is trial 594 with value: 797.0830964467458.\n"
     ]
    },
    {
     "name": "stdout",
     "output_type": "stream",
     "text": [
      "fin split 0\n",
      "fin split 1\n",
      "fin split 2\n",
      "fin split 3\n",
      "fin split 4\n"
     ]
    },
    {
     "name": "stderr",
     "output_type": "stream",
     "text": [
      "[I 2025-07-19 14:48:29,794] Trial 881 finished with value: 846.6514969469742 and parameters: {'lambda_l1': 0.007764926106347092, 'lambda_l2': 0.8351727981886145, 'num_leaves': 31, 'feature_fraction': 0.943779220957074, 'bagging_fraction': 0.9722349182362684, 'bagging_freq': 1, 'min_child_samples': 6}. Best is trial 594 with value: 797.0830964467458.\n"
     ]
    },
    {
     "name": "stdout",
     "output_type": "stream",
     "text": [
      "fin split 0\n",
      "fin split 1\n",
      "fin split 2\n",
      "fin split 3\n",
      "fin split 4\n"
     ]
    },
    {
     "name": "stderr",
     "output_type": "stream",
     "text": [
      "[I 2025-07-19 14:48:54,024] Trial 882 finished with value: 815.4927959261038 and parameters: {'lambda_l1': 0.0076641135223676216, 'lambda_l2': 1.0770753531237736, 'num_leaves': 42, 'feature_fraction': 0.9662334333214453, 'bagging_fraction': 0.9801203778385008, 'bagging_freq': 1, 'min_child_samples': 7}. Best is trial 594 with value: 797.0830964467458.\n"
     ]
    },
    {
     "name": "stdout",
     "output_type": "stream",
     "text": [
      "fin split 0\n",
      "fin split 1\n",
      "fin split 2\n",
      "fin split 3\n",
      "fin split 4\n"
     ]
    },
    {
     "name": "stderr",
     "output_type": "stream",
     "text": [
      "[I 2025-07-19 14:49:15,799] Trial 883 finished with value: 836.5035169753296 and parameters: {'lambda_l1': 0.005946323144432634, 'lambda_l2': 2.143572731900613, 'num_leaves': 38, 'feature_fraction': 0.9887722768201741, 'bagging_fraction': 0.9727518731458409, 'bagging_freq': 1, 'min_child_samples': 9}. Best is trial 594 with value: 797.0830964467458.\n"
     ]
    },
    {
     "name": "stdout",
     "output_type": "stream",
     "text": [
      "fin split 0\n",
      "fin split 1\n",
      "fin split 2\n",
      "fin split 3\n",
      "fin split 4\n"
     ]
    },
    {
     "name": "stderr",
     "output_type": "stream",
     "text": [
      "[I 2025-07-19 14:49:41,442] Trial 884 finished with value: 826.1226122507042 and parameters: {'lambda_l1': 0.004632862201481094, 'lambda_l2': 1.3428757635214155, 'num_leaves': 44, 'feature_fraction': 0.9560539017622725, 'bagging_fraction': 0.9818073421531338, 'bagging_freq': 1, 'min_child_samples': 5}. Best is trial 594 with value: 797.0830964467458.\n"
     ]
    },
    {
     "name": "stdout",
     "output_type": "stream",
     "text": [
      "fin split 0\n",
      "fin split 1\n",
      "fin split 2\n",
      "fin split 3\n",
      "fin split 4\n"
     ]
    },
    {
     "name": "stderr",
     "output_type": "stream",
     "text": [
      "[I 2025-07-19 14:50:07,324] Trial 885 finished with value: 987.6707654121578 and parameters: {'lambda_l1': 0.00404339282820959, 'lambda_l2': 1.023807321422803, 'num_leaves': 52, 'feature_fraction': 0.9716847050660525, 'bagging_fraction': 0.9836785851798725, 'bagging_freq': 1, 'min_child_samples': 94}. Best is trial 594 with value: 797.0830964467458.\n"
     ]
    },
    {
     "name": "stdout",
     "output_type": "stream",
     "text": [
      "fin split 0\n",
      "fin split 1\n",
      "fin split 2\n",
      "fin split 3\n",
      "fin split 4\n"
     ]
    },
    {
     "name": "stderr",
     "output_type": "stream",
     "text": [
      "[I 2025-07-19 14:50:31,117] Trial 886 finished with value: 824.4756281411197 and parameters: {'lambda_l1': 0.00823907354230104, 'lambda_l2': 0.7428976542733086, 'num_leaves': 34, 'feature_fraction': 0.9883449658283013, 'bagging_fraction': 0.9687663715105579, 'bagging_freq': 1, 'min_child_samples': 7}. Best is trial 594 with value: 797.0830964467458.\n"
     ]
    },
    {
     "name": "stdout",
     "output_type": "stream",
     "text": [
      "fin split 0\n",
      "fin split 1\n",
      "fin split 2\n",
      "fin split 3\n",
      "fin split 4\n"
     ]
    },
    {
     "name": "stderr",
     "output_type": "stream",
     "text": [
      "[I 2025-07-19 14:50:53,249] Trial 887 finished with value: 836.9515146376751 and parameters: {'lambda_l1': 9.810768179147193, 'lambda_l2': 2.576454768348069, 'num_leaves': 41, 'feature_fraction': 0.9796427695347871, 'bagging_fraction': 0.9791966102738372, 'bagging_freq': 1, 'min_child_samples': 10}. Best is trial 594 with value: 797.0830964467458.\n"
     ]
    },
    {
     "name": "stdout",
     "output_type": "stream",
     "text": [
      "fin split 0\n",
      "fin split 1\n",
      "fin split 2\n",
      "fin split 3\n",
      "fin split 4\n"
     ]
    },
    {
     "name": "stderr",
     "output_type": "stream",
     "text": [
      "[I 2025-07-19 14:51:27,745] Trial 888 finished with value: 821.7217393443171 and parameters: {'lambda_l1': 0.004663011000901251, 'lambda_l2': 0.4927052196325272, 'num_leaves': 65, 'feature_fraction': 0.9588081738586122, 'bagging_fraction': 0.9926019965831514, 'bagging_freq': 1, 'min_child_samples': 5}. Best is trial 594 with value: 797.0830964467458.\n"
     ]
    },
    {
     "name": "stdout",
     "output_type": "stream",
     "text": [
      "fin split 0\n",
      "fin split 1\n",
      "fin split 2\n",
      "fin split 3\n",
      "fin split 4\n"
     ]
    },
    {
     "name": "stderr",
     "output_type": "stream",
     "text": [
      "[I 2025-07-19 14:51:53,977] Trial 889 finished with value: 990.7625961164105 and parameters: {'lambda_l1': 0.002936597129313621, 'lambda_l2': 1.5862146753802258, 'num_leaves': 48, 'feature_fraction': 0.9702608038961202, 'bagging_fraction': 0.986542326906825, 'bagging_freq': 1, 'min_child_samples': 86}. Best is trial 594 with value: 797.0830964467458.\n"
     ]
    },
    {
     "name": "stdout",
     "output_type": "stream",
     "text": [
      "fin split 0\n",
      "fin split 1\n",
      "fin split 2\n",
      "fin split 3\n",
      "fin split 4\n"
     ]
    },
    {
     "name": "stderr",
     "output_type": "stream",
     "text": [
      "[I 2025-07-19 14:52:19,524] Trial 890 finished with value: 821.5193197148965 and parameters: {'lambda_l1': 0.0026680582028219134, 'lambda_l2': 0.7536585306169361, 'num_leaves': 53, 'feature_fraction': 0.9478826865650712, 'bagging_fraction': 0.9689238672277241, 'bagging_freq': 1, 'min_child_samples': 8}. Best is trial 594 with value: 797.0830964467458.\n"
     ]
    },
    {
     "name": "stdout",
     "output_type": "stream",
     "text": [
      "fin split 0\n",
      "fin split 1\n",
      "fin split 2\n",
      "fin split 3\n",
      "fin split 4\n"
     ]
    },
    {
     "name": "stderr",
     "output_type": "stream",
     "text": [
      "[I 2025-07-19 14:52:46,635] Trial 891 finished with value: 860.1965882817826 and parameters: {'lambda_l1': 0.00464238854023624, 'lambda_l2': 4.189410586626406, 'num_leaves': 57, 'feature_fraction': 0.9997405036020905, 'bagging_fraction': 0.9999838144812778, 'bagging_freq': 1, 'min_child_samples': 7}. Best is trial 594 with value: 797.0830964467458.\n"
     ]
    },
    {
     "name": "stdout",
     "output_type": "stream",
     "text": [
      "fin split 0\n",
      "fin split 1\n",
      "fin split 2\n",
      "fin split 3\n",
      "fin split 4\n"
     ]
    },
    {
     "name": "stderr",
     "output_type": "stream",
     "text": [
      "[I 2025-07-19 14:53:09,058] Trial 892 finished with value: 820.9564952056553 and parameters: {'lambda_l1': 0.00800251755785949, 'lambda_l2': 0.4587392417251877, 'num_leaves': 38, 'feature_fraction': 0.9879231718175129, 'bagging_fraction': 0.9782581719543075, 'bagging_freq': 1, 'min_child_samples': 5}. Best is trial 594 with value: 797.0830964467458.\n"
     ]
    },
    {
     "name": "stdout",
     "output_type": "stream",
     "text": [
      "fin split 0\n",
      "fin split 1\n",
      "fin split 2\n",
      "fin split 3\n",
      "fin split 4\n"
     ]
    },
    {
     "name": "stderr",
     "output_type": "stream",
     "text": [
      "[I 2025-07-19 14:53:32,288] Trial 893 finished with value: 822.1293004171462 and parameters: {'lambda_l1': 0.002148230847736568, 'lambda_l2': 0.947720893322236, 'num_leaves': 43, 'feature_fraction': 0.9711204341494315, 'bagging_fraction': 0.9863615759852218, 'bagging_freq': 1, 'min_child_samples': 9}. Best is trial 594 with value: 797.0830964467458.\n"
     ]
    },
    {
     "name": "stdout",
     "output_type": "stream",
     "text": [
      "fin split 0\n",
      "fin split 1\n",
      "fin split 2\n",
      "fin split 3\n",
      "fin split 4\n"
     ]
    },
    {
     "name": "stderr",
     "output_type": "stream",
     "text": [
      "[I 2025-07-19 14:53:51,621] Trial 894 finished with value: 840.6160121229769 and parameters: {'lambda_l1': 0.5455373355258519, 'lambda_l2': 0.5846009828594972, 'num_leaves': 30, 'feature_fraction': 0.981112514159155, 'bagging_fraction': 0.9999129583674671, 'bagging_freq': 1, 'min_child_samples': 7}. Best is trial 594 with value: 797.0830964467458.\n"
     ]
    },
    {
     "name": "stdout",
     "output_type": "stream",
     "text": [
      "fin split 0\n",
      "fin split 1\n",
      "fin split 2\n",
      "fin split 3\n",
      "fin split 4\n"
     ]
    },
    {
     "name": "stderr",
     "output_type": "stream",
     "text": [
      "[I 2025-07-19 14:54:17,347] Trial 895 finished with value: 859.4835161342971 and parameters: {'lambda_l1': 0.003363331593485515, 'lambda_l2': 1.826178529833766, 'num_leaves': 47, 'feature_fraction': 0.9581052142903428, 'bagging_fraction': 0.9921168132296289, 'bagging_freq': 1, 'min_child_samples': 11}. Best is trial 594 with value: 797.0830964467458.\n"
     ]
    },
    {
     "name": "stdout",
     "output_type": "stream",
     "text": [
      "fin split 0\n",
      "fin split 1\n",
      "fin split 2\n",
      "fin split 3\n",
      "fin split 4\n"
     ]
    },
    {
     "name": "stderr",
     "output_type": "stream",
     "text": [
      "[I 2025-07-19 14:54:40,211] Trial 896 finished with value: 967.0772878931459 and parameters: {'lambda_l1': 0.0019324777846818847, 'lambda_l2': 1.0277178646720135, 'num_leaves': 51, 'feature_fraction': 0.9334700001076555, 'bagging_fraction': 0.9775148094735364, 'bagging_freq': 1, 'min_child_samples': 43}. Best is trial 594 with value: 797.0830964467458.\n"
     ]
    },
    {
     "name": "stdout",
     "output_type": "stream",
     "text": [
      "fin split 0\n",
      "fin split 1\n",
      "fin split 2\n",
      "fin split 3\n",
      "fin split 4\n"
     ]
    },
    {
     "name": "stderr",
     "output_type": "stream",
     "text": [
      "[I 2025-07-19 14:55:03,475] Trial 897 finished with value: 815.8688817797101 and parameters: {'lambda_l1': 0.005746477020403221, 'lambda_l2': 0.36610970798073567, 'num_leaves': 37, 'feature_fraction': 0.9864721122194926, 'bagging_fraction': 0.9859038972300818, 'bagging_freq': 1, 'min_child_samples': 5}. Best is trial 594 with value: 797.0830964467458.\n"
     ]
    },
    {
     "name": "stdout",
     "output_type": "stream",
     "text": [
      "fin split 0\n",
      "fin split 1\n",
      "fin split 2\n",
      "fin split 3\n",
      "fin split 4\n"
     ]
    },
    {
     "name": "stderr",
     "output_type": "stream",
     "text": [
      "[I 2025-07-19 14:55:34,368] Trial 898 finished with value: 845.95080159805 and parameters: {'lambda_l1': 0.0031718979833006856, 'lambda_l2': 1.3677298486229474, 'num_leaves': 59, 'feature_fraction': 0.9650132549946776, 'bagging_fraction': 0.992164644885709, 'bagging_freq': 2, 'min_child_samples': 7}. Best is trial 594 with value: 797.0830964467458.\n"
     ]
    },
    {
     "name": "stdout",
     "output_type": "stream",
     "text": [
      "fin split 0\n",
      "fin split 1\n",
      "fin split 2\n",
      "fin split 3\n",
      "fin split 4\n"
     ]
    },
    {
     "name": "stderr",
     "output_type": "stream",
     "text": [
      "[I 2025-07-19 14:56:20,263] Trial 899 finished with value: 870.8225072241108 and parameters: {'lambda_l1': 0.00115900463901654, 'lambda_l2': 0.6400943059420711, 'num_leaves': 109, 'feature_fraction': 0.9749082815135313, 'bagging_fraction': 0.969846314096351, 'bagging_freq': 1, 'min_child_samples': 9}. Best is trial 594 with value: 797.0830964467458.\n"
     ]
    },
    {
     "name": "stdout",
     "output_type": "stream",
     "text": [
      "fin split 0\n",
      "fin split 1\n",
      "fin split 2\n",
      "fin split 3\n",
      "fin split 4\n"
     ]
    },
    {
     "name": "stderr",
     "output_type": "stream",
     "text": [
      "[I 2025-07-19 14:56:44,791] Trial 900 finished with value: 810.4330100423604 and parameters: {'lambda_l1': 0.002128486301518194, 'lambda_l2': 0.469752880776528, 'num_leaves': 42, 'feature_fraction': 0.999623788832108, 'bagging_fraction': 0.9831913018531888, 'bagging_freq': 1, 'min_child_samples': 5}. Best is trial 594 with value: 797.0830964467458.\n"
     ]
    },
    {
     "name": "stdout",
     "output_type": "stream",
     "text": [
      "fin split 0\n",
      "fin split 1\n",
      "fin split 2\n",
      "fin split 3\n",
      "fin split 4\n"
     ]
    },
    {
     "name": "stderr",
     "output_type": "stream",
     "text": [
      "[I 2025-07-19 14:57:04,156] Trial 901 finished with value: 829.2938076982286 and parameters: {'lambda_l1': 0.003573492881545116, 'lambda_l2': 0.6960394842952078, 'num_leaves': 31, 'feature_fraction': 0.9932555367277466, 'bagging_fraction': 0.9740748850281072, 'bagging_freq': 1, 'min_child_samples': 7}. Best is trial 594 with value: 797.0830964467458.\n"
     ]
    },
    {
     "name": "stdout",
     "output_type": "stream",
     "text": [
      "fin split 0\n",
      "fin split 1\n",
      "fin split 2\n",
      "fin split 3\n",
      "fin split 4\n"
     ]
    },
    {
     "name": "stderr",
     "output_type": "stream",
     "text": [
      "[I 2025-07-19 14:57:29,001] Trial 902 finished with value: 848.1339534817237 and parameters: {'lambda_l1': 0.0025422885971925885, 'lambda_l2': 0.47034720346403963, 'num_leaves': 40, 'feature_fraction': 0.989681232152399, 'bagging_fraction': 0.9801164695407931, 'bagging_freq': 1, 'min_child_samples': 13}. Best is trial 594 with value: 797.0830964467458.\n"
     ]
    },
    {
     "name": "stdout",
     "output_type": "stream",
     "text": [
      "fin split 0\n",
      "fin split 1\n",
      "fin split 2\n",
      "fin split 3\n",
      "fin split 4\n"
     ]
    },
    {
     "name": "stderr",
     "output_type": "stream",
     "text": [
      "[I 2025-07-19 14:57:49,935] Trial 903 finished with value: 835.1928358889156 and parameters: {'lambda_l1': 0.005294832939122821, 'lambda_l2': 0.8985476978552742, 'num_leaves': 36, 'feature_fraction': 0.9933728424057163, 'bagging_fraction': 0.9727244236528514, 'bagging_freq': 1, 'min_child_samples': 5}. Best is trial 594 with value: 797.0830964467458.\n"
     ]
    },
    {
     "name": "stdout",
     "output_type": "stream",
     "text": [
      "fin split 0\n",
      "fin split 1\n",
      "fin split 2\n",
      "fin split 3\n",
      "fin split 4\n"
     ]
    },
    {
     "name": "stderr",
     "output_type": "stream",
     "text": [
      "[I 2025-07-19 14:58:12,745] Trial 904 finished with value: 841.7883288276731 and parameters: {'lambda_l1': 4.581236670742137e-06, 'lambda_l2': 0.41417743760821646, 'num_leaves': 41, 'feature_fraction': 0.9917985172706438, 'bagging_fraction': 0.9836315336768019, 'bagging_freq': 1, 'min_child_samples': 10}. Best is trial 594 with value: 797.0830964467458.\n"
     ]
    },
    {
     "name": "stdout",
     "output_type": "stream",
     "text": [
      "fin split 0\n",
      "fin split 1\n",
      "fin split 2\n",
      "fin split 3\n",
      "fin split 4\n"
     ]
    },
    {
     "name": "stderr",
     "output_type": "stream",
     "text": [
      "[I 2025-07-19 14:59:38,174] Trial 905 finished with value: 886.4944806441598 and parameters: {'lambda_l1': 0.0020912390842720632, 'lambda_l2': 0.7044684612875769, 'num_leaves': 227, 'feature_fraction': 0.9981468465483385, 'bagging_fraction': 0.9675708972512365, 'bagging_freq': 1, 'min_child_samples': 7}. Best is trial 594 with value: 797.0830964467458.\n"
     ]
    },
    {
     "name": "stdout",
     "output_type": "stream",
     "text": [
      "fin split 0\n",
      "fin split 1\n",
      "fin split 2\n",
      "fin split 3\n",
      "fin split 4\n"
     ]
    },
    {
     "name": "stderr",
     "output_type": "stream",
     "text": [
      "[I 2025-07-19 14:59:56,725] Trial 906 finished with value: 833.8887487964964 and parameters: {'lambda_l1': 0.003969773767476071, 'lambda_l2': 1.490059137996367, 'num_leaves': 33, 'feature_fraction': 0.9821237604983318, 'bagging_fraction': 0.9851930925439069, 'bagging_freq': 1, 'min_child_samples': 8}. Best is trial 594 with value: 797.0830964467458.\n"
     ]
    },
    {
     "name": "stdout",
     "output_type": "stream",
     "text": [
      "fin split 0\n",
      "fin split 1\n",
      "fin split 2\n",
      "fin split 3\n",
      "fin split 4\n"
     ]
    },
    {
     "name": "stderr",
     "output_type": "stream",
     "text": [
      "[I 2025-07-19 15:00:22,638] Trial 907 finished with value: 818.3264397588873 and parameters: {'lambda_l1': 0.0017017078566166092, 'lambda_l2': 1.004498645789039, 'num_leaves': 44, 'feature_fraction': 0.9995359436169909, 'bagging_fraction': 0.9785657691015728, 'bagging_freq': 1, 'min_child_samples': 5}. Best is trial 594 with value: 797.0830964467458.\n"
     ]
    },
    {
     "name": "stdout",
     "output_type": "stream",
     "text": [
      "fin split 0\n",
      "fin split 1\n",
      "fin split 2\n",
      "fin split 3\n",
      "fin split 4\n"
     ]
    },
    {
     "name": "stderr",
     "output_type": "stream",
     "text": [
      "[I 2025-07-19 15:00:47,853] Trial 908 finished with value: 927.6954019665234 and parameters: {'lambda_l1': 0.007914143123023326, 'lambda_l2': 1.2986288514953174e-08, 'num_leaves': 49, 'feature_fraction': 0.998961807548776, 'bagging_fraction': 0.9913212529548943, 'bagging_freq': 1, 'min_child_samples': 24}. Best is trial 594 with value: 797.0830964467458.\n"
     ]
    },
    {
     "name": "stdout",
     "output_type": "stream",
     "text": [
      "fin split 0\n",
      "fin split 1\n",
      "fin split 2\n",
      "fin split 3\n",
      "fin split 4\n"
     ]
    },
    {
     "name": "stderr",
     "output_type": "stream",
     "text": [
      "[I 2025-07-19 15:01:12,630] Trial 909 finished with value: 848.6397076079563 and parameters: {'lambda_l1': 0.002393066504961034, 'lambda_l2': 2.582751121958111, 'num_leaves': 41, 'feature_fraction': 0.9771998589920732, 'bagging_fraction': 0.9929504909561375, 'bagging_freq': 1, 'min_child_samples': 9}. Best is trial 594 with value: 797.0830964467458.\n"
     ]
    },
    {
     "name": "stdout",
     "output_type": "stream",
     "text": [
      "fin split 0\n",
      "fin split 1\n",
      "fin split 2\n",
      "fin split 3\n",
      "fin split 4\n"
     ]
    },
    {
     "name": "stderr",
     "output_type": "stream",
     "text": [
      "[I 2025-07-19 15:01:44,025] Trial 910 finished with value: 822.8711039612202 and parameters: {'lambda_l1': 0.004657843803886287, 'lambda_l2': 0.5269133882810684, 'num_leaves': 55, 'feature_fraction': 0.9437604786584299, 'bagging_fraction': 0.9816209422826809, 'bagging_freq': 1, 'min_child_samples': 7}. Best is trial 594 with value: 797.0830964467458.\n"
     ]
    },
    {
     "name": "stdout",
     "output_type": "stream",
     "text": [
      "fin split 0\n",
      "fin split 1\n",
      "fin split 2\n",
      "fin split 3\n",
      "fin split 4\n"
     ]
    },
    {
     "name": "stderr",
     "output_type": "stream",
     "text": [
      "[I 2025-07-19 15:02:06,110] Trial 911 finished with value: 822.4763546288857 and parameters: {'lambda_l1': 0.0017296964751287909, 'lambda_l2': 0.3403431667044446, 'num_leaves': 36, 'feature_fraction': 0.9641363199719318, 'bagging_fraction': 0.9998005538454201, 'bagging_freq': 1, 'min_child_samples': 5}. Best is trial 594 with value: 797.0830964467458.\n"
     ]
    },
    {
     "name": "stdout",
     "output_type": "stream",
     "text": [
      "fin split 0\n",
      "fin split 1\n",
      "fin split 2\n",
      "fin split 3\n",
      "fin split 4\n"
     ]
    },
    {
     "name": "stderr",
     "output_type": "stream",
     "text": [
      "[I 2025-07-19 15:03:11,829] Trial 912 finished with value: 909.4774491804918 and parameters: {'lambda_l1': 0.0032710215111171107, 'lambda_l2': 1.1838225178781887, 'num_leaves': 171, 'feature_fraction': 0.9852349864922573, 'bagging_fraction': 0.9684008153875304, 'bagging_freq': 1, 'min_child_samples': 11}. Best is trial 594 with value: 797.0830964467458.\n"
     ]
    },
    {
     "name": "stdout",
     "output_type": "stream",
     "text": [
      "fin split 0\n",
      "fin split 1\n",
      "fin split 2\n",
      "fin split 3\n",
      "fin split 4\n"
     ]
    },
    {
     "name": "stderr",
     "output_type": "stream",
     "text": [
      "[I 2025-07-19 15:03:30,811] Trial 913 finished with value: 821.0801323249384 and parameters: {'lambda_l1': 0.006504952569712662, 'lambda_l2': 0.7962089825136116, 'num_leaves': 29, 'feature_fraction': 0.9724483083839564, 'bagging_fraction': 0.9860496195800231, 'bagging_freq': 1, 'min_child_samples': 7}. Best is trial 594 with value: 797.0830964467458.\n"
     ]
    },
    {
     "name": "stdout",
     "output_type": "stream",
     "text": [
      "fin split 0\n",
      "fin split 1\n",
      "fin split 2\n",
      "fin split 3\n",
      "fin split 4\n"
     ]
    },
    {
     "name": "stderr",
     "output_type": "stream",
     "text": [
      "[I 2025-07-19 15:03:51,542] Trial 914 finished with value: 849.3011187521381 and parameters: {'lambda_l1': 1.5179390636011285, 'lambda_l2': 0.5494356373415596, 'num_leaves': 46, 'feature_fraction': 0.6517285761253894, 'bagging_fraction': 0.9771057375321932, 'bagging_freq': 1, 'min_child_samples': 5}. Best is trial 594 with value: 797.0830964467458.\n"
     ]
    },
    {
     "name": "stdout",
     "output_type": "stream",
     "text": [
      "fin split 0\n",
      "fin split 1\n",
      "fin split 2\n",
      "fin split 3\n",
      "fin split 4\n"
     ]
    },
    {
     "name": "stderr",
     "output_type": "stream",
     "text": [
      "[I 2025-07-19 15:04:17,071] Trial 915 finished with value: 820.2723626137222 and parameters: {'lambda_l1': 0.2858467286577175, 'lambda_l2': 0.3058418096209159, 'num_leaves': 51, 'feature_fraction': 0.95623380786417, 'bagging_fraction': 0.9865281321719968, 'bagging_freq': 1, 'min_child_samples': 9}. Best is trial 594 with value: 797.0830964467458.\n"
     ]
    },
    {
     "name": "stdout",
     "output_type": "stream",
     "text": [
      "fin split 0\n",
      "fin split 1\n",
      "fin split 2\n",
      "fin split 3\n",
      "fin split 4\n"
     ]
    },
    {
     "name": "stderr",
     "output_type": "stream",
     "text": [
      "[I 2025-07-19 15:04:46,583] Trial 916 finished with value: 866.65698250911 and parameters: {'lambda_l1': 0.0013864922329674797, 'lambda_l2': 1.466259219830007, 'num_leaves': 64, 'feature_fraction': 0.9822226372332347, 'bagging_fraction': 0.7140973335040006, 'bagging_freq': 1, 'min_child_samples': 7}. Best is trial 594 with value: 797.0830964467458.\n"
     ]
    },
    {
     "name": "stdout",
     "output_type": "stream",
     "text": [
      "fin split 0\n",
      "fin split 1\n",
      "fin split 2\n",
      "fin split 3\n",
      "fin split 4\n"
     ]
    },
    {
     "name": "stderr",
     "output_type": "stream",
     "text": [
      "[I 2025-07-19 15:05:11,525] Trial 917 finished with value: 820.5561702915774 and parameters: {'lambda_l1': 0.0026060205558718474, 'lambda_l2': 1.5246403628926986e-07, 'num_leaves': 43, 'feature_fraction': 0.9894442464191227, 'bagging_fraction': 0.993303834256886, 'bagging_freq': 1, 'min_child_samples': 5}. Best is trial 594 with value: 797.0830964467458.\n"
     ]
    },
    {
     "name": "stdout",
     "output_type": "stream",
     "text": [
      "fin split 0\n",
      "fin split 1\n",
      "fin split 2\n",
      "fin split 3\n",
      "fin split 4\n"
     ]
    },
    {
     "name": "stderr",
     "output_type": "stream",
     "text": [
      "[I 2025-07-19 15:05:33,675] Trial 918 finished with value: 825.8367980086409 and parameters: {'lambda_l1': 0.00889773709079265, 'lambda_l2': 0.48473396143153163, 'num_leaves': 37, 'feature_fraction': 0.969118124593289, 'bagging_fraction': 0.9752760447926715, 'bagging_freq': 1, 'min_child_samples': 9}. Best is trial 594 with value: 797.0830964467458.\n"
     ]
    },
    {
     "name": "stdout",
     "output_type": "stream",
     "text": [
      "fin split 0\n",
      "fin split 1\n",
      "fin split 2\n",
      "fin split 3\n",
      "fin split 4\n"
     ]
    },
    {
     "name": "stderr",
     "output_type": "stream",
     "text": [
      "[I 2025-07-19 15:06:03,951] Trial 919 finished with value: 850.0285994153994 and parameters: {'lambda_l1': 0.0013375356211136646, 'lambda_l2': 2.1746681888155988, 'num_leaves': 57, 'feature_fraction': 0.999754577413884, 'bagging_fraction': 0.9999894524427675, 'bagging_freq': 1, 'min_child_samples': 7}. Best is trial 594 with value: 797.0830964467458.\n"
     ]
    },
    {
     "name": "stdout",
     "output_type": "stream",
     "text": [
      "fin split 0\n",
      "fin split 1\n",
      "fin split 2\n",
      "fin split 3\n",
      "fin split 4\n"
     ]
    },
    {
     "name": "stderr",
     "output_type": "stream",
     "text": [
      "[I 2025-07-19 15:06:29,256] Trial 920 finished with value: 897.2692551682339 and parameters: {'lambda_l1': 0.004074247758622545, 'lambda_l2': 0.8511473356998711, 'num_leaves': 48, 'feature_fraction': 0.981008616275443, 'bagging_fraction': 0.9999850394242292, 'bagging_freq': 1, 'min_child_samples': 20}. Best is trial 594 with value: 797.0830964467458.\n"
     ]
    },
    {
     "name": "stdout",
     "output_type": "stream",
     "text": [
      "fin split 0\n",
      "fin split 1\n",
      "fin split 2\n",
      "fin split 3\n",
      "fin split 4\n"
     ]
    },
    {
     "name": "stderr",
     "output_type": "stream",
     "text": [
      "[I 2025-07-19 15:06:51,533] Trial 921 finished with value: 840.3119679812735 and parameters: {'lambda_l1': 0.0024134231088513898, 'lambda_l2': 0.32066378250663086, 'num_leaves': 42, 'feature_fraction': 0.9442979274814086, 'bagging_fraction': 0.9869384322360465, 'bagging_freq': 1, 'min_child_samples': 11}. Best is trial 594 with value: 797.0830964467458.\n"
     ]
    },
    {
     "name": "stdout",
     "output_type": "stream",
     "text": [
      "fin split 0\n",
      "fin split 1\n",
      "fin split 2\n",
      "fin split 3\n",
      "fin split 4\n"
     ]
    },
    {
     "name": "stderr",
     "output_type": "stream",
     "text": [
      "[I 2025-07-19 15:07:17,305] Trial 922 finished with value: 834.2054048301429 and parameters: {'lambda_l1': 0.0018098248901197624, 'lambda_l2': 0.6562628239792109, 'num_leaves': 51, 'feature_fraction': 0.9605753533712973, 'bagging_fraction': 0.9694888703737398, 'bagging_freq': 1, 'min_child_samples': 5}. Best is trial 594 with value: 797.0830964467458.\n"
     ]
    },
    {
     "name": "stdout",
     "output_type": "stream",
     "text": [
      "fin split 0\n",
      "fin split 1\n",
      "fin split 2\n",
      "fin split 3\n",
      "fin split 4\n"
     ]
    },
    {
     "name": "stderr",
     "output_type": "stream",
     "text": [
      "[I 2025-07-19 15:07:35,185] Trial 923 finished with value: 874.1684283705283 and parameters: {'lambda_l1': 0.002982282311800196, 'lambda_l2': 3.5374778144299794, 'num_leaves': 34, 'feature_fraction': 0.9699772400097793, 'bagging_fraction': 0.6299470283578527, 'bagging_freq': 1, 'min_child_samples': 8}. Best is trial 594 with value: 797.0830964467458.\n"
     ]
    },
    {
     "name": "stdout",
     "output_type": "stream",
     "text": [
      "fin split 0\n",
      "fin split 1\n",
      "fin split 2\n",
      "fin split 3\n",
      "fin split 4\n"
     ]
    },
    {
     "name": "stderr",
     "output_type": "stream",
     "text": [
      "[I 2025-07-19 15:07:58,484] Trial 924 finished with value: 831.3491364343647 and parameters: {'lambda_l1': 0.005192977102893896, 'lambda_l2': 1.1250728281626874, 'num_leaves': 46, 'feature_fraction': 0.9880827514030155, 'bagging_fraction': 0.9802034149355854, 'bagging_freq': 1, 'min_child_samples': 7}. Best is trial 594 with value: 797.0830964467458.\n"
     ]
    },
    {
     "name": "stdout",
     "output_type": "stream",
     "text": [
      "fin split 0\n",
      "fin split 1\n",
      "fin split 2\n",
      "fin split 3\n",
      "fin split 4\n"
     ]
    },
    {
     "name": "stderr",
     "output_type": "stream",
     "text": [
      "[I 2025-07-19 15:08:30,392] Trial 925 finished with value: 807.6890658567604 and parameters: {'lambda_l1': 2.9946113751951384, 'lambda_l2': 0.5171753862664094, 'num_leaves': 61, 'feature_fraction': 0.9996697453836083, 'bagging_fraction': 0.987898746635311, 'bagging_freq': 1, 'min_child_samples': 5}. Best is trial 594 with value: 797.0830964467458.\n"
     ]
    },
    {
     "name": "stdout",
     "output_type": "stream",
     "text": [
      "fin split 0\n",
      "fin split 1\n",
      "fin split 2\n",
      "fin split 3\n",
      "fin split 4\n"
     ]
    },
    {
     "name": "stderr",
     "output_type": "stream",
     "text": [
      "[I 2025-07-19 15:09:05,025] Trial 926 finished with value: 874.9970405883146 and parameters: {'lambda_l1': 3.0319762373865835, 'lambda_l2': 0.27153484276880296, 'num_leaves': 70, 'feature_fraction': 0.9994217016454897, 'bagging_fraction': 0.9925540183390212, 'bagging_freq': 1, 'min_child_samples': 10}. Best is trial 594 with value: 797.0830964467458.\n"
     ]
    },
    {
     "name": "stdout",
     "output_type": "stream",
     "text": [
      "fin split 0\n",
      "fin split 1\n",
      "fin split 2\n",
      "fin split 3\n",
      "fin split 4\n"
     ]
    },
    {
     "name": "stderr",
     "output_type": "stream",
     "text": [
      "[I 2025-07-19 15:09:40,018] Trial 927 finished with value: 854.7298676824682 and parameters: {'lambda_l1': 2.5683153158041967, 'lambda_l2': 0.4957561695640108, 'num_leaves': 69, 'feature_fraction': 0.9806915285011975, 'bagging_fraction': 0.9929548373796598, 'bagging_freq': 2, 'min_child_samples': 7}. Best is trial 594 with value: 797.0830964467458.\n"
     ]
    },
    {
     "name": "stdout",
     "output_type": "stream",
     "text": [
      "fin split 0\n",
      "fin split 1\n",
      "fin split 2\n",
      "fin split 3\n",
      "fin split 4\n"
     ]
    },
    {
     "name": "stderr",
     "output_type": "stream",
     "text": [
      "[I 2025-07-19 15:10:08,764] Trial 928 finished with value: 968.8508708489119 and parameters: {'lambda_l1': 5.784917254755651, 'lambda_l2': 0.36640688820028794, 'num_leaves': 66, 'feature_fraction': 0.9994610295563773, 'bagging_fraction': 0.9934361648465209, 'bagging_freq': 1, 'min_child_samples': 38}. Best is trial 594 with value: 797.0830964467458.\n"
     ]
    },
    {
     "name": "stdout",
     "output_type": "stream",
     "text": [
      "fin split 0\n",
      "fin split 1\n",
      "fin split 2\n",
      "fin split 3\n",
      "fin split 4\n"
     ]
    },
    {
     "name": "stderr",
     "output_type": "stream",
     "text": [
      "[I 2025-07-19 15:10:45,941] Trial 929 finished with value: 970.7164408625734 and parameters: {'lambda_l1': 1.813855733877518, 'lambda_l2': 0.2239253450314146, 'num_leaves': 77, 'feature_fraction': 0.9534967992474607, 'bagging_fraction': 0.985789702599357, 'bagging_freq': 1, 'min_child_samples': 35}. Best is trial 594 with value: 797.0830964467458.\n"
     ]
    },
    {
     "name": "stdout",
     "output_type": "stream",
     "text": [
      "fin split 0\n",
      "fin split 1\n",
      "fin split 2\n",
      "fin split 3\n",
      "fin split 4\n"
     ]
    },
    {
     "name": "stderr",
     "output_type": "stream",
     "text": [
      "[I 2025-07-19 15:11:17,773] Trial 930 finished with value: 863.8112169990278 and parameters: {'lambda_l1': 3.342498108583587, 'lambda_l2': 0.4200084578010788, 'num_leaves': 70, 'feature_fraction': 0.9996921326214634, 'bagging_fraction': 0.9779025233891036, 'bagging_freq': 1, 'min_child_samples': 13}. Best is trial 594 with value: 797.0830964467458.\n"
     ]
    },
    {
     "name": "stdout",
     "output_type": "stream",
     "text": [
      "fin split 0\n",
      "fin split 1\n",
      "fin split 2\n",
      "fin split 3\n",
      "fin split 4\n"
     ]
    },
    {
     "name": "stderr",
     "output_type": "stream",
     "text": [
      "[I 2025-07-19 15:11:50,491] Trial 931 finished with value: 834.3120295600315 and parameters: {'lambda_l1': 6.5561618859513935, 'lambda_l2': 1.5918370166047344, 'num_leaves': 65, 'feature_fraction': 0.973292217640103, 'bagging_fraction': 0.9926957200471447, 'bagging_freq': 1, 'min_child_samples': 5}. Best is trial 594 with value: 797.0830964467458.\n"
     ]
    },
    {
     "name": "stdout",
     "output_type": "stream",
     "text": [
      "fin split 0\n",
      "fin split 1\n",
      "fin split 2\n",
      "fin split 3\n",
      "fin split 4\n"
     ]
    },
    {
     "name": "stderr",
     "output_type": "stream",
     "text": [
      "[I 2025-07-19 15:12:19,155] Trial 932 finished with value: 827.4289240741405 and parameters: {'lambda_l1': 4.986758621573334, 'lambda_l2': 0.629281648250816, 'num_leaves': 61, 'feature_fraction': 0.9841668464605234, 'bagging_fraction': 0.9839849202205898, 'bagging_freq': 1, 'min_child_samples': 9}. Best is trial 594 with value: 797.0830964467458.\n"
     ]
    },
    {
     "name": "stdout",
     "output_type": "stream",
     "text": [
      "fin split 0\n",
      "fin split 1\n",
      "fin split 2\n",
      "fin split 3\n",
      "fin split 4\n"
     ]
    },
    {
     "name": "stderr",
     "output_type": "stream",
     "text": [
      "[I 2025-07-19 15:12:46,236] Trial 933 finished with value: 870.0682545426653 and parameters: {'lambda_l1': 1.6915808082186803, 'lambda_l2': 6.091359693388136, 'num_leaves': 57, 'feature_fraction': 0.9303875795929352, 'bagging_fraction': 0.9996527808937837, 'bagging_freq': 1, 'min_child_samples': 7}. Best is trial 594 with value: 797.0830964467458.\n"
     ]
    },
    {
     "name": "stdout",
     "output_type": "stream",
     "text": [
      "fin split 0\n",
      "fin split 1\n",
      "fin split 2\n",
      "fin split 3\n",
      "fin split 4\n"
     ]
    },
    {
     "name": "stderr",
     "output_type": "stream",
     "text": [
      "[I 2025-07-19 15:13:16,823] Trial 934 finished with value: 846.8538703129698 and parameters: {'lambda_l1': 0.006342739294957209, 'lambda_l2': 0.24284102908543287, 'num_leaves': 62, 'feature_fraction': 0.9648538039684229, 'bagging_fraction': 0.9747630580636417, 'bagging_freq': 1, 'min_child_samples': 5}. Best is trial 594 with value: 797.0830964467458.\n"
     ]
    },
    {
     "name": "stdout",
     "output_type": "stream",
     "text": [
      "fin split 0\n",
      "fin split 1\n",
      "fin split 2\n",
      "fin split 3\n",
      "fin split 4\n"
     ]
    },
    {
     "name": "stderr",
     "output_type": "stream",
     "text": [
      "[I 2025-07-19 15:13:46,078] Trial 935 finished with value: 817.9065589078234 and parameters: {'lambda_l1': 3.324394878176644, 'lambda_l2': 1.0468744078972085, 'num_leaves': 58, 'feature_fraction': 0.9521407062137993, 'bagging_fraction': 0.9869847902270588, 'bagging_freq': 1, 'min_child_samples': 8}. Best is trial 594 with value: 797.0830964467458.\n"
     ]
    },
    {
     "name": "stdout",
     "output_type": "stream",
     "text": [
      "fin split 0\n",
      "fin split 1\n",
      "fin split 2\n",
      "fin split 3\n",
      "fin split 4\n"
     ]
    },
    {
     "name": "stderr",
     "output_type": "stream",
     "text": [
      "[I 2025-07-19 15:14:20,010] Trial 936 finished with value: 868.5839692111663 and parameters: {'lambda_l1': 9.694626884816207, 'lambda_l2': 0.49011257583829887, 'num_leaves': 80, 'feature_fraction': 0.9790347911543253, 'bagging_fraction': 0.9998651423724851, 'bagging_freq': 1, 'min_child_samples': 11}. Best is trial 594 with value: 797.0830964467458.\n"
     ]
    },
    {
     "name": "stdout",
     "output_type": "stream",
     "text": [
      "fin split 0\n",
      "fin split 1\n",
      "fin split 2\n",
      "fin split 3\n",
      "fin split 4\n"
     ]
    },
    {
     "name": "stderr",
     "output_type": "stream",
     "text": [
      "[I 2025-07-19 15:14:52,331] Trial 937 finished with value: 849.6564227807135 and parameters: {'lambda_l1': 1.2477541554251876, 'lambda_l2': 2.0890851509509196, 'num_leaves': 62, 'feature_fraction': 0.9864571289107958, 'bagging_fraction': 0.9684621997771525, 'bagging_freq': 1, 'min_child_samples': 5}. Best is trial 594 with value: 797.0830964467458.\n"
     ]
    },
    {
     "name": "stdout",
     "output_type": "stream",
     "text": [
      "fin split 0\n",
      "fin split 1\n",
      "fin split 2\n",
      "fin split 3\n",
      "fin split 4\n"
     ]
    },
    {
     "name": "stderr",
     "output_type": "stream",
     "text": [
      "[I 2025-07-19 15:15:22,682] Trial 938 finished with value: 851.3994374615883 and parameters: {'lambda_l1': 0.7120552204785149, 'lambda_l2': 0.3864409561317436, 'num_leaves': 56, 'feature_fraction': 0.9703487273839368, 'bagging_fraction': 0.9927722989516466, 'bagging_freq': 1, 'min_child_samples': 7}. Best is trial 594 with value: 797.0830964467458.\n"
     ]
    },
    {
     "name": "stdout",
     "output_type": "stream",
     "text": [
      "fin split 0\n",
      "fin split 1\n",
      "fin split 2\n",
      "fin split 3\n",
      "fin split 4\n"
     ]
    },
    {
     "name": "stderr",
     "output_type": "stream",
     "text": [
      "[I 2025-07-19 15:15:40,639] Trial 939 finished with value: 859.376716543726 and parameters: {'lambda_l1': 0.0043025270270858305, 'lambda_l2': 0.751945820096779, 'num_leaves': 53, 'feature_fraction': 0.5221165260980227, 'bagging_fraction': 0.9803969341421079, 'bagging_freq': 1, 'min_child_samples': 9}. Best is trial 594 with value: 797.0830964467458.\n"
     ]
    },
    {
     "name": "stdout",
     "output_type": "stream",
     "text": [
      "fin split 0\n",
      "fin split 1\n",
      "fin split 2\n",
      "fin split 3\n",
      "fin split 4\n"
     ]
    },
    {
     "name": "stderr",
     "output_type": "stream",
     "text": [
      "[I 2025-07-19 15:16:16,866] Trial 940 finished with value: 826.4172081344184 and parameters: {'lambda_l1': 5.366480517057585, 'lambda_l2': 0.2466079773435039, 'num_leaves': 74, 'feature_fraction': 0.9995534294035261, 'bagging_fraction': 0.9866187917746226, 'bagging_freq': 1, 'min_child_samples': 5}. Best is trial 594 with value: 797.0830964467458.\n"
     ]
    },
    {
     "name": "stdout",
     "output_type": "stream",
     "text": [
      "fin split 0\n",
      "fin split 1\n",
      "fin split 2\n",
      "fin split 3\n",
      "fin split 4\n"
     ]
    },
    {
     "name": "stderr",
     "output_type": "stream",
     "text": [
      "[I 2025-07-19 15:16:46,887] Trial 941 finished with value: 835.2009554092095 and parameters: {'lambda_l1': 0.010249570571526282, 'lambda_l2': 1.0706282863875787, 'num_leaves': 62, 'feature_fraction': 0.9613123027171449, 'bagging_fraction': 0.9930423220891997, 'bagging_freq': 1, 'min_child_samples': 7}. Best is trial 594 with value: 797.0830964467458.\n"
     ]
    },
    {
     "name": "stdout",
     "output_type": "stream",
     "text": [
      "fin split 0\n",
      "fin split 1\n",
      "fin split 2\n",
      "fin split 3\n",
      "fin split 4\n"
     ]
    },
    {
     "name": "stderr",
     "output_type": "stream",
     "text": [
      "[I 2025-07-19 15:17:14,395] Trial 942 finished with value: 830.5894433288845 and parameters: {'lambda_l1': 0.007588871593044358, 'lambda_l2': 0.5976521188475007, 'num_leaves': 54, 'feature_fraction': 0.9452355639613528, 'bagging_fraction': 0.9750947519796276, 'bagging_freq': 2, 'min_child_samples': 9}. Best is trial 594 with value: 797.0830964467458.\n"
     ]
    },
    {
     "name": "stdout",
     "output_type": "stream",
     "text": [
      "fin split 0\n",
      "fin split 1\n",
      "fin split 2\n",
      "fin split 3\n",
      "fin split 4\n"
     ]
    },
    {
     "name": "stderr",
     "output_type": "stream",
     "text": [
      "[I 2025-07-19 15:17:40,872] Trial 943 finished with value: 833.582753576874 and parameters: {'lambda_l1': 3.5282297744570625, 'lambda_l2': 0.3473935928183025, 'num_leaves': 52, 'feature_fraction': 0.9807394224018217, 'bagging_fraction': 0.9824650051891683, 'bagging_freq': 1, 'min_child_samples': 6}. Best is trial 594 with value: 797.0830964467458.\n"
     ]
    },
    {
     "name": "stdout",
     "output_type": "stream",
     "text": [
      "fin split 0\n",
      "fin split 1\n",
      "fin split 2\n",
      "fin split 3\n",
      "fin split 4\n"
     ]
    },
    {
     "name": "stderr",
     "output_type": "stream",
     "text": [
      "[I 2025-07-19 15:18:06,199] Trial 944 finished with value: 835.2785166168841 and parameters: {'lambda_l1': 1.156490781950849, 'lambda_l2': 1.3744605547368725, 'num_leaves': 48, 'feature_fraction': 0.9885969308231191, 'bagging_fraction': 0.9929682024498351, 'bagging_freq': 1, 'min_child_samples': 5}. Best is trial 594 with value: 797.0830964467458.\n"
     ]
    },
    {
     "name": "stdout",
     "output_type": "stream",
     "text": [
      "fin split 0\n",
      "fin split 1\n",
      "fin split 2\n",
      "fin split 3\n",
      "fin split 4\n"
     ]
    },
    {
     "name": "stderr",
     "output_type": "stream",
     "text": [
      "[I 2025-07-19 15:18:35,311] Trial 945 finished with value: 861.8719564510869 and parameters: {'lambda_l1': 2.3240729274042495, 'lambda_l2': 0.8434660894738784, 'num_leaves': 59, 'feature_fraction': 0.9712091551246168, 'bagging_fraction': 0.985579259124267, 'bagging_freq': 1, 'min_child_samples': 12}. Best is trial 594 with value: 797.0830964467458.\n"
     ]
    },
    {
     "name": "stdout",
     "output_type": "stream",
     "text": [
      "fin split 0\n",
      "fin split 1\n",
      "fin split 2\n",
      "fin split 3\n",
      "fin split 4\n"
     ]
    },
    {
     "name": "stderr",
     "output_type": "stream",
     "text": [
      "[I 2025-07-19 15:19:03,807] Trial 946 finished with value: 826.2167708982722 and parameters: {'lambda_l1': 2.3533564805345986, 'lambda_l2': 0.4631373734857518, 'num_leaves': 53, 'feature_fraction': 0.9541714350401517, 'bagging_fraction': 0.968685056457745, 'bagging_freq': 1, 'min_child_samples': 7}. Best is trial 594 with value: 797.0830964467458.\n"
     ]
    },
    {
     "name": "stdout",
     "output_type": "stream",
     "text": [
      "fin split 0\n",
      "fin split 1\n",
      "fin split 2\n",
      "fin split 3\n",
      "fin split 4\n"
     ]
    },
    {
     "name": "stderr",
     "output_type": "stream",
     "text": [
      "[I 2025-07-19 15:19:28,774] Trial 947 finished with value: 836.2291396913259 and parameters: {'lambda_l1': 4.334095547236119, 'lambda_l2': 1.7251991002451024, 'num_leaves': 48, 'feature_fraction': 0.9750626438858347, 'bagging_fraction': 0.9998535866248701, 'bagging_freq': 1, 'min_child_samples': 9}. Best is trial 594 with value: 797.0830964467458.\n"
     ]
    },
    {
     "name": "stdout",
     "output_type": "stream",
     "text": [
      "fin split 0\n",
      "fin split 1\n",
      "fin split 2\n",
      "fin split 3\n",
      "fin split 4\n"
     ]
    },
    {
     "name": "stderr",
     "output_type": "stream",
     "text": [
      "[I 2025-07-19 15:19:59,610] Trial 948 finished with value: 888.7363762626926 and parameters: {'lambda_l1': 0.0034489451065391054, 'lambda_l2': 0.2035921519917558, 'num_leaves': 66, 'feature_fraction': 0.9879533926277965, 'bagging_fraction': 0.7922069668137276, 'bagging_freq': 1, 'min_child_samples': 5}. Best is trial 594 with value: 797.0830964467458.\n"
     ]
    },
    {
     "name": "stdout",
     "output_type": "stream",
     "text": [
      "fin split 0\n",
      "fin split 1\n",
      "fin split 2\n",
      "fin split 3\n",
      "fin split 4\n"
     ]
    },
    {
     "name": "stderr",
     "output_type": "stream",
     "text": [
      "[I 2025-07-19 15:20:31,945] Trial 949 finished with value: 826.7673684314495 and parameters: {'lambda_l1': 0.0010208810954684946, 'lambda_l2': 0.6888549809624878, 'num_leaves': 58, 'feature_fraction': 0.9668205139542635, 'bagging_fraction': 0.9778668745948506, 'bagging_freq': 1, 'min_child_samples': 7}. Best is trial 594 with value: 797.0830964467458.\n"
     ]
    },
    {
     "name": "stdout",
     "output_type": "stream",
     "text": [
      "fin split 0\n",
      "fin split 1\n",
      "fin split 2\n",
      "fin split 3\n",
      "fin split 4\n"
     ]
    },
    {
     "name": "stderr",
     "output_type": "stream",
     "text": [
      "[I 2025-07-19 15:20:57,259] Trial 950 finished with value: 859.2065897437544 and parameters: {'lambda_l1': 0.009527897774457967, 'lambda_l2': 0.29974540375375436, 'num_leaves': 50, 'feature_fraction': 0.961052210349567, 'bagging_fraction': 0.888818033938928, 'bagging_freq': 1, 'min_child_samples': 10}. Best is trial 594 with value: 797.0830964467458.\n"
     ]
    },
    {
     "name": "stdout",
     "output_type": "stream",
     "text": [
      "fin split 0\n",
      "fin split 1\n",
      "fin split 2\n",
      "fin split 3\n",
      "fin split 4\n"
     ]
    },
    {
     "name": "stderr",
     "output_type": "stream",
     "text": [
      "[I 2025-07-19 15:21:20,053] Trial 951 finished with value: 857.6119099865655 and parameters: {'lambda_l1': 0.002501183991694029, 'lambda_l2': 1.0497407766814244, 'num_leaves': 44, 'feature_fraction': 0.9993244391159932, 'bagging_fraction': 0.751693138965114, 'bagging_freq': 1, 'min_child_samples': 8}. Best is trial 594 with value: 797.0830964467458.\n"
     ]
    },
    {
     "name": "stdout",
     "output_type": "stream",
     "text": [
      "fin split 0\n",
      "fin split 1\n",
      "fin split 2\n",
      "fin split 3\n",
      "fin split 4\n"
     ]
    },
    {
     "name": "stderr",
     "output_type": "stream",
     "text": [
      "[I 2025-07-19 15:22:19,761] Trial 952 finished with value: 878.6107514755092 and parameters: {'lambda_l1': 0.005090306015303341, 'lambda_l2': 2.844067550003975, 'num_leaves': 136, 'feature_fraction': 0.9793720886738913, 'bagging_fraction': 0.9881054739927315, 'bagging_freq': 1, 'min_child_samples': 5}. Best is trial 594 with value: 797.0830964467458.\n"
     ]
    },
    {
     "name": "stdout",
     "output_type": "stream",
     "text": [
      "fin split 0\n",
      "fin split 1\n",
      "fin split 2\n",
      "fin split 3\n",
      "fin split 4\n"
     ]
    },
    {
     "name": "stderr",
     "output_type": "stream",
     "text": [
      "[I 2025-07-19 15:22:47,689] Trial 953 finished with value: 894.9703935434932 and parameters: {'lambda_l1': 0.0010768154509356073, 'lambda_l2': 0.5881830457740501, 'num_leaves': 55, 'feature_fraction': 0.9862319544177618, 'bagging_fraction': 0.6621434427618313, 'bagging_freq': 1, 'min_child_samples': 7}. Best is trial 594 with value: 797.0830964467458.\n"
     ]
    },
    {
     "name": "stdout",
     "output_type": "stream",
     "text": [
      "fin split 0\n",
      "fin split 1\n",
      "fin split 2\n",
      "fin split 3\n",
      "fin split 4\n"
     ]
    },
    {
     "name": "stderr",
     "output_type": "stream",
     "text": [
      "[I 2025-07-19 15:23:11,701] Trial 954 finished with value: 833.7204315603647 and parameters: {'lambda_l1': 0.00046416285941148485, 'lambda_l2': 0.45378131557766777, 'num_leaves': 45, 'feature_fraction': 0.947910777273067, 'bagging_fraction': 0.8473586200221983, 'bagging_freq': 1, 'min_child_samples': 5}. Best is trial 594 with value: 797.0830964467458.\n"
     ]
    },
    {
     "name": "stdout",
     "output_type": "stream",
     "text": [
      "fin split 0\n",
      "fin split 1\n",
      "fin split 2\n",
      "fin split 3\n",
      "fin split 4\n"
     ]
    },
    {
     "name": "stderr",
     "output_type": "stream",
     "text": [
      "[I 2025-07-19 15:23:35,197] Trial 955 finished with value: 938.9673464471845 and parameters: {'lambda_l1': 0.0024136460310835656, 'lambda_l2': 0.9923651389559093, 'num_leaves': 41, 'feature_fraction': 0.9693742761760719, 'bagging_fraction': 0.992735232720426, 'bagging_freq': 1, 'min_child_samples': 29}. Best is trial 594 with value: 797.0830964467458.\n"
     ]
    },
    {
     "name": "stdout",
     "output_type": "stream",
     "text": [
      "fin split 0\n",
      "fin split 1\n",
      "fin split 2\n",
      "fin split 3\n",
      "fin split 4\n"
     ]
    },
    {
     "name": "stderr",
     "output_type": "stream",
     "text": [
      "[I 2025-07-19 15:23:59,819] Trial 956 finished with value: 859.6786867009005 and parameters: {'lambda_l1': 0.0016005473906360649, 'lambda_l2': 0.19524525514626379, 'num_leaves': 50, 'feature_fraction': 0.9387122354286253, 'bagging_fraction': 0.9767704638338903, 'bagging_freq': 1, 'min_child_samples': 11}. Best is trial 594 with value: 797.0830964467458.\n"
     ]
    },
    {
     "name": "stdout",
     "output_type": "stream",
     "text": [
      "fin split 0\n",
      "fin split 1\n",
      "fin split 2\n",
      "fin split 3\n",
      "fin split 4\n"
     ]
    },
    {
     "name": "stderr",
     "output_type": "stream",
     "text": [
      "[I 2025-07-19 15:24:30,889] Trial 957 finished with value: 855.1335678390972 and parameters: {'lambda_l1': 0.0035489519646697155, 'lambda_l2': 1.7850664769404148, 'num_leaves': 61, 'feature_fraction': 0.9895543300626193, 'bagging_fraction': 0.9866952434028885, 'bagging_freq': 1, 'min_child_samples': 8}. Best is trial 594 with value: 797.0830964467458.\n"
     ]
    },
    {
     "name": "stdout",
     "output_type": "stream",
     "text": [
      "fin split 0\n",
      "fin split 1\n",
      "fin split 2\n",
      "fin split 3\n",
      "fin split 4\n"
     ]
    },
    {
     "name": "stderr",
     "output_type": "stream",
     "text": [
      "[I 2025-07-19 15:24:57,989] Trial 958 finished with value: 845.9046086376092 and parameters: {'lambda_l1': 0.005773609371279145, 'lambda_l2': 0.3378174525083064, 'num_leaves': 55, 'feature_fraction': 0.9593958659893131, 'bagging_fraction': 0.9939677649805219, 'bagging_freq': 1, 'min_child_samples': 7}. Best is trial 594 with value: 797.0830964467458.\n"
     ]
    },
    {
     "name": "stdout",
     "output_type": "stream",
     "text": [
      "fin split 0\n",
      "fin split 1\n",
      "fin split 2\n",
      "fin split 3\n",
      "fin split 4\n"
     ]
    },
    {
     "name": "stderr",
     "output_type": "stream",
     "text": [
      "[I 2025-07-19 15:25:20,296] Trial 959 finished with value: 815.5964147709478 and parameters: {'lambda_l1': 0.0012755038989318566, 'lambda_l2': 0.7694797424372203, 'num_leaves': 46, 'feature_fraction': 0.9767963450992696, 'bagging_fraction': 0.9687762473436694, 'bagging_freq': 1, 'min_child_samples': 5}. Best is trial 594 with value: 797.0830964467458.\n"
     ]
    },
    {
     "name": "stdout",
     "output_type": "stream",
     "text": [
      "fin split 0\n",
      "fin split 1\n",
      "fin split 2\n",
      "fin split 3\n",
      "fin split 4\n"
     ]
    },
    {
     "name": "stderr",
     "output_type": "stream",
     "text": [
      "[I 2025-07-19 15:25:45,659] Trial 960 finished with value: 830.1968302031439 and parameters: {'lambda_l1': 4.1545985725262435e-07, 'lambda_l2': 0.5404676465014158, 'num_leaves': 41, 'feature_fraction': 0.9890735324074273, 'bagging_fraction': 0.9998192190118161, 'bagging_freq': 1, 'min_child_samples': 9}. Best is trial 594 with value: 797.0830964467458.\n"
     ]
    },
    {
     "name": "stdout",
     "output_type": "stream",
     "text": [
      "fin split 0\n",
      "fin split 1\n",
      "fin split 2\n",
      "fin split 3\n",
      "fin split 4\n"
     ]
    },
    {
     "name": "stderr",
     "output_type": "stream",
     "text": [
      "[I 2025-07-19 15:26:12,441] Trial 961 finished with value: 822.4213031784623 and parameters: {'lambda_l1': 0.11756816187742852, 'lambda_l2': 1.337805846802864, 'num_leaves': 51, 'feature_fraction': 0.9738846933778876, 'bagging_fraction': 0.9811384885425434, 'bagging_freq': 1, 'min_child_samples': 7}. Best is trial 594 with value: 797.0830964467458.\n"
     ]
    },
    {
     "name": "stdout",
     "output_type": "stream",
     "text": [
      "fin split 0\n",
      "fin split 1\n",
      "fin split 2\n",
      "fin split 3\n",
      "fin split 4\n"
     ]
    },
    {
     "name": "stderr",
     "output_type": "stream",
     "text": [
      "[I 2025-07-19 15:26:48,469] Trial 962 finished with value: 873.3702418035148 and parameters: {'lambda_l1': 0.0006331934799225547, 'lambda_l2': 0.27532395900080797, 'num_leaves': 68, 'feature_fraction': 0.9998937176350672, 'bagging_fraction': 0.9871403022302805, 'bagging_freq': 1, 'min_child_samples': 10}. Best is trial 594 with value: 797.0830964467458.\n"
     ]
    },
    {
     "name": "stdout",
     "output_type": "stream",
     "text": [
      "fin split 0\n",
      "fin split 1\n",
      "fin split 2\n",
      "fin split 3\n",
      "fin split 4\n"
     ]
    },
    {
     "name": "stderr",
     "output_type": "stream",
     "text": [
      "[I 2025-07-19 15:27:13,782] Trial 963 finished with value: 810.8756524385183 and parameters: {'lambda_l1': 0.001852584300967821, 'lambda_l2': 2.5623771415291445, 'num_leaves': 46, 'feature_fraction': 0.9999755605276459, 'bagging_fraction': 0.9753037690044278, 'bagging_freq': 1, 'min_child_samples': 5}. Best is trial 594 with value: 797.0830964467458.\n"
     ]
    },
    {
     "name": "stdout",
     "output_type": "stream",
     "text": [
      "fin split 0\n",
      "fin split 1\n",
      "fin split 2\n",
      "fin split 3\n",
      "fin split 4\n"
     ]
    },
    {
     "name": "stderr",
     "output_type": "stream",
     "text": [
      "[I 2025-07-19 15:27:39,330] Trial 964 finished with value: 883.647538352181 and parameters: {'lambda_l1': 0.003222249819665141, 'lambda_l2': 4.4324048992119875, 'num_leaves': 55, 'feature_fraction': 0.9920958249415242, 'bagging_fraction': 0.9655274763600191, 'bagging_freq': 1, 'min_child_samples': 13}. Best is trial 594 with value: 797.0830964467458.\n"
     ]
    },
    {
     "name": "stdout",
     "output_type": "stream",
     "text": [
      "fin split 0\n",
      "fin split 1\n",
      "fin split 2\n",
      "fin split 3\n",
      "fin split 4\n"
     ]
    },
    {
     "name": "stderr",
     "output_type": "stream",
     "text": [
      "[I 2025-07-19 15:28:05,406] Trial 965 finished with value: 851.7766322208536 and parameters: {'lambda_l1': 0.008496510544622042, 'lambda_l2': 6.258559039717925, 'num_leaves': 48, 'feature_fraction': 0.9999932943741455, 'bagging_fraction': 0.9683142687814724, 'bagging_freq': 1, 'min_child_samples': 7}. Best is trial 594 with value: 797.0830964467458.\n"
     ]
    },
    {
     "name": "stdout",
     "output_type": "stream",
     "text": [
      "fin split 0\n",
      "fin split 1\n",
      "fin split 2\n",
      "fin split 3\n",
      "fin split 4\n"
     ]
    },
    {
     "name": "stderr",
     "output_type": "stream",
     "text": [
      "[I 2025-07-19 15:28:33,864] Trial 966 finished with value: 836.267379749712 and parameters: {'lambda_l1': 0.002226374783165249, 'lambda_l2': 3.564512116704353, 'num_leaves': 60, 'feature_fraction': 0.9867788370819525, 'bagging_fraction': 0.9737980482411258, 'bagging_freq': 1, 'min_child_samples': 5}. Best is trial 594 with value: 797.0830964467458.\n"
     ]
    },
    {
     "name": "stdout",
     "output_type": "stream",
     "text": [
      "fin split 0\n",
      "fin split 1\n",
      "fin split 2\n",
      "fin split 3\n",
      "fin split 4\n"
     ]
    },
    {
     "name": "stderr",
     "output_type": "stream",
     "text": [
      "[I 2025-07-19 15:29:00,201] Trial 967 finished with value: 836.8496381980018 and parameters: {'lambda_l1': 0.005830698019715717, 'lambda_l2': 2.0598891306599105, 'num_leaves': 52, 'feature_fraction': 0.999807011478239, 'bagging_fraction': 0.976236059429999, 'bagging_freq': 1, 'min_child_samples': 9}. Best is trial 594 with value: 797.0830964467458.\n"
     ]
    },
    {
     "name": "stdout",
     "output_type": "stream",
     "text": [
      "fin split 0\n",
      "fin split 1\n",
      "fin split 2\n",
      "fin split 3\n",
      "fin split 4\n"
     ]
    },
    {
     "name": "stderr",
     "output_type": "stream",
     "text": [
      "[I 2025-07-19 15:29:24,910] Trial 968 finished with value: 858.3708440332271 and parameters: {'lambda_l1': 0.004287350142810485, 'lambda_l2': 2.2676416524356573, 'num_leaves': 46, 'feature_fraction': 0.9998356349505036, 'bagging_fraction': 0.858730998918632, 'bagging_freq': 1, 'min_child_samples': 7}. Best is trial 594 with value: 797.0830964467458.\n"
     ]
    },
    {
     "name": "stdout",
     "output_type": "stream",
     "text": [
      "fin split 0\n",
      "fin split 1\n",
      "fin split 2\n",
      "fin split 3\n",
      "fin split 4\n"
     ]
    },
    {
     "name": "stderr",
     "output_type": "stream",
     "text": [
      "[I 2025-07-19 15:29:53,705] Trial 969 finished with value: 835.8151295342445 and parameters: {'lambda_l1': 0.001819357266697754, 'lambda_l2': 3.339171919094832, 'num_leaves': 58, 'feature_fraction': 0.9814805800218159, 'bagging_fraction': 0.9729589625856926, 'bagging_freq': 1, 'min_child_samples': 5}. Best is trial 594 with value: 797.0830964467458.\n"
     ]
    },
    {
     "name": "stdout",
     "output_type": "stream",
     "text": [
      "fin split 0\n",
      "fin split 1\n",
      "fin split 2\n",
      "fin split 3\n",
      "fin split 4\n"
     ]
    },
    {
     "name": "stderr",
     "output_type": "stream",
     "text": [
      "[I 2025-07-19 15:30:20,907] Trial 970 finished with value: 968.3441540369864 and parameters: {'lambda_l1': 0.0010375693196045905, 'lambda_l2': 5.501598703131774, 'num_leaves': 51, 'feature_fraction': 0.9620109957896615, 'bagging_fraction': 0.9688421512507847, 'bagging_freq': 1, 'min_child_samples': 59}. Best is trial 594 with value: 797.0830964467458.\n"
     ]
    },
    {
     "name": "stdout",
     "output_type": "stream",
     "text": [
      "fin split 0\n",
      "fin split 1\n",
      "fin split 2\n",
      "fin split 3\n",
      "fin split 4\n"
     ]
    },
    {
     "name": "stderr",
     "output_type": "stream",
     "text": [
      "[I 2025-07-19 15:30:46,643] Trial 971 finished with value: 861.208471545682 and parameters: {'lambda_l1': 0.0028865726664566893, 'lambda_l2': 2.9632415558880325, 'num_leaves': 44, 'feature_fraction': 0.9754580220422059, 'bagging_fraction': 0.9644801729000189, 'bagging_freq': 1, 'min_child_samples': 11}. Best is trial 594 with value: 797.0830964467458.\n"
     ]
    },
    {
     "name": "stdout",
     "output_type": "stream",
     "text": [
      "fin split 0\n",
      "fin split 1\n",
      "fin split 2\n",
      "fin split 3\n",
      "fin split 4\n"
     ]
    },
    {
     "name": "stderr",
     "output_type": "stream",
     "text": [
      "[I 2025-07-19 15:31:15,722] Trial 972 finished with value: 840.0473509310945 and parameters: {'lambda_l1': 5.555872915277058, 'lambda_l2': 0.19854540519107944, 'num_leaves': 55, 'feature_fraction': 0.9278790970916692, 'bagging_fraction': 0.9823892254243812, 'bagging_freq': 1, 'min_child_samples': 7}. Best is trial 594 with value: 797.0830964467458.\n"
     ]
    },
    {
     "name": "stdout",
     "output_type": "stream",
     "text": [
      "fin split 0\n",
      "fin split 1\n",
      "fin split 2\n",
      "fin split 3\n",
      "fin split 4\n"
     ]
    },
    {
     "name": "stderr",
     "output_type": "stream",
     "text": [
      "[I 2025-07-19 15:31:48,689] Trial 973 finished with value: 841.8843681975969 and parameters: {'lambda_l1': 0.0008217841095555844, 'lambda_l2': 1.6638166153464993, 'num_leaves': 62, 'feature_fraction': 0.9883381042030621, 'bagging_fraction': 0.9780131484913971, 'bagging_freq': 1, 'min_child_samples': 9}. Best is trial 594 with value: 797.0830964467458.\n"
     ]
    },
    {
     "name": "stdout",
     "output_type": "stream",
     "text": [
      "fin split 0\n",
      "fin split 1\n",
      "fin split 2\n",
      "fin split 3\n",
      "fin split 4\n"
     ]
    },
    {
     "name": "stderr",
     "output_type": "stream",
     "text": [
      "[I 2025-07-19 15:32:13,638] Trial 974 finished with value: 840.0465686003581 and parameters: {'lambda_l1': 0.004201102878707706, 'lambda_l2': 2.561634775517183, 'num_leaves': 49, 'feature_fraction': 0.9513924831876688, 'bagging_fraction': 0.9814054269418707, 'bagging_freq': 2, 'min_child_samples': 5}. Best is trial 594 with value: 797.0830964467458.\n"
     ]
    },
    {
     "name": "stdout",
     "output_type": "stream",
     "text": [
      "fin split 0\n",
      "fin split 1\n",
      "fin split 2\n",
      "fin split 3\n",
      "fin split 4\n"
     ]
    },
    {
     "name": "stderr",
     "output_type": "stream",
     "text": [
      "[I 2025-07-19 15:32:37,559] Trial 975 finished with value: 846.3459406823 and parameters: {'lambda_l1': 0.002081316548082119, 'lambda_l2': 0.386696210856196, 'num_leaves': 43, 'feature_fraction': 0.9687814216416759, 'bagging_fraction': 0.9848329939235709, 'bagging_freq': 1, 'min_child_samples': 7}. Best is trial 594 with value: 797.0830964467458.\n"
     ]
    },
    {
     "name": "stdout",
     "output_type": "stream",
     "text": [
      "fin split 0\n",
      "fin split 1\n",
      "fin split 2\n",
      "fin split 3\n",
      "fin split 4\n"
     ]
    },
    {
     "name": "stderr",
     "output_type": "stream",
     "text": [
      "[I 2025-07-19 15:33:03,972] Trial 976 finished with value: 828.1639677196948 and parameters: {'lambda_l1': 0.011460357343272625, 'lambda_l2': 1.3194223201869688, 'num_leaves': 48, 'feature_fraction': 0.9888119385311869, 'bagging_fraction': 0.9740151364687264, 'bagging_freq': 1, 'min_child_samples': 5}. Best is trial 594 with value: 797.0830964467458.\n"
     ]
    },
    {
     "name": "stdout",
     "output_type": "stream",
     "text": [
      "fin split 0\n",
      "fin split 1\n",
      "fin split 2\n",
      "fin split 3\n",
      "fin split 4\n"
     ]
    },
    {
     "name": "stderr",
     "output_type": "stream",
     "text": [
      "[I 2025-07-19 15:33:39,770] Trial 977 finished with value: 964.3278276355818 and parameters: {'lambda_l1': 1.619716329355246, 'lambda_l2': 4.112569418220462, 'num_leaves': 71, 'feature_fraction': 0.9800974994251653, 'bagging_fraction': 0.9660944894620604, 'bagging_freq': 1, 'min_child_samples': 47}. Best is trial 594 with value: 797.0830964467458.\n"
     ]
    },
    {
     "name": "stdout",
     "output_type": "stream",
     "text": [
      "fin split 0\n",
      "fin split 1\n",
      "fin split 2\n",
      "fin split 3\n",
      "fin split 4\n"
     ]
    },
    {
     "name": "stderr",
     "output_type": "stream",
     "text": [
      "[I 2025-07-19 15:34:07,796] Trial 978 finished with value: 1001.0204985617513 and parameters: {'lambda_l1': 0.0005280502848884907, 'lambda_l2': 0.17578957813201812, 'num_leaves': 55, 'feature_fraction': 0.9628461968345872, 'bagging_fraction': 0.9925874853770367, 'bagging_freq': 1, 'min_child_samples': 98}. Best is trial 594 with value: 797.0830964467458.\n"
     ]
    },
    {
     "name": "stdout",
     "output_type": "stream",
     "text": [
      "fin split 0\n",
      "fin split 1\n",
      "fin split 2\n",
      "fin split 3\n",
      "fin split 4\n"
     ]
    },
    {
     "name": "stderr",
     "output_type": "stream",
     "text": [
      "[I 2025-07-19 15:34:31,240] Trial 979 finished with value: 848.4994467445945 and parameters: {'lambda_l1': 0.001394780719768717, 'lambda_l2': 0.6285897015910898, 'num_leaves': 40, 'feature_fraction': 0.9430424163364427, 'bagging_fraction': 0.9999035884079182, 'bagging_freq': 1, 'min_child_samples': 9}. Best is trial 594 with value: 797.0830964467458.\n"
     ]
    },
    {
     "name": "stdout",
     "output_type": "stream",
     "text": [
      "fin split 0\n",
      "fin split 1\n",
      "fin split 2\n",
      "fin split 3\n",
      "fin split 4\n"
     ]
    },
    {
     "name": "stderr",
     "output_type": "stream",
     "text": [
      "[I 2025-07-19 15:34:55,023] Trial 980 finished with value: 832.5213594993614 and parameters: {'lambda_l1': 0.006638697861402373, 'lambda_l2': 0.12724833259592797, 'num_leaves': 45, 'feature_fraction': 0.9733154032144535, 'bagging_fraction': 0.9870539444831518, 'bagging_freq': 1, 'min_child_samples': 7}. Best is trial 594 with value: 797.0830964467458.\n"
     ]
    },
    {
     "name": "stdout",
     "output_type": "stream",
     "text": [
      "fin split 0\n",
      "fin split 1\n",
      "fin split 2\n",
      "fin split 3\n",
      "fin split 4\n"
     ]
    },
    {
     "name": "stderr",
     "output_type": "stream",
     "text": [
      "[I 2025-07-19 15:35:22,347] Trial 981 finished with value: 958.3832114732792 and parameters: {'lambda_l1': 0.002943792596405891, 'lambda_l2': 0.33634144624744, 'num_leaves': 52, 'feature_fraction': 0.9997426021740173, 'bagging_fraction': 0.9801153627038002, 'bagging_freq': 1, 'min_child_samples': 27}. Best is trial 594 with value: 797.0830964467458.\n"
     ]
    },
    {
     "name": "stdout",
     "output_type": "stream",
     "text": [
      "fin split 0\n",
      "fin split 1\n",
      "fin split 2\n",
      "fin split 3\n",
      "fin split 4\n"
     ]
    },
    {
     "name": "stderr",
     "output_type": "stream",
     "text": [
      "[I 2025-07-19 15:35:52,827] Trial 982 finished with value: 871.5918303677599 and parameters: {'lambda_l1': 3.3012367784180547, 'lambda_l2': 0.8389415153340857, 'num_leaves': 63, 'feature_fraction': 0.989740446607067, 'bagging_fraction': 0.9930797627590612, 'bagging_freq': 1, 'min_child_samples': 11}. Best is trial 594 with value: 797.0830964467458.\n"
     ]
    },
    {
     "name": "stdout",
     "output_type": "stream",
     "text": [
      "fin split 0\n",
      "fin split 1\n",
      "fin split 2\n",
      "fin split 3\n",
      "fin split 4\n"
     ]
    },
    {
     "name": "stderr",
     "output_type": "stream",
     "text": [
      "[I 2025-07-19 15:36:13,224] Trial 983 finished with value: 827.3869333532464 and parameters: {'lambda_l1': 0.0009397165762238442, 'lambda_l2': 0.48861675666904447, 'num_leaves': 37, 'feature_fraction': 0.918454156808778, 'bagging_fraction': 0.9765402845719741, 'bagging_freq': 1, 'min_child_samples': 5}. Best is trial 594 with value: 797.0830964467458.\n"
     ]
    },
    {
     "name": "stdout",
     "output_type": "stream",
     "text": [
      "fin split 0\n",
      "fin split 1\n",
      "fin split 2\n",
      "fin split 3\n",
      "fin split 4\n"
     ]
    },
    {
     "name": "stderr",
     "output_type": "stream",
     "text": [
      "[I 2025-07-19 15:36:41,307] Trial 984 finished with value: 817.810655821322 and parameters: {'lambda_l1': 5.8782251601762686e-08, 'lambda_l2': 0.26351649885353723, 'num_leaves': 48, 'feature_fraction': 0.9551678657693408, 'bagging_fraction': 0.9865218482620994, 'bagging_freq': 1, 'min_child_samples': 8}. Best is trial 594 with value: 797.0830964467458.\n"
     ]
    },
    {
     "name": "stdout",
     "output_type": "stream",
     "text": [
      "fin split 0\n",
      "fin split 1\n",
      "fin split 2\n",
      "fin split 3\n",
      "fin split 4\n"
     ]
    },
    {
     "name": "stderr",
     "output_type": "stream",
     "text": [
      "[I 2025-07-19 15:37:04,620] Trial 985 finished with value: 846.9042180459443 and parameters: {'lambda_l1': 1.4721828857896909e-06, 'lambda_l2': 1.422047466432067, 'num_leaves': 42, 'feature_fraction': 0.9786898903170141, 'bagging_fraction': 0.9654366484751359, 'bagging_freq': 1, 'min_child_samples': 7}. Best is trial 594 with value: 797.0830964467458.\n"
     ]
    },
    {
     "name": "stdout",
     "output_type": "stream",
     "text": [
      "fin split 0\n",
      "fin split 1\n",
      "fin split 2\n",
      "fin split 3\n",
      "fin split 4\n"
     ]
    },
    {
     "name": "stderr",
     "output_type": "stream",
     "text": [
      "[I 2025-07-19 15:38:08,274] Trial 986 finished with value: 890.0872515571922 and parameters: {'lambda_l1': 0.0017519979776880194, 'lambda_l2': 2.3174590152208974, 'num_leaves': 153, 'feature_fraction': 0.9691074063572415, 'bagging_fraction': 0.9999599685555935, 'bagging_freq': 1, 'min_child_samples': 5}. Best is trial 594 with value: 797.0830964467458.\n"
     ]
    },
    {
     "name": "stdout",
     "output_type": "stream",
     "text": [
      "fin split 0\n",
      "fin split 1\n",
      "fin split 2\n",
      "fin split 3\n",
      "fin split 4\n"
     ]
    },
    {
     "name": "stderr",
     "output_type": "stream",
     "text": [
      "[I 2025-07-19 15:38:37,727] Trial 987 finished with value: 981.1983120149498 and parameters: {'lambda_l1': 0.0003922880403337304, 'lambda_l2': 0.9223324840624213, 'num_leaves': 59, 'feature_fraction': 0.9997775839830806, 'bagging_fraction': 0.982089635377754, 'bagging_freq': 1, 'min_child_samples': 81}. Best is trial 594 with value: 797.0830964467458.\n"
     ]
    },
    {
     "name": "stdout",
     "output_type": "stream",
     "text": [
      "fin split 0\n",
      "fin split 1\n",
      "fin split 2\n",
      "fin split 3\n",
      "fin split 4\n"
     ]
    },
    {
     "name": "stderr",
     "output_type": "stream",
     "text": [
      "[I 2025-07-19 15:39:05,314] Trial 988 finished with value: 854.9276913423714 and parameters: {'lambda_l1': 0.004259120310392086, 'lambda_l2': 0.5025677235973343, 'num_leaves': 53, 'feature_fraction': 0.9869283743149897, 'bagging_fraction': 0.9916032902878148, 'bagging_freq': 1, 'min_child_samples': 10}. Best is trial 594 with value: 797.0830964467458.\n"
     ]
    },
    {
     "name": "stdout",
     "output_type": "stream",
     "text": [
      "fin split 0\n",
      "fin split 1\n",
      "fin split 2\n",
      "fin split 3\n",
      "fin split 4\n"
     ]
    },
    {
     "name": "stderr",
     "output_type": "stream",
     "text": [
      "[I 2025-07-19 15:39:27,977] Trial 989 finished with value: 835.6584179029778 and parameters: {'lambda_l1': 1.2256512153979867e-07, 'lambda_l2': 0.34649110147037004, 'num_leaves': 44, 'feature_fraction': 0.9644147756183815, 'bagging_fraction': 0.976339571801218, 'bagging_freq': 1, 'min_child_samples': 7}. Best is trial 594 with value: 797.0830964467458.\n"
     ]
    },
    {
     "name": "stdout",
     "output_type": "stream",
     "text": [
      "fin split 0\n",
      "fin split 1\n",
      "fin split 2\n",
      "fin split 3\n",
      "fin split 4\n"
     ]
    },
    {
     "name": "stderr",
     "output_type": "stream",
     "text": [
      "[I 2025-07-19 15:40:07,426] Trial 990 finished with value: 908.456542210989 and parameters: {'lambda_l1': 0.002548531895168851, 'lambda_l2': 9.98687827303451, 'num_leaves': 94, 'feature_fraction': 0.9773348398719717, 'bagging_fraction': 0.9886744439909578, 'bagging_freq': 1, 'min_child_samples': 9}. Best is trial 594 with value: 797.0830964467458.\n"
     ]
    },
    {
     "name": "stdout",
     "output_type": "stream",
     "text": [
      "fin split 0\n",
      "fin split 1\n",
      "fin split 2\n",
      "fin split 3\n",
      "fin split 4\n"
     ]
    },
    {
     "name": "stderr",
     "output_type": "stream",
     "text": [
      "[I 2025-07-19 15:40:29,136] Trial 991 finished with value: 811.2478004942465 and parameters: {'lambda_l1': 0.0011799143779361579, 'lambda_l2': 0.7003912780813766, 'num_leaves': 34, 'feature_fraction': 0.9516069930465713, 'bagging_fraction': 0.9925617037187309, 'bagging_freq': 1, 'min_child_samples': 5}. Best is trial 594 with value: 797.0830964467458.\n"
     ]
    },
    {
     "name": "stdout",
     "output_type": "stream",
     "text": [
      "fin split 0\n",
      "fin split 1\n",
      "fin split 2\n",
      "fin split 3\n",
      "fin split 4\n"
     ]
    },
    {
     "name": "stderr",
     "output_type": "stream",
     "text": [
      "[I 2025-07-19 15:40:47,116] Trial 992 finished with value: 846.887669485688 and parameters: {'lambda_l1': 0.0012800813383102732, 'lambda_l2': 0.15402482182280286, 'num_leaves': 28, 'feature_fraction': 0.9371004100832468, 'bagging_fraction': 0.9702679952395176, 'bagging_freq': 1, 'min_child_samples': 5}. Best is trial 594 with value: 797.0830964467458.\n"
     ]
    },
    {
     "name": "stdout",
     "output_type": "stream",
     "text": [
      "fin split 0\n",
      "fin split 1\n",
      "fin split 2\n",
      "fin split 3\n",
      "fin split 4\n"
     ]
    },
    {
     "name": "stderr",
     "output_type": "stream",
     "text": [
      "[I 2025-07-19 15:41:07,185] Trial 993 finished with value: 826.0813657141392 and parameters: {'lambda_l1': 0.002095654068544564, 'lambda_l2': 0.2553775689655574, 'num_leaves': 30, 'feature_fraction': 0.98866957278244, 'bagging_fraction': 0.9816582297855886, 'bagging_freq': 1, 'min_child_samples': 5}. Best is trial 594 with value: 797.0830964467458.\n"
     ]
    },
    {
     "name": "stdout",
     "output_type": "stream",
     "text": [
      "fin split 0\n",
      "fin split 1\n",
      "fin split 2\n",
      "fin split 3\n",
      "fin split 4\n"
     ]
    },
    {
     "name": "stderr",
     "output_type": "stream",
     "text": [
      "[I 2025-07-19 15:41:29,111] Trial 994 finished with value: 829.2115463724242 and parameters: {'lambda_l1': 0.0012479655748337658, 'lambda_l2': 0.5117741112804066, 'num_leaves': 32, 'feature_fraction': 0.9507513923894845, 'bagging_fraction': 0.9737073724061388, 'bagging_freq': 1, 'min_child_samples': 5}. Best is trial 594 with value: 797.0830964467458.\n"
     ]
    },
    {
     "name": "stdout",
     "output_type": "stream",
     "text": [
      "fin split 0\n",
      "fin split 1\n",
      "fin split 2\n",
      "fin split 3\n",
      "fin split 4\n"
     ]
    },
    {
     "name": "stderr",
     "output_type": "stream",
     "text": [
      "[I 2025-07-19 15:41:51,012] Trial 995 finished with value: 829.18421812057 and parameters: {'lambda_l1': 0.003526934347835525, 'lambda_l2': 1.2120333559631251, 'num_leaves': 39, 'feature_fraction': 0.9758393602549175, 'bagging_fraction': 0.9809600840032999, 'bagging_freq': 1, 'min_child_samples': 5}. Best is trial 594 with value: 797.0830964467458.\n"
     ]
    },
    {
     "name": "stdout",
     "output_type": "stream",
     "text": [
      "fin split 0\n",
      "fin split 1\n",
      "fin split 2\n",
      "fin split 3\n",
      "fin split 4\n"
     ]
    },
    {
     "name": "stderr",
     "output_type": "stream",
     "text": [
      "[I 2025-07-19 15:42:13,738] Trial 996 finished with value: 814.1159661292622 and parameters: {'lambda_l1': 0.001898866038855087, 'lambda_l2': 0.73607373561202, 'num_leaves': 35, 'feature_fraction': 0.9997549508874868, 'bagging_fraction': 0.9862530206858005, 'bagging_freq': 2, 'min_child_samples': 7}. Best is trial 594 with value: 797.0830964467458.\n"
     ]
    },
    {
     "name": "stdout",
     "output_type": "stream",
     "text": [
      "fin split 0\n",
      "fin split 1\n",
      "fin split 2\n",
      "fin split 3\n",
      "fin split 4\n"
     ]
    },
    {
     "name": "stderr",
     "output_type": "stream",
     "text": [
      "[I 2025-07-19 15:42:33,743] Trial 997 finished with value: 822.7514838372526 and parameters: {'lambda_l1': 0.007429856782085946, 'lambda_l2': 0.3902779946920211, 'num_leaves': 30, 'feature_fraction': 0.9818604217933194, 'bagging_fraction': 0.9638952409304622, 'bagging_freq': 1, 'min_child_samples': 6}. Best is trial 594 with value: 797.0830964467458.\n"
     ]
    },
    {
     "name": "stdout",
     "output_type": "stream",
     "text": [
      "fin split 0\n",
      "fin split 1\n",
      "fin split 2\n",
      "fin split 3\n",
      "fin split 4\n"
     ]
    },
    {
     "name": "stderr",
     "output_type": "stream",
     "text": [
      "[I 2025-07-19 15:42:54,584] Trial 998 finished with value: 799.7680486086556 and parameters: {'lambda_l1': 0.0010140964025127676, 'lambda_l2': 0.21431602291306248, 'num_leaves': 35, 'feature_fraction': 0.9591847504317307, 'bagging_fraction': 0.9738797893630373, 'bagging_freq': 1, 'min_child_samples': 5}. Best is trial 594 with value: 797.0830964467458.\n"
     ]
    },
    {
     "name": "stdout",
     "output_type": "stream",
     "text": [
      "fin split 0\n",
      "fin split 1\n",
      "fin split 2\n",
      "fin split 3\n",
      "fin split 4\n"
     ]
    },
    {
     "name": "stderr",
     "output_type": "stream",
     "text": [
      "[I 2025-07-19 15:43:12,660] Trial 999 finished with value: 856.8821491203046 and parameters: {'lambda_l1': 0.0007824856441671556, 'lambda_l2': 0.10830979984339686, 'num_leaves': 27, 'feature_fraction': 0.9299608360893791, 'bagging_fraction': 0.9645607308038875, 'bagging_freq': 1, 'min_child_samples': 5}. Best is trial 594 with value: 797.0830964467458.\n"
     ]
    }
   ],
   "source": [
    "#Inicio el store de artefactos (archivos) de optuna\n",
    "artifact_store = FileSystemArtifactStore(base_path=PATH_TO_OPTUNA_ARTIFACTS)\n",
    "\n",
    "#Genero estudio\n",
    "study = optuna.create_study(direction='minimize',\n",
    "                            storage=\"sqlite:///db.sqlite2\",  # Specify the storage URL here.\n",
    "                            study_name=\"Producto_base\",\n",
    "                            load_if_exists = True)\n",
    "#Corro la optimizacion\n",
    "study.optimize(lgb_objective, n_trials=1000, gc_after_trial=True)"
   ]
  },
  {
   "cell_type": "markdown",
   "metadata": {},
   "source": [
    "## Guardar modelos con mejores parametros"
   ]
  },
  {
   "cell_type": "code",
   "execution_count": 33,
   "metadata": {},
   "outputs": [],
   "source": [
    "# Buscar el trial con menor mse_test en los atributos de usuario\n",
    "best_trial = min(\n",
    "    [t for t in study.trials if t.user_attrs.get(\"test_mse\") is not None],\n",
    "    key=lambda t: t.user_attrs[\"test_mse\"]\n",
    ")"
   ]
  },
  {
   "cell_type": "code",
   "execution_count": 34,
   "metadata": {},
   "outputs": [
    {
     "name": "stdout",
     "output_type": "stream",
     "text": [
      "FrozenTrial(number=204, state=1, values=[851.5274412416657], datetime_start=datetime.datetime(2025, 7, 19, 1, 4, 23, 814356), datetime_complete=datetime.datetime(2025, 7, 19, 1, 4, 36, 858936), params={'lambda_l1': 1.9312102498602122e-05, 'lambda_l2': 0.004066073706786463, 'num_leaves': 36, 'feature_fraction': 0.400418034256639, 'bagging_fraction': 0.9660851334117331, 'bagging_freq': 5, 'min_child_samples': 14}, user_attrs={'test_mse': 736.68991952207}, system_attrs={}, intermediate_values={}, distributions={'lambda_l1': FloatDistribution(high=10.0, log=True, low=1e-08, step=None), 'lambda_l2': FloatDistribution(high=10.0, log=True, low=1e-08, step=None), 'num_leaves': IntDistribution(high=256, log=False, low=2, step=1), 'feature_fraction': FloatDistribution(high=1.0, log=False, low=0.4, step=None), 'bagging_fraction': FloatDistribution(high=1.0, log=False, low=0.6, step=None), 'bagging_freq': IntDistribution(high=7, log=False, low=1, step=1), 'min_child_samples': IntDistribution(high=100, log=False, low=5, step=1)}, trial_id=2019, value=None)\n"
     ]
    }
   ],
   "source": [
    "print(best_trial)"
   ]
  },
  {
   "cell_type": "code",
   "execution_count": 35,
   "metadata": {},
   "outputs": [],
   "source": [
    "best_params = best_trial.params.copy()\n",
    "best_params.update({\n",
    "    \"objective\": \"regression\",#los parametros que no se optimizan (los fijos) hay que escribirlos\n",
    "    \"metric\": \"mse\",\n",
    "    \"verbosity\": -1,\n",
    "    'random_state': SEED\n",
    "    \n",
    "})"
   ]
  },
  {
   "cell_type": "code",
   "execution_count": 36,
   "metadata": {},
   "outputs": [
    {
     "name": "stdout",
     "output_type": "stream",
     "text": [
      "{'lambda_l1': 1.9312102498602122e-05, 'lambda_l2': 0.004066073706786463, 'num_leaves': 36, 'feature_fraction': 0.400418034256639, 'bagging_fraction': 0.9660851334117331, 'bagging_freq': 5, 'min_child_samples': 14}\n"
     ]
    }
   ],
   "source": [
    "print( best_trial.params)"
   ]
  },
  {
   "cell_type": "code",
   "execution_count": 37,
   "metadata": {},
   "outputs": [],
   "source": [
    "def entrenar_lgbm_final_con_cv(base_params, seed):\n",
    "    \"\"\"\n",
    "    Realiza una evaluación CV y entrena un modelo final para una SEMILLA específica.\n",
    "    \n",
    "    Args:\n",
    "        base_params (dict): Hiperparámetros base optimizados por Optuna.\n",
    "        seed (int): La semilla para esta ejecución específica (usada en KFold y en el modelo).\n",
    "        \n",
    "    Returns:\n",
    "        tuple: (mse_cv_promedio, mse_test)\n",
    "    \"\"\"\n",
    "    \n",
    "    # Creamos el diccionario completo de parámetros para esta ejecución\n",
    "    run_params = base_params.copy()\n",
    "    run_params.update({\n",
    "        'random_state': seed  # <--- CORRECCIÓN: Usamos la semilla de esta ejecución\n",
    "    })\n",
    "\n",
    "    # --- Evaluación con CV ---\n",
    "    print(f\"\\n{'-'*15} Iniciando CV para SEED = {seed} {'-'*15}\")\n",
    "    score_folds = 0\n",
    "    best_iterations = [] # <--- CORRECCIÓN 3: Lista para guardar las mejores iteraciones\n",
    "    n_splits = 5\n",
    "    kf = KFold(n_splits=n_splits, shuffle=True, random_state=seed)\n",
    "\n",
    "    for fold, (if_index, oof_index) in enumerate(kf.split(X_train, y_train)):\n",
    "        print(f\"🔁 Fold {fold + 1}\")\n",
    "\n",
    "        lgb_if_dataset = lgb.Dataset(data=X_train.iloc[if_index], label=y_train.iloc[if_index], free_raw_data=False, categorical_feature=char_feats)\n",
    "        lgb_oof_dataset = lgb.Dataset(data=X_train.iloc[oof_index], label=y_train.iloc[oof_index], free_raw_data=False, categorical_feature=char_feats)\n",
    "\n",
    "        model_cv = lgb.train(\n",
    "            run_params,\n",
    "            lgb_if_dataset,\n",
    "            valid_sets=lgb_oof_dataset,\n",
    "            callbacks=[lgb.early_stopping(50, verbose=False)]\n",
    "        )\n",
    "\n",
    "        best_iterations.append(model_cv.best_iteration) # <--- CORRECCIÓN 3: Guardamos la iteración\n",
    "        \n",
    "        oof_preds = model_cv.predict(X_train.iloc[oof_index])\n",
    "        mse = mean_squared_error(y_train.iloc[oof_index], oof_preds)\n",
    "        score_folds += mse / n_splits\n",
    "\n",
    "    print(f\"📊 MSE promedio 5-Fold CV: {score_folds:.6f}\")\n",
    "\n",
    "    # --- Entrenamiento final en todo el dataset ---\n",
    "    print(\"\\n🚀 Entrenando modelo final...\")\n",
    "    \n",
    "    # <--- CORRECCIÓN 3: Usamos el promedio de iteraciones para el modelo final\n",
    "    final_num_boost_round = int(np.mean(best_iterations))\n",
    "    print(f\"🎯 Usando un promedio de {final_num_boost_round} rondas (promedio de: {best_iterations})\")\n",
    "\n",
    "    final_dataset = lgb.Dataset(data=X_train, label=y_train, free_raw_data=True, categorical_feature=char_feats)\n",
    "    final_model = lgb.train(\n",
    "        run_params,\n",
    "        final_dataset,\n",
    "        num_boost_round=final_num_boost_round\n",
    "    )\n",
    "    \n",
    "    # Guardar el modelo final (opcionalmente, nombrar con la semilla)\n",
    "    model_path = os.path.join(PATH_TO_MODELS, f\"lgb_model_seed_{seed}.joblib\")\n",
    "    dump(final_model, model_path)\n",
    "    print(f\"✅ Modelo final guardado en: {model_path}\")\n",
    "    \n",
    "    # --- Evaluación en test ---\n",
    "    y_pred_test = final_model.predict(X_test)\n",
    "    test_mse = mean_squared_error(y_test, y_pred_test)\n",
    "    print(f\"📉 MSE en test: {test_mse:.6f}\")\n",
    "    \n",
    "    gc.collect()\n",
    "\n",
    "    return score_folds, test_mse"
   ]
  },
  {
   "cell_type": "code",
   "execution_count": 38,
   "metadata": {},
   "outputs": [],
   "source": [
    "# Mover modelos previos antes del loop\n",
    "for fname in os.listdir(PATH_TO_MODELS):\n",
    "    if fname.endswith('.joblib'):\n",
    "        src_path = os.path.join(PATH_TO_MODELS, fname)\n",
    "        dst_path = os.path.join(PATH_TO_MODELS_OLD, fname)\n",
    "        shutil.move(src_path, dst_path)\n",
    "        print(f\"🔁 Modelo movido a backup: {fname}\")"
   ]
  },
  {
   "cell_type": "code",
   "execution_count": 39,
   "metadata": {},
   "outputs": [
    {
     "name": "stdout",
     "output_type": "stream",
     "text": [
      "\n",
      "--------------- Iniciando CV para SEED = 5 ---------------\n",
      "🔁 Fold 1\n",
      "🔁 Fold 2\n",
      "🔁 Fold 3\n",
      "🔁 Fold 4\n",
      "🔁 Fold 5\n",
      "📊 MSE promedio 5-Fold CV: 843.933479\n",
      "\n",
      "🚀 Entrenando modelo final...\n",
      "🎯 Usando un promedio de 96 rondas (promedio de: [96, 96, 100, 98, 94])\n",
      "✅ Modelo final guardado en: C:/Users/agust/Documents/MaestriaCD/LAB3/final/LGBM2/models\\lgb_model_seed_5.joblib\n",
      "📉 MSE en test: 820.240645\n",
      "\n",
      "--------------- Iniciando CV para SEED = 915 ---------------\n",
      "🔁 Fold 1\n",
      "🔁 Fold 2\n",
      "🔁 Fold 3\n",
      "🔁 Fold 4\n",
      "🔁 Fold 5\n",
      "📊 MSE promedio 5-Fold CV: 922.615334\n",
      "\n",
      "🚀 Entrenando modelo final...\n",
      "🎯 Usando un promedio de 98 rondas (promedio de: [100, 98, 99, 95, 99])\n",
      "✅ Modelo final guardado en: C:/Users/agust/Documents/MaestriaCD/LAB3/final/LGBM2/models\\lgb_model_seed_915.joblib\n",
      "📉 MSE en test: 747.321087\n",
      "\n",
      "--------------- Iniciando CV para SEED = 15 ---------------\n",
      "🔁 Fold 1\n",
      "🔁 Fold 2\n",
      "🔁 Fold 3\n",
      "🔁 Fold 4\n",
      "🔁 Fold 5\n",
      "📊 MSE promedio 5-Fold CV: 885.865016\n",
      "\n",
      "🚀 Entrenando modelo final...\n",
      "🎯 Usando un promedio de 96 rondas (promedio de: [97, 89, 100, 100, 95])\n",
      "✅ Modelo final guardado en: C:/Users/agust/Documents/MaestriaCD/LAB3/final/LGBM2/models\\lgb_model_seed_15.joblib\n",
      "📉 MSE en test: 750.708330\n",
      "\n",
      "--------------- Iniciando CV para SEED = 666 ---------------\n",
      "🔁 Fold 1\n",
      "🔁 Fold 2\n",
      "🔁 Fold 3\n",
      "🔁 Fold 4\n",
      "🔁 Fold 5\n",
      "📊 MSE promedio 5-Fold CV: 875.122358\n",
      "\n",
      "🚀 Entrenando modelo final...\n",
      "🎯 Usando un promedio de 89 rondas (promedio de: [96, 57, 93, 100, 100])\n",
      "✅ Modelo final guardado en: C:/Users/agust/Documents/MaestriaCD/LAB3/final/LGBM2/models\\lgb_model_seed_666.joblib\n",
      "📉 MSE en test: 738.484581\n",
      "\n",
      "--------------- Iniciando CV para SEED = 9999 ---------------\n",
      "🔁 Fold 1\n",
      "🔁 Fold 2\n",
      "🔁 Fold 3\n",
      "🔁 Fold 4\n",
      "🔁 Fold 5\n",
      "📊 MSE promedio 5-Fold CV: 854.300888\n",
      "\n",
      "🚀 Entrenando modelo final...\n",
      "🎯 Usando un promedio de 96 rondas (promedio de: [100, 100, 89, 92, 100])\n",
      "✅ Modelo final guardado en: C:/Users/agust/Documents/MaestriaCD/LAB3/final/LGBM2/models\\lgb_model_seed_9999.joblib\n",
      "📉 MSE en test: 804.165388\n",
      "\n",
      "--------------- Iniciando CV para SEED = 37 ---------------\n",
      "🔁 Fold 1\n",
      "🔁 Fold 2\n",
      "🔁 Fold 3\n",
      "🔁 Fold 4\n",
      "🔁 Fold 5\n",
      "📊 MSE promedio 5-Fold CV: 883.649598\n",
      "\n",
      "🚀 Entrenando modelo final...\n",
      "🎯 Usando un promedio de 93 rondas (promedio de: [100, 94, 77, 94, 100])\n",
      "✅ Modelo final guardado en: C:/Users/agust/Documents/MaestriaCD/LAB3/final/LGBM2/models\\lgb_model_seed_37.joblib\n",
      "📉 MSE en test: 784.782673\n",
      "\n",
      "--------------- Iniciando CV para SEED = 45 ---------------\n",
      "🔁 Fold 1\n",
      "🔁 Fold 2\n",
      "🔁 Fold 3\n",
      "🔁 Fold 4\n",
      "🔁 Fold 5\n",
      "📊 MSE promedio 5-Fold CV: 853.012953\n",
      "\n",
      "🚀 Entrenando modelo final...\n",
      "🎯 Usando un promedio de 98 rondas (promedio de: [100, 96, 100, 100, 95])\n",
      "✅ Modelo final guardado en: C:/Users/agust/Documents/MaestriaCD/LAB3/final/LGBM2/models\\lgb_model_seed_45.joblib\n",
      "📉 MSE en test: 795.169290\n",
      "\n",
      "--------------- Iniciando CV para SEED = 125 ---------------\n",
      "🔁 Fold 1\n",
      "🔁 Fold 2\n",
      "🔁 Fold 3\n",
      "🔁 Fold 4\n",
      "🔁 Fold 5\n",
      "📊 MSE promedio 5-Fold CV: 854.528767\n",
      "\n",
      "🚀 Entrenando modelo final...\n",
      "🎯 Usando un promedio de 97 rondas (promedio de: [90, 99, 99, 99, 100])\n",
      "✅ Modelo final guardado en: C:/Users/agust/Documents/MaestriaCD/LAB3/final/LGBM2/models\\lgb_model_seed_125.joblib\n",
      "📉 MSE en test: 733.811688\n",
      "\n",
      "--------------- Iniciando CV para SEED = 90 ---------------\n",
      "🔁 Fold 1\n",
      "🔁 Fold 2\n",
      "🔁 Fold 3\n",
      "🔁 Fold 4\n",
      "🔁 Fold 5\n",
      "📊 MSE promedio 5-Fold CV: 857.174550\n",
      "\n",
      "🚀 Entrenando modelo final...\n",
      "🎯 Usando un promedio de 88 rondas (promedio de: [49, 97, 96, 100, 99])\n",
      "✅ Modelo final guardado en: C:/Users/agust/Documents/MaestriaCD/LAB3/final/LGBM2/models\\lgb_model_seed_90.joblib\n",
      "📉 MSE en test: 801.536005\n",
      "\n",
      "--------------- Iniciando CV para SEED = 1000 ---------------\n",
      "🔁 Fold 1\n",
      "🔁 Fold 2\n",
      "🔁 Fold 3\n",
      "🔁 Fold 4\n",
      "🔁 Fold 5\n",
      "📊 MSE promedio 5-Fold CV: 870.040225\n",
      "\n",
      "🚀 Entrenando modelo final...\n",
      "🎯 Usando un promedio de 93 rondas (promedio de: [100, 100, 76, 91, 99])\n",
      "✅ Modelo final guardado en: C:/Users/agust/Documents/MaestriaCD/LAB3/final/LGBM2/models\\lgb_model_seed_1000.joblib\n",
      "📉 MSE en test: 753.420328\n",
      "\n",
      "--------------- Iniciando CV para SEED = 42 ---------------\n",
      "🔁 Fold 1\n",
      "🔁 Fold 2\n",
      "🔁 Fold 3\n",
      "🔁 Fold 4\n",
      "🔁 Fold 5\n",
      "📊 MSE promedio 5-Fold CV: 875.605787\n",
      "\n",
      "🚀 Entrenando modelo final...\n",
      "🎯 Usando un promedio de 93 rondas (promedio de: [100, 99, 99, 70, 100])\n",
      "✅ Modelo final guardado en: C:/Users/agust/Documents/MaestriaCD/LAB3/final/LGBM2/models\\lgb_model_seed_42.joblib\n",
      "📉 MSE en test: 773.269863\n",
      "\n",
      "--------------- Iniciando CV para SEED = 3 ---------------\n",
      "🔁 Fold 1\n",
      "🔁 Fold 2\n",
      "🔁 Fold 3\n",
      "🔁 Fold 4\n",
      "🔁 Fold 5\n",
      "📊 MSE promedio 5-Fold CV: 846.176975\n",
      "\n",
      "🚀 Entrenando modelo final...\n",
      "🎯 Usando un promedio de 97 rondas (promedio de: [94, 95, 100, 100, 97])\n",
      "✅ Modelo final guardado en: C:/Users/agust/Documents/MaestriaCD/LAB3/final/LGBM2/models\\lgb_model_seed_3.joblib\n",
      "📉 MSE en test: 750.253537\n",
      "\n",
      "--------------- Iniciando CV para SEED = 753 ---------------\n",
      "🔁 Fold 1\n",
      "🔁 Fold 2\n",
      "🔁 Fold 3\n",
      "🔁 Fold 4\n",
      "🔁 Fold 5\n",
      "📊 MSE promedio 5-Fold CV: 866.465320\n",
      "\n",
      "🚀 Entrenando modelo final...\n",
      "🎯 Usando un promedio de 93 rondas (promedio de: [99, 100, 100, 90, 78])\n",
      "✅ Modelo final guardado en: C:/Users/agust/Documents/MaestriaCD/LAB3/final/LGBM2/models\\lgb_model_seed_753.joblib\n",
      "📉 MSE en test: 786.965944\n",
      "\n",
      "--------------- Iniciando CV para SEED = 159 ---------------\n",
      "🔁 Fold 1\n",
      "🔁 Fold 2\n",
      "🔁 Fold 3\n",
      "🔁 Fold 4\n",
      "🔁 Fold 5\n",
      "📊 MSE promedio 5-Fold CV: 861.794062\n",
      "\n",
      "🚀 Entrenando modelo final...\n",
      "🎯 Usando un promedio de 95 rondas (promedio de: [99, 99, 81, 98, 98])\n",
      "✅ Modelo final guardado en: C:/Users/agust/Documents/MaestriaCD/LAB3/final/LGBM2/models\\lgb_model_seed_159.joblib\n",
      "📉 MSE en test: 759.656459\n",
      "\n",
      "--------------- Iniciando CV para SEED = 852 ---------------\n",
      "🔁 Fold 1\n",
      "🔁 Fold 2\n",
      "🔁 Fold 3\n",
      "🔁 Fold 4\n",
      "🔁 Fold 5\n",
      "📊 MSE promedio 5-Fold CV: 840.558497\n",
      "\n",
      "🚀 Entrenando modelo final...\n",
      "🎯 Usando un promedio de 97 rondas (promedio de: [99, 90, 100, 100, 99])\n",
      "✅ Modelo final guardado en: C:/Users/agust/Documents/MaestriaCD/LAB3/final/LGBM2/models\\lgb_model_seed_852.joblib\n",
      "📉 MSE en test: 778.523815\n",
      "\n",
      "--------------- Iniciando CV para SEED = 10 ---------------\n",
      "🔁 Fold 1\n",
      "🔁 Fold 2\n",
      "🔁 Fold 3\n",
      "🔁 Fold 4\n",
      "🔁 Fold 5\n",
      "📊 MSE promedio 5-Fold CV: 877.094393\n",
      "\n",
      "🚀 Entrenando modelo final...\n",
      "🎯 Usando un promedio de 90 rondas (promedio de: [76, 100, 95, 83, 100])\n",
      "✅ Modelo final guardado en: C:/Users/agust/Documents/MaestriaCD/LAB3/final/LGBM2/models\\lgb_model_seed_10.joblib\n",
      "📉 MSE en test: 744.622624\n",
      "\n",
      "--------------- Iniciando CV para SEED = 7 ---------------\n",
      "🔁 Fold 1\n",
      "🔁 Fold 2\n",
      "🔁 Fold 3\n",
      "🔁 Fold 4\n",
      "🔁 Fold 5\n",
      "📊 MSE promedio 5-Fold CV: 859.092583\n",
      "\n",
      "🚀 Entrenando modelo final...\n",
      "🎯 Usando un promedio de 97 rondas (promedio de: [100, 99, 99, 97, 90])\n",
      "✅ Modelo final guardado en: C:/Users/agust/Documents/MaestriaCD/LAB3/final/LGBM2/models\\lgb_model_seed_7.joblib\n",
      "📉 MSE en test: 707.961685\n",
      "\n",
      "--------------- Iniciando CV para SEED = 1 ---------------\n",
      "🔁 Fold 1\n",
      "🔁 Fold 2\n",
      "🔁 Fold 3\n",
      "🔁 Fold 4\n",
      "🔁 Fold 5\n",
      "📊 MSE promedio 5-Fold CV: 861.422639\n",
      "\n",
      "🚀 Entrenando modelo final...\n",
      "🎯 Usando un promedio de 84 rondas (promedio de: [97, 84, 97, 57, 85])\n",
      "✅ Modelo final guardado en: C:/Users/agust/Documents/MaestriaCD/LAB3/final/LGBM2/models\\lgb_model_seed_1.joblib\n",
      "📉 MSE en test: 805.265036\n",
      "\n",
      "--------------- Iniciando CV para SEED = 1050 ---------------\n",
      "🔁 Fold 1\n",
      "🔁 Fold 2\n",
      "🔁 Fold 3\n",
      "🔁 Fold 4\n",
      "🔁 Fold 5\n",
      "📊 MSE promedio 5-Fold CV: 841.410706\n",
      "\n",
      "🚀 Entrenando modelo final...\n",
      "🎯 Usando un promedio de 93 rondas (promedio de: [98, 97, 76, 94, 100])\n",
      "✅ Modelo final guardado en: C:/Users/agust/Documents/MaestriaCD/LAB3/final/LGBM2/models\\lgb_model_seed_1050.joblib\n",
      "📉 MSE en test: 799.959729\n",
      "\n",
      "--------------- Iniciando CV para SEED = 654 ---------------\n",
      "🔁 Fold 1\n",
      "🔁 Fold 2\n",
      "🔁 Fold 3\n",
      "🔁 Fold 4\n",
      "🔁 Fold 5\n",
      "📊 MSE promedio 5-Fold CV: 848.852821\n",
      "\n",
      "🚀 Entrenando modelo final...\n",
      "🎯 Usando un promedio de 92 rondas (promedio de: [97, 100, 100, 96, 71])\n",
      "✅ Modelo final guardado en: C:/Users/agust/Documents/MaestriaCD/LAB3/final/LGBM2/models\\lgb_model_seed_654.joblib\n",
      "📉 MSE en test: 797.208646\n"
     ]
    }
   ],
   "source": [
    "#results = []\n",
    "SEEDS = [5,915,15,666,9999,37,45,125,90,1000,42,3,753,159,852,10,7,1,1050,654]\n",
    "\n",
    "for current_seed in SEEDS:\n",
    "    # <--- CORRECCIÓN 1 y 2: La función ahora se llama con los parámetros base y la semilla actual\n",
    "    mse_cv, mse_test = entrenar_lgbm_final_con_cv(\n",
    "        base_params=best_params, \n",
    "        seed=current_seed\n",
    "    )"
   ]
  },
  {
   "cell_type": "code",
   "execution_count": 40,
   "metadata": {},
   "outputs": [],
   "source": [
    "import joblib\n",
    "\n",
    "# Import the LGBMEnsemble class definition before loading the model\n",
    "# from lgbm_ensemble import LGBMEnsemble  # Uncomment and adjust if you have the class in a module\n",
    "\n",
    "# ...existing code...\n",
    "\n",
    "#model = joblib.load( 'C:/Users/agust/Documents/MaestriaCD/LAB3/final/LGBM/models/lgb_model_seed_654.joblib')\n"
   ]
  },
  {
   "cell_type": "code",
   "execution_count": 41,
   "metadata": {},
   "outputs": [],
   "source": [
    "#type(model)\n"
   ]
  },
  {
   "cell_type": "code",
   "execution_count": 42,
   "metadata": {},
   "outputs": [],
   "source": [
    "# Obtener la importancia de cada feature\n",
    "#importancia = model.feature_importance(importance_type='gain')  # o 'split'\n"
   ]
  },
  {
   "cell_type": "code",
   "execution_count": 43,
   "metadata": {},
   "outputs": [],
   "source": [
    "#feature_names = model.feature_name()\n"
   ]
  },
  {
   "cell_type": "code",
   "execution_count": 44,
   "metadata": {},
   "outputs": [],
   "source": [
    "import pandas as pd\n",
    "import matplotlib.pyplot as plt\n",
    "\n",
    "#feature_names = model.feature_name()\n",
    "#importancias = model.feature_importance(importance_type='gain')\n",
    "\n",
    "#df_importancias = pd.DataFrame({\n",
    "#    'Feature': feature_names,\n",
    "#    'Importance': importancias\n",
    "#}).sort_values(by='Importance', ascending=False)\n",
    "\n",
    "#print(df_importancias)\n"
   ]
  },
  {
   "cell_type": "code",
   "execution_count": 45,
   "metadata": {},
   "outputs": [],
   "source": [
    "#df_importancias.head(20).plot(kind='barh', x='Feature', y='Importance', figsize=(10, 6), legend=False)\n",
    "#plt.gca().invert_yaxis()\n",
    "#plt.title('LightGBM Feature Importance (gain)')\n",
    "#plt.tight_layout()\n",
    "#plt.show()\n"
   ]
  }
 ],
 "metadata": {
  "kernelspec": {
   "display_name": "FAA",
   "language": "python",
   "name": "python3"
  },
  "language_info": {
   "codemirror_mode": {
    "name": "ipython",
    "version": 3
   },
   "file_extension": ".py",
   "mimetype": "text/x-python",
   "name": "python",
   "nbconvert_exporter": "python",
   "pygments_lexer": "ipython3",
   "version": "3.11.11"
  }
 },
 "nbformat": 4,
 "nbformat_minor": 2
}
